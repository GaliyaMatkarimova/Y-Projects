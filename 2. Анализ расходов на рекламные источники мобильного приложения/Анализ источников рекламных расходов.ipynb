{
 "cells": [
  {
   "cell_type": "markdown",
   "id": "d314abea",
   "metadata": {},
   "source": [
    "# Анализ расходов на рекламные источники мобильного приложения #"
   ]
  },
  {
   "cell_type": "markdown",
   "id": "8caca563",
   "metadata": {},
   "source": [
    "**Цель исследования**: оптимизировать расходы на рекламу.\n",
    "<br>\n",
    "\n",
    "**Задачи исследования**:\n",
    "- выявить каналы для дальнейших инвестиций\n",
    "- выявить каналы, от которых нужно отказаться.\n",
    "<br>\n",
    "\n",
    "**Гипотезы**:\n",
    "1. Время завершения уровня различается в зависимости способа прохождения:  через реализацию проекта, через победу над первым игроком (Н0 - время завершения уровня не различается от способа прохождения уровня, H1 - время завершения уровня различается от способа прохождения уровня).\n",
    "2. Завершение уровня зависит от источника привлечения (Н0 - время завершения уровня игроков, пришедших с yandex_direct, не различается от времени, привлеченных каналом youtube_channel_reklama, H1 - время завершения уровня игроков, пришедших с yandex_direct, различается от времени, привлеченных каналом youtube_channel_reklama ).\n",
    "\n",
    "<br>\n",
    "\n",
    "В ходе анализа будут использоваться следующие базы данных:\n",
    "<br> датасет **game_actions.csv**:\n",
    "\n",
    "- `event_datetime` — время события;\n",
    "- `event` — одно из трёх событий:\n",
    "    1. `building` — объект построен,\n",
    "    2. `finished_stage_1` — первый уровень завершён,\n",
    "    3. `project` — проект завершён;\n",
    "- `building_type` — один из трёх типов здания:\n",
    "    1. `assembly_shop` — сборочный цех,\n",
    "    2. `spaceport` — космопорт,\n",
    "    3. `research_center` — исследовательский центр;\n",
    "- `user_id` — идентификатор пользователя;\n",
    "- `project_type` — тип реализованного проекта;\n",
    "\n",
    "<br> датасет **ad_costs.csv**:\n",
    "\n",
    "- `day` - день, в который был совершен клик по объявлению\n",
    "- `source` - источник трафика\n",
    "- `cost` - стоимость кликов\n",
    "\n",
    "<br> датасет **user_source.csv**:\n",
    "\n",
    "- `user_id` - идентификатор пользователя\n",
    "- `source` - источников, с которого пришёл пользователь, установивший приложение\n",
    "<br>\n",
    "\n",
    "**Ход исследования**:\n",
    "- *Знакомство с данными* (выгрузка, общий анализ)\n",
    "<br>\n",
    "\n",
    "- *Предобработка данных*\n",
    "    - Приведение названий столбцов к необходимому стилю.\n",
    "    - Проверка на соответствие типов данных.\n",
    "    - Поиск и обработка пропущенных значений.\n",
    "    - Проверка на полные и неявные дубликаты.\n",
    "    - Добавление новых необходимых для анализа столбцов (пользователи по  типу стратегии, время завершения уровня).\n",
    "<br>\n",
    "\n",
    "\n",
    "- *Исследовательский анализ данных*\n",
    "    - Построить гистограммы по различным столбцам (например, распределение по типам событий, распределение по типам зданий,  распределение количества построенных объектов и т.д.).\n",
    "    - Определить дату первого и последнего событий.\n",
    "    - Построить график по медианному распределению количества построенных объектов по источникам.\n",
    "    - Построить диаграмму, отображающую количество событий по периодам.\n",
    "    - Построить гистограмму, отображающую количество пользователей, пришедших из разных источников.\n",
    "    - Построить распределение количества построенных зданий по источникам.\n",
    "<br>\n",
    "\n",
    "\n",
    "- *Маркетинг*\n",
    "    - Построить таблицу по стоимости кликов и источников.\n",
    "    - Посчитать расходы  на клики по рекламным источникам.\n",
    "    - Посчитать CAC.\n",
    "<br>\n",
    "\n",
    "\n",
    "\n",
    "- *Проверка статистических гипотез (1, 2)*\n",
    "<br>\n",
    "\n",
    "- *Общие выводы и рекомендации*\n",
    "- *Подготовка презентации*\n"
   ]
  },
  {
   "cell_type": "markdown",
   "id": "f8352ebf",
   "metadata": {},
   "source": [
    "**Презентация**: https://disk.yandex.ru/i/A5JqndbdapWBEg"
   ]
  },
  {
   "cell_type": "markdown",
   "id": "82d4a0f9",
   "metadata": {},
   "source": [
    "**Дашборд**: https://public.tableau.com/app/profile/galiya7574/viz/_16783822690210/sheet2?publish=yes"
   ]
  },
  {
   "cell_type": "markdown",
   "id": "c5a817de",
   "metadata": {},
   "source": [
    "## 1. Знакомство с данными (выгрузка, общий анализ) ##"
   ]
  },
  {
   "cell_type": "code",
   "execution_count": 66,
   "id": "a9e33b49",
   "metadata": {},
   "outputs": [
    {
     "name": "stdout",
     "output_type": "stream",
     "text": [
      "Requirement already satisfied: pandas==1.4.0 in /opt/conda/lib/python3.9/site-packages (1.4.0)\r\n",
      "Requirement already satisfied: numpy>=1.18.5 in /opt/conda/lib/python3.9/site-packages (from pandas==1.4.0) (1.21.1)\r\n",
      "Requirement already satisfied: pytz>=2020.1 in /opt/conda/lib/python3.9/site-packages (from pandas==1.4.0) (2021.1)\r\n",
      "Requirement already satisfied: python-dateutil>=2.8.1 in /opt/conda/lib/python3.9/site-packages (from pandas==1.4.0) (2.8.1)\r\n",
      "Requirement already satisfied: six>=1.5 in /opt/conda/lib/python3.9/site-packages (from python-dateutil>=2.8.1->pandas==1.4.0) (1.16.0)\r\n"
     ]
    }
   ],
   "source": [
    "!pip install pandas==1.4.0"
   ]
  },
  {
   "cell_type": "code",
   "execution_count": 67,
   "id": "ad17882c",
   "metadata": {},
   "outputs": [],
   "source": [
    "# загрузим необходимые библиотеки\n",
    "import pandas as pd\n",
    "import numpy as np\n",
    "import matplotlib.pyplot as plt\n",
    "import datetime as dt\n",
    "from time import strftime\n",
    "import scipy.stats as st\n",
    "import math as mth\n",
    "import seaborn as sns\n",
    "import plotly.express as px \n",
    "from plotly import graph_objects as go\n",
    "import warnings\n",
    "warnings.filterwarnings('ignore')"
   ]
  },
  {
   "cell_type": "markdown",
   "id": "9b930aaf",
   "metadata": {},
   "source": [
    "Загрузим данные, которые понадобятся для анализа, проведем общий анализ данных, применив методы head(), info()."
   ]
  },
  {
   "cell_type": "code",
   "execution_count": 68,
   "id": "7f385a79",
   "metadata": {},
   "outputs": [
    {
     "data": {
      "text/html": [
       "<div>\n",
       "<style scoped>\n",
       "    .dataframe tbody tr th:only-of-type {\n",
       "        vertical-align: middle;\n",
       "    }\n",
       "\n",
       "    .dataframe tbody tr th {\n",
       "        vertical-align: top;\n",
       "    }\n",
       "\n",
       "    .dataframe thead th {\n",
       "        text-align: right;\n",
       "    }\n",
       "</style>\n",
       "<table border=\"1\" class=\"dataframe\">\n",
       "  <thead>\n",
       "    <tr style=\"text-align: right;\">\n",
       "      <th></th>\n",
       "      <th>source</th>\n",
       "      <th>day</th>\n",
       "      <th>cost</th>\n",
       "    </tr>\n",
       "  </thead>\n",
       "  <tbody>\n",
       "    <tr>\n",
       "      <th>0</th>\n",
       "      <td>facebook_ads</td>\n",
       "      <td>2020-05-03</td>\n",
       "      <td>935.882786</td>\n",
       "    </tr>\n",
       "    <tr>\n",
       "      <th>1</th>\n",
       "      <td>facebook_ads</td>\n",
       "      <td>2020-05-04</td>\n",
       "      <td>548.354480</td>\n",
       "    </tr>\n",
       "    <tr>\n",
       "      <th>2</th>\n",
       "      <td>facebook_ads</td>\n",
       "      <td>2020-05-05</td>\n",
       "      <td>260.185754</td>\n",
       "    </tr>\n",
       "    <tr>\n",
       "      <th>3</th>\n",
       "      <td>facebook_ads</td>\n",
       "      <td>2020-05-06</td>\n",
       "      <td>177.982200</td>\n",
       "    </tr>\n",
       "    <tr>\n",
       "      <th>4</th>\n",
       "      <td>facebook_ads</td>\n",
       "      <td>2020-05-07</td>\n",
       "      <td>111.766796</td>\n",
       "    </tr>\n",
       "  </tbody>\n",
       "</table>\n",
       "</div>"
      ],
      "text/plain": [
       "         source         day        cost\n",
       "0  facebook_ads  2020-05-03  935.882786\n",
       "1  facebook_ads  2020-05-04  548.354480\n",
       "2  facebook_ads  2020-05-05  260.185754\n",
       "3  facebook_ads  2020-05-06  177.982200\n",
       "4  facebook_ads  2020-05-07  111.766796"
      ]
     },
     "metadata": {},
     "output_type": "display_data"
    },
    {
     "name": "stdout",
     "output_type": "stream",
     "text": [
      "<class 'pandas.core.frame.DataFrame'>\n",
      "RangeIndex: 28 entries, 0 to 27\n",
      "Data columns (total 3 columns):\n",
      " #   Column  Non-Null Count  Dtype  \n",
      "---  ------  --------------  -----  \n",
      " 0   source  28 non-null     object \n",
      " 1   day     28 non-null     object \n",
      " 2   cost    28 non-null     float64\n",
      "dtypes: float64(1), object(2)\n",
      "memory usage: 800.0+ bytes\n"
     ]
    }
   ],
   "source": [
    "try:\n",
    "    path='/Users/Рафаэль/Desktop/python/Финальный проект/базы/'\n",
    "    costs = pd.read_csv(path+'ad_costs.csv')\n",
    "except:\n",
    "    costs = pd.read_csv('/datasets/ad_costs.csv')\n",
    "display(costs.head(5))\n",
    "costs.info()"
   ]
  },
  {
   "cell_type": "code",
   "execution_count": 69,
   "id": "7f18448b",
   "metadata": {},
   "outputs": [
    {
     "data": {
      "text/html": [
       "<div>\n",
       "<style scoped>\n",
       "    .dataframe tbody tr th:only-of-type {\n",
       "        vertical-align: middle;\n",
       "    }\n",
       "\n",
       "    .dataframe tbody tr th {\n",
       "        vertical-align: top;\n",
       "    }\n",
       "\n",
       "    .dataframe thead th {\n",
       "        text-align: right;\n",
       "    }\n",
       "</style>\n",
       "<table border=\"1\" class=\"dataframe\">\n",
       "  <thead>\n",
       "    <tr style=\"text-align: right;\">\n",
       "      <th></th>\n",
       "      <th>event_datetime</th>\n",
       "      <th>event</th>\n",
       "      <th>building_type</th>\n",
       "      <th>user_id</th>\n",
       "      <th>project_type</th>\n",
       "    </tr>\n",
       "  </thead>\n",
       "  <tbody>\n",
       "    <tr>\n",
       "      <th>0</th>\n",
       "      <td>2020-05-04 00:00:01</td>\n",
       "      <td>building</td>\n",
       "      <td>assembly_shop</td>\n",
       "      <td>55e92310-cb8e-4754-b622-597e124b03de</td>\n",
       "      <td>NaN</td>\n",
       "    </tr>\n",
       "    <tr>\n",
       "      <th>1</th>\n",
       "      <td>2020-05-04 00:00:03</td>\n",
       "      <td>building</td>\n",
       "      <td>assembly_shop</td>\n",
       "      <td>c07b1c10-f477-44dc-81dc-ec82254b1347</td>\n",
       "      <td>NaN</td>\n",
       "    </tr>\n",
       "    <tr>\n",
       "      <th>2</th>\n",
       "      <td>2020-05-04 00:00:16</td>\n",
       "      <td>building</td>\n",
       "      <td>assembly_shop</td>\n",
       "      <td>6edd42cc-e753-4ff6-a947-2107cd560710</td>\n",
       "      <td>NaN</td>\n",
       "    </tr>\n",
       "    <tr>\n",
       "      <th>3</th>\n",
       "      <td>2020-05-04 00:00:16</td>\n",
       "      <td>building</td>\n",
       "      <td>assembly_shop</td>\n",
       "      <td>92c69003-d60a-444a-827f-8cc51bf6bf4c</td>\n",
       "      <td>NaN</td>\n",
       "    </tr>\n",
       "    <tr>\n",
       "      <th>4</th>\n",
       "      <td>2020-05-04 00:00:35</td>\n",
       "      <td>building</td>\n",
       "      <td>assembly_shop</td>\n",
       "      <td>cdc6bb92-0ccb-4490-9866-ef142f09139d</td>\n",
       "      <td>NaN</td>\n",
       "    </tr>\n",
       "  </tbody>\n",
       "</table>\n",
       "</div>"
      ],
      "text/plain": [
       "        event_datetime     event  building_type  \\\n",
       "0  2020-05-04 00:00:01  building  assembly_shop   \n",
       "1  2020-05-04 00:00:03  building  assembly_shop   \n",
       "2  2020-05-04 00:00:16  building  assembly_shop   \n",
       "3  2020-05-04 00:00:16  building  assembly_shop   \n",
       "4  2020-05-04 00:00:35  building  assembly_shop   \n",
       "\n",
       "                                user_id project_type  \n",
       "0  55e92310-cb8e-4754-b622-597e124b03de          NaN  \n",
       "1  c07b1c10-f477-44dc-81dc-ec82254b1347          NaN  \n",
       "2  6edd42cc-e753-4ff6-a947-2107cd560710          NaN  \n",
       "3  92c69003-d60a-444a-827f-8cc51bf6bf4c          NaN  \n",
       "4  cdc6bb92-0ccb-4490-9866-ef142f09139d          NaN  "
      ]
     },
     "metadata": {},
     "output_type": "display_data"
    },
    {
     "name": "stdout",
     "output_type": "stream",
     "text": [
      "<class 'pandas.core.frame.DataFrame'>\n",
      "RangeIndex: 135640 entries, 0 to 135639\n",
      "Data columns (total 5 columns):\n",
      " #   Column          Non-Null Count   Dtype \n",
      "---  ------          --------------   ----- \n",
      " 0   event_datetime  135640 non-null  object\n",
      " 1   event           135640 non-null  object\n",
      " 2   building_type   127957 non-null  object\n",
      " 3   user_id         135640 non-null  object\n",
      " 4   project_type    1866 non-null    object\n",
      "dtypes: object(5)\n",
      "memory usage: 5.2+ MB\n"
     ]
    }
   ],
   "source": [
    "try:\n",
    "    path='/Users/Рафаэль/Desktop/python/Финальный проект/базы/'\n",
    "    df = pd.read_csv(path+'game_actions.csv')\n",
    "except:\n",
    "    df = pd.read_csv('/datasets/game_actions.csv')\n",
    "display(df.head(5))\n",
    "df.info()"
   ]
  },
  {
   "cell_type": "code",
   "execution_count": 70,
   "id": "184cb004",
   "metadata": {
    "scrolled": true
   },
   "outputs": [
    {
     "data": {
      "text/html": [
       "<div>\n",
       "<style scoped>\n",
       "    .dataframe tbody tr th:only-of-type {\n",
       "        vertical-align: middle;\n",
       "    }\n",
       "\n",
       "    .dataframe tbody tr th {\n",
       "        vertical-align: top;\n",
       "    }\n",
       "\n",
       "    .dataframe thead th {\n",
       "        text-align: right;\n",
       "    }\n",
       "</style>\n",
       "<table border=\"1\" class=\"dataframe\">\n",
       "  <thead>\n",
       "    <tr style=\"text-align: right;\">\n",
       "      <th></th>\n",
       "      <th>user_id</th>\n",
       "      <th>source</th>\n",
       "    </tr>\n",
       "  </thead>\n",
       "  <tbody>\n",
       "    <tr>\n",
       "      <th>0</th>\n",
       "      <td>0001f83c-c6ac-4621-b7f0-8a28b283ac30</td>\n",
       "      <td>facebook_ads</td>\n",
       "    </tr>\n",
       "    <tr>\n",
       "      <th>1</th>\n",
       "      <td>00151b4f-ba38-44a8-a650-d7cf130a0105</td>\n",
       "      <td>yandex_direct</td>\n",
       "    </tr>\n",
       "    <tr>\n",
       "      <th>2</th>\n",
       "      <td>001aaea6-3d14-43f1-8ca8-7f48820f17aa</td>\n",
       "      <td>youtube_channel_reklama</td>\n",
       "    </tr>\n",
       "    <tr>\n",
       "      <th>3</th>\n",
       "      <td>001d39dc-366c-4021-9604-6a3b9ff01e25</td>\n",
       "      <td>instagram_new_adverts</td>\n",
       "    </tr>\n",
       "    <tr>\n",
       "      <th>4</th>\n",
       "      <td>002f508f-67b6-479f-814b-b05f00d4e995</td>\n",
       "      <td>facebook_ads</td>\n",
       "    </tr>\n",
       "  </tbody>\n",
       "</table>\n",
       "</div>"
      ],
      "text/plain": [
       "                                user_id                   source\n",
       "0  0001f83c-c6ac-4621-b7f0-8a28b283ac30             facebook_ads\n",
       "1  00151b4f-ba38-44a8-a650-d7cf130a0105            yandex_direct\n",
       "2  001aaea6-3d14-43f1-8ca8-7f48820f17aa  youtube_channel_reklama\n",
       "3  001d39dc-366c-4021-9604-6a3b9ff01e25    instagram_new_adverts\n",
       "4  002f508f-67b6-479f-814b-b05f00d4e995             facebook_ads"
      ]
     },
     "metadata": {},
     "output_type": "display_data"
    },
    {
     "name": "stdout",
     "output_type": "stream",
     "text": [
      "<class 'pandas.core.frame.DataFrame'>\n",
      "RangeIndex: 13576 entries, 0 to 13575\n",
      "Data columns (total 2 columns):\n",
      " #   Column   Non-Null Count  Dtype \n",
      "---  ------   --------------  ----- \n",
      " 0   user_id  13576 non-null  object\n",
      " 1   source   13576 non-null  object\n",
      "dtypes: object(2)\n",
      "memory usage: 212.2+ KB\n"
     ]
    }
   ],
   "source": [
    "try:\n",
    "    path='/Users/Рафаэль/Desktop/python/Финальный проект/базы/'\n",
    "    source = pd.read_csv(path+'user_source.csv')\n",
    "except:\n",
    "    source = pd.read_csv('/datasets/user_source.csv')\n",
    "display(source.head(5))\n",
    "source.info()"
   ]
  },
  {
   "cell_type": "markdown",
   "id": "fd1a77b6",
   "metadata": {},
   "source": [
    "Общий анализ данных показал, что в датафрейме с расходами `costs` - 28 строк и 3 столбца, в датафрейме с поведением игроков `df` - 135640  и 5, в датафрейме с источниками `source` - 13576  и 2. \n",
    "<br>\n",
    "\n",
    "Названия столбцов во всех датафреймах корректные. Пропуски наблюдаются только в `df`. \n",
    "<br>\n",
    "\n",
    "Типы данных необходимо изменить в столбцах day (`costs`) и event_datetime (`df`) с object на date."
   ]
  },
  {
   "cell_type": "markdown",
   "id": "95ca5aa1",
   "metadata": {},
   "source": [
    "## 2. Предобработка данных ##"
   ]
  },
  {
   "cell_type": "markdown",
   "id": "b83ea2ce",
   "metadata": {},
   "source": [
    "**Приведем типы данных в соответствующие корректные типы.**"
   ]
  },
  {
   "cell_type": "code",
   "execution_count": 71,
   "id": "064b1734",
   "metadata": {},
   "outputs": [],
   "source": [
    "costs['day'] =  pd.to_datetime(costs['day'])\n",
    "df['event_datetime'] =  pd.to_datetime(df['event_datetime'])"
   ]
  },
  {
   "cell_type": "code",
   "execution_count": 72,
   "id": "d8542c18",
   "metadata": {
    "scrolled": true
   },
   "outputs": [
    {
     "name": "stdout",
     "output_type": "stream",
     "text": [
      "<class 'pandas.core.series.Series'>\n",
      "RangeIndex: 28 entries, 0 to 27\n",
      "Series name: day\n",
      "Non-Null Count  Dtype         \n",
      "--------------  -----         \n",
      "28 non-null     datetime64[ns]\n",
      "dtypes: datetime64[ns](1)\n",
      "memory usage: 352.0 bytes\n"
     ]
    }
   ],
   "source": [
    "# проверка\n",
    "costs['day'].info()"
   ]
  },
  {
   "cell_type": "code",
   "execution_count": 73,
   "id": "0b9870f6",
   "metadata": {},
   "outputs": [
    {
     "name": "stdout",
     "output_type": "stream",
     "text": [
      "<class 'pandas.core.series.Series'>\n",
      "RangeIndex: 135640 entries, 0 to 135639\n",
      "Series name: event_datetime\n",
      "Non-Null Count   Dtype         \n",
      "--------------   -----         \n",
      "135640 non-null  datetime64[ns]\n",
      "dtypes: datetime64[ns](1)\n",
      "memory usage: 1.0 MB\n"
     ]
    }
   ],
   "source": [
    "df['event_datetime'].info()"
   ]
  },
  {
   "cell_type": "markdown",
   "id": "0735589f",
   "metadata": {},
   "source": [
    "**Проведем проверку на пропущенные значения.**"
   ]
  },
  {
   "cell_type": "code",
   "execution_count": 74,
   "id": "6c34eab7",
   "metadata": {},
   "outputs": [
    {
     "data": {
      "text/plain": [
       "event_datetime         0\n",
       "event                  0\n",
       "building_type       7683\n",
       "user_id                0\n",
       "project_type      133774\n",
       "dtype: int64"
      ]
     },
     "execution_count": 74,
     "metadata": {},
     "output_type": "execute_result"
    }
   ],
   "source": [
    "# проверим датафрейм на пропущенные значения методом isna() и sum().\n",
    "df.isna().sum()"
   ]
  },
  {
   "cell_type": "code",
   "execution_count": 75,
   "id": "53b0b668",
   "metadata": {
    "scrolled": true
   },
   "outputs": [
    {
     "data": {
      "text/html": [
       "<style type=\"text/css\">\n",
       "#T_02b97_row0_col0, #T_02b97_row1_col0, #T_02b97_row3_col0 {\n",
       "  background-color: #3b4cc0;\n",
       "  color: #f1f1f1;\n",
       "}\n",
       "#T_02b97_row2_col0 {\n",
       "  background-color: #4c66d6;\n",
       "  color: #f1f1f1;\n",
       "}\n",
       "#T_02b97_row4_col0 {\n",
       "  background-color: #b40426;\n",
       "  color: #f1f1f1;\n",
       "}\n",
       "</style>\n",
       "<table id=\"T_02b97\">\n",
       "  <thead>\n",
       "    <tr>\n",
       "      <th class=\"blank level0\" >&nbsp;</th>\n",
       "      <th id=\"T_02b97_level0_col0\" class=\"col_heading level0 col0\" >0</th>\n",
       "    </tr>\n",
       "  </thead>\n",
       "  <tbody>\n",
       "    <tr>\n",
       "      <th id=\"T_02b97_level0_row0\" class=\"row_heading level0 row0\" >event_datetime</th>\n",
       "      <td id=\"T_02b97_row0_col0\" class=\"data row0 col0\" >0.000000</td>\n",
       "    </tr>\n",
       "    <tr>\n",
       "      <th id=\"T_02b97_level0_row1\" class=\"row_heading level0 row1\" >event</th>\n",
       "      <td id=\"T_02b97_row1_col0\" class=\"data row1 col0\" >0.000000</td>\n",
       "    </tr>\n",
       "    <tr>\n",
       "      <th id=\"T_02b97_level0_row2\" class=\"row_heading level0 row2\" >building_type</th>\n",
       "      <td id=\"T_02b97_row2_col0\" class=\"data row2 col0\" >6.000000</td>\n",
       "    </tr>\n",
       "    <tr>\n",
       "      <th id=\"T_02b97_level0_row3\" class=\"row_heading level0 row3\" >user_id</th>\n",
       "      <td id=\"T_02b97_row3_col0\" class=\"data row3 col0\" >0.000000</td>\n",
       "    </tr>\n",
       "    <tr>\n",
       "      <th id=\"T_02b97_level0_row4\" class=\"row_heading level0 row4\" >project_type</th>\n",
       "      <td id=\"T_02b97_row4_col0\" class=\"data row4 col0\" >99.000000</td>\n",
       "    </tr>\n",
       "  </tbody>\n",
       "</table>\n"
      ],
      "text/plain": [
       "<pandas.io.formats.style.Styler at 0x7fcb35e2f0d0>"
      ]
     },
     "execution_count": 75,
     "metadata": {},
     "output_type": "execute_result"
    }
   ],
   "source": [
    "pd.DataFrame(round(df.isna().mean()*100,)).style.background_gradient('coolwarm')"
   ]
  },
  {
   "cell_type": "markdown",
   "id": "f095f391",
   "metadata": {
    "scrolled": true
   },
   "source": [
    "В датафрейме `df` есть пропущенные значения в двух столбцах с типами зданий (6%) и типами проекта (99%). Данные пропуски  являются механическими (вытекают из логики игры), поэтому они не требует обработки. В целом 6% пропусков можно считать допустимым, не сильно влияющим на данные, тогда как 99% пропусков следует пояснить."
   ]
  },
  {
   "cell_type": "markdown",
   "id": "4b9690ef",
   "metadata": {},
   "source": [
    "Проверим произошедшие события в момент, когда постройки отсутствовали, а также \"правильность\" (полноту) записей (есть ли записи без типа строений и есть ли записи проектов без типа проектов)."
   ]
  },
  {
   "cell_type": "markdown",
   "id": "bfc382e1",
   "metadata": {},
   "source": [
    "Проверим произошедшие события в момент, когда постройки отсутствовали."
   ]
  },
  {
   "cell_type": "code",
   "execution_count": 76,
   "id": "19054403",
   "metadata": {},
   "outputs": [
    {
     "data": {
      "text/plain": [
       "array(['finished_stage_1', 'project'], dtype=object)"
      ]
     },
     "execution_count": 76,
     "metadata": {},
     "output_type": "execute_result"
    }
   ],
   "source": [
    "df[df['building_type'].isna()]['event'].unique()"
   ]
  },
  {
   "cell_type": "markdown",
   "id": "59c47a54",
   "metadata": {},
   "source": [
    "Пропущеные значения связаны с тем, что игрок завершил игру. Далее проверим полноту записей по событию building. п"
   ]
  },
  {
   "cell_type": "code",
   "execution_count": 77,
   "id": "56e1ad51",
   "metadata": {
    "scrolled": true
   },
   "outputs": [
    {
     "data": {
      "text/plain": [
       "127957"
      ]
     },
     "execution_count": 77,
     "metadata": {},
     "output_type": "execute_result"
    }
   ],
   "source": [
    "df.query('event==\"building\"').shape[0]"
   ]
  },
  {
   "cell_type": "code",
   "execution_count": 78,
   "id": "a874739c",
   "metadata": {
    "scrolled": true
   },
   "outputs": [
    {
     "data": {
      "text/plain": [
       "project_type      127957\n",
       "event_datetime         0\n",
       "event                  0\n",
       "building_type          0\n",
       "user_id                0\n",
       "dtype: int64"
      ]
     },
     "execution_count": 78,
     "metadata": {},
     "output_type": "execute_result"
    }
   ],
   "source": [
    "df.query('event==\"building\"').isna().sum().sort_values(ascending=False)"
   ]
  },
  {
   "cell_type": "markdown",
   "id": "e199f4a8",
   "metadata": {},
   "source": [
    "Таким образом, в записях о строениях есть пропущенные значения только в столбце типов проектов, что исходит из логики игры. Далее также проверим, записи о проектах."
   ]
  },
  {
   "cell_type": "code",
   "execution_count": 79,
   "id": "fbb0af4b",
   "metadata": {},
   "outputs": [
    {
     "data": {
      "text/plain": [
       "1866"
      ]
     },
     "execution_count": 79,
     "metadata": {},
     "output_type": "execute_result"
    }
   ],
   "source": [
    "df.query('event==\"project\"').shape[0]"
   ]
  },
  {
   "cell_type": "code",
   "execution_count": 80,
   "id": "3b14a34a",
   "metadata": {
    "scrolled": true
   },
   "outputs": [
    {
     "data": {
      "text/plain": [
       "building_type     1866\n",
       "event_datetime       0\n",
       "event                0\n",
       "user_id              0\n",
       "project_type         0\n",
       "dtype: int64"
      ]
     },
     "execution_count": 80,
     "metadata": {},
     "output_type": "execute_result"
    }
   ],
   "source": [
    "df.query('event==\"project\"').isna().sum().sort_values(ascending=False)"
   ]
  },
  {
   "cell_type": "markdown",
   "id": "c6b5a2a7",
   "metadata": {},
   "source": [
    "Здесь также все в порядке, поэтому можно сделать вывод о том, что \"плохих\" (не логических) пропусков в данных нет."
   ]
  },
  {
   "cell_type": "code",
   "execution_count": 81,
   "id": "c2c0874d",
   "metadata": {},
   "outputs": [],
   "source": [
    "# ниже то, что было"
   ]
  },
  {
   "cell_type": "markdown",
   "id": "c73766c9",
   "metadata": {},
   "source": [
    "Рассчитаем количество событий не проектов, их число должно быть равно числу пропусков в project_type. "
   ]
  },
  {
   "cell_type": "code",
   "execution_count": 82,
   "id": "ab9a3fa6",
   "metadata": {},
   "outputs": [
    {
     "data": {
      "text/plain": [
       "133774"
      ]
     },
     "execution_count": 82,
     "metadata": {},
     "output_type": "execute_result"
    }
   ],
   "source": [
    "df.query('event == \"building\"| event == \"finished_stage_1\"').shape[0]"
   ]
  },
  {
   "cell_type": "markdown",
   "id": "3a9c7263",
   "metadata": {},
   "source": [
    "Количество пропусков а столбце с типом проектов совпадает с числом \"непроектов\", значит, наше предположение верно."
   ]
  },
  {
   "cell_type": "markdown",
   "id": "7ab9cc29",
   "metadata": {},
   "source": [
    "Проверим датафрейм на дубликаты."
   ]
  },
  {
   "cell_type": "code",
   "execution_count": 83,
   "id": "b2bbaa1f",
   "metadata": {},
   "outputs": [
    {
     "data": {
      "text/plain": [
       "1"
      ]
     },
     "execution_count": 83,
     "metadata": {},
     "output_type": "execute_result"
    }
   ],
   "source": [
    "df.duplicated().sum()"
   ]
  },
  {
   "cell_type": "markdown",
   "id": "1c66422b",
   "metadata": {},
   "source": [
    "Удалим данный дубликат."
   ]
  },
  {
   "cell_type": "code",
   "execution_count": 84,
   "id": "6d771760",
   "metadata": {},
   "outputs": [],
   "source": [
    "df = df.drop_duplicates()"
   ]
  },
  {
   "cell_type": "code",
   "execution_count": 85,
   "id": "720d4998",
   "metadata": {},
   "outputs": [
    {
     "data": {
      "text/plain": [
       "0"
      ]
     },
     "execution_count": 85,
     "metadata": {},
     "output_type": "execute_result"
    }
   ],
   "source": [
    "# проверка\n",
    "df.duplicated().sum()"
   ]
  },
  {
   "cell_type": "code",
   "execution_count": 86,
   "id": "531bcb99",
   "metadata": {},
   "outputs": [
    {
     "data": {
      "text/plain": [
       "0"
      ]
     },
     "execution_count": 86,
     "metadata": {},
     "output_type": "execute_result"
    }
   ],
   "source": [
    "source.duplicated().sum()"
   ]
  },
  {
   "cell_type": "code",
   "execution_count": 87,
   "id": "c5beee6d",
   "metadata": {},
   "outputs": [
    {
     "data": {
      "text/plain": [
       "0"
      ]
     },
     "execution_count": 87,
     "metadata": {},
     "output_type": "execute_result"
    }
   ],
   "source": [
    "costs.duplicated().sum()"
   ]
  },
  {
   "cell_type": "markdown",
   "id": "1dec1dc2",
   "metadata": {},
   "source": [
    "В исходных данных отсутствуют полные дубликаты."
   ]
  },
  {
   "cell_type": "markdown",
   "id": "6d38da4c",
   "metadata": {},
   "source": [
    "Посмотрим на названия источников дохода в датафреймах `costs` и `source`."
   ]
  },
  {
   "cell_type": "code",
   "execution_count": 88,
   "id": "179a8de5",
   "metadata": {
    "scrolled": true
   },
   "outputs": [
    {
     "data": {
      "text/plain": [
       "yandex_direct              4817\n",
       "instagram_new_adverts      3347\n",
       "facebook_ads               2726\n",
       "youtube_channel_reklama    2686\n",
       "Name: source, dtype: int64"
      ]
     },
     "execution_count": 88,
     "metadata": {},
     "output_type": "execute_result"
    }
   ],
   "source": [
    "source['source'].value_counts()"
   ]
  },
  {
   "cell_type": "code",
   "execution_count": 89,
   "id": "f20a1f3c",
   "metadata": {
    "scrolled": false
   },
   "outputs": [
    {
     "data": {
      "text/plain": [
       "facebook_ads               7\n",
       "instagram_new_adverts      7\n",
       "yandex_direct              7\n",
       "youtube_channel_reklama    7\n",
       "Name: source, dtype: int64"
      ]
     },
     "execution_count": 89,
     "metadata": {},
     "output_type": "execute_result"
    }
   ],
   "source": [
    "costs['source'].value_counts()"
   ]
  },
  {
   "cell_type": "markdown",
   "id": "ad52a05a",
   "metadata": {},
   "source": [
    "Названия источников полностью совпадают в обоих датафреймах."
   ]
  },
  {
   "cell_type": "markdown",
   "id": "2368f21b",
   "metadata": {},
   "source": [
    "Добавим новую таблицу time для получения столбца **\"время завершения игры\"** (время в игре) для каждого игрока, сначала высчитаем время первого и последнего событий, а после посчитаем, сколько времени прошло между этими событиями (tig - time in game), в целом, в днях, часах."
   ]
  },
  {
   "cell_type": "code",
   "execution_count": 90,
   "id": "2a2b8ef9",
   "metadata": {
    "scrolled": true
   },
   "outputs": [
    {
     "data": {
      "text/html": [
       "<div>\n",
       "<style scoped>\n",
       "    .dataframe tbody tr th:only-of-type {\n",
       "        vertical-align: middle;\n",
       "    }\n",
       "\n",
       "    .dataframe tbody tr th {\n",
       "        vertical-align: top;\n",
       "    }\n",
       "\n",
       "    .dataframe thead th {\n",
       "        text-align: right;\n",
       "    }\n",
       "</style>\n",
       "<table border=\"1\" class=\"dataframe\">\n",
       "  <thead>\n",
       "    <tr style=\"text-align: right;\">\n",
       "      <th></th>\n",
       "      <th>event_datetime</th>\n",
       "      <th>event</th>\n",
       "      <th>building_type</th>\n",
       "      <th>user_id</th>\n",
       "      <th>project_type</th>\n",
       "      <th>first</th>\n",
       "      <th>last</th>\n",
       "      <th>tig</th>\n",
       "      <th>tig_h</th>\n",
       "      <th>days</th>\n",
       "      <th>date</th>\n",
       "    </tr>\n",
       "  </thead>\n",
       "  <tbody>\n",
       "    <tr>\n",
       "      <th>0</th>\n",
       "      <td>2020-05-04 00:00:01</td>\n",
       "      <td>building</td>\n",
       "      <td>assembly_shop</td>\n",
       "      <td>55e92310-cb8e-4754-b622-597e124b03de</td>\n",
       "      <td>NaN</td>\n",
       "      <td>2020-05-04 00:00:01</td>\n",
       "      <td>2020-05-10 20:27:01</td>\n",
       "      <td>6 days 20:00:00</td>\n",
       "      <td>164.0</td>\n",
       "      <td>6.8</td>\n",
       "      <td>2020-05-04</td>\n",
       "    </tr>\n",
       "    <tr>\n",
       "      <th>1</th>\n",
       "      <td>2020-05-04 00:00:03</td>\n",
       "      <td>building</td>\n",
       "      <td>assembly_shop</td>\n",
       "      <td>c07b1c10-f477-44dc-81dc-ec82254b1347</td>\n",
       "      <td>NaN</td>\n",
       "      <td>2020-05-04 00:00:03</td>\n",
       "      <td>2020-05-15 05:29:13</td>\n",
       "      <td>11 days 05:00:00</td>\n",
       "      <td>269.0</td>\n",
       "      <td>11.2</td>\n",
       "      <td>2020-05-04</td>\n",
       "    </tr>\n",
       "    <tr>\n",
       "      <th>2</th>\n",
       "      <td>2020-05-04 00:00:16</td>\n",
       "      <td>building</td>\n",
       "      <td>assembly_shop</td>\n",
       "      <td>6edd42cc-e753-4ff6-a947-2107cd560710</td>\n",
       "      <td>NaN</td>\n",
       "      <td>2020-05-04 00:00:16</td>\n",
       "      <td>2020-05-16 11:51:58</td>\n",
       "      <td>12 days 12:00:00</td>\n",
       "      <td>300.0</td>\n",
       "      <td>12.5</td>\n",
       "      <td>2020-05-04</td>\n",
       "    </tr>\n",
       "    <tr>\n",
       "      <th>3</th>\n",
       "      <td>2020-05-04 00:00:16</td>\n",
       "      <td>building</td>\n",
       "      <td>assembly_shop</td>\n",
       "      <td>92c69003-d60a-444a-827f-8cc51bf6bf4c</td>\n",
       "      <td>NaN</td>\n",
       "      <td>2020-05-04 00:00:16</td>\n",
       "      <td>2020-05-12 04:29:54</td>\n",
       "      <td>8 days 04:00:00</td>\n",
       "      <td>196.0</td>\n",
       "      <td>8.2</td>\n",
       "      <td>2020-05-04</td>\n",
       "    </tr>\n",
       "    <tr>\n",
       "      <th>4</th>\n",
       "      <td>2020-05-04 00:00:35</td>\n",
       "      <td>building</td>\n",
       "      <td>assembly_shop</td>\n",
       "      <td>cdc6bb92-0ccb-4490-9866-ef142f09139d</td>\n",
       "      <td>NaN</td>\n",
       "      <td>2020-05-04 00:00:35</td>\n",
       "      <td>2020-05-11 14:18:05</td>\n",
       "      <td>7 days 14:00:00</td>\n",
       "      <td>182.0</td>\n",
       "      <td>7.6</td>\n",
       "      <td>2020-05-04</td>\n",
       "    </tr>\n",
       "    <tr>\n",
       "      <th>...</th>\n",
       "      <td>...</td>\n",
       "      <td>...</td>\n",
       "      <td>...</td>\n",
       "      <td>...</td>\n",
       "      <td>...</td>\n",
       "      <td>...</td>\n",
       "      <td>...</td>\n",
       "      <td>...</td>\n",
       "      <td>...</td>\n",
       "      <td>...</td>\n",
       "      <td>...</td>\n",
       "    </tr>\n",
       "    <tr>\n",
       "      <th>135634</th>\n",
       "      <td>2020-06-05 00:08:06</td>\n",
       "      <td>building</td>\n",
       "      <td>research_center</td>\n",
       "      <td>f21d179f-1c4b-437e-b9c6-ab1976907195</td>\n",
       "      <td>NaN</td>\n",
       "      <td>2020-05-06 02:56:25</td>\n",
       "      <td>2020-06-05 12:32:49</td>\n",
       "      <td>30 days 10:00:00</td>\n",
       "      <td>730.0</td>\n",
       "      <td>30.4</td>\n",
       "      <td>2020-05-06</td>\n",
       "    </tr>\n",
       "    <tr>\n",
       "      <th>135635</th>\n",
       "      <td>2020-06-05 02:25:12</td>\n",
       "      <td>finished_stage_1</td>\n",
       "      <td>NaN</td>\n",
       "      <td>515c1952-99aa-4bca-a7ea-d0449eb5385a</td>\n",
       "      <td>NaN</td>\n",
       "      <td>2020-05-07 07:28:50</td>\n",
       "      <td>2020-06-05 02:25:12</td>\n",
       "      <td>28 days 19:00:00</td>\n",
       "      <td>691.0</td>\n",
       "      <td>28.8</td>\n",
       "      <td>2020-05-07</td>\n",
       "    </tr>\n",
       "    <tr>\n",
       "      <th>135636</th>\n",
       "      <td>2020-06-05 08:57:52</td>\n",
       "      <td>building</td>\n",
       "      <td>research_center</td>\n",
       "      <td>ed3e7d02-8a96-4be7-9998-e9813ff9c316</td>\n",
       "      <td>NaN</td>\n",
       "      <td>2020-05-07 06:56:28</td>\n",
       "      <td>2020-06-05 08:57:52</td>\n",
       "      <td>29 days 02:00:00</td>\n",
       "      <td>698.0</td>\n",
       "      <td>29.1</td>\n",
       "      <td>2020-05-07</td>\n",
       "    </tr>\n",
       "    <tr>\n",
       "      <th>135637</th>\n",
       "      <td>2020-06-05 12:12:27</td>\n",
       "      <td>finished_stage_1</td>\n",
       "      <td>NaN</td>\n",
       "      <td>32572adb-900f-4b5d-a453-1eb1e6d88d8b</td>\n",
       "      <td>NaN</td>\n",
       "      <td>2020-05-07 05:43:45</td>\n",
       "      <td>2020-06-05 12:12:27</td>\n",
       "      <td>29 days 06:00:00</td>\n",
       "      <td>702.0</td>\n",
       "      <td>29.2</td>\n",
       "      <td>2020-05-07</td>\n",
       "    </tr>\n",
       "    <tr>\n",
       "      <th>135638</th>\n",
       "      <td>2020-06-05 12:32:49</td>\n",
       "      <td>finished_stage_1</td>\n",
       "      <td>NaN</td>\n",
       "      <td>f21d179f-1c4b-437e-b9c6-ab1976907195</td>\n",
       "      <td>NaN</td>\n",
       "      <td>2020-05-06 02:56:25</td>\n",
       "      <td>2020-06-05 12:32:49</td>\n",
       "      <td>30 days 10:00:00</td>\n",
       "      <td>730.0</td>\n",
       "      <td>30.4</td>\n",
       "      <td>2020-05-06</td>\n",
       "    </tr>\n",
       "  </tbody>\n",
       "</table>\n",
       "<p>135639 rows × 11 columns</p>\n",
       "</div>"
      ],
      "text/plain": [
       "            event_datetime             event    building_type  \\\n",
       "0      2020-05-04 00:00:01          building    assembly_shop   \n",
       "1      2020-05-04 00:00:03          building    assembly_shop   \n",
       "2      2020-05-04 00:00:16          building    assembly_shop   \n",
       "3      2020-05-04 00:00:16          building    assembly_shop   \n",
       "4      2020-05-04 00:00:35          building    assembly_shop   \n",
       "...                    ...               ...              ...   \n",
       "135634 2020-06-05 00:08:06          building  research_center   \n",
       "135635 2020-06-05 02:25:12  finished_stage_1              NaN   \n",
       "135636 2020-06-05 08:57:52          building  research_center   \n",
       "135637 2020-06-05 12:12:27  finished_stage_1              NaN   \n",
       "135638 2020-06-05 12:32:49  finished_stage_1              NaN   \n",
       "\n",
       "                                     user_id project_type               first  \\\n",
       "0       55e92310-cb8e-4754-b622-597e124b03de          NaN 2020-05-04 00:00:01   \n",
       "1       c07b1c10-f477-44dc-81dc-ec82254b1347          NaN 2020-05-04 00:00:03   \n",
       "2       6edd42cc-e753-4ff6-a947-2107cd560710          NaN 2020-05-04 00:00:16   \n",
       "3       92c69003-d60a-444a-827f-8cc51bf6bf4c          NaN 2020-05-04 00:00:16   \n",
       "4       cdc6bb92-0ccb-4490-9866-ef142f09139d          NaN 2020-05-04 00:00:35   \n",
       "...                                      ...          ...                 ...   \n",
       "135634  f21d179f-1c4b-437e-b9c6-ab1976907195          NaN 2020-05-06 02:56:25   \n",
       "135635  515c1952-99aa-4bca-a7ea-d0449eb5385a          NaN 2020-05-07 07:28:50   \n",
       "135636  ed3e7d02-8a96-4be7-9998-e9813ff9c316          NaN 2020-05-07 06:56:28   \n",
       "135637  32572adb-900f-4b5d-a453-1eb1e6d88d8b          NaN 2020-05-07 05:43:45   \n",
       "135638  f21d179f-1c4b-437e-b9c6-ab1976907195          NaN 2020-05-06 02:56:25   \n",
       "\n",
       "                      last              tig  tig_h  days        date  \n",
       "0      2020-05-10 20:27:01  6 days 20:00:00  164.0   6.8  2020-05-04  \n",
       "1      2020-05-15 05:29:13 11 days 05:00:00  269.0  11.2  2020-05-04  \n",
       "2      2020-05-16 11:51:58 12 days 12:00:00  300.0  12.5  2020-05-04  \n",
       "3      2020-05-12 04:29:54  8 days 04:00:00  196.0   8.2  2020-05-04  \n",
       "4      2020-05-11 14:18:05  7 days 14:00:00  182.0   7.6  2020-05-04  \n",
       "...                    ...              ...    ...   ...         ...  \n",
       "135634 2020-06-05 12:32:49 30 days 10:00:00  730.0  30.4  2020-05-06  \n",
       "135635 2020-06-05 02:25:12 28 days 19:00:00  691.0  28.8  2020-05-07  \n",
       "135636 2020-06-05 08:57:52 29 days 02:00:00  698.0  29.1  2020-05-07  \n",
       "135637 2020-06-05 12:12:27 29 days 06:00:00  702.0  29.2  2020-05-07  \n",
       "135638 2020-06-05 12:32:49 30 days 10:00:00  730.0  30.4  2020-05-06  \n",
       "\n",
       "[135639 rows x 11 columns]"
      ]
     },
     "execution_count": 90,
     "metadata": {},
     "output_type": "execute_result"
    }
   ],
   "source": [
    "time = (df.groupby('user_id').agg({'event_datetime': 'min'}).rename(columns={'event_datetime': 'first'}))\n",
    "time['last']= (df.groupby('user_id').agg({'event_datetime': 'max'}).rename(columns={'event_datetime': 'last'}))\n",
    "time['tig'] =(time['last']-time['first']).dt.round('H')\n",
    "time['tig_h'] = time['tig']/ np.timedelta64(1, 'h')\n",
    "time['days'] = (time['tig'].dt.total_seconds()/(24*60*60)).round(1)\n",
    "time['date'] = time['first'].dt.date\n",
    "# объединим df с time для дальнейших подсчетов\n",
    "df = df.merge(time, how='left', on='user_id')\n",
    "df"
   ]
  },
  {
   "cell_type": "markdown",
   "id": "7e5137c8",
   "metadata": {},
   "source": [
    "Добавим новый столбец с типами игроков по стратегиям."
   ]
  },
  {
   "cell_type": "markdown",
   "id": "58b1a5da",
   "metadata": {},
   "source": [
    "Для начала выделим **категории игроков**, которые прошли уровень, посредством проекта и победы над другими игроками, поскольку у нас в базе нет непосредственной записи о тех, кто завершил уровень с помощью победы, выделим их с помощью их id. Строителей (pve) можно выделить срезом, где тип события - project, либо тип проекта - satellite_orbital_assembly."
   ]
  },
  {
   "cell_type": "markdown",
   "id": "960c660e",
   "metadata": {},
   "source": [
    "Посчитаем число строителей (pve - player  versus environment)."
   ]
  },
  {
   "cell_type": "code",
   "execution_count": 91,
   "id": "889c47fd",
   "metadata": {
    "scrolled": true
   },
   "outputs": [
    {
     "data": {
      "text/plain": [
       "1866"
      ]
     },
     "execution_count": 91,
     "metadata": {},
     "output_type": "execute_result"
    }
   ],
   "source": [
    "pve = df.query('project_type == \"satellite_orbital_assembly\"')['user_id']\n",
    "pve.shape[0]"
   ]
  },
  {
   "cell_type": "markdown",
   "id": "85f15111",
   "metadata": {},
   "source": [
    "Заменим пропуски в типе проектов на pvp (player versus player), выделив пользователей, завершивших первый уровень, исключив пользователей с проектом (pve)."
   ]
  },
  {
   "cell_type": "code",
   "execution_count": 92,
   "id": "b48d31d7",
   "metadata": {
    "scrolled": true
   },
   "outputs": [
    {
     "data": {
      "text/plain": [
       "3951"
      ]
     },
     "execution_count": 92,
     "metadata": {},
     "output_type": "execute_result"
    }
   ],
   "source": [
    "pvp = df.query('event == \"finished_stage_1\" and user_id not in @pve') ['user_id']\n",
    "pvp.shape[0]"
   ]
  },
  {
   "cell_type": "markdown",
   "id": "b178672d",
   "metadata": {},
   "source": [
    "Добавим отдельный столбец в датафрейм df с типами игроков, для этого предварительно создадим условия и названия типов."
   ]
  },
  {
   "cell_type": "code",
   "execution_count": 93,
   "id": "c9ac97d2",
   "metadata": {},
   "outputs": [],
   "source": [
    "conditions = [(df['user_id'].isin(pve)), (df['user_id'].isin(pvp)), (~df['user_id'].isin(pve)) & (~df['user_id'].isin(pvp))]"
   ]
  },
  {
   "cell_type": "code",
   "execution_count": 94,
   "id": "28344fd1",
   "metadata": {},
   "outputs": [],
   "source": [
    "values = ['pve', 'pvp', 'not_finished']"
   ]
  },
  {
   "cell_type": "code",
   "execution_count": 95,
   "id": "ac8afa2b",
   "metadata": {},
   "outputs": [],
   "source": [
    "df['player_type'] = np.select(conditions, values)"
   ]
  },
  {
   "cell_type": "code",
   "execution_count": 96,
   "id": "c0f76b06",
   "metadata": {
    "scrolled": true
   },
   "outputs": [
    {
     "data": {
      "text/plain": [
       "player_type\n",
       "not_finished    7759\n",
       "pve             1866\n",
       "pvp             3951\n",
       "Name: user_id, dtype: int64"
      ]
     },
     "execution_count": 96,
     "metadata": {},
     "output_type": "execute_result"
    }
   ],
   "source": [
    "# проверка\n",
    "df.groupby('player_type')['user_id'].nunique()"
   ]
  },
  {
   "cell_type": "markdown",
   "id": "868a2152",
   "metadata": {},
   "source": [
    "Посмотрим на графике процентное соотношение типов игроков."
   ]
  },
  {
   "cell_type": "code",
   "execution_count": 97,
   "id": "b9ed8165",
   "metadata": {},
   "outputs": [
    {
     "data": {
      "image/png": "[encoded data removed]",
      "text/plain": [
       "<Figure size 432x288 with 1 Axes>"
      ]
     },
     "metadata": {},
     "output_type": "display_data"
    }
   ],
   "source": [
    "sizes = [1866, 3951]\n",
    "labels= 'pve', 'pvp'\n",
    "fig, ax = plt.subplots()\n",
    "ax.pie(sizes, labels=labels, autopct='%1.1f%%')\n",
    "ax.set_title('Типы игроков по стратегии поведения', fontsize=10)\n",
    "warnings.filterwarnings('ignore')"
   ]
  },
  {
   "cell_type": "markdown",
   "id": "3bd7a907",
   "metadata": {},
   "source": [
    "Таким образом, среди завершивших первый уровень, 32% игроков завершили его с помощью проекта (pve) и порядка 68% - с помощью победы над соперником (pvp)."
   ]
  },
  {
   "cell_type": "markdown",
   "id": "a550c184",
   "metadata": {},
   "source": [
    "**Выводы**: \n",
    "<br> в исходных данных присутствуют пропущенные значения, появились механически из-за логики игры, отсутствуют полные дубликаты. В ходе предобработки был скорректирован тип данных столбцов, добавлен столбец player_type с типами игроков по стратегии и столбец tig (в таблице time) с временем завершения уровня. В целом можно сделать вывод, что данные достаточно качественные."
   ]
  },
  {
   "cell_type": "markdown",
   "id": "babd9399",
   "metadata": {},
   "source": [
    "## 3. Исследовательский анализ данных ##"
   ]
  },
  {
   "cell_type": "markdown",
   "id": "b8668f13",
   "metadata": {},
   "source": [
    "Посмотрим распределение событий и типов зданий."
   ]
  },
  {
   "cell_type": "code",
   "execution_count": 98,
   "id": "494ad894",
   "metadata": {},
   "outputs": [
    {
     "data": {
      "text/plain": [
       "building            127956\n",
       "finished_stage_1      5817\n",
       "project               1866\n",
       "Name: event, dtype: int64"
      ]
     },
     "execution_count": 98,
     "metadata": {},
     "output_type": "execute_result"
    }
   ],
   "source": [
    "df['event'].value_counts()"
   ]
  },
  {
   "cell_type": "code",
   "execution_count": 99,
   "id": "0cde72f4",
   "metadata": {},
   "outputs": [
    {
     "data": {
      "text/plain": [
       "spaceport          59325\n",
       "assembly_shop      54494\n",
       "research_center    14137\n",
       "Name: building_type, dtype: int64"
      ]
     },
     "execution_count": 99,
     "metadata": {},
     "output_type": "execute_result"
    }
   ],
   "source": [
    "df['building_type'].value_counts()"
   ]
  },
  {
   "cell_type": "markdown",
   "id": "b4d635f8",
   "metadata": {},
   "source": [
    "Самым популярным событием являетс постройка здания и наиболее распространенным типом зданий является spaceport, далее assembly shop и много меньше research_center."
   ]
  },
  {
   "cell_type": "markdown",
   "id": "9aab0a0c",
   "metadata": {},
   "source": [
    "Определим дату первого и последнего событий игры."
   ]
  },
  {
   "cell_type": "code",
   "execution_count": 100,
   "id": "ea14abc6",
   "metadata": {
    "scrolled": false
   },
   "outputs": [
    {
     "data": {
      "text/plain": [
       "min   2020-05-04 00:00:01\n",
       "max   2020-06-05 12:32:49\n",
       "Name: event_datetime, dtype: datetime64[ns]"
      ]
     },
     "execution_count": 100,
     "metadata": {},
     "output_type": "execute_result"
    }
   ],
   "source": [
    "df['event_datetime'].agg(['min', 'max'])"
   ]
  },
  {
   "cell_type": "markdown",
   "id": "53c3b992",
   "metadata": {},
   "source": [
    "Период исследования событий с 4 мая по 5 июня 2020 года (примерно 1 месяц)."
   ]
  },
  {
   "cell_type": "markdown",
   "id": "5ee84b06",
   "metadata": {},
   "source": [
    "Посмотрим распределение событий."
   ]
  },
  {
   "cell_type": "code",
   "execution_count": 101,
   "id": "461d2d7b",
   "metadata": {
    "scrolled": true
   },
   "outputs": [
    {
     "data": {
      "text/plain": [
       "building            127956\n",
       "finished_stage_1      5817\n",
       "project               1866\n",
       "Name: event, dtype: int64"
      ]
     },
     "execution_count": 101,
     "metadata": {},
     "output_type": "execute_result"
    }
   ],
   "source": [
    "df['event'].value_counts()"
   ]
  },
  {
   "cell_type": "markdown",
   "id": "c6649ff3",
   "metadata": {},
   "source": [
    "Посмотрим даты затрат на рекламу."
   ]
  },
  {
   "cell_type": "code",
   "execution_count": 102,
   "id": "d3362cca",
   "metadata": {},
   "outputs": [
    {
     "data": {
      "text/plain": [
       "min   2020-05-03\n",
       "max   2020-05-09\n",
       "Name: day, dtype: datetime64[ns]"
      ]
     },
     "execution_count": 102,
     "metadata": {},
     "output_type": "execute_result"
    }
   ],
   "source": [
    "costs['day'].agg(['min', 'max'])"
   ]
  },
  {
   "cell_type": "markdown",
   "id": "b9ea6528",
   "metadata": {},
   "source": [
    "Можно увидеть, что период оплаты рекламы (с 3 мая по 9 мая) на один день опережает период событий (когорта недельная с 4 мая по 10 мая), что логично, так как приход игроков был после запуска рекламы."
   ]
  },
  {
   "cell_type": "markdown",
   "id": "9c4b76b8",
   "metadata": {},
   "source": [
    "Для удобства анализа соединим таблицы df и source."
   ]
  },
  {
   "cell_type": "code",
   "execution_count": 103,
   "id": "b6a86324",
   "metadata": {},
   "outputs": [
    {
     "data": {
      "text/html": [
       "<div>\n",
       "<style scoped>\n",
       "    .dataframe tbody tr th:only-of-type {\n",
       "        vertical-align: middle;\n",
       "    }\n",
       "\n",
       "    .dataframe tbody tr th {\n",
       "        vertical-align: top;\n",
       "    }\n",
       "\n",
       "    .dataframe thead th {\n",
       "        text-align: right;\n",
       "    }\n",
       "</style>\n",
       "<table border=\"1\" class=\"dataframe\">\n",
       "  <thead>\n",
       "    <tr style=\"text-align: right;\">\n",
       "      <th></th>\n",
       "      <th>event_datetime</th>\n",
       "      <th>event</th>\n",
       "      <th>building_type</th>\n",
       "      <th>user_id</th>\n",
       "      <th>project_type</th>\n",
       "      <th>first</th>\n",
       "      <th>last</th>\n",
       "      <th>tig</th>\n",
       "      <th>tig_h</th>\n",
       "      <th>days</th>\n",
       "      <th>date</th>\n",
       "      <th>player_type</th>\n",
       "      <th>source</th>\n",
       "    </tr>\n",
       "  </thead>\n",
       "  <tbody>\n",
       "    <tr>\n",
       "      <th>0</th>\n",
       "      <td>2020-05-04 00:00:01</td>\n",
       "      <td>building</td>\n",
       "      <td>assembly_shop</td>\n",
       "      <td>55e92310-cb8e-4754-b622-597e124b03de</td>\n",
       "      <td>NaN</td>\n",
       "      <td>2020-05-04 00:00:01</td>\n",
       "      <td>2020-05-10 20:27:01</td>\n",
       "      <td>6 days 20:00:00</td>\n",
       "      <td>164.0</td>\n",
       "      <td>6.8</td>\n",
       "      <td>2020-05-04</td>\n",
       "      <td>not_finished</td>\n",
       "      <td>youtube_channel_reklama</td>\n",
       "    </tr>\n",
       "    <tr>\n",
       "      <th>1</th>\n",
       "      <td>2020-05-04 00:00:03</td>\n",
       "      <td>building</td>\n",
       "      <td>assembly_shop</td>\n",
       "      <td>c07b1c10-f477-44dc-81dc-ec82254b1347</td>\n",
       "      <td>NaN</td>\n",
       "      <td>2020-05-04 00:00:03</td>\n",
       "      <td>2020-05-15 05:29:13</td>\n",
       "      <td>11 days 05:00:00</td>\n",
       "      <td>269.0</td>\n",
       "      <td>11.2</td>\n",
       "      <td>2020-05-04</td>\n",
       "      <td>pve</td>\n",
       "      <td>facebook_ads</td>\n",
       "    </tr>\n",
       "    <tr>\n",
       "      <th>2</th>\n",
       "      <td>2020-05-04 00:00:16</td>\n",
       "      <td>building</td>\n",
       "      <td>assembly_shop</td>\n",
       "      <td>6edd42cc-e753-4ff6-a947-2107cd560710</td>\n",
       "      <td>NaN</td>\n",
       "      <td>2020-05-04 00:00:16</td>\n",
       "      <td>2020-05-16 11:51:58</td>\n",
       "      <td>12 days 12:00:00</td>\n",
       "      <td>300.0</td>\n",
       "      <td>12.5</td>\n",
       "      <td>2020-05-04</td>\n",
       "      <td>pvp</td>\n",
       "      <td>instagram_new_adverts</td>\n",
       "    </tr>\n",
       "    <tr>\n",
       "      <th>3</th>\n",
       "      <td>2020-05-04 00:00:16</td>\n",
       "      <td>building</td>\n",
       "      <td>assembly_shop</td>\n",
       "      <td>92c69003-d60a-444a-827f-8cc51bf6bf4c</td>\n",
       "      <td>NaN</td>\n",
       "      <td>2020-05-04 00:00:16</td>\n",
       "      <td>2020-05-12 04:29:54</td>\n",
       "      <td>8 days 04:00:00</td>\n",
       "      <td>196.0</td>\n",
       "      <td>8.2</td>\n",
       "      <td>2020-05-04</td>\n",
       "      <td>not_finished</td>\n",
       "      <td>facebook_ads</td>\n",
       "    </tr>\n",
       "    <tr>\n",
       "      <th>4</th>\n",
       "      <td>2020-05-04 00:00:35</td>\n",
       "      <td>building</td>\n",
       "      <td>assembly_shop</td>\n",
       "      <td>cdc6bb92-0ccb-4490-9866-ef142f09139d</td>\n",
       "      <td>NaN</td>\n",
       "      <td>2020-05-04 00:00:35</td>\n",
       "      <td>2020-05-11 14:18:05</td>\n",
       "      <td>7 days 14:00:00</td>\n",
       "      <td>182.0</td>\n",
       "      <td>7.6</td>\n",
       "      <td>2020-05-04</td>\n",
       "      <td>pvp</td>\n",
       "      <td>yandex_direct</td>\n",
       "    </tr>\n",
       "    <tr>\n",
       "      <th>...</th>\n",
       "      <td>...</td>\n",
       "      <td>...</td>\n",
       "      <td>...</td>\n",
       "      <td>...</td>\n",
       "      <td>...</td>\n",
       "      <td>...</td>\n",
       "      <td>...</td>\n",
       "      <td>...</td>\n",
       "      <td>...</td>\n",
       "      <td>...</td>\n",
       "      <td>...</td>\n",
       "      <td>...</td>\n",
       "      <td>...</td>\n",
       "    </tr>\n",
       "    <tr>\n",
       "      <th>135634</th>\n",
       "      <td>2020-06-05 00:08:06</td>\n",
       "      <td>building</td>\n",
       "      <td>research_center</td>\n",
       "      <td>f21d179f-1c4b-437e-b9c6-ab1976907195</td>\n",
       "      <td>NaN</td>\n",
       "      <td>2020-05-06 02:56:25</td>\n",
       "      <td>2020-06-05 12:32:49</td>\n",
       "      <td>30 days 10:00:00</td>\n",
       "      <td>730.0</td>\n",
       "      <td>30.4</td>\n",
       "      <td>2020-05-06</td>\n",
       "      <td>pvp</td>\n",
       "      <td>instagram_new_adverts</td>\n",
       "    </tr>\n",
       "    <tr>\n",
       "      <th>135635</th>\n",
       "      <td>2020-06-05 02:25:12</td>\n",
       "      <td>finished_stage_1</td>\n",
       "      <td>NaN</td>\n",
       "      <td>515c1952-99aa-4bca-a7ea-d0449eb5385a</td>\n",
       "      <td>NaN</td>\n",
       "      <td>2020-05-07 07:28:50</td>\n",
       "      <td>2020-06-05 02:25:12</td>\n",
       "      <td>28 days 19:00:00</td>\n",
       "      <td>691.0</td>\n",
       "      <td>28.8</td>\n",
       "      <td>2020-05-07</td>\n",
       "      <td>pvp</td>\n",
       "      <td>yandex_direct</td>\n",
       "    </tr>\n",
       "    <tr>\n",
       "      <th>135636</th>\n",
       "      <td>2020-06-05 08:57:52</td>\n",
       "      <td>building</td>\n",
       "      <td>research_center</td>\n",
       "      <td>ed3e7d02-8a96-4be7-9998-e9813ff9c316</td>\n",
       "      <td>NaN</td>\n",
       "      <td>2020-05-07 06:56:28</td>\n",
       "      <td>2020-06-05 08:57:52</td>\n",
       "      <td>29 days 02:00:00</td>\n",
       "      <td>698.0</td>\n",
       "      <td>29.1</td>\n",
       "      <td>2020-05-07</td>\n",
       "      <td>not_finished</td>\n",
       "      <td>youtube_channel_reklama</td>\n",
       "    </tr>\n",
       "    <tr>\n",
       "      <th>135637</th>\n",
       "      <td>2020-06-05 12:12:27</td>\n",
       "      <td>finished_stage_1</td>\n",
       "      <td>NaN</td>\n",
       "      <td>32572adb-900f-4b5d-a453-1eb1e6d88d8b</td>\n",
       "      <td>NaN</td>\n",
       "      <td>2020-05-07 05:43:45</td>\n",
       "      <td>2020-06-05 12:12:27</td>\n",
       "      <td>29 days 06:00:00</td>\n",
       "      <td>702.0</td>\n",
       "      <td>29.2</td>\n",
       "      <td>2020-05-07</td>\n",
       "      <td>pvp</td>\n",
       "      <td>facebook_ads</td>\n",
       "    </tr>\n",
       "    <tr>\n",
       "      <th>135638</th>\n",
       "      <td>2020-06-05 12:32:49</td>\n",
       "      <td>finished_stage_1</td>\n",
       "      <td>NaN</td>\n",
       "      <td>f21d179f-1c4b-437e-b9c6-ab1976907195</td>\n",
       "      <td>NaN</td>\n",
       "      <td>2020-05-06 02:56:25</td>\n",
       "      <td>2020-06-05 12:32:49</td>\n",
       "      <td>30 days 10:00:00</td>\n",
       "      <td>730.0</td>\n",
       "      <td>30.4</td>\n",
       "      <td>2020-05-06</td>\n",
       "      <td>pvp</td>\n",
       "      <td>instagram_new_adverts</td>\n",
       "    </tr>\n",
       "  </tbody>\n",
       "</table>\n",
       "<p>135639 rows × 13 columns</p>\n",
       "</div>"
      ],
      "text/plain": [
       "            event_datetime             event    building_type  \\\n",
       "0      2020-05-04 00:00:01          building    assembly_shop   \n",
       "1      2020-05-04 00:00:03          building    assembly_shop   \n",
       "2      2020-05-04 00:00:16          building    assembly_shop   \n",
       "3      2020-05-04 00:00:16          building    assembly_shop   \n",
       "4      2020-05-04 00:00:35          building    assembly_shop   \n",
       "...                    ...               ...              ...   \n",
       "135634 2020-06-05 00:08:06          building  research_center   \n",
       "135635 2020-06-05 02:25:12  finished_stage_1              NaN   \n",
       "135636 2020-06-05 08:57:52          building  research_center   \n",
       "135637 2020-06-05 12:12:27  finished_stage_1              NaN   \n",
       "135638 2020-06-05 12:32:49  finished_stage_1              NaN   \n",
       "\n",
       "                                     user_id project_type               first  \\\n",
       "0       55e92310-cb8e-4754-b622-597e124b03de          NaN 2020-05-04 00:00:01   \n",
       "1       c07b1c10-f477-44dc-81dc-ec82254b1347          NaN 2020-05-04 00:00:03   \n",
       "2       6edd42cc-e753-4ff6-a947-2107cd560710          NaN 2020-05-04 00:00:16   \n",
       "3       92c69003-d60a-444a-827f-8cc51bf6bf4c          NaN 2020-05-04 00:00:16   \n",
       "4       cdc6bb92-0ccb-4490-9866-ef142f09139d          NaN 2020-05-04 00:00:35   \n",
       "...                                      ...          ...                 ...   \n",
       "135634  f21d179f-1c4b-437e-b9c6-ab1976907195          NaN 2020-05-06 02:56:25   \n",
       "135635  515c1952-99aa-4bca-a7ea-d0449eb5385a          NaN 2020-05-07 07:28:50   \n",
       "135636  ed3e7d02-8a96-4be7-9998-e9813ff9c316          NaN 2020-05-07 06:56:28   \n",
       "135637  32572adb-900f-4b5d-a453-1eb1e6d88d8b          NaN 2020-05-07 05:43:45   \n",
       "135638  f21d179f-1c4b-437e-b9c6-ab1976907195          NaN 2020-05-06 02:56:25   \n",
       "\n",
       "                      last              tig  tig_h  days        date  \\\n",
       "0      2020-05-10 20:27:01  6 days 20:00:00  164.0   6.8  2020-05-04   \n",
       "1      2020-05-15 05:29:13 11 days 05:00:00  269.0  11.2  2020-05-04   \n",
       "2      2020-05-16 11:51:58 12 days 12:00:00  300.0  12.5  2020-05-04   \n",
       "3      2020-05-12 04:29:54  8 days 04:00:00  196.0   8.2  2020-05-04   \n",
       "4      2020-05-11 14:18:05  7 days 14:00:00  182.0   7.6  2020-05-04   \n",
       "...                    ...              ...    ...   ...         ...   \n",
       "135634 2020-06-05 12:32:49 30 days 10:00:00  730.0  30.4  2020-05-06   \n",
       "135635 2020-06-05 02:25:12 28 days 19:00:00  691.0  28.8  2020-05-07   \n",
       "135636 2020-06-05 08:57:52 29 days 02:00:00  698.0  29.1  2020-05-07   \n",
       "135637 2020-06-05 12:12:27 29 days 06:00:00  702.0  29.2  2020-05-07   \n",
       "135638 2020-06-05 12:32:49 30 days 10:00:00  730.0  30.4  2020-05-06   \n",
       "\n",
       "         player_type                   source  \n",
       "0       not_finished  youtube_channel_reklama  \n",
       "1                pve             facebook_ads  \n",
       "2                pvp    instagram_new_adverts  \n",
       "3       not_finished             facebook_ads  \n",
       "4                pvp            yandex_direct  \n",
       "...              ...                      ...  \n",
       "135634           pvp    instagram_new_adverts  \n",
       "135635           pvp            yandex_direct  \n",
       "135636  not_finished  youtube_channel_reklama  \n",
       "135637           pvp             facebook_ads  \n",
       "135638           pvp    instagram_new_adverts  \n",
       "\n",
       "[135639 rows x 13 columns]"
      ]
     },
     "execution_count": 103,
     "metadata": {},
     "output_type": "execute_result"
    }
   ],
   "source": [
    "df = df.merge(source, how = 'left', on = 'user_id')\n",
    "df"
   ]
  },
  {
   "cell_type": "markdown",
   "id": "c2e430b5",
   "metadata": {},
   "source": [
    "Посмотрим в целом на доли игроков по источникам."
   ]
  },
  {
   "cell_type": "code",
   "execution_count": 104,
   "id": "1074e985",
   "metadata": {
    "scrolled": false
   },
   "outputs": [
    {
     "data": {
      "text/html": [
       "<div>\n",
       "<style scoped>\n",
       "    .dataframe tbody tr th:only-of-type {\n",
       "        vertical-align: middle;\n",
       "    }\n",
       "\n",
       "    .dataframe tbody tr th {\n",
       "        vertical-align: top;\n",
       "    }\n",
       "\n",
       "    .dataframe thead th {\n",
       "        text-align: right;\n",
       "    }\n",
       "</style>\n",
       "<table border=\"1\" class=\"dataframe\">\n",
       "  <thead>\n",
       "    <tr style=\"text-align: right;\">\n",
       "      <th></th>\n",
       "      <th>source</th>\n",
       "      <th>% привлеченных игроков</th>\n",
       "    </tr>\n",
       "  </thead>\n",
       "  <tbody>\n",
       "    <tr>\n",
       "      <th>0</th>\n",
       "      <td>yandex_direct</td>\n",
       "      <td>35.5</td>\n",
       "    </tr>\n",
       "    <tr>\n",
       "      <th>1</th>\n",
       "      <td>instagram_new_adverts</td>\n",
       "      <td>24.7</td>\n",
       "    </tr>\n",
       "    <tr>\n",
       "      <th>2</th>\n",
       "      <td>facebook_ads</td>\n",
       "      <td>20.1</td>\n",
       "    </tr>\n",
       "    <tr>\n",
       "      <th>3</th>\n",
       "      <td>youtube_channel_reklama</td>\n",
       "      <td>19.8</td>\n",
       "    </tr>\n",
       "  </tbody>\n",
       "</table>\n",
       "</div>"
      ],
      "text/plain": [
       "                    source  % привлеченных игроков\n",
       "0            yandex_direct                    35.5\n",
       "1    instagram_new_adverts                    24.7\n",
       "2             facebook_ads                    20.1\n",
       "3  youtube_channel_reklama                    19.8"
      ]
     },
     "execution_count": 104,
     "metadata": {},
     "output_type": "execute_result"
    }
   ],
   "source": [
    "x= (df.groupby('source')['user_id'].nunique().sort_values(ascending = False) / df['user_id'].nunique() * 100).round(1).reset_index(name = '% привлеченных игроков')\n",
    "x"
   ]
  },
  {
   "cell_type": "code",
   "execution_count": 105,
   "id": "4e76d084",
   "metadata": {},
   "outputs": [
    {
     "data": {
      "image/png": "[encoded data removed]",
      "text/plain": [
       "<Figure size 720x360 with 1 Axes>"
      ]
     },
     "metadata": {
      "needs_background": "light"
     },
     "output_type": "display_data"
    }
   ],
   "source": [
    "x.plot.barh(figsize=(10,5), x='source' )\n",
    "plt.title('Процент игроков по каналам привлечения', fontsize=18, color='blue')\n",
    "plt.ylabel('Каналы')\n",
    "plt.xlabel('Количество заведений')\n",
    "warnings.filterwarnings('ignore')"
   ]
  },
  {
   "cell_type": "markdown",
   "id": "1a6f49d2",
   "metadata": {},
   "source": [
    "Самая большая доля игроков была привлечена с помощью канала yandex_direct (35,5%), на втором месте instagram_new_adverts (24,7%) и два остальных канала имеют примерно одинаковую долю в 20% (facebook_ads и youtube_channel_reklama)."
   ]
  },
  {
   "cell_type": "markdown",
   "id": "fb679e6a",
   "metadata": {},
   "source": [
    " **Построим график по распределению количества построенных объектов по источникам.**"
   ]
  },
  {
   "cell_type": "code",
   "execution_count": 106,
   "id": "3470cdd5",
   "metadata": {
    "scrolled": false
   },
   "outputs": [
    {
     "data": {
      "text/html": [
       "<div>\n",
       "<style scoped>\n",
       "    .dataframe tbody tr th:only-of-type {\n",
       "        vertical-align: middle;\n",
       "    }\n",
       "\n",
       "    .dataframe tbody tr th {\n",
       "        vertical-align: top;\n",
       "    }\n",
       "\n",
       "    .dataframe thead th {\n",
       "        text-align: right;\n",
       "    }\n",
       "</style>\n",
       "<table border=\"1\" class=\"dataframe\">\n",
       "  <thead>\n",
       "    <tr style=\"text-align: right;\">\n",
       "      <th></th>\n",
       "      <th>source</th>\n",
       "      <th>count</th>\n",
       "    </tr>\n",
       "  </thead>\n",
       "  <tbody>\n",
       "    <tr>\n",
       "      <th>0</th>\n",
       "      <td>yandex_direct</td>\n",
       "      <td>45032</td>\n",
       "    </tr>\n",
       "    <tr>\n",
       "      <th>1</th>\n",
       "      <td>instagram_new_adverts</td>\n",
       "      <td>31815</td>\n",
       "    </tr>\n",
       "    <tr>\n",
       "      <th>2</th>\n",
       "      <td>facebook_ads</td>\n",
       "      <td>26131</td>\n",
       "    </tr>\n",
       "    <tr>\n",
       "      <th>3</th>\n",
       "      <td>youtube_channel_reklama</td>\n",
       "      <td>24978</td>\n",
       "    </tr>\n",
       "  </tbody>\n",
       "</table>\n",
       "</div>"
      ],
      "text/plain": [
       "                    source  count\n",
       "0            yandex_direct  45032\n",
       "1    instagram_new_adverts  31815\n",
       "2             facebook_ads  26131\n",
       "3  youtube_channel_reklama  24978"
      ]
     },
     "execution_count": 106,
     "metadata": {},
     "output_type": "execute_result"
    }
   ],
   "source": [
    "build_cnt= df.groupby(by='source').agg({'building_type':'count'}).sort_values(by='building_type', ascending=False).reset_index()\n",
    "build_cnt.columns = ['source', 'count']\n",
    "build_cnt"
   ]
  },
  {
   "cell_type": "code",
   "execution_count": 107,
   "id": "8be199b9",
   "metadata": {},
   "outputs": [
    {
     "data": {
      "image/png": "[encoded data removed]",
      "text/plain": [
       "<Figure size 432x288 with 1 Axes>"
      ]
     },
     "metadata": {
      "needs_background": "light"
     },
     "output_type": "display_data"
    }
   ],
   "source": [
    "# Рисуем график распределения количества построенных объектов по источникам\n",
    "plt.title('Распределение построенных объектов по источникам') \n",
    "sns.barplot(x='count', y='source', data=build_cnt).set(ylabel='Источник', xlabel='Количество')\n",
    "plt.show()"
   ]
  },
  {
   "cell_type": "markdown",
   "id": "b122ef8e",
   "metadata": {},
   "source": [
    "Количество построенных зданий, достаточно важный показатель доходности каналов, т.к., чем больше объектов строи игрок, тем больше приносит денег компании. Как видно из графика, наибольшее количество объектов было построено игроками, привлеченными yandex_direct (порядка 45 тыс.), меньшее количество - источником instagram_new_adverts (около 32 тыс) и на третьем месте - facebook_ads (26 тыс.) и youtube_channel_reklama (25 тыс.)."
   ]
  },
  {
   "cell_type": "markdown",
   "id": "cb778433",
   "metadata": {},
   "source": [
    "Также посмотрим, какой тип игроков строит зданий больше, чтобы понять, каких игроков нужно больше привлекать."
   ]
  },
  {
   "cell_type": "code",
   "execution_count": 108,
   "id": "35748963",
   "metadata": {},
   "outputs": [
    {
     "data": {
      "text/html": [
       "<div>\n",
       "<style scoped>\n",
       "    .dataframe tbody tr th:only-of-type {\n",
       "        vertical-align: middle;\n",
       "    }\n",
       "\n",
       "    .dataframe tbody tr th {\n",
       "        vertical-align: top;\n",
       "    }\n",
       "\n",
       "    .dataframe thead th {\n",
       "        text-align: right;\n",
       "    }\n",
       "</style>\n",
       "<table border=\"1\" class=\"dataframe\">\n",
       "  <thead>\n",
       "    <tr style=\"text-align: right;\">\n",
       "      <th>player_type</th>\n",
       "      <th>source</th>\n",
       "      <th>not_finished</th>\n",
       "      <th>pve</th>\n",
       "      <th>pvp</th>\n",
       "    </tr>\n",
       "  </thead>\n",
       "  <tbody>\n",
       "    <tr>\n",
       "      <th>0</th>\n",
       "      <td>facebook_ads</td>\n",
       "      <td>14028</td>\n",
       "      <td>4946</td>\n",
       "      <td>7157</td>\n",
       "    </tr>\n",
       "    <tr>\n",
       "      <th>1</th>\n",
       "      <td>instagram_new_adverts</td>\n",
       "      <td>16437</td>\n",
       "      <td>6072</td>\n",
       "      <td>9306</td>\n",
       "    </tr>\n",
       "    <tr>\n",
       "      <th>2</th>\n",
       "      <td>yandex_direct</td>\n",
       "      <td>23891</td>\n",
       "      <td>7809</td>\n",
       "      <td>13332</td>\n",
       "    </tr>\n",
       "    <tr>\n",
       "      <th>3</th>\n",
       "      <td>youtube_channel_reklama</td>\n",
       "      <td>12814</td>\n",
       "      <td>4774</td>\n",
       "      <td>7390</td>\n",
       "    </tr>\n",
       "  </tbody>\n",
       "</table>\n",
       "</div>"
      ],
      "text/plain": [
       "player_type                   source  not_finished   pve    pvp\n",
       "0                       facebook_ads         14028  4946   7157\n",
       "1              instagram_new_adverts         16437  6072   9306\n",
       "2                      yandex_direct         23891  7809  13332\n",
       "3            youtube_channel_reklama         12814  4774   7390"
      ]
     },
     "execution_count": 108,
     "metadata": {},
     "output_type": "execute_result"
    }
   ],
   "source": [
    "df.pivot_table(index = 'source', columns= 'player_type', \n",
    "            values = 'building_type', \n",
    "            aggfunc =  'count').rename(columns={'building_type':'всего'}).reset_index()"
   ]
  },
  {
   "cell_type": "markdown",
   "id": "ec8d4160",
   "metadata": {},
   "source": [
    "Как видно из таблицы, больше всего зданий построили, не завершившие проект, по всем источникам, также воины строят больше, чем строители. В целом же по всем каналам наблюдается сходная картина."
   ]
  },
  {
   "cell_type": "markdown",
   "id": "5da5c379",
   "metadata": {},
   "source": [
    "Для наглядности построим график."
   ]
  },
  {
   "cell_type": "code",
   "execution_count": 109,
   "id": "0c31bf67",
   "metadata": {
    "scrolled": true
   },
   "outputs": [
    {
     "data": {
      "image/png": "[encoded data removed]",
      "text/plain": [
       "<Figure size 1080x360 with 1 Axes>"
      ]
     },
     "metadata": {
      "needs_background": "light"
     },
     "output_type": "display_data"
    }
   ],
   "source": [
    "builders = df.pivot_table(index = 'player_type', columns= 'source', \n",
    "            values = 'building_type', \n",
    "            aggfunc =  'count')\n",
    "sorting = builders.sum().sort_values(ascending=False)\n",
    "builders[sorting.index].T.plot.bar( figsize=(15,5))\n",
    "plt.title('Количество построенных объектов по типам игроков и каналам', fontsize=18)\n",
    "plt.xlabel('') \n",
    "plt.ylabel('')\n",
    "warnings.filterwarnings('ignore')"
   ]
  },
  {
   "cell_type": "markdown",
   "id": "7c6843d0",
   "metadata": {},
   "source": [
    " <div class=\"alert alert-info\">  Посчитаем среднее количество зданий по источникам."
   ]
  },
  {
   "cell_type": "markdown",
   "id": "76a1d76e",
   "metadata": {},
   "source": [
    "Посчитаем количество построенных зданий на игрока."
   ]
  },
  {
   "cell_type": "code",
   "execution_count": 110,
   "id": "76b1c895",
   "metadata": {
    "scrolled": true
   },
   "outputs": [
    {
     "data": {
      "text/html": [
       "<div>\n",
       "<style scoped>\n",
       "    .dataframe tbody tr th:only-of-type {\n",
       "        vertical-align: middle;\n",
       "    }\n",
       "\n",
       "    .dataframe tbody tr th {\n",
       "        vertical-align: top;\n",
       "    }\n",
       "\n",
       "    .dataframe thead th {\n",
       "        text-align: right;\n",
       "    }\n",
       "</style>\n",
       "<table border=\"1\" class=\"dataframe\">\n",
       "  <thead>\n",
       "    <tr style=\"text-align: right;\">\n",
       "      <th></th>\n",
       "      <th>user_id</th>\n",
       "      <th>event</th>\n",
       "    </tr>\n",
       "  </thead>\n",
       "  <tbody>\n",
       "    <tr>\n",
       "      <th>0</th>\n",
       "      <td>0001f83c-c6ac-4621-b7f0-8a28b283ac30</td>\n",
       "      <td>13</td>\n",
       "    </tr>\n",
       "    <tr>\n",
       "      <th>1</th>\n",
       "      <td>00151b4f-ba38-44a8-a650-d7cf130a0105</td>\n",
       "      <td>9</td>\n",
       "    </tr>\n",
       "    <tr>\n",
       "      <th>2</th>\n",
       "      <td>001aaea6-3d14-43f1-8ca8-7f48820f17aa</td>\n",
       "      <td>4</td>\n",
       "    </tr>\n",
       "    <tr>\n",
       "      <th>3</th>\n",
       "      <td>001d39dc-366c-4021-9604-6a3b9ff01e25</td>\n",
       "      <td>8</td>\n",
       "    </tr>\n",
       "    <tr>\n",
       "      <th>4</th>\n",
       "      <td>002f508f-67b6-479f-814b-b05f00d4e995</td>\n",
       "      <td>12</td>\n",
       "    </tr>\n",
       "    <tr>\n",
       "      <th>...</th>\n",
       "      <td>...</td>\n",
       "      <td>...</td>\n",
       "    </tr>\n",
       "    <tr>\n",
       "      <th>13571</th>\n",
       "      <td>ffef4fed-164c-40e1-bde1-3980f76d0fb5</td>\n",
       "      <td>9</td>\n",
       "    </tr>\n",
       "    <tr>\n",
       "      <th>13572</th>\n",
       "      <td>fffab3da-da0e-4e30-ae62-10d0a2e24a4e</td>\n",
       "      <td>16</td>\n",
       "    </tr>\n",
       "    <tr>\n",
       "      <th>13573</th>\n",
       "      <td>fffb626c-5ab6-47c9-8113-2062a2f18494</td>\n",
       "      <td>9</td>\n",
       "    </tr>\n",
       "    <tr>\n",
       "      <th>13574</th>\n",
       "      <td>ffff194a-56b7-4c12-860d-3485242ae7f5</td>\n",
       "      <td>7</td>\n",
       "    </tr>\n",
       "    <tr>\n",
       "      <th>13575</th>\n",
       "      <td>ffff69cc-fec1-4fd3-9f98-93be1112a6b8</td>\n",
       "      <td>12</td>\n",
       "    </tr>\n",
       "  </tbody>\n",
       "</table>\n",
       "<p>13576 rows × 2 columns</p>\n",
       "</div>"
      ],
      "text/plain": [
       "                                    user_id  event\n",
       "0      0001f83c-c6ac-4621-b7f0-8a28b283ac30     13\n",
       "1      00151b4f-ba38-44a8-a650-d7cf130a0105      9\n",
       "2      001aaea6-3d14-43f1-8ca8-7f48820f17aa      4\n",
       "3      001d39dc-366c-4021-9604-6a3b9ff01e25      8\n",
       "4      002f508f-67b6-479f-814b-b05f00d4e995     12\n",
       "...                                     ...    ...\n",
       "13571  ffef4fed-164c-40e1-bde1-3980f76d0fb5      9\n",
       "13572  fffab3da-da0e-4e30-ae62-10d0a2e24a4e     16\n",
       "13573  fffb626c-5ab6-47c9-8113-2062a2f18494      9\n",
       "13574  ffff194a-56b7-4c12-860d-3485242ae7f5      7\n",
       "13575  ffff69cc-fec1-4fd3-9f98-93be1112a6b8     12\n",
       "\n",
       "[13576 rows x 2 columns]"
      ]
     },
     "execution_count": 110,
     "metadata": {},
     "output_type": "execute_result"
    }
   ],
   "source": [
    "cnt=df.query('event==\"building\"').groupby('user_id').agg({'event':'count'}).reset_index()\n",
    "cnt"
   ]
  },
  {
   "cell_type": "code",
   "execution_count": 111,
   "id": "6d2dc9a6",
   "metadata": {},
   "outputs": [
    {
     "data": {
      "text/html": [
       "<div>\n",
       "<style scoped>\n",
       "    .dataframe tbody tr th:only-of-type {\n",
       "        vertical-align: middle;\n",
       "    }\n",
       "\n",
       "    .dataframe tbody tr th {\n",
       "        vertical-align: top;\n",
       "    }\n",
       "\n",
       "    .dataframe thead th {\n",
       "        text-align: right;\n",
       "    }\n",
       "</style>\n",
       "<table border=\"1\" class=\"dataframe\">\n",
       "  <thead>\n",
       "    <tr style=\"text-align: right;\">\n",
       "      <th></th>\n",
       "      <th>user_id</th>\n",
       "      <th>cnt_build</th>\n",
       "      <th>source</th>\n",
       "    </tr>\n",
       "  </thead>\n",
       "  <tbody>\n",
       "    <tr>\n",
       "      <th>0</th>\n",
       "      <td>0001f83c-c6ac-4621-b7f0-8a28b283ac30</td>\n",
       "      <td>13</td>\n",
       "      <td>facebook_ads</td>\n",
       "    </tr>\n",
       "    <tr>\n",
       "      <th>1</th>\n",
       "      <td>00151b4f-ba38-44a8-a650-d7cf130a0105</td>\n",
       "      <td>9</td>\n",
       "      <td>yandex_direct</td>\n",
       "    </tr>\n",
       "    <tr>\n",
       "      <th>2</th>\n",
       "      <td>001aaea6-3d14-43f1-8ca8-7f48820f17aa</td>\n",
       "      <td>4</td>\n",
       "      <td>youtube_channel_reklama</td>\n",
       "    </tr>\n",
       "    <tr>\n",
       "      <th>3</th>\n",
       "      <td>001d39dc-366c-4021-9604-6a3b9ff01e25</td>\n",
       "      <td>8</td>\n",
       "      <td>instagram_new_adverts</td>\n",
       "    </tr>\n",
       "    <tr>\n",
       "      <th>4</th>\n",
       "      <td>002f508f-67b6-479f-814b-b05f00d4e995</td>\n",
       "      <td>12</td>\n",
       "      <td>facebook_ads</td>\n",
       "    </tr>\n",
       "    <tr>\n",
       "      <th>...</th>\n",
       "      <td>...</td>\n",
       "      <td>...</td>\n",
       "      <td>...</td>\n",
       "    </tr>\n",
       "    <tr>\n",
       "      <th>13571</th>\n",
       "      <td>ffef4fed-164c-40e1-bde1-3980f76d0fb5</td>\n",
       "      <td>9</td>\n",
       "      <td>instagram_new_adverts</td>\n",
       "    </tr>\n",
       "    <tr>\n",
       "      <th>13572</th>\n",
       "      <td>fffab3da-da0e-4e30-ae62-10d0a2e24a4e</td>\n",
       "      <td>16</td>\n",
       "      <td>facebook_ads</td>\n",
       "    </tr>\n",
       "    <tr>\n",
       "      <th>13573</th>\n",
       "      <td>fffb626c-5ab6-47c9-8113-2062a2f18494</td>\n",
       "      <td>9</td>\n",
       "      <td>yandex_direct</td>\n",
       "    </tr>\n",
       "    <tr>\n",
       "      <th>13574</th>\n",
       "      <td>ffff194a-56b7-4c12-860d-3485242ae7f5</td>\n",
       "      <td>7</td>\n",
       "      <td>instagram_new_adverts</td>\n",
       "    </tr>\n",
       "    <tr>\n",
       "      <th>13575</th>\n",
       "      <td>ffff69cc-fec1-4fd3-9f98-93be1112a6b8</td>\n",
       "      <td>12</td>\n",
       "      <td>facebook_ads</td>\n",
       "    </tr>\n",
       "  </tbody>\n",
       "</table>\n",
       "<p>13576 rows × 3 columns</p>\n",
       "</div>"
      ],
      "text/plain": [
       "                                    user_id  cnt_build  \\\n",
       "0      0001f83c-c6ac-4621-b7f0-8a28b283ac30         13   \n",
       "1      00151b4f-ba38-44a8-a650-d7cf130a0105          9   \n",
       "2      001aaea6-3d14-43f1-8ca8-7f48820f17aa          4   \n",
       "3      001d39dc-366c-4021-9604-6a3b9ff01e25          8   \n",
       "4      002f508f-67b6-479f-814b-b05f00d4e995         12   \n",
       "...                                     ...        ...   \n",
       "13571  ffef4fed-164c-40e1-bde1-3980f76d0fb5          9   \n",
       "13572  fffab3da-da0e-4e30-ae62-10d0a2e24a4e         16   \n",
       "13573  fffb626c-5ab6-47c9-8113-2062a2f18494          9   \n",
       "13574  ffff194a-56b7-4c12-860d-3485242ae7f5          7   \n",
       "13575  ffff69cc-fec1-4fd3-9f98-93be1112a6b8         12   \n",
       "\n",
       "                        source  \n",
       "0                 facebook_ads  \n",
       "1                yandex_direct  \n",
       "2      youtube_channel_reklama  \n",
       "3        instagram_new_adverts  \n",
       "4                 facebook_ads  \n",
       "...                        ...  \n",
       "13571    instagram_new_adverts  \n",
       "13572             facebook_ads  \n",
       "13573            yandex_direct  \n",
       "13574    instagram_new_adverts  \n",
       "13575             facebook_ads  \n",
       "\n",
       "[13576 rows x 3 columns]"
      ]
     },
     "execution_count": 111,
     "metadata": {},
     "output_type": "execute_result"
    }
   ],
   "source": [
    "cnt = cnt.merge(source, how = 'left', on = 'user_id')\n",
    "cnt= cnt.rename(columns={'event':'cnt_build'})\n",
    "cnt"
   ]
  },
  {
   "cell_type": "markdown",
   "id": "82f7a680",
   "metadata": {},
   "source": [
    "Посчитаем медианное значение построенных зданий по источникам."
   ]
  },
  {
   "cell_type": "code",
   "execution_count": 112,
   "id": "e2221862",
   "metadata": {
    "scrolled": true
   },
   "outputs": [
    {
     "data": {
      "text/html": [
       "<div>\n",
       "<style scoped>\n",
       "    .dataframe tbody tr th:only-of-type {\n",
       "        vertical-align: middle;\n",
       "    }\n",
       "\n",
       "    .dataframe tbody tr th {\n",
       "        vertical-align: top;\n",
       "    }\n",
       "\n",
       "    .dataframe thead th {\n",
       "        text-align: right;\n",
       "    }\n",
       "</style>\n",
       "<table border=\"1\" class=\"dataframe\">\n",
       "  <thead>\n",
       "    <tr style=\"text-align: right;\">\n",
       "      <th></th>\n",
       "      <th>cnt_build</th>\n",
       "    </tr>\n",
       "    <tr>\n",
       "      <th>source</th>\n",
       "      <th></th>\n",
       "    </tr>\n",
       "  </thead>\n",
       "  <tbody>\n",
       "    <tr>\n",
       "      <th>facebook_ads</th>\n",
       "      <td>10.0</td>\n",
       "    </tr>\n",
       "    <tr>\n",
       "      <th>instagram_new_adverts</th>\n",
       "      <td>10.0</td>\n",
       "    </tr>\n",
       "    <tr>\n",
       "      <th>yandex_direct</th>\n",
       "      <td>10.0</td>\n",
       "    </tr>\n",
       "    <tr>\n",
       "      <th>youtube_channel_reklama</th>\n",
       "      <td>10.0</td>\n",
       "    </tr>\n",
       "  </tbody>\n",
       "</table>\n",
       "</div>"
      ],
      "text/plain": [
       "                         cnt_build\n",
       "source                            \n",
       "facebook_ads                  10.0\n",
       "instagram_new_adverts         10.0\n",
       "yandex_direct                 10.0\n",
       "youtube_channel_reklama       10.0"
      ]
     },
     "execution_count": 112,
     "metadata": {},
     "output_type": "execute_result"
    }
   ],
   "source": [
    "cnt.groupby('source').agg({'cnt_build':'median'}) "
   ]
  },
  {
   "cell_type": "code",
   "execution_count": 113,
   "id": "a974ccd3",
   "metadata": {
    "scrolled": true
   },
   "outputs": [
    {
     "data": {
      "text/plain": [
       "Text(0, 0.5, '')"
      ]
     },
     "execution_count": 113,
     "metadata": {},
     "output_type": "execute_result"
    },
    {
     "data": {
      "image/png": "[encoded data removed]",
      "text/plain": [
       "<Figure size 720x576 with 1 Axes>"
      ]
     },
     "metadata": {
      "needs_background": "light"
     },
     "output_type": "display_data"
    }
   ],
   "source": [
    "# построим диграмму размаха\n",
    "plt.figure(figsize=(10, 8))\n",
    "ax = sns.boxplot(x='source', y='cnt_build', data=cnt) \n",
    "ax.set_title('Распределение количества построенных объектов по источникам', fontsize=18)\n",
    "ax.set_xlabel('')\n",
    "ax.set_ylabel('')"
   ]
  },
  {
   "cell_type": "markdown",
   "id": "f02d5b6c",
   "metadata": {},
   "source": [
    "Согласно графику, медианное значение не различается по источникам, поэтому, видимо, количество построенных объектов каждым игроком не зависит от источника привлечения."
   ]
  },
  {
   "cell_type": "markdown",
   "id": "7aabadbc",
   "metadata": {},
   "source": [
    "Посмотрим соотношение типов игроков (pve (строители), pvp (войны), not_finished (не завершившие уровень) по каналам привлечения. "
   ]
  },
  {
   "cell_type": "code",
   "execution_count": 114,
   "id": "c424e46e",
   "metadata": {},
   "outputs": [
    {
     "data": {
      "text/plain": [
       "source                   player_type \n",
       "facebook_ads             not_finished    57.813646\n",
       "                         pve             14.343360\n",
       "                         pvp             27.842993\n",
       "instagram_new_adverts    not_finished    56.199582\n",
       "                         pve             14.221691\n",
       "                         pvp             29.578727\n",
       "yandex_direct            not_finished    57.608470\n",
       "                         pve             12.871082\n",
       "                         pvp             29.520448\n",
       "youtube_channel_reklama  not_finished    56.850335\n",
       "                         pve             14.110201\n",
       "                         pvp             29.039464\n",
       "Name: user_id, dtype: float64"
      ]
     },
     "execution_count": 114,
     "metadata": {},
     "output_type": "execute_result"
    }
   ],
   "source": [
    "(df.groupby(['source', 'player_type'])['user_id'].nunique()/ df.groupby('source')['user_id'].nunique() * 100) "
   ]
  },
  {
   "cell_type": "markdown",
   "id": "14930f96",
   "metadata": {},
   "source": [
    "В данной таблице необходимо обратить внимание на те источники, которые привлекли наибольшее количество игроков, не прошедших уровень, однако, у всех источников процент таких участников примерно одинаковый не более 60% (порядка 56-57%)."
   ]
  },
  {
   "cell_type": "markdown",
   "id": "017493e9",
   "metadata": {},
   "source": [
    "Посмотрим соотношение только по типам игроков, завершивших уровень (pve, pvp) по каналам привлечения. Для начала пропишем условие, при котором можно считать, что игрок завершил первый уровень, это условие понадобится в дальнейшем анализе."
   ]
  },
  {
   "cell_type": "code",
   "execution_count": 115,
   "id": "3c16d0c3",
   "metadata": {},
   "outputs": [],
   "source": [
    "finish_conds = (df['player_type'] == \"pve\") | (df['player_type'] == \"pvp\")"
   ]
  },
  {
   "cell_type": "code",
   "execution_count": 116,
   "id": "245302a1",
   "metadata": {},
   "outputs": [
    {
     "data": {
      "text/plain": [
       "source                   player_type\n",
       "facebook_ads             pve            34.000000\n",
       "                         pvp            66.000000\n",
       "instagram_new_adverts    pve            32.469304\n",
       "                         pvp            67.530696\n",
       "yandex_direct            pve            30.362390\n",
       "                         pvp            69.637610\n",
       "youtube_channel_reklama  pve            32.700604\n",
       "                         pvp            67.299396\n",
       "Name: user_id, dtype: float64"
      ]
     },
     "execution_count": 116,
     "metadata": {},
     "output_type": "execute_result"
    }
   ],
   "source": [
    "(df[finish_conds].groupby(['source', 'player_type'])['user_id'].nunique()/ df[finish_conds].groupby('source')['user_id'].nunique() * 100) "
   ]
  },
  {
   "cell_type": "markdown",
   "id": "292a750c",
   "metadata": {},
   "source": [
    "По соотношению воителей и строителей источники также сильно не разнятся, тем не менее, можно отметить, что самое большое количество воителей у yandex_direct (69%) и самое меньшее facebook_ads (67%). Если по логике игры воители приносят больше доходов приложению, тогда yandex_direct как канал по привлечению игроков выглядит наиболее выигрышно. В целом игроков воителей значимо больше - примерное соотношение: 30 на 70. "
   ]
  },
  {
   "cell_type": "markdown",
   "id": "12f81f75",
   "metadata": {},
   "source": [
    "Для наглядности построим график по количеству разных типов игроков по каналам."
   ]
  },
  {
   "cell_type": "code",
   "execution_count": 117,
   "id": "2e004a9c",
   "metadata": {
    "scrolled": true
   },
   "outputs": [
    {
     "data": {
      "text/html": [
       "<div>\n",
       "<style scoped>\n",
       "    .dataframe tbody tr th:only-of-type {\n",
       "        vertical-align: middle;\n",
       "    }\n",
       "\n",
       "    .dataframe tbody tr th {\n",
       "        vertical-align: top;\n",
       "    }\n",
       "\n",
       "    .dataframe thead th {\n",
       "        text-align: right;\n",
       "    }\n",
       "</style>\n",
       "<table border=\"1\" class=\"dataframe\">\n",
       "  <thead>\n",
       "    <tr style=\"text-align: right;\">\n",
       "      <th>player_type</th>\n",
       "      <th>not_finished</th>\n",
       "      <th>pve</th>\n",
       "      <th>pvp</th>\n",
       "    </tr>\n",
       "    <tr>\n",
       "      <th>source</th>\n",
       "      <th></th>\n",
       "      <th></th>\n",
       "      <th></th>\n",
       "    </tr>\n",
       "  </thead>\n",
       "  <tbody>\n",
       "    <tr>\n",
       "      <th>facebook_ads</th>\n",
       "      <td>14028</td>\n",
       "      <td>5728</td>\n",
       "      <td>7916</td>\n",
       "    </tr>\n",
       "    <tr>\n",
       "      <th>instagram_new_adverts</th>\n",
       "      <td>16437</td>\n",
       "      <td>7024</td>\n",
       "      <td>10296</td>\n",
       "    </tr>\n",
       "    <tr>\n",
       "      <th>yandex_direct</th>\n",
       "      <td>23891</td>\n",
       "      <td>9049</td>\n",
       "      <td>14754</td>\n",
       "    </tr>\n",
       "    <tr>\n",
       "      <th>youtube_channel_reklama</th>\n",
       "      <td>12814</td>\n",
       "      <td>5532</td>\n",
       "      <td>8170</td>\n",
       "    </tr>\n",
       "  </tbody>\n",
       "</table>\n",
       "</div>"
      ],
      "text/plain": [
       "player_type              not_finished   pve    pvp\n",
       "source                                            \n",
       "facebook_ads                    14028  5728   7916\n",
       "instagram_new_adverts           16437  7024  10296\n",
       "yandex_direct                   23891  9049  14754\n",
       "youtube_channel_reklama         12814  5532   8170"
      ]
     },
     "execution_count": 117,
     "metadata": {},
     "output_type": "execute_result"
    }
   ],
   "source": [
    "players = df.pivot_table(index = 'source', columns ='player_type', values='user_id',  aggfunc='count')\n",
    "players\n"
   ]
  },
  {
   "cell_type": "code",
   "execution_count": 118,
   "id": "e708c553",
   "metadata": {},
   "outputs": [
    {
     "data": {
      "image/png": "[encoded data removed]",
      "text/plain": [
       "<Figure size 1080x360 with 1 Axes>"
      ]
     },
     "metadata": {
      "needs_background": "light"
     },
     "output_type": "display_data"
    }
   ],
   "source": [
    "sorting = players.sum().sort_values(ascending=False)\n",
    "players[sorting.index].T.plot.barh(stacked=True, figsize=(15,5))\n",
    "plt.title('Количество игроков по типам и источникам', fontsize=18)\n",
    "plt.xlabel('Количество игроков') \n",
    "plt.ylabel('Типы игроков')\n",
    "warnings.filterwarnings('ignore')"
   ]
  },
  {
   "cell_type": "markdown",
   "id": "09a53c7e",
   "metadata": {},
   "source": [
    "По графику можно видеть, что не завершивших больше всего по типу игроков."
   ]
  },
  {
   "cell_type": "markdown",
   "id": "535bdddb",
   "metadata": {},
   "source": [
    "Посмотрим на **время, которое затрачивается на игру**, и как оно разнится в поведении игроков по каналам."
   ]
  },
  {
   "cell_type": "code",
   "execution_count": 119,
   "id": "d5b55f99",
   "metadata": {
    "scrolled": false
   },
   "outputs": [
    {
     "data": {
      "text/plain": [
       "count    13576.000000\n",
       "mean       256.220021\n",
       "std        104.413001\n",
       "min          0.000000\n",
       "25%        185.000000\n",
       "50%        253.000000\n",
       "75%        319.250000\n",
       "max        742.000000\n",
       "Name: tig_h, dtype: float64"
      ]
     },
     "execution_count": 119,
     "metadata": {},
     "output_type": "execute_result"
    }
   ],
   "source": [
    "time['tig_h'].describe()"
   ]
  },
  {
   "cell_type": "code",
   "execution_count": 120,
   "id": "f08d3734",
   "metadata": {},
   "outputs": [
    {
     "data": {
      "text/plain": [
       "count    13576.000000\n",
       "mean        10.675840\n",
       "std          4.350855\n",
       "min          0.000000\n",
       "25%          7.700000\n",
       "50%         10.500000\n",
       "75%         13.300000\n",
       "max         30.900000\n",
       "Name: days, dtype: float64"
      ]
     },
     "execution_count": 120,
     "metadata": {},
     "output_type": "execute_result"
    }
   ],
   "source": [
    "time['days'].describe()"
   ]
  },
  {
   "cell_type": "markdown",
   "id": "6ad8f39c",
   "metadata": {},
   "source": [
    "Среднее время, проводимое в игре, составляет 10 дней 16 часов (256 часов, 10,6 дней). Максимальное количество дней за игрой - 30 дней (742 часа)."
   ]
  },
  {
   "cell_type": "markdown",
   "id": "0dbccd7f",
   "metadata": {},
   "source": [
    "Посмотрим на распределение времени, затраченного на игру."
   ]
  },
  {
   "cell_type": "code",
   "execution_count": null,
   "id": "be862b7a",
   "metadata": {},
   "outputs": [],
   "source": [
    "sns.distplot(time['tig_h'])\n",
    "plt.title('Распределение времени в игре', fontsize=15)\n",
    "plt.xlabel('Количество часов') \n",
    "plt.ylabel('Частота')\n",
    "warnings.filterwarnings('ignore')\n",
    "plt.show()"
   ]
  },
  {
   "cell_type": "markdown",
   "id": "4a002b8e",
   "metadata": {},
   "source": [
    "Самое большое количество игроков провели в игре примерно от 200 до 400 часов.\n",
    "  "
   ]
  },
  {
   "cell_type": "markdown",
   "id": "cc1901fe",
   "metadata": {},
   "source": [
    "Посмотрим среднее значение прохождения уровня у завершивших уровень в целом, не завершивших, строителей и воинов."
   ]
  },
  {
   "cell_type": "code",
   "execution_count": null,
   "id": "6d6e0fc5",
   "metadata": {},
   "outputs": [],
   "source": [
    "df[finish_conds]['tig_h'].mean()"
   ]
  },
  {
   "cell_type": "code",
   "execution_count": null,
   "id": "6fd75569",
   "metadata": {},
   "outputs": [],
   "source": [
    "df[~finish_conds]['tig_h'].mean()"
   ]
  },
  {
   "cell_type": "code",
   "execution_count": null,
   "id": "8b134bb6",
   "metadata": {},
   "outputs": [],
   "source": [
    "df.query('player_type== \"pve\"')['tig_h'].mean()"
   ]
  },
  {
   "cell_type": "code",
   "execution_count": null,
   "id": "67876327",
   "metadata": {
    "scrolled": true
   },
   "outputs": [],
   "source": [
    "df.query('player_type== \"pvp\"')['tig_h'].mean()"
   ]
  },
  {
   "cell_type": "markdown",
   "id": "60a217b4",
   "metadata": {},
   "source": [
    "Среднее количество времени в игре отличается по стратегии игрока и факта завершения уровня: у строителей (pve) это время больше на порядка 44 часа, и время в игре больше у, завершивших уровень, примерно на 32 часа. Гипотеза о связи стратегии игры с временем будет проверена позже. В целом же можно сделать вывод, что более выигрышно привлекать в игру тех, кто проходит первый уровень и выбирает стратегию строителя. И, значит, нужно обратить внимание отделу маркетинга на те иточники, которые привлекают таких игроков."
   ]
  },
  {
   "cell_type": "markdown",
   "id": "94797e0c",
   "metadata": {},
   "source": [
    "### **Маркетинг**\n",
    "   \n",
    "\n"
   ]
  },
  {
   "cell_type": "markdown",
   "id": "9a88d0db",
   "metadata": {},
   "source": [
    "Проанализируем **таблицу с расходами на источники**."
   ]
  },
  {
   "cell_type": "markdown",
   "id": "8ed442af",
   "metadata": {},
   "source": [
    "Посмотрим на общую стоимость кликов для каждого источника за весь период.\n"
   ]
  },
  {
   "cell_type": "code",
   "execution_count": null,
   "id": "fac0dfe0",
   "metadata": {
    "scrolled": true
   },
   "outputs": [],
   "source": [
    "costs_pl = costs.groupby('source').agg({'cost': 'sum'}).reset_index().merge(df.groupby('source')['user_id'].nunique().reset_index(), on = 'source')\n",
    "costs_pl"
   ]
  },
  {
   "cell_type": "markdown",
   "id": "3932b12b",
   "metadata": {},
   "source": [
    "Самый дорогой источник рекламы - yandex_direct (2233), самый дешевый - youtube_channel_reklama, такие источники facebook_ads и instagram_new_adverts имеют примерно одинаковые значения (219 и 2160).\n",
    "\n",
    "<br> Рассчитаем **CAC** (стоимость привлечения клиентов)."
   ]
  },
  {
   "cell_type": "code",
   "execution_count": null,
   "id": "de824f7a",
   "metadata": {
    "scrolled": false
   },
   "outputs": [],
   "source": [
    "costs_pl['cac'] = (costs_pl['cost'] / costs_pl['user_id']).round(2)\n",
    "costs_pl"
   ]
  },
  {
   "cell_type": "code",
   "execution_count": null,
   "id": "14765c4c",
   "metadata": {
    "scrolled": true
   },
   "outputs": [],
   "source": [
    "ax = plt.subplots(figsize=(6,4))\n",
    "ax = sns.barplot(x = 'source', y = 'cac', data=costs_pl)\n",
    "ax.set_title('CAC по источникам', fontsize=15)\n",
    "ax.set_xlabel ('источник', fontsize=10)\n",
    "ax.set_ylabel ('CAC', fontsize=10)\n",
    "plt.xticks(rotation=15)\n",
    "warnings.filterwarnings('ignore')"
   ]
  },
  {
   "cell_type": "markdown",
   "id": "89b2e5ba",
   "metadata": {},
   "source": [
    "Самый большой CAC у facebook_ads (0,79), чуть меньше у instagram_new_adverts (0,65) и самый низкий - у youtube_channel_reklama. Таким образом, самым дорогим источником привлечения игроков является facebook_ads, хотя он не привлекает самое большое количество игроков."
   ]
  },
  {
   "cell_type": "markdown",
   "id": "52707389",
   "metadata": {},
   "source": [
    "## **Проверка гипотез**"
   ]
  },
  {
   "cell_type": "markdown",
   "id": "8d484eb4",
   "metadata": {},
   "source": [
    "**Первая гипотеза**\n",
    "<br>\n",
    "Время завершения уровня различается в зависимости способа прохождения: через реализацию проекта и  победу над первым игроком\n",
    "- время завершения уровня не различается от способа прохождения уровня (нулевая гипотеза H0)\n",
    "- время завершения уровня различается от способа прохождения уровня (альтернативная гипотеза H1)."
   ]
  },
  {
   "cell_type": "code",
   "execution_count": null,
   "id": "7b475ca6",
   "metadata": {},
   "outputs": [],
   "source": [
    "# используем метод scipy.stats.ttest_ind()\n",
    "alpha = .05\n",
    "results = st.ttest_ind(\n",
    "   df[df.player_type == 'pve'].groupby('user_id')['tig_h'].max(), \n",
    "    df[df.player_type == 'pvp'].groupby('user_id')['tig_h'].max(), \n",
    "    equal_var = False)\n",
    "\n",
    "print('p-значение:', results.pvalue)\n",
    "\n",
    "if (results.pvalue < alpha):\n",
    "    print(\"Отвергаем нулевую гипотезу\")\n",
    "else:\n",
    "    print(\"Не получилось отвергнуть нулевую гипотезу\") "
   ]
  },
  {
   "cell_type": "markdown",
   "id": "44dbd2db",
   "metadata": {},
   "source": [
    "Проверка гипотезы показала, что время завершения первого уровня зависит от способа прохождения уровня."
   ]
  },
  {
   "cell_type": "markdown",
   "id": "fdfa5641",
   "metadata": {},
   "source": [
    "**Вторая гипотеза**\n",
    "<br>\n",
    "Время завершения уровня различается от рекламного канала: \n",
    "- время завершения уровня игроков, пришедших с yandex_direct, не различается от времени, привлеченных  каналом youtube_channel_reklama (нулевая гипотеза H0)\n",
    "- время завершения уровня игроков, пришедших с yandex_direct, различается от времени, привлеченных  каналом youtube_channel_reklama (альтернативная гипотеза H1)."
   ]
  },
  {
   "cell_type": "code",
   "execution_count": null,
   "id": "68197814",
   "metadata": {
    "scrolled": true
   },
   "outputs": [],
   "source": [
    "alpha = .05\n",
    "results = st.ttest_ind(\n",
    "   df[df.source == 'yandex_direct'].groupby('user_id')['tig_h'].max(), \n",
    "    df[df.source == 'youtube_channel_reklama'].groupby('user_id')['tig_h'].max(), \n",
    "    equal_var = False)\n",
    "\n",
    "print('p-значение:', results.pvalue)\n",
    "\n",
    "if (results.pvalue < alpha):\n",
    "    print(\"Отвергаем нулевую гипотезу\")\n",
    "else:\n",
    "    print(\"Не получилось отвергнуть нулевую гипотезу\") "
   ]
  },
  {
   "cell_type": "markdown",
   "id": "438d204d",
   "metadata": {},
   "source": [
    "Таким образом, время завершения уровня, пришедших с каналов yandex_direct и youtube_channel_reklama, различается."
   ]
  },
  {
   "cell_type": "markdown",
   "id": "f7665233",
   "metadata": {},
   "source": [
    "## **Общие выводы и рекомендации**"
   ]
  },
  {
   "cell_type": "markdown",
   "id": "5342de06",
   "metadata": {},
   "source": [
    "Мы проанализировали данные о рекламных источниках мобильного приложения, в ходе которого мы провели предобработку данных, в ходе которой были обнаружены пропущенные значения, которые появились механически из-за логики игры.  Также были добавлены новые столбцы, необходимые для исследования и скорректированы типы данных. В целом же анализ показал, что представленные данные достаточно качественные. В результате анализа были выявлены особенности поведения игроков по каналам.\n",
    "<br>\n",
    "\n",
    "*Выводы:*\n",
    "- Самая большая доля игроков была привлечена с помощью канала yandex_direct (35,5%), на втором месте instagram_new_adverts (24,7%) и два остальных канала имеют примерно одинаковую долю в 20% (facebook_ads и youtube_channel_reklama).\n",
    "- Количество построенных объектов каждым игроком не зависит от источника привлечения: медианное значение не различается (10 объектов).\n",
    "\n",
    "<br>\n",
    "\n",
    "*Типы игроков по стратегиям*\n",
    "- По типам стратегии поведения игроки распределены следующим образом: порядка 68% завершили уровень с помощью победы над соперником и 32% - посредством проекта. Вместе с тем, доля не завершивших первый уровень больше, чем завершивших уровень (57 и 43%).\n",
    "- По всем источникам доля игроков, не прошедших уровень, примерно одинаковая не более 60% (порядка 56-57%).\n",
    "- По соотношению воителей и строителей источники также сильно не разнятся, тем не менее, можно отметить, что самое большое количество воителей у yandex_direct (69%) и самое меньшее facebook_ads (67%). В целом игроков воителей значимо больше - примерное соотношение: 30 на 70.\n",
    "<br>\n",
    "\n",
    "*Времени, которое тратится на завершение игры*\n",
    "- Среднее время, проводимое в игре, составляет 10 дней 16 часов (256 часов, 10,6 дней), максимальное количество дней за игрой - 30 дней (742 часа).\n",
    "- Наибольшая часть игроков провели в игре примерно от 200 до 400 часов.\n",
    "- Среднее количество времени в игре отличается по стратегии игрока и факта завершения уровня: у строителей (pve) это время больше на порядка 44 часа, и время в игре больше у, завершивших уровень, примерно на 32 часа. \n",
    "<br>\n",
    "\n",
    "*Маркетинг*\n",
    "- По стоимости кликов для каждого источника за весь период, самым дорогим является - yandex_direct (2233), самым дешевым - youtube_channel_reklama, такие источники facebook_ads и instagram_new_adverts имеют примерно одинаковые значения (219 и 2160).\n",
    "- Самый большой CAC у facebook_ads (0,79), чуть меньше у instagram_new_adverts (0,65) и самый низкий - у youtube_channel_reklama. Таким образом, самым дорогим источником привлечения игроков по САС является facebook_ads, хотя он не привлекает самое большое количество игроков.\n",
    "<br>\n",
    "\n",
    "*Проверка гипотез*\n",
    "Проверка гипотезы показала, что время завершения первого уровня зависит от способа прохождения уровня.\n",
    "Таким образом, время завершения уровня, пришедших с каналов yandex_direct и youtube_channel_reklama, различается.\n"
   ]
  },
  {
   "cell_type": "markdown",
   "id": "77d1b003",
   "metadata": {},
   "source": [
    "**Рекомендации**\n",
    "Согласно проведенному анализу, наиболее перспективный канал привлечения yandex_direct, поскольку он в целом привлекает самое большее количество игроков. Кроме того, у данного канала второй самый низкий CAC, то есть он не является очень дорогим источником привлечения игроков.\n",
    "<br>\n",
    "\n",
    "Вместе с тем, следует, вероятно, отказаться от такого источника, как facebook_ads, так как он мало привлекат пользователей и является самым дорогим по привлечению игроков (самый высокий CAC).\n",
    "\n",
    "<br>\n",
    "В качестве второго перспективного канала для привлечения игроков, можно обозначить youtube_channel_reklama, поскольку он привлекает примерно такое же количество игроков, что и facebook_ads, но имеет самый низкий CAC, то есть является самым дешевым каналом."
   ]
  }
 ],
 "metadata": {
  "ExecuteTimeLog": [
   {
    "duration": 1546,
    "start_time": "2023-03-09T07:01:36.203Z"
   },
   {
    "duration": 75,
    "start_time": "2023-03-09T07:01:37.752Z"
   },
   {
    "duration": 1253,
    "start_time": "2023-03-09T07:08:24.865Z"
   },
   {
    "duration": 40,
    "start_time": "2023-03-09T07:08:26.120Z"
   },
   {
    "duration": 517,
    "start_time": "2023-03-09T07:08:26.162Z"
   },
   {
    "duration": 95,
    "start_time": "2023-03-09T07:08:26.681Z"
   },
   {
    "duration": 1401,
    "start_time": "2023-03-09T07:08:26.779Z"
   },
   {
    "duration": 0,
    "start_time": "2023-03-09T07:08:28.183Z"
   },
   {
    "duration": 0,
    "start_time": "2023-03-09T07:08:28.184Z"
   },
   {
    "duration": 0,
    "start_time": "2023-03-09T07:08:28.186Z"
   },
   {
    "duration": 0,
    "start_time": "2023-03-09T07:08:28.187Z"
   },
   {
    "duration": 0,
    "start_time": "2023-03-09T07:08:28.187Z"
   },
   {
    "duration": 0,
    "start_time": "2023-03-09T07:08:28.189Z"
   },
   {
    "duration": 0,
    "start_time": "2023-03-09T07:08:28.190Z"
   },
   {
    "duration": 0,
    "start_time": "2023-03-09T07:08:28.191Z"
   },
   {
    "duration": 0,
    "start_time": "2023-03-09T07:08:28.192Z"
   },
   {
    "duration": 0,
    "start_time": "2023-03-09T07:08:28.193Z"
   },
   {
    "duration": 0,
    "start_time": "2023-03-09T07:08:28.194Z"
   },
   {
    "duration": 0,
    "start_time": "2023-03-09T07:08:28.195Z"
   },
   {
    "duration": 0,
    "start_time": "2023-03-09T07:08:28.196Z"
   },
   {
    "duration": 0,
    "start_time": "2023-03-09T07:08:28.197Z"
   },
   {
    "duration": 0,
    "start_time": "2023-03-09T07:08:28.197Z"
   },
   {
    "duration": 0,
    "start_time": "2023-03-09T07:08:28.199Z"
   },
   {
    "duration": 0,
    "start_time": "2023-03-09T07:08:28.200Z"
   },
   {
    "duration": 0,
    "start_time": "2023-03-09T07:08:28.201Z"
   },
   {
    "duration": 0,
    "start_time": "2023-03-09T07:08:28.202Z"
   },
   {
    "duration": 0,
    "start_time": "2023-03-09T07:08:28.203Z"
   },
   {
    "duration": 0,
    "start_time": "2023-03-09T07:08:28.203Z"
   },
   {
    "duration": 0,
    "start_time": "2023-03-09T07:08:28.204Z"
   },
   {
    "duration": 0,
    "start_time": "2023-03-09T07:08:28.205Z"
   },
   {
    "duration": 0,
    "start_time": "2023-03-09T07:08:28.206Z"
   },
   {
    "duration": 0,
    "start_time": "2023-03-09T07:08:28.207Z"
   },
   {
    "duration": 0,
    "start_time": "2023-03-09T07:08:28.208Z"
   },
   {
    "duration": 0,
    "start_time": "2023-03-09T07:08:28.209Z"
   },
   {
    "duration": 0,
    "start_time": "2023-03-09T07:08:28.210Z"
   },
   {
    "duration": 0,
    "start_time": "2023-03-09T07:08:28.211Z"
   },
   {
    "duration": 0,
    "start_time": "2023-03-09T07:08:28.212Z"
   },
   {
    "duration": 0,
    "start_time": "2023-03-09T07:08:28.213Z"
   },
   {
    "duration": 0,
    "start_time": "2023-03-09T07:08:28.214Z"
   },
   {
    "duration": 0,
    "start_time": "2023-03-09T07:08:28.215Z"
   },
   {
    "duration": 0,
    "start_time": "2023-03-09T07:08:28.216Z"
   },
   {
    "duration": 0,
    "start_time": "2023-03-09T07:08:28.218Z"
   },
   {
    "duration": 0,
    "start_time": "2023-03-09T07:08:28.230Z"
   },
   {
    "duration": 0,
    "start_time": "2023-03-09T07:08:28.231Z"
   },
   {
    "duration": 0,
    "start_time": "2023-03-09T07:08:28.232Z"
   },
   {
    "duration": 0,
    "start_time": "2023-03-09T07:08:28.233Z"
   },
   {
    "duration": 0,
    "start_time": "2023-03-09T07:08:28.234Z"
   },
   {
    "duration": 0,
    "start_time": "2023-03-09T07:08:28.235Z"
   },
   {
    "duration": 0,
    "start_time": "2023-03-09T07:08:28.236Z"
   },
   {
    "duration": 0,
    "start_time": "2023-03-09T07:08:28.237Z"
   },
   {
    "duration": 0,
    "start_time": "2023-03-09T07:08:28.239Z"
   },
   {
    "duration": 0,
    "start_time": "2023-03-09T07:08:28.239Z"
   },
   {
    "duration": 0,
    "start_time": "2023-03-09T07:08:28.240Z"
   },
   {
    "duration": 0,
    "start_time": "2023-03-09T07:08:28.241Z"
   },
   {
    "duration": 0,
    "start_time": "2023-03-09T07:08:28.242Z"
   },
   {
    "duration": 1368,
    "start_time": "2023-03-09T07:09:31.821Z"
   },
   {
    "duration": 0,
    "start_time": "2023-03-09T07:09:33.191Z"
   },
   {
    "duration": 0,
    "start_time": "2023-03-09T07:09:33.193Z"
   },
   {
    "duration": 0,
    "start_time": "2023-03-09T07:09:33.194Z"
   },
   {
    "duration": 34,
    "start_time": "2023-03-09T07:09:33.852Z"
   },
   {
    "duration": 56,
    "start_time": "2023-03-09T07:09:34.540Z"
   },
   {
    "duration": 60,
    "start_time": "2023-03-09T07:09:34.724Z"
   },
   {
    "duration": 54,
    "start_time": "2023-03-09T07:09:34.909Z"
   },
   {
    "duration": 9,
    "start_time": "2023-03-09T07:09:35.094Z"
   },
   {
    "duration": 5,
    "start_time": "2023-03-09T07:09:35.285Z"
   },
   {
    "duration": 1227,
    "start_time": "2023-03-09T07:09:36.149Z"
   },
   {
    "duration": 0,
    "start_time": "2023-03-09T07:09:37.381Z"
   },
   {
    "duration": 0,
    "start_time": "2023-03-09T07:09:37.383Z"
   },
   {
    "duration": 0,
    "start_time": "2023-03-09T07:09:37.384Z"
   },
   {
    "duration": 0,
    "start_time": "2023-03-09T07:09:37.386Z"
   },
   {
    "duration": 0,
    "start_time": "2023-03-09T07:09:37.388Z"
   },
   {
    "duration": 0,
    "start_time": "2023-03-09T07:09:37.389Z"
   },
   {
    "duration": 0,
    "start_time": "2023-03-09T07:09:37.391Z"
   },
   {
    "duration": 0,
    "start_time": "2023-03-09T07:09:37.392Z"
   },
   {
    "duration": 0,
    "start_time": "2023-03-09T07:09:37.393Z"
   },
   {
    "duration": 0,
    "start_time": "2023-03-09T07:09:37.395Z"
   },
   {
    "duration": 0,
    "start_time": "2023-03-09T07:09:37.396Z"
   },
   {
    "duration": 0,
    "start_time": "2023-03-09T07:09:37.397Z"
   },
   {
    "duration": 0,
    "start_time": "2023-03-09T07:09:37.398Z"
   },
   {
    "duration": 0,
    "start_time": "2023-03-09T07:09:37.400Z"
   },
   {
    "duration": 0,
    "start_time": "2023-03-09T07:09:37.402Z"
   },
   {
    "duration": 0,
    "start_time": "2023-03-09T07:09:37.403Z"
   },
   {
    "duration": 13,
    "start_time": "2023-03-09T07:09:37.433Z"
   },
   {
    "duration": 127,
    "start_time": "2023-03-09T07:09:37.464Z"
   },
   {
    "duration": 0,
    "start_time": "2023-03-09T07:09:37.592Z"
   },
   {
    "duration": 14,
    "start_time": "2023-03-09T07:09:37.668Z"
   },
   {
    "duration": 16,
    "start_time": "2023-03-09T07:09:37.731Z"
   },
   {
    "duration": 1397,
    "start_time": "2023-03-09T07:09:37.839Z"
   },
   {
    "duration": 0,
    "start_time": "2023-03-09T07:09:39.239Z"
   },
   {
    "duration": 0,
    "start_time": "2023-03-09T07:09:39.241Z"
   },
   {
    "duration": 0,
    "start_time": "2023-03-09T07:09:39.243Z"
   },
   {
    "duration": 0,
    "start_time": "2023-03-09T07:09:39.244Z"
   },
   {
    "duration": 0,
    "start_time": "2023-03-09T07:09:39.246Z"
   },
   {
    "duration": 0,
    "start_time": "2023-03-09T07:09:39.247Z"
   },
   {
    "duration": 0,
    "start_time": "2023-03-09T07:09:39.249Z"
   },
   {
    "duration": 0,
    "start_time": "2023-03-09T07:09:39.250Z"
   },
   {
    "duration": 0,
    "start_time": "2023-03-09T07:09:39.252Z"
   },
   {
    "duration": 0,
    "start_time": "2023-03-09T07:09:39.253Z"
   },
   {
    "duration": 0,
    "start_time": "2023-03-09T07:09:39.255Z"
   },
   {
    "duration": 0,
    "start_time": "2023-03-09T07:09:39.256Z"
   },
   {
    "duration": 0,
    "start_time": "2023-03-09T07:09:39.258Z"
   },
   {
    "duration": 18,
    "start_time": "2023-03-09T07:09:39.559Z"
   },
   {
    "duration": 16,
    "start_time": "2023-03-09T07:09:39.654Z"
   },
   {
    "duration": 9,
    "start_time": "2023-03-09T07:09:48.862Z"
   },
   {
    "duration": 12,
    "start_time": "2023-03-09T07:09:49.516Z"
   },
   {
    "duration": 11,
    "start_time": "2023-03-09T07:09:49.677Z"
   },
   {
    "duration": 98,
    "start_time": "2023-03-09T07:09:50.565Z"
   },
   {
    "duration": 3,
    "start_time": "2023-03-09T07:09:57.462Z"
   },
   {
    "duration": 39,
    "start_time": "2023-03-09T07:09:58.062Z"
   },
   {
    "duration": 237,
    "start_time": "2023-03-09T07:09:58.366Z"
   },
   {
    "duration": 43,
    "start_time": "2023-03-09T07:09:58.612Z"
   },
   {
    "duration": 1544,
    "start_time": "2023-03-09T07:09:59.990Z"
   },
   {
    "duration": 0,
    "start_time": "2023-03-09T07:10:01.536Z"
   },
   {
    "duration": 0,
    "start_time": "2023-03-09T07:10:01.537Z"
   },
   {
    "duration": 0,
    "start_time": "2023-03-09T07:10:01.538Z"
   },
   {
    "duration": 0,
    "start_time": "2023-03-09T07:10:01.539Z"
   },
   {
    "duration": 40,
    "start_time": "2023-03-09T07:10:02.047Z"
   },
   {
    "duration": 64,
    "start_time": "2023-03-09T07:10:02.775Z"
   },
   {
    "duration": 64,
    "start_time": "2023-03-09T07:10:03.014Z"
   },
   {
    "duration": 56,
    "start_time": "2023-03-09T07:10:03.285Z"
   },
   {
    "duration": 9,
    "start_time": "2023-03-09T07:10:03.504Z"
   },
   {
    "duration": 6,
    "start_time": "2023-03-09T07:10:03.733Z"
   },
   {
    "duration": 1772,
    "start_time": "2023-03-09T07:10:04.422Z"
   },
   {
    "duration": 0,
    "start_time": "2023-03-09T07:10:06.195Z"
   },
   {
    "duration": 1,
    "start_time": "2023-03-09T07:10:06.197Z"
   },
   {
    "duration": 0,
    "start_time": "2023-03-09T07:10:06.199Z"
   },
   {
    "duration": 35,
    "start_time": "2023-03-09T07:10:06.565Z"
   },
   {
    "duration": 1502,
    "start_time": "2023-03-09T07:10:06.974Z"
   },
   {
    "duration": 0,
    "start_time": "2023-03-09T07:10:08.478Z"
   },
   {
    "duration": 0,
    "start_time": "2023-03-09T07:10:08.479Z"
   },
   {
    "duration": 0,
    "start_time": "2023-03-09T07:10:08.481Z"
   },
   {
    "duration": 0,
    "start_time": "2023-03-09T07:10:08.482Z"
   },
   {
    "duration": 1316,
    "start_time": "2023-03-09T07:10:13.447Z"
   },
   {
    "duration": 1411,
    "start_time": "2023-03-09T07:10:14.870Z"
   },
   {
    "duration": 19,
    "start_time": "2023-03-09T07:10:17.214Z"
   },
   {
    "duration": 1266,
    "start_time": "2023-03-09T07:10:24.556Z"
   },
   {
    "duration": 40,
    "start_time": "2023-03-09T07:10:25.826Z"
   },
   {
    "duration": 233,
    "start_time": "2023-03-09T07:10:25.868Z"
   },
   {
    "duration": 43,
    "start_time": "2023-03-09T07:10:26.103Z"
   },
   {
    "duration": 1496,
    "start_time": "2023-03-09T07:10:26.148Z"
   },
   {
    "duration": 0,
    "start_time": "2023-03-09T07:10:27.648Z"
   },
   {
    "duration": 0,
    "start_time": "2023-03-09T07:10:27.650Z"
   },
   {
    "duration": 0,
    "start_time": "2023-03-09T07:10:27.651Z"
   },
   {
    "duration": 0,
    "start_time": "2023-03-09T07:10:27.653Z"
   },
   {
    "duration": 0,
    "start_time": "2023-03-09T07:10:27.655Z"
   },
   {
    "duration": 0,
    "start_time": "2023-03-09T07:10:27.656Z"
   },
   {
    "duration": 0,
    "start_time": "2023-03-09T07:10:27.657Z"
   },
   {
    "duration": 0,
    "start_time": "2023-03-09T07:10:27.658Z"
   },
   {
    "duration": 0,
    "start_time": "2023-03-09T07:10:27.659Z"
   },
   {
    "duration": 0,
    "start_time": "2023-03-09T07:10:27.660Z"
   },
   {
    "duration": 0,
    "start_time": "2023-03-09T07:10:27.661Z"
   },
   {
    "duration": 0,
    "start_time": "2023-03-09T07:10:27.663Z"
   },
   {
    "duration": 0,
    "start_time": "2023-03-09T07:10:27.664Z"
   },
   {
    "duration": 0,
    "start_time": "2023-03-09T07:10:27.665Z"
   },
   {
    "duration": 0,
    "start_time": "2023-03-09T07:10:27.666Z"
   },
   {
    "duration": 0,
    "start_time": "2023-03-09T07:10:27.667Z"
   },
   {
    "duration": 0,
    "start_time": "2023-03-09T07:10:27.668Z"
   },
   {
    "duration": 0,
    "start_time": "2023-03-09T07:10:27.669Z"
   },
   {
    "duration": 0,
    "start_time": "2023-03-09T07:10:27.670Z"
   },
   {
    "duration": 0,
    "start_time": "2023-03-09T07:10:27.671Z"
   },
   {
    "duration": 0,
    "start_time": "2023-03-09T07:10:27.672Z"
   },
   {
    "duration": 0,
    "start_time": "2023-03-09T07:10:27.674Z"
   },
   {
    "duration": 0,
    "start_time": "2023-03-09T07:10:27.675Z"
   },
   {
    "duration": 0,
    "start_time": "2023-03-09T07:10:27.676Z"
   },
   {
    "duration": 0,
    "start_time": "2023-03-09T07:10:27.677Z"
   },
   {
    "duration": 0,
    "start_time": "2023-03-09T07:10:27.678Z"
   },
   {
    "duration": 0,
    "start_time": "2023-03-09T07:10:27.679Z"
   },
   {
    "duration": 0,
    "start_time": "2023-03-09T07:10:27.681Z"
   },
   {
    "duration": 0,
    "start_time": "2023-03-09T07:10:27.682Z"
   },
   {
    "duration": 0,
    "start_time": "2023-03-09T07:10:27.683Z"
   },
   {
    "duration": 0,
    "start_time": "2023-03-09T07:10:27.684Z"
   },
   {
    "duration": 0,
    "start_time": "2023-03-09T07:10:27.685Z"
   },
   {
    "duration": 0,
    "start_time": "2023-03-09T07:10:27.686Z"
   },
   {
    "duration": 0,
    "start_time": "2023-03-09T07:10:27.731Z"
   },
   {
    "duration": 0,
    "start_time": "2023-03-09T07:10:27.733Z"
   },
   {
    "duration": 0,
    "start_time": "2023-03-09T07:10:27.734Z"
   },
   {
    "duration": 0,
    "start_time": "2023-03-09T07:10:27.735Z"
   },
   {
    "duration": 0,
    "start_time": "2023-03-09T07:10:27.736Z"
   },
   {
    "duration": 0,
    "start_time": "2023-03-09T07:10:27.738Z"
   },
   {
    "duration": 0,
    "start_time": "2023-03-09T07:10:27.739Z"
   },
   {
    "duration": 0,
    "start_time": "2023-03-09T07:10:27.741Z"
   },
   {
    "duration": 0,
    "start_time": "2023-03-09T07:10:27.743Z"
   },
   {
    "duration": 0,
    "start_time": "2023-03-09T07:10:27.744Z"
   },
   {
    "duration": 0,
    "start_time": "2023-03-09T07:10:27.752Z"
   },
   {
    "duration": 0,
    "start_time": "2023-03-09T07:10:27.754Z"
   },
   {
    "duration": 0,
    "start_time": "2023-03-09T07:10:27.755Z"
   },
   {
    "duration": 0,
    "start_time": "2023-03-09T07:10:27.756Z"
   },
   {
    "duration": 0,
    "start_time": "2023-03-09T07:10:27.758Z"
   },
   {
    "duration": 1306,
    "start_time": "2023-03-09T08:54:20.939Z"
   },
   {
    "duration": 43,
    "start_time": "2023-03-09T08:54:22.247Z"
   },
   {
    "duration": 255,
    "start_time": "2023-03-09T08:54:22.292Z"
   },
   {
    "duration": 43,
    "start_time": "2023-03-09T08:54:22.549Z"
   },
   {
    "duration": 40,
    "start_time": "2023-03-09T08:54:22.595Z"
   },
   {
    "duration": 114,
    "start_time": "2023-03-09T08:54:22.637Z"
   },
   {
    "duration": 0,
    "start_time": "2023-03-09T08:54:22.753Z"
   },
   {
    "duration": 0,
    "start_time": "2023-03-09T08:54:22.754Z"
   },
   {
    "duration": 0,
    "start_time": "2023-03-09T08:54:22.755Z"
   },
   {
    "duration": 0,
    "start_time": "2023-03-09T08:54:22.756Z"
   },
   {
    "duration": 0,
    "start_time": "2023-03-09T08:54:22.757Z"
   },
   {
    "duration": 0,
    "start_time": "2023-03-09T08:54:22.758Z"
   },
   {
    "duration": 0,
    "start_time": "2023-03-09T08:54:22.759Z"
   },
   {
    "duration": 0,
    "start_time": "2023-03-09T08:54:22.760Z"
   },
   {
    "duration": 0,
    "start_time": "2023-03-09T08:54:22.761Z"
   },
   {
    "duration": 0,
    "start_time": "2023-03-09T08:54:22.762Z"
   },
   {
    "duration": 0,
    "start_time": "2023-03-09T08:54:22.763Z"
   },
   {
    "duration": 0,
    "start_time": "2023-03-09T08:54:22.764Z"
   },
   {
    "duration": 0,
    "start_time": "2023-03-09T08:54:22.765Z"
   },
   {
    "duration": 0,
    "start_time": "2023-03-09T08:54:22.766Z"
   },
   {
    "duration": 0,
    "start_time": "2023-03-09T08:54:22.767Z"
   },
   {
    "duration": 0,
    "start_time": "2023-03-09T08:54:22.769Z"
   },
   {
    "duration": 0,
    "start_time": "2023-03-09T08:54:22.770Z"
   },
   {
    "duration": 0,
    "start_time": "2023-03-09T08:54:22.770Z"
   },
   {
    "duration": 0,
    "start_time": "2023-03-09T08:54:22.771Z"
   },
   {
    "duration": 0,
    "start_time": "2023-03-09T08:54:22.772Z"
   },
   {
    "duration": 0,
    "start_time": "2023-03-09T08:54:22.773Z"
   },
   {
    "duration": 0,
    "start_time": "2023-03-09T08:54:22.774Z"
   },
   {
    "duration": 0,
    "start_time": "2023-03-09T08:54:22.775Z"
   },
   {
    "duration": 0,
    "start_time": "2023-03-09T08:54:22.775Z"
   },
   {
    "duration": 0,
    "start_time": "2023-03-09T08:54:22.776Z"
   },
   {
    "duration": 0,
    "start_time": "2023-03-09T08:54:22.777Z"
   },
   {
    "duration": 0,
    "start_time": "2023-03-09T08:54:22.778Z"
   },
   {
    "duration": 0,
    "start_time": "2023-03-09T08:54:22.779Z"
   },
   {
    "duration": 0,
    "start_time": "2023-03-09T08:54:22.780Z"
   },
   {
    "duration": 0,
    "start_time": "2023-03-09T08:54:22.780Z"
   },
   {
    "duration": 0,
    "start_time": "2023-03-09T08:54:22.781Z"
   },
   {
    "duration": 0,
    "start_time": "2023-03-09T08:54:22.831Z"
   },
   {
    "duration": 0,
    "start_time": "2023-03-09T08:54:22.832Z"
   },
   {
    "duration": 0,
    "start_time": "2023-03-09T08:54:22.833Z"
   },
   {
    "duration": 0,
    "start_time": "2023-03-09T08:54:22.834Z"
   },
   {
    "duration": 0,
    "start_time": "2023-03-09T08:54:22.835Z"
   },
   {
    "duration": 0,
    "start_time": "2023-03-09T08:54:22.836Z"
   },
   {
    "duration": 0,
    "start_time": "2023-03-09T08:54:22.837Z"
   },
   {
    "duration": 0,
    "start_time": "2023-03-09T08:54:22.838Z"
   },
   {
    "duration": 0,
    "start_time": "2023-03-09T08:54:22.839Z"
   },
   {
    "duration": 0,
    "start_time": "2023-03-09T08:54:22.840Z"
   },
   {
    "duration": 0,
    "start_time": "2023-03-09T08:54:22.841Z"
   },
   {
    "duration": 0,
    "start_time": "2023-03-09T08:54:22.842Z"
   },
   {
    "duration": 0,
    "start_time": "2023-03-09T08:54:22.843Z"
   },
   {
    "duration": 0,
    "start_time": "2023-03-09T08:54:22.844Z"
   },
   {
    "duration": 0,
    "start_time": "2023-03-09T08:54:22.845Z"
   },
   {
    "duration": 0,
    "start_time": "2023-03-09T08:54:22.846Z"
   },
   {
    "duration": 118,
    "start_time": "2023-03-09T08:54:43.209Z"
   },
   {
    "duration": 84,
    "start_time": "2023-03-09T08:54:52.138Z"
   },
   {
    "duration": 1171,
    "start_time": "2023-03-09T10:17:25.503Z"
   },
   {
    "duration": 1294,
    "start_time": "2023-03-09T10:17:51.357Z"
   },
   {
    "duration": 780,
    "start_time": "2023-03-09T10:19:20.917Z"
   },
   {
    "duration": 1090,
    "start_time": "2023-03-09T10:19:33.141Z"
   },
   {
    "duration": 839,
    "start_time": "2023-03-09T10:21:33.542Z"
   },
   {
    "duration": 804,
    "start_time": "2023-03-09T10:21:41.757Z"
   },
   {
    "duration": 840,
    "start_time": "2023-03-09T10:21:50.012Z"
   },
   {
    "duration": 804,
    "start_time": "2023-03-09T10:22:03.149Z"
   },
   {
    "duration": 1339,
    "start_time": "2023-03-09T10:22:31.506Z"
   },
   {
    "duration": 1086,
    "start_time": "2023-03-09T10:22:51.982Z"
   },
   {
    "duration": 774,
    "start_time": "2023-03-09T10:23:00.974Z"
   },
   {
    "duration": 1309,
    "start_time": "2023-03-09T10:23:06.313Z"
   },
   {
    "duration": 1737,
    "start_time": "2023-03-09T10:29:34.499Z"
   },
   {
    "duration": 1476,
    "start_time": "2023-03-09T10:29:53.301Z"
   },
   {
    "duration": 1577,
    "start_time": "2023-03-09T10:33:26.264Z"
   },
   {
    "duration": 1467,
    "start_time": "2023-03-09T10:35:33.114Z"
   },
   {
    "duration": 2993,
    "start_time": "2023-03-09T10:35:42.506Z"
   },
   {
    "duration": 1127,
    "start_time": "2023-03-09T10:36:30.174Z"
   },
   {
    "duration": 800,
    "start_time": "2023-03-09T10:36:43.927Z"
   },
   {
    "duration": 9664,
    "start_time": "2023-03-09T10:36:53.304Z"
   },
   {
    "duration": 3,
    "start_time": "2023-03-09T10:37:08.052Z"
   },
   {
    "duration": 1956,
    "start_time": "2023-03-09T10:37:21.308Z"
   },
   {
    "duration": 1277,
    "start_time": "2023-03-09T10:37:23.266Z"
   },
   {
    "duration": 86,
    "start_time": "2023-03-09T10:37:24.545Z"
   },
   {
    "duration": 708,
    "start_time": "2023-03-09T10:37:24.633Z"
   },
   {
    "duration": 149,
    "start_time": "2023-03-09T10:37:25.343Z"
   },
   {
    "duration": 37,
    "start_time": "2023-03-09T10:37:25.494Z"
   },
   {
    "duration": 7,
    "start_time": "2023-03-09T10:37:25.532Z"
   },
   {
    "duration": 24,
    "start_time": "2023-03-09T10:37:25.541Z"
   },
   {
    "duration": 57,
    "start_time": "2023-03-09T10:37:25.567Z"
   },
   {
    "duration": 123,
    "start_time": "2023-03-09T10:37:25.625Z"
   },
   {
    "duration": 21,
    "start_time": "2023-03-09T10:37:25.749Z"
   },
   {
    "duration": 61,
    "start_time": "2023-03-09T10:37:25.772Z"
   },
   {
    "duration": 60,
    "start_time": "2023-03-09T10:37:25.835Z"
   },
   {
    "duration": 68,
    "start_time": "2023-03-09T10:37:25.898Z"
   },
   {
    "duration": 8,
    "start_time": "2023-03-09T10:37:25.967Z"
   },
   {
    "duration": 5,
    "start_time": "2023-03-09T10:37:25.976Z"
   },
   {
    "duration": 7,
    "start_time": "2023-03-09T10:37:25.982Z"
   },
   {
    "duration": 30,
    "start_time": "2023-03-09T10:37:25.991Z"
   },
   {
    "duration": 120,
    "start_time": "2023-03-09T10:37:26.023Z"
   },
   {
    "duration": 31,
    "start_time": "2023-03-09T10:37:26.144Z"
   },
   {
    "duration": 19,
    "start_time": "2023-03-09T10:37:26.177Z"
   },
   {
    "duration": 53,
    "start_time": "2023-03-09T10:37:26.198Z"
   },
   {
    "duration": 2,
    "start_time": "2023-03-09T10:37:26.253Z"
   },
   {
    "duration": 30,
    "start_time": "2023-03-09T10:37:26.257Z"
   },
   {
    "duration": 62,
    "start_time": "2023-03-09T10:37:26.289Z"
   },
   {
    "duration": 86,
    "start_time": "2023-03-09T10:37:26.352Z"
   },
   {
    "duration": 14,
    "start_time": "2023-03-09T10:37:26.440Z"
   },
   {
    "duration": 19,
    "start_time": "2023-03-09T10:37:26.456Z"
   },
   {
    "duration": 13,
    "start_time": "2023-03-09T10:37:26.476Z"
   },
   {
    "duration": 10,
    "start_time": "2023-03-09T10:37:26.490Z"
   },
   {
    "duration": 20,
    "start_time": "2023-03-09T10:37:26.502Z"
   },
   {
    "duration": 64,
    "start_time": "2023-03-09T10:37:26.524Z"
   },
   {
    "duration": 93,
    "start_time": "2023-03-09T10:37:26.591Z"
   },
   {
    "duration": 21,
    "start_time": "2023-03-09T10:37:26.685Z"
   },
   {
    "duration": 124,
    "start_time": "2023-03-09T10:37:26.720Z"
   },
   {
    "duration": 83,
    "start_time": "2023-03-09T10:37:26.846Z"
   },
   {
    "duration": 246,
    "start_time": "2023-03-09T10:37:26.931Z"
   },
   {
    "duration": 102,
    "start_time": "2023-03-09T10:37:27.179Z"
   },
   {
    "duration": 18,
    "start_time": "2023-03-09T10:37:27.283Z"
   },
   {
    "duration": 85,
    "start_time": "2023-03-09T10:37:27.302Z"
   },
   {
    "duration": 88,
    "start_time": "2023-03-09T10:37:27.392Z"
   },
   {
    "duration": 207,
    "start_time": "2023-03-09T10:37:27.481Z"
   },
   {
    "duration": 8,
    "start_time": "2023-03-09T10:37:27.690Z"
   },
   {
    "duration": 22,
    "start_time": "2023-03-09T10:37:27.700Z"
   },
   {
    "duration": 606,
    "start_time": "2023-03-09T10:37:27.724Z"
   },
   {
    "duration": 14,
    "start_time": "2023-03-09T10:37:28.332Z"
   },
   {
    "duration": 13,
    "start_time": "2023-03-09T10:37:28.348Z"
   },
   {
    "duration": 27,
    "start_time": "2023-03-09T10:37:28.363Z"
   },
   {
    "duration": 50,
    "start_time": "2023-03-09T10:37:28.392Z"
   },
   {
    "duration": 53,
    "start_time": "2023-03-09T10:37:28.444Z"
   },
   {
    "duration": 25,
    "start_time": "2023-03-09T10:37:28.499Z"
   },
   {
    "duration": 150,
    "start_time": "2023-03-09T10:37:28.526Z"
   },
   {
    "duration": 45,
    "start_time": "2023-03-09T10:37:28.678Z"
   },
   {
    "duration": 43,
    "start_time": "2023-03-09T10:37:28.726Z"
   },
   {
    "duration": 2007,
    "start_time": "2023-03-09T10:38:10.613Z"
   },
   {
    "duration": 5,
    "start_time": "2023-03-09T10:38:12.623Z"
   },
   {
    "duration": 47,
    "start_time": "2023-03-09T10:38:12.629Z"
   },
   {
    "duration": 286,
    "start_time": "2023-03-09T10:38:12.678Z"
   },
   {
    "duration": 41,
    "start_time": "2023-03-09T10:38:12.965Z"
   },
   {
    "duration": 40,
    "start_time": "2023-03-09T10:38:13.007Z"
   },
   {
    "duration": 8,
    "start_time": "2023-03-09T10:38:13.049Z"
   },
   {
    "duration": 9,
    "start_time": "2023-03-09T10:38:13.058Z"
   },
   {
    "duration": 88,
    "start_time": "2023-03-09T10:38:13.069Z"
   },
   {
    "duration": 74,
    "start_time": "2023-03-09T10:38:13.160Z"
   },
   {
    "duration": 19,
    "start_time": "2023-03-09T10:38:13.236Z"
   },
   {
    "duration": 47,
    "start_time": "2023-03-09T10:38:13.257Z"
   },
   {
    "duration": 68,
    "start_time": "2023-03-09T10:38:13.306Z"
   },
   {
    "duration": 65,
    "start_time": "2023-03-09T10:38:13.376Z"
   },
   {
    "duration": 7,
    "start_time": "2023-03-09T10:38:13.442Z"
   },
   {
    "duration": 5,
    "start_time": "2023-03-09T10:38:13.451Z"
   },
   {
    "duration": 12,
    "start_time": "2023-03-09T10:38:13.457Z"
   },
   {
    "duration": 5,
    "start_time": "2023-03-09T10:38:13.470Z"
   },
   {
    "duration": 136,
    "start_time": "2023-03-09T10:38:13.476Z"
   },
   {
    "duration": 36,
    "start_time": "2023-03-09T10:38:13.624Z"
   },
   {
    "duration": 16,
    "start_time": "2023-03-09T10:38:13.662Z"
   },
   {
    "duration": 41,
    "start_time": "2023-03-09T10:38:13.680Z"
   },
   {
    "duration": 3,
    "start_time": "2023-03-09T10:38:13.729Z"
   },
   {
    "duration": 25,
    "start_time": "2023-03-09T10:38:13.733Z"
   },
   {
    "duration": 42,
    "start_time": "2023-03-09T10:38:13.760Z"
   },
   {
    "duration": 100,
    "start_time": "2023-03-09T10:38:13.803Z"
   },
   {
    "duration": 10,
    "start_time": "2023-03-09T10:38:13.904Z"
   },
   {
    "duration": 16,
    "start_time": "2023-03-09T10:38:13.924Z"
   },
   {
    "duration": 7,
    "start_time": "2023-03-09T10:38:13.941Z"
   },
   {
    "duration": 9,
    "start_time": "2023-03-09T10:38:13.950Z"
   },
   {
    "duration": 7,
    "start_time": "2023-03-09T10:38:13.961Z"
   },
   {
    "duration": 77,
    "start_time": "2023-03-09T10:38:13.969Z"
   },
   {
    "duration": 60,
    "start_time": "2023-03-09T10:38:14.048Z"
   },
   {
    "duration": 34,
    "start_time": "2023-03-09T10:38:14.110Z"
   },
   {
    "duration": 137,
    "start_time": "2023-03-09T10:38:14.145Z"
   },
   {
    "duration": 80,
    "start_time": "2023-03-09T10:38:14.284Z"
   },
   {
    "duration": 232,
    "start_time": "2023-03-09T10:38:14.365Z"
   },
   {
    "duration": 111,
    "start_time": "2023-03-09T10:38:14.598Z"
   },
   {
    "duration": 31,
    "start_time": "2023-03-09T10:38:14.711Z"
   },
   {
    "duration": 64,
    "start_time": "2023-03-09T10:38:14.744Z"
   },
   {
    "duration": 60,
    "start_time": "2023-03-09T10:38:14.810Z"
   },
   {
    "duration": 216,
    "start_time": "2023-03-09T10:38:14.871Z"
   },
   {
    "duration": 8,
    "start_time": "2023-03-09T10:38:15.089Z"
   },
   {
    "duration": 19,
    "start_time": "2023-03-09T10:38:15.098Z"
   },
   {
    "duration": 402,
    "start_time": "2023-03-09T10:38:15.119Z"
   },
   {
    "duration": 16,
    "start_time": "2023-03-09T10:38:15.523Z"
   },
   {
    "duration": 13,
    "start_time": "2023-03-09T10:38:15.541Z"
   },
   {
    "duration": 18,
    "start_time": "2023-03-09T10:38:15.556Z"
   },
   {
    "duration": 50,
    "start_time": "2023-03-09T10:38:15.576Z"
   },
   {
    "duration": 51,
    "start_time": "2023-03-09T10:38:15.628Z"
   },
   {
    "duration": 8,
    "start_time": "2023-03-09T10:38:15.681Z"
   },
   {
    "duration": 155,
    "start_time": "2023-03-09T10:38:15.691Z"
   },
   {
    "duration": 47,
    "start_time": "2023-03-09T10:38:15.848Z"
   },
   {
    "duration": 61,
    "start_time": "2023-03-09T10:38:15.896Z"
   },
   {
    "duration": 28569,
    "start_time": "2023-03-09T12:05:08.756Z"
   },
   {
    "duration": 1921,
    "start_time": "2023-03-09T12:05:37.327Z"
   },
   {
    "duration": 84,
    "start_time": "2023-03-09T12:05:39.250Z"
   },
   {
    "duration": 740,
    "start_time": "2023-03-09T12:05:39.336Z"
   },
   {
    "duration": 347,
    "start_time": "2023-03-09T12:05:40.078Z"
   },
   {
    "duration": 40,
    "start_time": "2023-03-09T12:05:40.426Z"
   },
   {
    "duration": 7,
    "start_time": "2023-03-09T12:05:40.467Z"
   },
   {
    "duration": 16,
    "start_time": "2023-03-09T12:05:40.475Z"
   },
   {
    "duration": 64,
    "start_time": "2023-03-09T12:05:40.492Z"
   },
   {
    "duration": 116,
    "start_time": "2023-03-09T12:05:40.558Z"
   },
   {
    "duration": 22,
    "start_time": "2023-03-09T12:05:40.675Z"
   },
   {
    "duration": 59,
    "start_time": "2023-03-09T12:05:40.699Z"
   },
   {
    "duration": 55,
    "start_time": "2023-03-09T12:05:40.759Z"
   },
   {
    "duration": 64,
    "start_time": "2023-03-09T12:05:40.817Z"
   },
   {
    "duration": 7,
    "start_time": "2023-03-09T12:05:40.882Z"
   },
   {
    "duration": 10,
    "start_time": "2023-03-09T12:05:40.890Z"
   },
   {
    "duration": 6,
    "start_time": "2023-03-09T12:05:40.902Z"
   },
   {
    "duration": 5,
    "start_time": "2023-03-09T12:05:40.909Z"
   },
   {
    "duration": 125,
    "start_time": "2023-03-09T12:05:40.915Z"
   },
   {
    "duration": 31,
    "start_time": "2023-03-09T12:05:41.042Z"
   },
   {
    "duration": 16,
    "start_time": "2023-03-09T12:05:41.074Z"
   },
   {
    "duration": 38,
    "start_time": "2023-03-09T12:05:41.092Z"
   },
   {
    "duration": 7,
    "start_time": "2023-03-09T12:05:41.131Z"
   },
   {
    "duration": 35,
    "start_time": "2023-03-09T12:05:41.139Z"
   },
   {
    "duration": 45,
    "start_time": "2023-03-09T12:05:41.176Z"
   },
   {
    "duration": 94,
    "start_time": "2023-03-09T12:05:41.223Z"
   },
   {
    "duration": 10,
    "start_time": "2023-03-09T12:05:41.319Z"
   },
   {
    "duration": 29,
    "start_time": "2023-03-09T12:05:41.331Z"
   },
   {
    "duration": 9,
    "start_time": "2023-03-09T12:05:41.362Z"
   },
   {
    "duration": 15,
    "start_time": "2023-03-09T12:05:41.372Z"
   },
   {
    "duration": 8,
    "start_time": "2023-03-09T12:05:41.388Z"
   },
   {
    "duration": 77,
    "start_time": "2023-03-09T12:05:41.398Z"
   },
   {
    "duration": 64,
    "start_time": "2023-03-09T12:05:41.477Z"
   },
   {
    "duration": 32,
    "start_time": "2023-03-09T12:05:41.542Z"
   },
   {
    "duration": 134,
    "start_time": "2023-03-09T12:05:41.575Z"
   },
   {
    "duration": 86,
    "start_time": "2023-03-09T12:05:41.711Z"
   },
   {
    "duration": 242,
    "start_time": "2023-03-09T12:05:41.798Z"
   },
   {
    "duration": 105,
    "start_time": "2023-03-09T12:05:42.042Z"
   },
   {
    "duration": 20,
    "start_time": "2023-03-09T12:05:42.154Z"
   },
   {
    "duration": 69,
    "start_time": "2023-03-09T12:05:42.175Z"
   },
   {
    "duration": 48,
    "start_time": "2023-03-09T12:05:42.255Z"
   },
   {
    "duration": 199,
    "start_time": "2023-03-09T12:05:42.304Z"
   },
   {
    "duration": 6,
    "start_time": "2023-03-09T12:05:42.505Z"
   },
   {
    "duration": 6,
    "start_time": "2023-03-09T12:05:42.513Z"
   },
   {
    "duration": 642,
    "start_time": "2023-03-09T12:05:42.520Z"
   },
   {
    "duration": 13,
    "start_time": "2023-03-09T12:05:43.163Z"
   },
   {
    "duration": 12,
    "start_time": "2023-03-09T12:05:43.177Z"
   },
   {
    "duration": 18,
    "start_time": "2023-03-09T12:05:43.190Z"
   },
   {
    "duration": 14,
    "start_time": "2023-03-09T12:05:43.210Z"
   },
   {
    "duration": 79,
    "start_time": "2023-03-09T12:05:43.225Z"
   },
   {
    "duration": 7,
    "start_time": "2023-03-09T12:05:43.305Z"
   },
   {
    "duration": 141,
    "start_time": "2023-03-09T12:05:43.314Z"
   },
   {
    "duration": 43,
    "start_time": "2023-03-09T12:05:43.456Z"
   },
   {
    "duration": 56,
    "start_time": "2023-03-09T12:05:43.500Z"
   },
   {
    "duration": 93,
    "start_time": "2023-03-09T12:13:20.526Z"
   },
   {
    "duration": 104,
    "start_time": "2023-03-09T12:13:20.693Z"
   },
   {
    "duration": 50,
    "start_time": "2023-03-09T12:53:35.895Z"
   },
   {
    "duration": 59,
    "start_time": "2023-03-09T13:11:55.033Z"
   },
   {
    "duration": 69,
    "start_time": "2023-03-09T13:12:04.178Z"
   },
   {
    "duration": 48,
    "start_time": "2023-03-09T13:12:25.604Z"
   },
   {
    "duration": 12517,
    "start_time": "2023-03-09T13:12:33.675Z"
   },
   {
    "duration": 1703,
    "start_time": "2023-03-09T13:12:46.194Z"
   },
   {
    "duration": 90,
    "start_time": "2023-03-09T13:12:47.899Z"
   },
   {
    "duration": 797,
    "start_time": "2023-03-09T13:12:47.991Z"
   },
   {
    "duration": 165,
    "start_time": "2023-03-09T13:12:48.791Z"
   },
   {
    "duration": 43,
    "start_time": "2023-03-09T13:12:48.958Z"
   },
   {
    "duration": 11,
    "start_time": "2023-03-09T13:12:49.003Z"
   },
   {
    "duration": 16,
    "start_time": "2023-03-09T13:12:49.016Z"
   },
   {
    "duration": 94,
    "start_time": "2023-03-09T13:12:49.034Z"
   },
   {
    "duration": 139,
    "start_time": "2023-03-09T13:12:49.129Z"
   },
   {
    "duration": 22,
    "start_time": "2023-03-09T13:12:49.270Z"
   },
   {
    "duration": 21,
    "start_time": "2023-03-09T13:12:49.293Z"
   },
   {
    "duration": 85,
    "start_time": "2023-03-09T13:12:49.315Z"
   },
   {
    "duration": 78,
    "start_time": "2023-03-09T13:12:49.403Z"
   },
   {
    "duration": 59,
    "start_time": "2023-03-09T13:12:49.483Z"
   },
   {
    "duration": 9,
    "start_time": "2023-03-09T13:12:49.553Z"
   },
   {
    "duration": 5,
    "start_time": "2023-03-09T13:12:49.564Z"
   },
   {
    "duration": 18,
    "start_time": "2023-03-09T13:12:49.570Z"
   },
   {
    "duration": 12,
    "start_time": "2023-03-09T13:12:49.590Z"
   },
   {
    "duration": 144,
    "start_time": "2023-03-09T13:12:49.604Z"
   },
   {
    "duration": 32,
    "start_time": "2023-03-09T13:12:49.754Z"
   },
   {
    "duration": 17,
    "start_time": "2023-03-09T13:12:49.788Z"
   },
   {
    "duration": 56,
    "start_time": "2023-03-09T13:12:49.807Z"
   },
   {
    "duration": 14,
    "start_time": "2023-03-09T13:12:49.865Z"
   },
   {
    "duration": 38,
    "start_time": "2023-03-09T13:12:49.880Z"
   },
   {
    "duration": 47,
    "start_time": "2023-03-09T13:12:49.920Z"
   },
   {
    "duration": 95,
    "start_time": "2023-03-09T13:12:49.968Z"
   },
   {
    "duration": 11,
    "start_time": "2023-03-09T13:12:50.065Z"
   },
   {
    "duration": 18,
    "start_time": "2023-03-09T13:12:50.078Z"
   },
   {
    "duration": 14,
    "start_time": "2023-03-09T13:12:50.098Z"
   },
   {
    "duration": 11,
    "start_time": "2023-03-09T13:12:50.114Z"
   },
   {
    "duration": 32,
    "start_time": "2023-03-09T13:12:50.127Z"
   },
   {
    "duration": 93,
    "start_time": "2023-03-09T13:12:50.160Z"
   },
   {
    "duration": 65,
    "start_time": "2023-03-09T13:12:50.256Z"
   },
   {
    "duration": 37,
    "start_time": "2023-03-09T13:12:50.323Z"
   },
   {
    "duration": 131,
    "start_time": "2023-03-09T13:12:50.361Z"
   },
   {
    "duration": 92,
    "start_time": "2023-03-09T13:12:50.494Z"
   },
   {
    "duration": 244,
    "start_time": "2023-03-09T13:12:50.588Z"
   },
   {
    "duration": 101,
    "start_time": "2023-03-09T13:12:50.833Z"
   },
   {
    "duration": 25,
    "start_time": "2023-03-09T13:12:50.935Z"
   },
   {
    "duration": 72,
    "start_time": "2023-03-09T13:12:50.964Z"
   },
   {
    "duration": 58,
    "start_time": "2023-03-09T13:12:51.038Z"
   },
   {
    "duration": 207,
    "start_time": "2023-03-09T13:12:51.098Z"
   },
   {
    "duration": 9,
    "start_time": "2023-03-09T13:12:51.307Z"
   },
   {
    "duration": 14,
    "start_time": "2023-03-09T13:12:51.317Z"
   },
   {
    "duration": 594,
    "start_time": "2023-03-09T13:12:51.333Z"
   },
   {
    "duration": 14,
    "start_time": "2023-03-09T13:12:51.928Z"
   },
   {
    "duration": 27,
    "start_time": "2023-03-09T13:12:51.944Z"
   },
   {
    "duration": 20,
    "start_time": "2023-03-09T13:12:51.973Z"
   },
   {
    "duration": 17,
    "start_time": "2023-03-09T13:12:51.995Z"
   },
   {
    "duration": 71,
    "start_time": "2023-03-09T13:12:52.014Z"
   },
   {
    "duration": 9,
    "start_time": "2023-03-09T13:12:52.087Z"
   },
   {
    "duration": 158,
    "start_time": "2023-03-09T13:12:52.098Z"
   },
   {
    "duration": 42,
    "start_time": "2023-03-09T13:12:52.258Z"
   },
   {
    "duration": 61,
    "start_time": "2023-03-09T13:12:52.302Z"
   },
   {
    "duration": 123,
    "start_time": "2023-03-09T13:14:21.292Z"
   },
   {
    "duration": 12,
    "start_time": "2023-03-09T13:43:12.558Z"
   },
   {
    "duration": 14,
    "start_time": "2023-03-09T13:43:32.852Z"
   },
   {
    "duration": 2,
    "start_time": "2023-03-09T13:46:33.912Z"
   },
   {
    "duration": 14,
    "start_time": "2023-03-09T13:59:11.603Z"
   },
   {
    "duration": 15,
    "start_time": "2023-03-09T14:03:07.705Z"
   },
   {
    "duration": 66,
    "start_time": "2023-03-09T15:27:56.692Z"
   },
   {
    "duration": 184,
    "start_time": "2023-03-09T15:28:04.029Z"
   },
   {
    "duration": 146,
    "start_time": "2023-03-09T15:28:57.230Z"
   },
   {
    "duration": 166,
    "start_time": "2023-03-09T15:29:49.581Z"
   },
   {
    "duration": 18,
    "start_time": "2023-03-09T15:30:19.040Z"
   },
   {
    "duration": 163,
    "start_time": "2023-03-09T15:32:36.839Z"
   },
   {
    "duration": 4,
    "start_time": "2023-03-09T15:33:22.818Z"
   },
   {
    "duration": 81,
    "start_time": "2023-03-09T15:33:28.529Z"
   },
   {
    "duration": 77,
    "start_time": "2023-03-09T15:35:33.739Z"
   },
   {
    "duration": 163,
    "start_time": "2023-03-09T15:35:41.720Z"
   },
   {
    "duration": 172,
    "start_time": "2023-03-09T15:37:08.500Z"
   },
   {
    "duration": 49,
    "start_time": "2023-03-09T15:37:31.677Z"
   },
   {
    "duration": 156,
    "start_time": "2023-03-09T15:37:40.480Z"
   },
   {
    "duration": 282,
    "start_time": "2023-03-09T15:39:43.312Z"
   },
   {
    "duration": 163,
    "start_time": "2023-03-09T15:39:50.392Z"
   },
   {
    "duration": 161,
    "start_time": "2023-03-09T15:39:57.381Z"
   },
   {
    "duration": 47,
    "start_time": "2023-03-09T15:51:22.372Z"
   },
   {
    "duration": 46,
    "start_time": "2023-03-09T15:51:31.737Z"
   },
   {
    "duration": 3,
    "start_time": "2023-03-09T15:51:37.393Z"
   },
   {
    "duration": 39,
    "start_time": "2023-03-09T15:51:46.366Z"
   },
   {
    "duration": 43,
    "start_time": "2023-03-09T15:52:32.252Z"
   },
   {
    "duration": 25,
    "start_time": "2023-03-09T15:52:53.518Z"
   },
   {
    "duration": 42,
    "start_time": "2023-03-09T15:53:59.774Z"
   },
   {
    "duration": 52,
    "start_time": "2023-03-09T15:55:19.377Z"
   },
   {
    "duration": 148,
    "start_time": "2023-03-09T15:59:42.012Z"
   },
   {
    "duration": 11,
    "start_time": "2023-03-09T16:06:12.091Z"
   },
   {
    "duration": 13,
    "start_time": "2023-03-09T16:08:25.278Z"
   },
   {
    "duration": 12,
    "start_time": "2023-03-09T16:09:01.053Z"
   },
   {
    "duration": 6,
    "start_time": "2023-03-09T16:15:45.165Z"
   },
   {
    "duration": 8,
    "start_time": "2023-03-09T16:17:14.312Z"
   },
   {
    "duration": 30,
    "start_time": "2023-03-09T16:19:23.001Z"
   },
   {
    "duration": 9,
    "start_time": "2023-03-09T16:19:32.734Z"
   },
   {
    "duration": 2187,
    "start_time": "2023-03-09T16:19:48.495Z"
   },
   {
    "duration": 1987,
    "start_time": "2023-03-09T16:19:56.408Z"
   },
   {
    "duration": 4,
    "start_time": "2023-03-09T16:19:58.397Z"
   },
   {
    "duration": 48,
    "start_time": "2023-03-09T16:19:58.402Z"
   },
   {
    "duration": 269,
    "start_time": "2023-03-09T16:19:58.452Z"
   },
   {
    "duration": 39,
    "start_time": "2023-03-09T16:19:58.723Z"
   },
   {
    "duration": 31,
    "start_time": "2023-03-09T16:19:58.763Z"
   },
   {
    "duration": 8,
    "start_time": "2023-03-09T16:19:58.796Z"
   },
   {
    "duration": 9,
    "start_time": "2023-03-09T16:19:58.805Z"
   },
   {
    "duration": 81,
    "start_time": "2023-03-09T16:19:58.816Z"
   },
   {
    "duration": 72,
    "start_time": "2023-03-09T16:19:58.899Z"
   },
   {
    "duration": 11,
    "start_time": "2023-03-09T16:19:58.972Z"
   },
   {
    "duration": 19,
    "start_time": "2023-03-09T16:19:58.985Z"
   },
   {
    "duration": 97,
    "start_time": "2023-03-09T16:19:59.005Z"
   },
   {
    "duration": 10,
    "start_time": "2023-03-09T16:19:59.104Z"
   },
   {
    "duration": 13,
    "start_time": "2023-03-09T16:19:59.117Z"
   },
   {
    "duration": 3,
    "start_time": "2023-03-09T16:19:59.152Z"
   },
   {
    "duration": 19,
    "start_time": "2023-03-09T16:19:59.157Z"
   },
   {
    "duration": 48,
    "start_time": "2023-03-09T16:19:59.182Z"
   },
   {
    "duration": 73,
    "start_time": "2023-03-09T16:19:59.232Z"
   },
   {
    "duration": 60,
    "start_time": "2023-03-09T16:19:59.306Z"
   },
   {
    "duration": 8,
    "start_time": "2023-03-09T16:19:59.367Z"
   },
   {
    "duration": 8,
    "start_time": "2023-03-09T16:19:59.377Z"
   },
   {
    "duration": 7,
    "start_time": "2023-03-09T16:19:59.387Z"
   },
   {
    "duration": 13,
    "start_time": "2023-03-09T16:19:59.395Z"
   },
   {
    "duration": 157,
    "start_time": "2023-03-09T16:19:59.410Z"
   },
   {
    "duration": 29,
    "start_time": "2023-03-09T16:19:59.568Z"
   },
   {
    "duration": 18,
    "start_time": "2023-03-09T16:19:59.599Z"
   },
   {
    "duration": 50,
    "start_time": "2023-03-09T16:19:59.619Z"
   },
   {
    "duration": 4,
    "start_time": "2023-03-09T16:19:59.670Z"
   },
   {
    "duration": 24,
    "start_time": "2023-03-09T16:19:59.675Z"
   },
   {
    "duration": 63,
    "start_time": "2023-03-09T16:19:59.701Z"
   },
   {
    "duration": 71,
    "start_time": "2023-03-09T16:19:59.766Z"
   },
   {
    "duration": 11,
    "start_time": "2023-03-09T16:19:59.852Z"
   },
   {
    "duration": 18,
    "start_time": "2023-03-09T16:19:59.865Z"
   },
   {
    "duration": 21,
    "start_time": "2023-03-09T16:19:59.885Z"
   },
   {
    "duration": 11,
    "start_time": "2023-03-09T16:19:59.908Z"
   },
   {
    "duration": 8,
    "start_time": "2023-03-09T16:19:59.920Z"
   },
   {
    "duration": 81,
    "start_time": "2023-03-09T16:19:59.930Z"
   },
   {
    "duration": 72,
    "start_time": "2023-03-09T16:20:00.013Z"
   },
   {
    "duration": 193,
    "start_time": "2023-03-09T16:20:00.087Z"
   },
   {
    "duration": 25,
    "start_time": "2023-03-09T16:20:00.281Z"
   },
   {
    "duration": 142,
    "start_time": "2023-03-09T16:20:00.307Z"
   },
   {
    "duration": 67,
    "start_time": "2023-03-09T16:20:00.451Z"
   },
   {
    "duration": 246,
    "start_time": "2023-03-09T16:20:00.520Z"
   },
   {
    "duration": 42,
    "start_time": "2023-03-09T16:20:00.768Z"
   },
   {
    "duration": 13,
    "start_time": "2023-03-09T16:20:00.812Z"
   },
   {
    "duration": 44,
    "start_time": "2023-03-09T16:20:00.827Z"
   },
   {
    "duration": 126,
    "start_time": "2023-03-09T16:20:00.873Z"
   },
   {
    "duration": 19,
    "start_time": "2023-03-09T16:20:01.001Z"
   },
   {
    "duration": 109,
    "start_time": "2023-03-09T16:20:01.022Z"
   },
   {
    "duration": 47,
    "start_time": "2023-03-09T16:20:01.133Z"
   },
   {
    "duration": 216,
    "start_time": "2023-03-09T16:20:01.182Z"
   },
   {
    "duration": 10,
    "start_time": "2023-03-09T16:20:01.400Z"
   },
   {
    "duration": 19,
    "start_time": "2023-03-09T16:20:01.413Z"
   },
   {
    "duration": 619,
    "start_time": "2023-03-09T16:20:01.434Z"
   },
   {
    "duration": 15,
    "start_time": "2023-03-09T16:20:02.055Z"
   },
   {
    "duration": 30,
    "start_time": "2023-03-09T16:20:02.072Z"
   },
   {
    "duration": 34,
    "start_time": "2023-03-09T16:20:02.104Z"
   },
   {
    "duration": 22,
    "start_time": "2023-03-09T16:20:02.140Z"
   },
   {
    "duration": 78,
    "start_time": "2023-03-09T16:20:02.164Z"
   },
   {
    "duration": 9,
    "start_time": "2023-03-09T16:20:02.244Z"
   },
   {
    "duration": 180,
    "start_time": "2023-03-09T16:20:02.255Z"
   },
   {
    "duration": 51,
    "start_time": "2023-03-09T16:20:02.436Z"
   },
   {
    "duration": 70,
    "start_time": "2023-03-09T16:20:02.489Z"
   },
   {
    "duration": 31,
    "start_time": "2023-03-09T16:23:20.151Z"
   },
   {
    "duration": 62,
    "start_time": "2023-03-09T16:26:15.264Z"
   },
   {
    "duration": 111,
    "start_time": "2023-03-09T16:26:45.319Z"
   },
   {
    "duration": 68,
    "start_time": "2023-03-09T16:30:37.141Z"
   },
   {
    "duration": 61,
    "start_time": "2023-03-09T16:32:08.408Z"
   },
   {
    "duration": 32,
    "start_time": "2023-03-09T16:33:50.893Z"
   },
   {
    "duration": 31,
    "start_time": "2023-03-09T16:34:13.084Z"
   },
   {
    "duration": 28,
    "start_time": "2023-03-09T16:39:29.460Z"
   },
   {
    "duration": 4,
    "start_time": "2023-03-09T16:39:44.548Z"
   },
   {
    "duration": 37,
    "start_time": "2023-03-09T16:40:07.414Z"
   },
   {
    "duration": 32,
    "start_time": "2023-03-09T16:40:23.874Z"
   },
   {
    "duration": 2055,
    "start_time": "2023-03-09T16:40:37.750Z"
   },
   {
    "duration": 1387,
    "start_time": "2023-03-09T16:40:39.807Z"
   },
   {
    "duration": 44,
    "start_time": "2023-03-09T16:40:41.196Z"
   },
   {
    "duration": 274,
    "start_time": "2023-03-09T16:40:41.242Z"
   },
   {
    "duration": 40,
    "start_time": "2023-03-09T16:40:41.519Z"
   },
   {
    "duration": 37,
    "start_time": "2023-03-09T16:40:41.561Z"
   },
   {
    "duration": 8,
    "start_time": "2023-03-09T16:40:41.600Z"
   },
   {
    "duration": 10,
    "start_time": "2023-03-09T16:40:41.609Z"
   },
   {
    "duration": 79,
    "start_time": "2023-03-09T16:40:41.620Z"
   },
   {
    "duration": 0,
    "start_time": "2023-03-09T16:40:44.163Z"
   },
   {
    "duration": 0,
    "start_time": "2023-03-09T16:40:44.165Z"
   },
   {
    "duration": 0,
    "start_time": "2023-03-09T16:40:44.166Z"
   },
   {
    "duration": 0,
    "start_time": "2023-03-09T16:40:44.167Z"
   },
   {
    "duration": 0,
    "start_time": "2023-03-09T16:40:44.168Z"
   },
   {
    "duration": 0,
    "start_time": "2023-03-09T16:40:44.169Z"
   },
   {
    "duration": 0,
    "start_time": "2023-03-09T16:40:44.170Z"
   },
   {
    "duration": 0,
    "start_time": "2023-03-09T16:40:44.171Z"
   },
   {
    "duration": 0,
    "start_time": "2023-03-09T16:40:44.172Z"
   },
   {
    "duration": 0,
    "start_time": "2023-03-09T16:40:44.173Z"
   },
   {
    "duration": 0,
    "start_time": "2023-03-09T16:40:44.175Z"
   },
   {
    "duration": 0,
    "start_time": "2023-03-09T16:40:44.176Z"
   },
   {
    "duration": 0,
    "start_time": "2023-03-09T16:40:44.177Z"
   },
   {
    "duration": 0,
    "start_time": "2023-03-09T16:40:44.179Z"
   },
   {
    "duration": 0,
    "start_time": "2023-03-09T16:40:44.180Z"
   },
   {
    "duration": 0,
    "start_time": "2023-03-09T16:40:44.181Z"
   },
   {
    "duration": 0,
    "start_time": "2023-03-09T16:40:44.183Z"
   },
   {
    "duration": 0,
    "start_time": "2023-03-09T16:40:44.184Z"
   },
   {
    "duration": 0,
    "start_time": "2023-03-09T16:40:44.185Z"
   },
   {
    "duration": 0,
    "start_time": "2023-03-09T16:40:44.187Z"
   },
   {
    "duration": 0,
    "start_time": "2023-03-09T16:40:44.188Z"
   },
   {
    "duration": 0,
    "start_time": "2023-03-09T16:40:44.189Z"
   },
   {
    "duration": 63,
    "start_time": "2023-03-09T16:40:44.189Z"
   },
   {
    "duration": 0,
    "start_time": "2023-03-09T16:40:44.255Z"
   },
   {
    "duration": 0,
    "start_time": "2023-03-09T16:40:44.256Z"
   },
   {
    "duration": 0,
    "start_time": "2023-03-09T16:40:44.257Z"
   },
   {
    "duration": 0,
    "start_time": "2023-03-09T16:40:44.259Z"
   },
   {
    "duration": 0,
    "start_time": "2023-03-09T16:40:44.260Z"
   },
   {
    "duration": 0,
    "start_time": "2023-03-09T16:40:44.261Z"
   },
   {
    "duration": 0,
    "start_time": "2023-03-09T16:40:44.261Z"
   },
   {
    "duration": 0,
    "start_time": "2023-03-09T16:40:44.262Z"
   },
   {
    "duration": 0,
    "start_time": "2023-03-09T16:40:44.263Z"
   },
   {
    "duration": 0,
    "start_time": "2023-03-09T16:40:44.264Z"
   },
   {
    "duration": 0,
    "start_time": "2023-03-09T16:40:44.265Z"
   },
   {
    "duration": 0,
    "start_time": "2023-03-09T16:40:44.266Z"
   },
   {
    "duration": 0,
    "start_time": "2023-03-09T16:40:44.266Z"
   },
   {
    "duration": 0,
    "start_time": "2023-03-09T16:40:44.267Z"
   },
   {
    "duration": 0,
    "start_time": "2023-03-09T16:40:44.268Z"
   },
   {
    "duration": 0,
    "start_time": "2023-03-09T16:40:44.269Z"
   },
   {
    "duration": 0,
    "start_time": "2023-03-09T16:40:44.270Z"
   },
   {
    "duration": 0,
    "start_time": "2023-03-09T16:40:44.272Z"
   },
   {
    "duration": 0,
    "start_time": "2023-03-09T16:40:44.273Z"
   },
   {
    "duration": 0,
    "start_time": "2023-03-09T16:40:44.274Z"
   },
   {
    "duration": 0,
    "start_time": "2023-03-09T16:40:44.276Z"
   },
   {
    "duration": 0,
    "start_time": "2023-03-09T16:40:44.277Z"
   },
   {
    "duration": 0,
    "start_time": "2023-03-09T16:40:44.278Z"
   },
   {
    "duration": 0,
    "start_time": "2023-03-09T16:40:44.279Z"
   },
   {
    "duration": 0,
    "start_time": "2023-03-09T16:40:44.280Z"
   },
   {
    "duration": 0,
    "start_time": "2023-03-09T16:40:44.280Z"
   },
   {
    "duration": 0,
    "start_time": "2023-03-09T16:40:44.282Z"
   },
   {
    "duration": 0,
    "start_time": "2023-03-09T16:40:44.283Z"
   },
   {
    "duration": 0,
    "start_time": "2023-03-09T16:40:44.284Z"
   },
   {
    "duration": 0,
    "start_time": "2023-03-09T16:40:44.285Z"
   },
   {
    "duration": 0,
    "start_time": "2023-03-09T16:40:44.286Z"
   },
   {
    "duration": 0,
    "start_time": "2023-03-09T16:40:44.287Z"
   },
   {
    "duration": 0,
    "start_time": "2023-03-09T16:40:44.288Z"
   },
   {
    "duration": 0,
    "start_time": "2023-03-09T16:40:44.289Z"
   },
   {
    "duration": 0,
    "start_time": "2023-03-09T16:40:44.291Z"
   },
   {
    "duration": 0,
    "start_time": "2023-03-09T16:40:44.292Z"
   },
   {
    "duration": 0,
    "start_time": "2023-03-09T16:40:44.354Z"
   },
   {
    "duration": 0,
    "start_time": "2023-03-09T16:40:44.355Z"
   },
   {
    "duration": 0,
    "start_time": "2023-03-09T16:40:44.356Z"
   },
   {
    "duration": 0,
    "start_time": "2023-03-09T16:40:44.357Z"
   },
   {
    "duration": 0,
    "start_time": "2023-03-09T16:40:44.359Z"
   },
   {
    "duration": 0,
    "start_time": "2023-03-09T16:40:44.360Z"
   },
   {
    "duration": 0,
    "start_time": "2023-03-09T16:40:44.361Z"
   },
   {
    "duration": 2332,
    "start_time": "2023-03-09T16:41:22.671Z"
   },
   {
    "duration": 4,
    "start_time": "2023-03-09T16:41:25.006Z"
   },
   {
    "duration": 47,
    "start_time": "2023-03-09T16:41:25.012Z"
   },
   {
    "duration": 328,
    "start_time": "2023-03-09T16:41:25.061Z"
   },
   {
    "duration": 46,
    "start_time": "2023-03-09T16:41:25.391Z"
   },
   {
    "duration": 38,
    "start_time": "2023-03-09T16:41:25.439Z"
   },
   {
    "duration": 10,
    "start_time": "2023-03-09T16:41:25.479Z"
   },
   {
    "duration": 14,
    "start_time": "2023-03-09T16:41:25.490Z"
   },
   {
    "duration": 83,
    "start_time": "2023-03-09T16:41:25.505Z"
   },
   {
    "duration": 72,
    "start_time": "2023-03-09T16:41:25.591Z"
   },
   {
    "duration": 11,
    "start_time": "2023-03-09T16:41:25.665Z"
   },
   {
    "duration": 20,
    "start_time": "2023-03-09T16:41:25.678Z"
   },
   {
    "duration": 97,
    "start_time": "2023-03-09T16:41:25.700Z"
   },
   {
    "duration": 9,
    "start_time": "2023-03-09T16:41:25.799Z"
   },
   {
    "duration": 12,
    "start_time": "2023-03-09T16:41:25.810Z"
   },
   {
    "duration": 2,
    "start_time": "2023-03-09T16:41:25.825Z"
   },
   {
    "duration": 18,
    "start_time": "2023-03-09T16:41:25.853Z"
   },
   {
    "duration": 49,
    "start_time": "2023-03-09T16:41:25.873Z"
   },
   {
    "duration": 76,
    "start_time": "2023-03-09T16:41:25.924Z"
   },
   {
    "duration": 61,
    "start_time": "2023-03-09T16:41:26.002Z"
   },
   {
    "duration": 8,
    "start_time": "2023-03-09T16:41:26.065Z"
   },
   {
    "duration": 6,
    "start_time": "2023-03-09T16:41:26.075Z"
   },
   {
    "duration": 14,
    "start_time": "2023-03-09T16:41:26.083Z"
   },
   {
    "duration": 6,
    "start_time": "2023-03-09T16:41:26.099Z"
   },
   {
    "duration": 155,
    "start_time": "2023-03-09T16:41:26.107Z"
   },
   {
    "duration": 35,
    "start_time": "2023-03-09T16:41:26.264Z"
   },
   {
    "duration": 20,
    "start_time": "2023-03-09T16:41:26.301Z"
   },
   {
    "duration": 58,
    "start_time": "2023-03-09T16:41:26.325Z"
   },
   {
    "duration": 6,
    "start_time": "2023-03-09T16:41:26.385Z"
   },
   {
    "duration": 28,
    "start_time": "2023-03-09T16:41:26.392Z"
   },
   {
    "duration": 69,
    "start_time": "2023-03-09T16:41:26.422Z"
   },
   {
    "duration": 94,
    "start_time": "2023-03-09T16:41:26.493Z"
   },
   {
    "duration": 12,
    "start_time": "2023-03-09T16:41:26.588Z"
   },
   {
    "duration": 11,
    "start_time": "2023-03-09T16:41:26.602Z"
   },
   {
    "duration": 8,
    "start_time": "2023-03-09T16:41:26.615Z"
   },
   {
    "duration": 38,
    "start_time": "2023-03-09T16:41:26.625Z"
   },
   {
    "duration": 20,
    "start_time": "2023-03-09T16:41:26.665Z"
   },
   {
    "duration": 77,
    "start_time": "2023-03-09T16:41:26.687Z"
   },
   {
    "duration": 91,
    "start_time": "2023-03-09T16:41:26.766Z"
   },
   {
    "duration": 195,
    "start_time": "2023-03-09T16:41:26.858Z"
   },
   {
    "duration": 25,
    "start_time": "2023-03-09T16:41:27.055Z"
   },
   {
    "duration": 163,
    "start_time": "2023-03-09T16:41:27.082Z"
   },
   {
    "duration": 83,
    "start_time": "2023-03-09T16:41:27.246Z"
   },
   {
    "duration": 281,
    "start_time": "2023-03-09T16:41:27.331Z"
   },
   {
    "duration": 64,
    "start_time": "2023-03-09T16:41:27.614Z"
   },
   {
    "duration": 49,
    "start_time": "2023-03-09T16:41:27.680Z"
   },
   {
    "duration": 45,
    "start_time": "2023-03-09T16:41:27.730Z"
   },
   {
    "duration": 0,
    "start_time": "2023-03-09T16:41:27.777Z"
   },
   {
    "duration": 0,
    "start_time": "2023-03-09T16:41:27.778Z"
   },
   {
    "duration": 0,
    "start_time": "2023-03-09T16:41:27.779Z"
   },
   {
    "duration": 0,
    "start_time": "2023-03-09T16:41:27.780Z"
   },
   {
    "duration": 0,
    "start_time": "2023-03-09T16:41:27.781Z"
   },
   {
    "duration": 0,
    "start_time": "2023-03-09T16:41:27.782Z"
   },
   {
    "duration": 0,
    "start_time": "2023-03-09T16:41:27.783Z"
   },
   {
    "duration": 0,
    "start_time": "2023-03-09T16:41:27.784Z"
   },
   {
    "duration": 0,
    "start_time": "2023-03-09T16:41:27.785Z"
   },
   {
    "duration": 0,
    "start_time": "2023-03-09T16:41:27.786Z"
   },
   {
    "duration": 0,
    "start_time": "2023-03-09T16:41:27.787Z"
   },
   {
    "duration": 0,
    "start_time": "2023-03-09T16:41:27.788Z"
   },
   {
    "duration": 0,
    "start_time": "2023-03-09T16:41:27.789Z"
   },
   {
    "duration": 0,
    "start_time": "2023-03-09T16:41:27.790Z"
   },
   {
    "duration": 0,
    "start_time": "2023-03-09T16:41:27.792Z"
   },
   {
    "duration": 0,
    "start_time": "2023-03-09T16:41:27.793Z"
   },
   {
    "duration": 0,
    "start_time": "2023-03-09T16:41:27.794Z"
   },
   {
    "duration": 0,
    "start_time": "2023-03-09T16:41:27.795Z"
   },
   {
    "duration": 0,
    "start_time": "2023-03-09T16:41:27.797Z"
   },
   {
    "duration": 30,
    "start_time": "2023-03-09T16:42:00.626Z"
   },
   {
    "duration": 30,
    "start_time": "2023-03-09T16:42:33.350Z"
   },
   {
    "duration": 28,
    "start_time": "2023-03-09T16:43:30.471Z"
   },
   {
    "duration": 2021,
    "start_time": "2023-03-09T16:44:10.758Z"
   },
   {
    "duration": 1401,
    "start_time": "2023-03-09T16:44:12.781Z"
   },
   {
    "duration": 43,
    "start_time": "2023-03-09T16:44:14.183Z"
   },
   {
    "duration": 268,
    "start_time": "2023-03-09T16:44:14.228Z"
   },
   {
    "duration": 41,
    "start_time": "2023-03-09T16:44:14.497Z"
   },
   {
    "duration": 37,
    "start_time": "2023-03-09T16:44:14.540Z"
   },
   {
    "duration": 8,
    "start_time": "2023-03-09T16:44:14.579Z"
   },
   {
    "duration": 11,
    "start_time": "2023-03-09T16:44:14.588Z"
   },
   {
    "duration": 79,
    "start_time": "2023-03-09T16:44:14.600Z"
   },
   {
    "duration": 117,
    "start_time": "2023-03-09T16:44:14.681Z"
   },
   {
    "duration": 12,
    "start_time": "2023-03-09T16:44:14.800Z"
   },
   {
    "duration": 24,
    "start_time": "2023-03-09T16:44:14.814Z"
   },
   {
    "duration": 77,
    "start_time": "2023-03-09T16:44:14.839Z"
   },
   {
    "duration": 10,
    "start_time": "2023-03-09T16:44:14.918Z"
   },
   {
    "duration": 31,
    "start_time": "2023-03-09T16:44:14.929Z"
   },
   {
    "duration": 3,
    "start_time": "2023-03-09T16:44:14.961Z"
   },
   {
    "duration": 21,
    "start_time": "2023-03-09T16:44:14.965Z"
   },
   {
    "duration": 71,
    "start_time": "2023-03-09T16:44:14.988Z"
   },
   {
    "duration": 65,
    "start_time": "2023-03-09T16:44:15.060Z"
   },
   {
    "duration": 65,
    "start_time": "2023-03-09T16:44:15.127Z"
   },
   {
    "duration": 8,
    "start_time": "2023-03-09T16:44:15.193Z"
   },
   {
    "duration": 10,
    "start_time": "2023-03-09T16:44:15.202Z"
   },
   {
    "duration": 7,
    "start_time": "2023-03-09T16:44:15.213Z"
   },
   {
    "duration": 7,
    "start_time": "2023-03-09T16:44:15.222Z"
   },
   {
    "duration": 135,
    "start_time": "2023-03-09T16:44:15.231Z"
   },
   {
    "duration": 30,
    "start_time": "2023-03-09T16:44:15.367Z"
   },
   {
    "duration": 20,
    "start_time": "2023-03-09T16:44:15.398Z"
   },
   {
    "duration": 57,
    "start_time": "2023-03-09T16:44:15.423Z"
   },
   {
    "duration": 7,
    "start_time": "2023-03-09T16:44:15.481Z"
   },
   {
    "duration": 28,
    "start_time": "2023-03-09T16:44:15.489Z"
   },
   {
    "duration": 54,
    "start_time": "2023-03-09T16:44:15.519Z"
   },
   {
    "duration": 88,
    "start_time": "2023-03-09T16:44:15.575Z"
   },
   {
    "duration": 9,
    "start_time": "2023-03-09T16:44:15.664Z"
   },
   {
    "duration": 11,
    "start_time": "2023-03-09T16:44:15.675Z"
   },
   {
    "duration": 8,
    "start_time": "2023-03-09T16:44:15.688Z"
   },
   {
    "duration": 10,
    "start_time": "2023-03-09T16:44:15.697Z"
   },
   {
    "duration": 6,
    "start_time": "2023-03-09T16:44:15.708Z"
   },
   {
    "duration": 100,
    "start_time": "2023-03-09T16:44:15.715Z"
   },
   {
    "duration": 75,
    "start_time": "2023-03-09T16:44:15.816Z"
   },
   {
    "duration": 172,
    "start_time": "2023-03-09T16:44:15.892Z"
   },
   {
    "duration": 23,
    "start_time": "2023-03-09T16:44:16.066Z"
   },
   {
    "duration": 134,
    "start_time": "2023-03-09T16:44:16.090Z"
   },
   {
    "duration": 83,
    "start_time": "2023-03-09T16:44:16.226Z"
   },
   {
    "duration": 231,
    "start_time": "2023-03-09T16:44:16.311Z"
   },
   {
    "duration": 58,
    "start_time": "2023-03-09T16:44:16.544Z"
   },
   {
    "duration": 117,
    "start_time": "2023-03-09T16:44:16.603Z"
   },
   {
    "duration": 0,
    "start_time": "2023-03-09T16:44:16.722Z"
   },
   {
    "duration": 0,
    "start_time": "2023-03-09T16:44:16.723Z"
   },
   {
    "duration": 0,
    "start_time": "2023-03-09T16:44:16.724Z"
   },
   {
    "duration": 0,
    "start_time": "2023-03-09T16:44:16.725Z"
   },
   {
    "duration": 0,
    "start_time": "2023-03-09T16:44:16.726Z"
   },
   {
    "duration": 0,
    "start_time": "2023-03-09T16:44:16.727Z"
   },
   {
    "duration": 0,
    "start_time": "2023-03-09T16:44:16.728Z"
   },
   {
    "duration": 0,
    "start_time": "2023-03-09T16:44:16.729Z"
   },
   {
    "duration": 0,
    "start_time": "2023-03-09T16:44:16.826Z"
   },
   {
    "duration": 0,
    "start_time": "2023-03-09T16:44:16.828Z"
   },
   {
    "duration": 0,
    "start_time": "2023-03-09T16:44:16.829Z"
   },
   {
    "duration": 0,
    "start_time": "2023-03-09T16:44:16.829Z"
   },
   {
    "duration": 0,
    "start_time": "2023-03-09T16:44:16.831Z"
   },
   {
    "duration": 0,
    "start_time": "2023-03-09T16:44:16.831Z"
   },
   {
    "duration": 0,
    "start_time": "2023-03-09T16:44:16.832Z"
   },
   {
    "duration": 0,
    "start_time": "2023-03-09T16:44:16.833Z"
   },
   {
    "duration": 0,
    "start_time": "2023-03-09T16:44:16.834Z"
   },
   {
    "duration": 55,
    "start_time": "2023-03-09T16:45:47.115Z"
   },
   {
    "duration": 70,
    "start_time": "2023-03-09T16:45:53.955Z"
   },
   {
    "duration": 18,
    "start_time": "2023-03-09T16:47:08.172Z"
   },
   {
    "duration": 52,
    "start_time": "2023-03-09T16:48:00.363Z"
   },
   {
    "duration": 176,
    "start_time": "2023-03-09T16:48:09.535Z"
   },
   {
    "duration": 41,
    "start_time": "2023-03-09T16:49:17.525Z"
   },
   {
    "duration": 41,
    "start_time": "2023-03-09T16:49:22.117Z"
   },
   {
    "duration": 45,
    "start_time": "2023-03-09T16:49:32.423Z"
   },
   {
    "duration": 22,
    "start_time": "2023-03-09T16:49:41.122Z"
   },
   {
    "duration": 53,
    "start_time": "2023-03-09T16:51:13.519Z"
   },
   {
    "duration": 8,
    "start_time": "2023-03-09T16:52:39.345Z"
   },
   {
    "duration": 12,
    "start_time": "2023-03-09T16:53:00.250Z"
   },
   {
    "duration": 12,
    "start_time": "2023-03-09T16:53:43.185Z"
   },
   {
    "duration": 13,
    "start_time": "2023-03-09T16:53:46.110Z"
   },
   {
    "duration": 10,
    "start_time": "2023-03-09T16:56:27.595Z"
   },
   {
    "duration": 199,
    "start_time": "2023-03-09T17:00:37.149Z"
   },
   {
    "duration": 175,
    "start_time": "2023-03-09T17:01:05.184Z"
   },
   {
    "duration": 203,
    "start_time": "2023-03-09T17:05:33.246Z"
   },
   {
    "duration": 120,
    "start_time": "2023-03-09T17:26:57.339Z"
   },
   {
    "duration": 2176,
    "start_time": "2023-03-09T17:27:18.943Z"
   },
   {
    "duration": 5,
    "start_time": "2023-03-09T17:27:21.122Z"
   },
   {
    "duration": 47,
    "start_time": "2023-03-09T17:27:21.128Z"
   },
   {
    "duration": 308,
    "start_time": "2023-03-09T17:27:21.176Z"
   },
   {
    "duration": 43,
    "start_time": "2023-03-09T17:27:21.486Z"
   },
   {
    "duration": 44,
    "start_time": "2023-03-09T17:27:21.531Z"
   },
   {
    "duration": 11,
    "start_time": "2023-03-09T17:27:21.577Z"
   },
   {
    "duration": 22,
    "start_time": "2023-03-09T17:27:21.591Z"
   },
   {
    "duration": 151,
    "start_time": "2023-03-09T17:27:21.615Z"
   },
   {
    "duration": 141,
    "start_time": "2023-03-09T17:27:21.768Z"
   },
   {
    "duration": 19,
    "start_time": "2023-03-09T17:27:21.911Z"
   },
   {
    "duration": 38,
    "start_time": "2023-03-09T17:27:21.932Z"
   },
   {
    "duration": 93,
    "start_time": "2023-03-09T17:27:21.972Z"
   },
   {
    "duration": 9,
    "start_time": "2023-03-09T17:27:22.068Z"
   },
   {
    "duration": 19,
    "start_time": "2023-03-09T17:27:22.080Z"
   },
   {
    "duration": 30,
    "start_time": "2023-03-09T17:27:22.102Z"
   },
   {
    "duration": 29,
    "start_time": "2023-03-09T17:27:22.142Z"
   },
   {
    "duration": 95,
    "start_time": "2023-03-09T17:27:22.172Z"
   },
   {
    "duration": 62,
    "start_time": "2023-03-09T17:27:22.269Z"
   },
   {
    "duration": 83,
    "start_time": "2023-03-09T17:27:22.333Z"
   },
   {
    "duration": 9,
    "start_time": "2023-03-09T17:27:22.418Z"
   },
   {
    "duration": 6,
    "start_time": "2023-03-09T17:27:22.429Z"
   },
   {
    "duration": 7,
    "start_time": "2023-03-09T17:27:22.454Z"
   },
   {
    "duration": 9,
    "start_time": "2023-03-09T17:27:22.463Z"
   },
   {
    "duration": 179,
    "start_time": "2023-03-09T17:27:22.475Z"
   },
   {
    "duration": 34,
    "start_time": "2023-03-09T17:27:22.655Z"
   },
   {
    "duration": 21,
    "start_time": "2023-03-09T17:27:22.691Z"
   },
   {
    "duration": 56,
    "start_time": "2023-03-09T17:27:22.714Z"
   },
   {
    "duration": 10,
    "start_time": "2023-03-09T17:27:22.772Z"
   },
   {
    "duration": 27,
    "start_time": "2023-03-09T17:27:22.784Z"
   },
   {
    "duration": 54,
    "start_time": "2023-03-09T17:27:22.814Z"
   },
   {
    "duration": 90,
    "start_time": "2023-03-09T17:27:22.869Z"
   },
   {
    "duration": 11,
    "start_time": "2023-03-09T17:27:22.962Z"
   },
   {
    "duration": 12,
    "start_time": "2023-03-09T17:27:22.975Z"
   },
   {
    "duration": 8,
    "start_time": "2023-03-09T17:27:22.990Z"
   },
   {
    "duration": 11,
    "start_time": "2023-03-09T17:27:22.999Z"
   },
   {
    "duration": 41,
    "start_time": "2023-03-09T17:27:23.012Z"
   },
   {
    "duration": 68,
    "start_time": "2023-03-09T17:27:23.055Z"
   },
   {
    "duration": 87,
    "start_time": "2023-03-09T17:27:23.125Z"
   },
   {
    "duration": 196,
    "start_time": "2023-03-09T17:27:23.213Z"
   },
   {
    "duration": 42,
    "start_time": "2023-03-09T17:27:23.412Z"
   },
   {
    "duration": 152,
    "start_time": "2023-03-09T17:27:23.456Z"
   },
   {
    "duration": 91,
    "start_time": "2023-03-09T17:27:23.610Z"
   },
   {
    "duration": 292,
    "start_time": "2023-03-09T17:27:23.703Z"
   },
   {
    "duration": 93,
    "start_time": "2023-03-09T17:27:23.997Z"
   },
   {
    "duration": 28,
    "start_time": "2023-03-09T17:27:24.093Z"
   },
   {
    "duration": 34,
    "start_time": "2023-03-09T17:27:24.123Z"
   },
   {
    "duration": 227,
    "start_time": "2023-03-09T17:27:24.159Z"
   },
   {
    "duration": 143,
    "start_time": "2023-03-09T17:27:24.388Z"
   },
   {
    "duration": 22,
    "start_time": "2023-03-09T17:27:24.533Z"
   },
   {
    "duration": 81,
    "start_time": "2023-03-09T17:27:24.558Z"
   },
   {
    "duration": 55,
    "start_time": "2023-03-09T17:27:24.654Z"
   },
   {
    "duration": 244,
    "start_time": "2023-03-09T17:27:24.711Z"
   },
   {
    "duration": 11,
    "start_time": "2023-03-09T17:27:24.957Z"
   },
   {
    "duration": 9,
    "start_time": "2023-03-09T17:27:24.970Z"
   },
   {
    "duration": 599,
    "start_time": "2023-03-09T17:27:24.981Z"
   },
   {
    "duration": 19,
    "start_time": "2023-03-09T17:27:25.583Z"
   },
   {
    "duration": 19,
    "start_time": "2023-03-09T17:27:25.604Z"
   },
   {
    "duration": 51,
    "start_time": "2023-03-09T17:27:25.625Z"
   },
   {
    "duration": 22,
    "start_time": "2023-03-09T17:27:25.678Z"
   },
   {
    "duration": 74,
    "start_time": "2023-03-09T17:27:25.702Z"
   },
   {
    "duration": 9,
    "start_time": "2023-03-09T17:27:25.778Z"
   },
   {
    "duration": 157,
    "start_time": "2023-03-09T17:27:25.789Z"
   },
   {
    "duration": 52,
    "start_time": "2023-03-09T17:27:25.954Z"
   },
   {
    "duration": 61,
    "start_time": "2023-03-09T17:27:26.008Z"
   },
   {
    "duration": 2172,
    "start_time": "2023-03-09T17:29:30.629Z"
   },
   {
    "duration": 4,
    "start_time": "2023-03-09T17:29:32.804Z"
   },
   {
    "duration": 43,
    "start_time": "2023-03-09T17:29:32.811Z"
   },
   {
    "duration": 290,
    "start_time": "2023-03-09T17:29:32.857Z"
   },
   {
    "duration": 44,
    "start_time": "2023-03-09T17:29:33.153Z"
   },
   {
    "duration": 35,
    "start_time": "2023-03-09T17:29:33.199Z"
   },
   {
    "duration": 21,
    "start_time": "2023-03-09T17:29:33.236Z"
   },
   {
    "duration": 10,
    "start_time": "2023-03-09T17:29:33.259Z"
   },
   {
    "duration": 59,
    "start_time": "2023-03-09T17:29:33.271Z"
   },
   {
    "duration": 78,
    "start_time": "2023-03-09T17:29:33.356Z"
   },
   {
    "duration": 13,
    "start_time": "2023-03-09T17:29:33.454Z"
   },
   {
    "duration": 17,
    "start_time": "2023-03-09T17:29:33.469Z"
   },
   {
    "duration": 89,
    "start_time": "2023-03-09T17:29:33.488Z"
   },
   {
    "duration": 8,
    "start_time": "2023-03-09T17:29:33.579Z"
   },
   {
    "duration": 13,
    "start_time": "2023-03-09T17:29:33.588Z"
   },
   {
    "duration": 2,
    "start_time": "2023-03-09T17:29:33.603Z"
   },
   {
    "duration": 31,
    "start_time": "2023-03-09T17:29:33.606Z"
   },
   {
    "duration": 58,
    "start_time": "2023-03-09T17:29:33.654Z"
   },
   {
    "duration": 75,
    "start_time": "2023-03-09T17:29:33.714Z"
   },
   {
    "duration": 55,
    "start_time": "2023-03-09T17:29:33.791Z"
   },
   {
    "duration": 9,
    "start_time": "2023-03-09T17:29:33.854Z"
   },
   {
    "duration": 6,
    "start_time": "2023-03-09T17:29:33.864Z"
   },
   {
    "duration": 8,
    "start_time": "2023-03-09T17:29:33.872Z"
   },
   {
    "duration": 22,
    "start_time": "2023-03-09T17:29:33.882Z"
   },
   {
    "duration": 298,
    "start_time": "2023-03-09T17:29:33.906Z"
   },
   {
    "duration": 37,
    "start_time": "2023-03-09T17:29:34.206Z"
   },
   {
    "duration": 22,
    "start_time": "2023-03-09T17:29:34.252Z"
   },
   {
    "duration": 34,
    "start_time": "2023-03-09T17:29:34.278Z"
   },
   {
    "duration": 27,
    "start_time": "2023-03-09T17:29:34.313Z"
   },
   {
    "duration": 25,
    "start_time": "2023-03-09T17:29:34.342Z"
   },
   {
    "duration": 2068,
    "start_time": "2023-03-09T17:29:46.201Z"
   },
   {
    "duration": 6,
    "start_time": "2023-03-09T17:29:48.271Z"
   },
   {
    "duration": 48,
    "start_time": "2023-03-09T17:29:48.279Z"
   },
   {
    "duration": 330,
    "start_time": "2023-03-09T17:29:48.329Z"
   },
   {
    "duration": 46,
    "start_time": "2023-03-09T17:29:48.661Z"
   },
   {
    "duration": 49,
    "start_time": "2023-03-09T17:29:48.709Z"
   },
   {
    "duration": 9,
    "start_time": "2023-03-09T17:29:48.760Z"
   },
   {
    "duration": 11,
    "start_time": "2023-03-09T17:29:48.772Z"
   },
   {
    "duration": 84,
    "start_time": "2023-03-09T17:29:48.785Z"
   },
   {
    "duration": 85,
    "start_time": "2023-03-09T17:29:48.871Z"
   },
   {
    "duration": 13,
    "start_time": "2023-03-09T17:29:48.958Z"
   },
   {
    "duration": 19,
    "start_time": "2023-03-09T17:29:48.972Z"
   },
   {
    "duration": 101,
    "start_time": "2023-03-09T17:29:48.992Z"
   },
   {
    "duration": 10,
    "start_time": "2023-03-09T17:29:49.095Z"
   },
   {
    "duration": 13,
    "start_time": "2023-03-09T17:29:49.106Z"
   },
   {
    "duration": 2,
    "start_time": "2023-03-09T17:29:49.122Z"
   },
   {
    "duration": 27,
    "start_time": "2023-03-09T17:29:49.154Z"
   },
   {
    "duration": 75,
    "start_time": "2023-03-09T17:29:49.184Z"
   },
   {
    "duration": 63,
    "start_time": "2023-03-09T17:29:49.261Z"
   },
   {
    "duration": 71,
    "start_time": "2023-03-09T17:29:49.326Z"
   },
   {
    "duration": 9,
    "start_time": "2023-03-09T17:29:49.399Z"
   },
   {
    "duration": 6,
    "start_time": "2023-03-09T17:29:49.410Z"
   },
   {
    "duration": 9,
    "start_time": "2023-03-09T17:29:49.419Z"
   },
   {
    "duration": 7,
    "start_time": "2023-03-09T17:29:49.454Z"
   },
   {
    "duration": 164,
    "start_time": "2023-03-09T17:29:49.463Z"
   },
   {
    "duration": 41,
    "start_time": "2023-03-09T17:29:49.629Z"
   },
   {
    "duration": 24,
    "start_time": "2023-03-09T17:29:49.671Z"
   },
   {
    "duration": 41,
    "start_time": "2023-03-09T17:29:49.696Z"
   },
   {
    "duration": 3,
    "start_time": "2023-03-09T17:29:49.754Z"
   },
   {
    "duration": 29,
    "start_time": "2023-03-09T17:29:49.759Z"
   },
   {
    "duration": 65,
    "start_time": "2023-03-09T17:29:49.790Z"
   },
   {
    "duration": 98,
    "start_time": "2023-03-09T17:29:49.857Z"
   },
   {
    "duration": 11,
    "start_time": "2023-03-09T17:29:49.957Z"
   },
   {
    "duration": 12,
    "start_time": "2023-03-09T17:29:49.970Z"
   },
   {
    "duration": 9,
    "start_time": "2023-03-09T17:29:49.984Z"
   },
   {
    "duration": 12,
    "start_time": "2023-03-09T17:29:49.995Z"
   },
   {
    "duration": 12,
    "start_time": "2023-03-09T17:29:50.008Z"
   },
   {
    "duration": 100,
    "start_time": "2023-03-09T17:29:50.022Z"
   },
   {
    "duration": 109,
    "start_time": "2023-03-09T17:29:50.124Z"
   },
   {
    "duration": 195,
    "start_time": "2023-03-09T17:29:50.235Z"
   },
   {
    "duration": 31,
    "start_time": "2023-03-09T17:29:50.432Z"
   },
   {
    "duration": 138,
    "start_time": "2023-03-09T17:29:50.464Z"
   },
   {
    "duration": 80,
    "start_time": "2023-03-09T17:29:50.603Z"
   },
   {
    "duration": 250,
    "start_time": "2023-03-09T17:29:50.685Z"
   },
   {
    "duration": 73,
    "start_time": "2023-03-09T17:29:50.937Z"
   },
   {
    "duration": 21,
    "start_time": "2023-03-09T17:29:51.012Z"
   },
   {
    "duration": 28,
    "start_time": "2023-03-09T17:29:51.034Z"
   },
   {
    "duration": 206,
    "start_time": "2023-03-09T17:29:51.063Z"
   },
   {
    "duration": 107,
    "start_time": "2023-03-09T17:29:51.270Z"
   },
   {
    "duration": 21,
    "start_time": "2023-03-09T17:29:51.379Z"
   },
   {
    "duration": 100,
    "start_time": "2023-03-09T17:29:51.402Z"
   },
   {
    "duration": 61,
    "start_time": "2023-03-09T17:29:51.503Z"
   },
   {
    "duration": 247,
    "start_time": "2023-03-09T17:29:51.566Z"
   },
   {
    "duration": 9,
    "start_time": "2023-03-09T17:29:51.815Z"
   },
   {
    "duration": 27,
    "start_time": "2023-03-09T17:29:51.826Z"
   },
   {
    "duration": 614,
    "start_time": "2023-03-09T17:29:51.855Z"
   },
   {
    "duration": 15,
    "start_time": "2023-03-09T17:29:52.476Z"
   },
   {
    "duration": 15,
    "start_time": "2023-03-09T17:29:52.493Z"
   },
   {
    "duration": 30,
    "start_time": "2023-03-09T17:29:52.510Z"
   },
   {
    "duration": 32,
    "start_time": "2023-03-09T17:29:52.541Z"
   },
   {
    "duration": 55,
    "start_time": "2023-03-09T17:29:52.575Z"
   },
   {
    "duration": 28,
    "start_time": "2023-03-09T17:29:52.632Z"
   },
   {
    "duration": 163,
    "start_time": "2023-03-09T17:29:52.662Z"
   },
   {
    "duration": 62,
    "start_time": "2023-03-09T17:29:52.827Z"
   },
   {
    "duration": 66,
    "start_time": "2023-03-09T17:29:52.891Z"
   },
   {
    "duration": 45,
    "start_time": "2023-03-09T18:01:21.987Z"
   },
   {
    "duration": 160,
    "start_time": "2023-03-09T18:19:58.706Z"
   },
   {
    "duration": 2822,
    "start_time": "2023-03-09T18:37:22.453Z"
   },
   {
    "duration": 1516,
    "start_time": "2023-03-09T18:37:25.279Z"
   },
   {
    "duration": 52,
    "start_time": "2023-03-09T18:37:26.797Z"
   },
   {
    "duration": 2152,
    "start_time": "2023-03-09T18:37:31.685Z"
   },
   {
    "duration": 4,
    "start_time": "2023-03-09T18:37:33.839Z"
   },
   {
    "duration": 42,
    "start_time": "2023-03-09T18:37:33.845Z"
   },
   {
    "duration": 380,
    "start_time": "2023-03-09T18:37:33.889Z"
   },
   {
    "duration": 44,
    "start_time": "2023-03-09T18:37:34.271Z"
   },
   {
    "duration": 43,
    "start_time": "2023-03-09T18:37:34.317Z"
   },
   {
    "duration": 9,
    "start_time": "2023-03-09T18:37:34.362Z"
   },
   {
    "duration": 11,
    "start_time": "2023-03-09T18:37:34.373Z"
   },
   {
    "duration": 74,
    "start_time": "2023-03-09T18:37:34.385Z"
   },
   {
    "duration": 68,
    "start_time": "2023-03-09T18:37:34.460Z"
   },
   {
    "duration": 29,
    "start_time": "2023-03-09T18:37:34.529Z"
   },
   {
    "duration": 20,
    "start_time": "2023-03-09T18:37:34.559Z"
   },
   {
    "duration": 87,
    "start_time": "2023-03-09T18:37:34.581Z"
   },
   {
    "duration": 12,
    "start_time": "2023-03-09T18:37:34.671Z"
   },
   {
    "duration": 16,
    "start_time": "2023-03-09T18:37:34.685Z"
   },
   {
    "duration": 3,
    "start_time": "2023-03-09T18:37:34.703Z"
   },
   {
    "duration": 55,
    "start_time": "2023-03-09T18:37:34.716Z"
   },
   {
    "duration": 55,
    "start_time": "2023-03-09T18:37:34.774Z"
   },
   {
    "duration": 75,
    "start_time": "2023-03-09T18:37:34.830Z"
   },
   {
    "duration": 58,
    "start_time": "2023-03-09T18:37:34.907Z"
   },
   {
    "duration": 8,
    "start_time": "2023-03-09T18:37:34.966Z"
   },
   {
    "duration": 5,
    "start_time": "2023-03-09T18:37:34.976Z"
   },
   {
    "duration": 7,
    "start_time": "2023-03-09T18:37:34.983Z"
   },
   {
    "duration": 16,
    "start_time": "2023-03-09T18:37:34.991Z"
   },
   {
    "duration": 146,
    "start_time": "2023-03-09T18:37:35.008Z"
   },
   {
    "duration": 33,
    "start_time": "2023-03-09T18:37:35.156Z"
   },
   {
    "duration": 18,
    "start_time": "2023-03-09T18:37:35.190Z"
   },
   {
    "duration": 56,
    "start_time": "2023-03-09T18:37:35.210Z"
   },
   {
    "duration": 10,
    "start_time": "2023-03-09T18:37:35.268Z"
   },
   {
    "duration": 55,
    "start_time": "2023-03-09T18:37:35.280Z"
   },
   {
    "duration": 52,
    "start_time": "2023-03-09T18:37:35.336Z"
   },
   {
    "duration": 90,
    "start_time": "2023-03-09T18:37:35.390Z"
   },
   {
    "duration": 11,
    "start_time": "2023-03-09T18:37:35.482Z"
   },
   {
    "duration": 27,
    "start_time": "2023-03-09T18:37:35.494Z"
   },
   {
    "duration": 9,
    "start_time": "2023-03-09T18:37:35.523Z"
   },
   {
    "duration": 19,
    "start_time": "2023-03-09T18:37:35.534Z"
   },
   {
    "duration": 7,
    "start_time": "2023-03-09T18:37:35.555Z"
   },
   {
    "duration": 91,
    "start_time": "2023-03-09T18:37:35.564Z"
   },
   {
    "duration": 71,
    "start_time": "2023-03-09T18:37:35.657Z"
   },
   {
    "duration": 205,
    "start_time": "2023-03-09T18:37:35.731Z"
   },
   {
    "duration": 31,
    "start_time": "2023-03-09T18:37:35.938Z"
   },
   {
    "duration": 137,
    "start_time": "2023-03-09T18:37:35.971Z"
   },
   {
    "duration": 81,
    "start_time": "2023-03-09T18:37:36.109Z"
   },
   {
    "duration": 246,
    "start_time": "2023-03-09T18:37:36.191Z"
   },
   {
    "duration": 73,
    "start_time": "2023-03-09T18:37:36.439Z"
   },
   {
    "duration": 39,
    "start_time": "2023-03-09T18:37:36.515Z"
   },
   {
    "duration": 12,
    "start_time": "2023-03-09T18:37:36.556Z"
   },
   {
    "duration": 198,
    "start_time": "2023-03-09T18:37:36.570Z"
   },
   {
    "duration": 105,
    "start_time": "2023-03-09T18:37:36.770Z"
   },
   {
    "duration": 19,
    "start_time": "2023-03-09T18:37:36.877Z"
   },
   {
    "duration": 84,
    "start_time": "2023-03-09T18:37:36.898Z"
   },
   {
    "duration": 54,
    "start_time": "2023-03-09T18:37:36.983Z"
   },
   {
    "duration": 234,
    "start_time": "2023-03-09T18:37:37.039Z"
   },
   {
    "duration": 9,
    "start_time": "2023-03-09T18:37:37.275Z"
   },
   {
    "duration": 11,
    "start_time": "2023-03-09T18:37:37.287Z"
   },
   {
    "duration": 155,
    "start_time": "2023-03-09T18:54:54.725Z"
   }
  ],
  "kernelspec": {
   "display_name": "Python 3 (ipykernel)",
   "language": "python",
   "name": "python3"
  },
  "language_info": {
   "codemirror_mode": {
    "name": "ipython",
    "version": 3
   },
   "file_extension": ".py",
   "mimetype": "text/x-python",
   "name": "python",
   "nbconvert_exporter": "python",
   "pygments_lexer": "ipython3",
   "version": "3.9.13"
  },
  "toc": {
   "base_numbering": 1,
   "nav_menu": {},
   "number_sections": true,
   "sideBar": true,
   "skip_h1_title": true,
   "title_cell": "Table of Contents",
   "title_sidebar": "Contents",
   "toc_cell": false,
   "toc_position": {},
   "toc_section_display": true,
   "toc_window_display": false
  }
 },
 "nbformat": 4,
 "nbformat_minor": 5
}
