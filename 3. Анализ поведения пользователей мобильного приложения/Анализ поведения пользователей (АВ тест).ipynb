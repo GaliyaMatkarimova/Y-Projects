{
 "cells": [
  {
   "cell_type": "markdown",
   "metadata": {},
   "source": [
    "# **Анализ поведения пользователей мобильного приложения (А/А/В тест)** #"
   ]
  },
  {
   "cell_type": "markdown",
   "metadata": {},
   "source": [
    "**Цель исследования** — изучить поведение пользователей мобильного приложения.\n",
    "<br>\n",
    "\n",
    "В ходе анализа будут проанализированы следующие *данные о пользователях*:\n",
    "<br>\n",
    "\n",
    "•\tEventName — название события;\n",
    "<br>\n",
    "•\tDeviceIDHash — уникальный идентификатор пользователя;\n",
    "<br>\n",
    "•\tEventTimestamp — время события;\n",
    "<br>\n",
    "•\tExpId — номер эксперимента: 246 и 247 — контрольные группы, а 248 — экспериментальная.\n",
    "<br>\n",
    "\n",
    "**Задачи исследования**:\n",
    "- провести предисследовательский анализ данных (проверить пропуски и типы данных, скорректировать названия колонок)\n",
    "- провести исследовательский анализ данных (посчитать количество событий и пользователей в логе, выявить временной период анализа и т.д.)\n",
    "- изучить воронку событий\n",
    "- провести и исследовать результаты A/A/B-эксперимента.\n",
    "<br>"
   ]
  },
  {
   "cell_type": "markdown",
   "metadata": {},
   "source": [
    "\n",
    "## Общая информация по данным"
   ]
  },
  {
   "cell_type": "code",
   "execution_count": 5,
   "metadata": {},
   "outputs": [],
   "source": [
    "# загрузим необходимые библиотеки\n",
    "import pandas as pd\n",
    "import numpy as np\n",
    "import matplotlib.pyplot as plt\n",
    "import datetime as dt\n",
    "from time import strftime\n",
    "import scipy.stats as st\n",
    "import math as mth\n",
    "import warnings\n",
    "warnings.filterwarnings('ignore')"
   ]
  },
  {
   "cell_type": "code",
   "execution_count": 6,
   "metadata": {},
   "outputs": [
    {
     "data": {
      "text/html": [
       "<div>\n",
       "<style scoped>\n",
       "    .dataframe tbody tr th:only-of-type {\n",
       "        vertical-align: middle;\n",
       "    }\n",
       "\n",
       "    .dataframe tbody tr th {\n",
       "        vertical-align: top;\n",
       "    }\n",
       "\n",
       "    .dataframe thead th {\n",
       "        text-align: right;\n",
       "    }\n",
       "</style>\n",
       "<table border=\"1\" class=\"dataframe\">\n",
       "  <thead>\n",
       "    <tr style=\"text-align: right;\">\n",
       "      <th></th>\n",
       "      <th>EventName</th>\n",
       "      <th>DeviceIDHash</th>\n",
       "      <th>EventTimestamp</th>\n",
       "      <th>ExpId</th>\n",
       "    </tr>\n",
       "  </thead>\n",
       "  <tbody>\n",
       "    <tr>\n",
       "      <th>0</th>\n",
       "      <td>MainScreenAppear</td>\n",
       "      <td>4575588528974610257</td>\n",
       "      <td>1564029816</td>\n",
       "      <td>246</td>\n",
       "    </tr>\n",
       "    <tr>\n",
       "      <th>1</th>\n",
       "      <td>MainScreenAppear</td>\n",
       "      <td>7416695313311560658</td>\n",
       "      <td>1564053102</td>\n",
       "      <td>246</td>\n",
       "    </tr>\n",
       "    <tr>\n",
       "      <th>2</th>\n",
       "      <td>PaymentScreenSuccessful</td>\n",
       "      <td>3518123091307005509</td>\n",
       "      <td>1564054127</td>\n",
       "      <td>248</td>\n",
       "    </tr>\n",
       "    <tr>\n",
       "      <th>3</th>\n",
       "      <td>CartScreenAppear</td>\n",
       "      <td>3518123091307005509</td>\n",
       "      <td>1564054127</td>\n",
       "      <td>248</td>\n",
       "    </tr>\n",
       "    <tr>\n",
       "      <th>4</th>\n",
       "      <td>PaymentScreenSuccessful</td>\n",
       "      <td>6217807653094995999</td>\n",
       "      <td>1564055322</td>\n",
       "      <td>248</td>\n",
       "    </tr>\n",
       "  </tbody>\n",
       "</table>\n",
       "</div>"
      ],
      "text/plain": [
       "                 EventName         DeviceIDHash  EventTimestamp  ExpId\n",
       "0         MainScreenAppear  4575588528974610257      1564029816    246\n",
       "1         MainScreenAppear  7416695313311560658      1564053102    246\n",
       "2  PaymentScreenSuccessful  3518123091307005509      1564054127    248\n",
       "3         CartScreenAppear  3518123091307005509      1564054127    248\n",
       "4  PaymentScreenSuccessful  6217807653094995999      1564055322    248"
      ]
     },
     "metadata": {},
     "output_type": "display_data"
    },
    {
     "name": "stdout",
     "output_type": "stream",
     "text": [
      "<class 'pandas.core.frame.DataFrame'>\n",
      "RangeIndex: 244126 entries, 0 to 244125\n",
      "Data columns (total 4 columns):\n",
      " #   Column          Non-Null Count   Dtype \n",
      "---  ------          --------------   ----- \n",
      " 0   EventName       244126 non-null  object\n",
      " 1   DeviceIDHash    244126 non-null  int64 \n",
      " 2   EventTimestamp  244126 non-null  int64 \n",
      " 3   ExpId           244126 non-null  int64 \n",
      "dtypes: int64(3), object(1)\n",
      "memory usage: 7.5+ MB\n"
     ]
    }
   ],
   "source": [
    "# загрузим данные, которые понадобятся для анализа, проведем общий анализ данных, применив методы head(), info()\n",
    "try:\n",
    "    path='/Users/Рафаэль/Desktop/Общий архив/product_analist/'\n",
    "    df = pd.read_csv(path+'logs_exp.csv', sep='\\t')\n",
    "except:\n",
    "    df = pd.read_csv('/datasets/logs_exp.csv')\n",
    "\n",
    "display(df.head(5))\n",
    "df.info()"
   ]
  },
  {
   "cell_type": "code",
   "execution_count": 7,
   "metadata": {},
   "outputs": [
    {
     "name": "stdout",
     "output_type": "stream",
     "text": [
      "<class 'pandas.core.frame.DataFrame'>\n",
      "RangeIndex: 244126 entries, 0 to 244125\n",
      "Data columns (total 4 columns):\n",
      " #   Column  Non-Null Count   Dtype \n",
      "---  ------  --------------   ----- \n",
      " 0   name    244126 non-null  object\n",
      " 1   id      244126 non-null  int64 \n",
      " 2   time    244126 non-null  int64 \n",
      " 3   group   244126 non-null  int64 \n",
      "dtypes: int64(3), object(1)\n",
      "memory usage: 7.5+ MB\n"
     ]
    }
   ],
   "source": [
    "# приведем название столбцов к общепринятому стилю и более подходящей формулировке\n",
    "df = df.rename(columns={'EventName':'name', 'DeviceIDHash':'id', 'EventTimestamp':'time', 'ExpId':'group'})\n",
    "\n",
    "#проверка\n",
    "df.info()"
   ]
  },
  {
   "cell_type": "code",
   "execution_count": 8,
   "metadata": {},
   "outputs": [],
   "source": [
    "# поменяем тип у столбца event_timestamp с int(вещественный) на date\n",
    "df['time'] = pd.to_datetime(df['time'], unit = 's')"
   ]
  },
  {
   "cell_type": "code",
   "execution_count": 9,
   "metadata": {
    "scrolled": true
   },
   "outputs": [
    {
     "name": "stdout",
     "output_type": "stream",
     "text": [
      "<class 'pandas.core.frame.DataFrame'>\n",
      "RangeIndex: 244126 entries, 0 to 244125\n",
      "Data columns (total 4 columns):\n",
      " #   Column  Non-Null Count   Dtype         \n",
      "---  ------  --------------   -----         \n",
      " 0   name    244126 non-null  object        \n",
      " 1   id      244126 non-null  int64         \n",
      " 2   time    244126 non-null  datetime64[ns]\n",
      " 3   group   244126 non-null  int64         \n",
      "dtypes: datetime64[ns](1), int64(2), object(1)\n",
      "memory usage: 7.5+ MB\n"
     ]
    }
   ],
   "source": [
    "# проверка\n",
    "df.info()"
   ]
  },
  {
   "cell_type": "code",
   "execution_count": 10,
   "metadata": {},
   "outputs": [
    {
     "data": {
      "text/plain": [
       "0    2019-07-25\n",
       "1    2019-07-25\n",
       "2    2019-07-25\n",
       "3    2019-07-25\n",
       "4    2019-07-25\n",
       "Name: date, dtype: object"
      ]
     },
     "execution_count": 10,
     "metadata": {},
     "output_type": "execute_result"
    }
   ],
   "source": [
    "# добавим столбец с датой\n",
    "df['date'] = df['time'].dt.date\n",
    "df['date'].head()"
   ]
  },
  {
   "cell_type": "code",
   "execution_count": 11,
   "metadata": {},
   "outputs": [
    {
     "data": {
      "text/plain": [
       "413"
      ]
     },
     "execution_count": 11,
     "metadata": {},
     "output_type": "execute_result"
    }
   ],
   "source": [
    "# проверим данные на явные дубликаты \n",
    "df.duplicated().sum()"
   ]
  },
  {
   "cell_type": "code",
   "execution_count": 12,
   "metadata": {},
   "outputs": [
    {
     "data": {
      "text/plain": [
       "0"
      ]
     },
     "execution_count": 12,
     "metadata": {},
     "output_type": "execute_result"
    }
   ],
   "source": [
    "df = df.drop_duplicates()\n",
    "df.duplicated().sum()"
   ]
  },
  {
   "cell_type": "code",
   "execution_count": 13,
   "metadata": {
    "scrolled": true
   },
   "outputs": [
    {
     "data": {
      "text/plain": [
       "248    85582\n",
       "246    80181\n",
       "247    77950\n",
       "Name: group, dtype: int64"
      ]
     },
     "execution_count": 13,
     "metadata": {},
     "output_type": "execute_result"
    }
   ],
   "source": [
    "# проверим на неявные дубликаты столбец group, name\n",
    "df['group'].value_counts()"
   ]
  },
  {
   "cell_type": "code",
   "execution_count": 14,
   "metadata": {},
   "outputs": [
    {
     "data": {
      "text/plain": [
       "MainScreenAppear           119101\n",
       "OffersScreenAppear          46808\n",
       "CartScreenAppear            42668\n",
       "PaymentScreenSuccessful     34118\n",
       "Tutorial                     1018\n",
       "Name: name, dtype: int64"
      ]
     },
     "execution_count": 14,
     "metadata": {},
     "output_type": "execute_result"
    }
   ],
   "source": [
    "df['name'].value_counts()"
   ]
  },
  {
   "cell_type": "code",
   "execution_count": 15,
   "metadata": {},
   "outputs": [
    {
     "data": {
      "text/plain": [
       "name     0\n",
       "id       0\n",
       "time     0\n",
       "group    0\n",
       "date     0\n",
       "dtype: int64"
      ]
     },
     "execution_count": 15,
     "metadata": {},
     "output_type": "execute_result"
    }
   ],
   "source": [
    "# проверим датафрейм на пропущенные значения методом isna() и sum().\n",
    "df.isna().sum()"
   ]
  },
  {
   "cell_type": "markdown",
   "metadata": {},
   "source": [
    "Общий анализ данных показал, что в датафрейме 244124 строк и 4 столбца.\n",
    "В исходных данных отсутствуют пропуски и неявные дубликаты, но присутствуют полные дубликаты (порядка 17%), которые были впоследствии удалены. Также были скорректированы названия и тип данных столбцов, добавлен столбец с датой (date). В целом можно сделать вывод, что данные достаточно качественные."
   ]
  },
  {
   "cell_type": "markdown",
   "metadata": {},
   "source": [
    "## Исследовательский анализ данных"
   ]
  },
  {
   "cell_type": "code",
   "execution_count": 16,
   "metadata": {
    "scrolled": true
   },
   "outputs": [
    {
     "name": "stdout",
     "output_type": "stream",
     "text": [
      "243713\n"
     ]
    },
    {
     "data": {
      "text/plain": [
       "7551"
      ]
     },
     "execution_count": 16,
     "metadata": {},
     "output_type": "execute_result"
    }
   ],
   "source": [
    "# посчитаем количество событий и пользователей в логе\n",
    "print(df['name'].count())\n",
    "\n",
    "# применим метод nunique для подсчета количества ункальных id\n",
    "df['id'].nunique()"
   ]
  },
  {
   "cell_type": "code",
   "execution_count": 17,
   "metadata": {},
   "outputs": [
    {
     "data": {
      "text/plain": [
       "32.3"
      ]
     },
     "execution_count": 17,
     "metadata": {},
     "output_type": "execute_result"
    }
   ],
   "source": [
    "# посчитаем среднее количество событий на пользователя\n",
    "mean_event_id = round(df['name'].count()/df['id'].nunique(), 1)\n",
    "mean_event_id "
   ]
  },
  {
   "cell_type": "code",
   "execution_count": 18,
   "metadata": {},
   "outputs": [
    {
     "name": "stdout",
     "output_type": "stream",
     "text": [
      "2019-07-25\n",
      "2019-08-07\n"
     ]
    }
   ],
   "source": [
    "# рассчитаем максимальную и минимальную даты исследуемого периода\n",
    "print(df['date'].min())\n",
    "print(df['date'].max())"
   ]
  },
  {
   "cell_type": "code",
   "execution_count": 19,
   "metadata": {
    "scrolled": true
   },
   "outputs": [
    {
     "data": {
      "image/png": "[encoded data removed]",
      "text/plain": [
       "<Figure size 1000x500 with 1 Axes>"
      ]
     },
     "metadata": {},
     "output_type": "display_data"
    }
   ],
   "source": [
    "# посмотрим на графике распределение типов событий\n",
    "plt.figure(figsize=(10, 5))\n",
    "df['name'].hist(bins=10)\n",
    "plt.ylim(0, 6000)\n",
    "plt.show()"
   ]
  },
  {
   "cell_type": "markdown",
   "metadata": {},
   "source": [
    "Согласно графику, тип события Tutorial встречается сильно реже остальных (порядка 1000 раз)."
   ]
  },
  {
   "cell_type": "code",
   "execution_count": 20,
   "metadata": {
    "scrolled": true
   },
   "outputs": [
    {
     "data": {
      "image/png": "[encoded data removed]",
      "text/plain": [
       "<Figure size 1500x500 with 1 Axes>"
      ]
     },
     "metadata": {},
     "output_type": "display_data"
    }
   ],
   "source": [
    "plt.figure(figsize=(15, 5))\n",
    "df['time'].hist(bins=14*24)\n",
    "plt.title('Распределение событий по времени', fontsize= 20)\n",
    "plt.ylabel(\"Количество событий\", fontsize=14)\n",
    "plt.xlabel(\"Дата и время\", fontsize=14)\n",
    "plt.show()"
   ]
  },
  {
   "cell_type": "code",
   "execution_count": 21,
   "metadata": {},
   "outputs": [],
   "source": [
    "# удадлим данные до 31 июля с помощью среза\n",
    "df1 = df[df['time']>'2019-08-01 00:00:00']"
   ]
  },
  {
   "cell_type": "code",
   "execution_count": 22,
   "metadata": {},
   "outputs": [
    {
     "data": {
      "image/png": "[encoded data removed]",
      "text/plain": [
       "<Figure size 1500x500 with 1 Axes>"
      ]
     },
     "metadata": {},
     "output_type": "display_data"
    }
   ],
   "source": [
    "# проверка\n",
    "plt.figure(figsize=(15, 5))\n",
    "df1['time'].hist(bins=14*24)\n",
    "plt.title('Распределение событий по времени', fontsize= 20)\n",
    "plt.ylabel(\"Количество событий\", fontsize=14)\n",
    "plt.xlabel(\"Дата и время\", fontsize=14)\n",
    "plt.show()"
   ]
  },
  {
   "cell_type": "code",
   "execution_count": 23,
   "metadata": {},
   "outputs": [
    {
     "name": "stdout",
     "output_type": "stream",
     "text": [
      "240887\n"
     ]
    },
    {
     "data": {
      "text/plain": [
       "7534"
      ]
     },
     "execution_count": 23,
     "metadata": {},
     "output_type": "execute_result"
    }
   ],
   "source": [
    "# посчитаем после среза количество пользователей и событий\n",
    "print(df1['name'].count())\n",
    "df1['id'].nunique()"
   ]
  },
  {
   "cell_type": "code",
   "execution_count": 24,
   "metadata": {},
   "outputs": [],
   "source": [
    "# посчитаем относительные показатели различия, объявим переменные с неотфильтрованными и отфильтрованными данными                         \n",
    "events = len(df)\n",
    "users = df['id'].nunique()\n",
    "events_filtered = len(df1)\n",
    "users_filtered = df1['id'].nunique()"
   ]
  },
  {
   "cell_type": "code",
   "execution_count": 25,
   "metadata": {},
   "outputs": [
    {
     "name": "stdout",
     "output_type": "stream",
     "text": [
      "1.16\n",
      "0.23\n"
     ]
    }
   ],
   "source": [
    "# посчитаем процент, округлив до 2 значений после запятой\n",
    "percentage_events = round(100-events_filtered/events*100, 2)\n",
    "print(percentage_events)\n",
    "percentage_users = round(100-users_filtered/users*100, 2)\n",
    "print(percentage_users)"
   ]
  },
  {
   "cell_type": "code",
   "execution_count": 26,
   "metadata": {},
   "outputs": [
    {
     "data": {
      "text/plain": [
       "32.3"
      ]
     },
     "execution_count": 26,
     "metadata": {},
     "output_type": "execute_result"
    }
   ],
   "source": [
    "# посчитаем среднее количество событий на пользователя\n",
    "mean_event_id = round(df['name'].count()/df['id'].nunique(), 1)\n",
    "mean_event_id "
   ]
  },
  {
   "cell_type": "code",
   "execution_count": 27,
   "metadata": {
    "scrolled": true
   },
   "outputs": [
    {
     "data": {
      "text/html": [
       "<div>\n",
       "<style scoped>\n",
       "    .dataframe tbody tr th:only-of-type {\n",
       "        vertical-align: middle;\n",
       "    }\n",
       "\n",
       "    .dataframe tbody tr th {\n",
       "        vertical-align: top;\n",
       "    }\n",
       "\n",
       "    .dataframe thead th {\n",
       "        text-align: right;\n",
       "    }\n",
       "</style>\n",
       "<table border=\"1\" class=\"dataframe\">\n",
       "  <thead>\n",
       "    <tr style=\"text-align: right;\">\n",
       "      <th></th>\n",
       "      <th>group</th>\n",
       "      <th>id</th>\n",
       "    </tr>\n",
       "  </thead>\n",
       "  <tbody>\n",
       "    <tr>\n",
       "      <th>0</th>\n",
       "      <td>248</td>\n",
       "      <td>84563</td>\n",
       "    </tr>\n",
       "    <tr>\n",
       "      <th>1</th>\n",
       "      <td>246</td>\n",
       "      <td>79302</td>\n",
       "    </tr>\n",
       "    <tr>\n",
       "      <th>2</th>\n",
       "      <td>247</td>\n",
       "      <td>77022</td>\n",
       "    </tr>\n",
       "  </tbody>\n",
       "</table>\n",
       "</div>"
      ],
      "text/plain": [
       "   group     id\n",
       "0    248  84563\n",
       "1    246  79302\n",
       "2    247  77022"
      ]
     },
     "execution_count": 27,
     "metadata": {},
     "output_type": "execute_result"
    }
   ],
   "source": [
    "# проверим число пользователей по трем экспериментальным группам\n",
    "# всего пользователей по группам\n",
    "count_event = df1.groupby(['group'])['id'].count().sort_values(ascending=False).reset_index()\n",
    "count_event"
   ]
  },
  {
   "cell_type": "code",
   "execution_count": 28,
   "metadata": {},
   "outputs": [
    {
     "data": {
      "text/html": [
       "<div>\n",
       "<style scoped>\n",
       "    .dataframe tbody tr th:only-of-type {\n",
       "        vertical-align: middle;\n",
       "    }\n",
       "\n",
       "    .dataframe tbody tr th {\n",
       "        vertical-align: top;\n",
       "    }\n",
       "\n",
       "    .dataframe thead th {\n",
       "        text-align: right;\n",
       "    }\n",
       "</style>\n",
       "<table border=\"1\" class=\"dataframe\">\n",
       "  <thead>\n",
       "    <tr style=\"text-align: right;\">\n",
       "      <th></th>\n",
       "      <th>group</th>\n",
       "      <th>id</th>\n",
       "    </tr>\n",
       "  </thead>\n",
       "  <tbody>\n",
       "    <tr>\n",
       "      <th>0</th>\n",
       "      <td>248</td>\n",
       "      <td>2537</td>\n",
       "    </tr>\n",
       "    <tr>\n",
       "      <th>1</th>\n",
       "      <td>247</td>\n",
       "      <td>2513</td>\n",
       "    </tr>\n",
       "    <tr>\n",
       "      <th>2</th>\n",
       "      <td>246</td>\n",
       "      <td>2484</td>\n",
       "    </tr>\n",
       "  </tbody>\n",
       "</table>\n",
       "</div>"
      ],
      "text/plain": [
       "   group    id\n",
       "0    248  2537\n",
       "1    247  2513\n",
       "2    246  2484"
      ]
     },
     "execution_count": 28,
     "metadata": {},
     "output_type": "execute_result"
    }
   ],
   "source": [
    "# всего уникальных пользователей\n",
    "users_count = df1.groupby('group').agg({'id': 'nunique'}).sort_values(by='id', ascending=False).reset_index()\n",
    "users_count"
   ]
  },
  {
   "cell_type": "markdown",
   "metadata": {},
   "source": [
    "В ходе исследовательского анализа было посчитано количество событий и пользователей (примерно 244 тыс и 7.6 тыс), а также среднее количество событий на пользователя (32). Кроме того, были рассчитаны максимальная и минимальная даты исследуемого периода - с 25 июля по 7 августа 2019 года, то есть 2 недели, на первый взгляд. Однако, после построения гистограммы по дате и времени можно увидеть, что только приблизительно с 1 августа начинаются события, поэтому следует отбросить ненужные данные (то есть до 31 июля). Таким образом, мы располагаем для последующего анализа следующим временным периодом: с 1 августа по 7 августа 2019 года.\n",
    "<br>\n",
    "\n",
    "После среза исходных данных, количество пользователей (было удалено всего 9) и событий (796 или 0.3%) не сильно сократилось, среднее число событий на пользователя не изменилось.\n",
    "<br>\n",
    "\n",
    "По всем трем экспериментальным группам количество пользователей (общее и уникальных) примерно одинаковое."
   ]
  },
  {
   "cell_type": "markdown",
   "metadata": {},
   "source": [
    "## Анализ воронки событий"
   ]
  },
  {
   "cell_type": "code",
   "execution_count": 29,
   "metadata": {
    "scrolled": true
   },
   "outputs": [
    {
     "data": {
      "text/html": [
       "<div>\n",
       "<style scoped>\n",
       "    .dataframe tbody tr th:only-of-type {\n",
       "        vertical-align: middle;\n",
       "    }\n",
       "\n",
       "    .dataframe tbody tr th {\n",
       "        vertical-align: top;\n",
       "    }\n",
       "\n",
       "    .dataframe thead th {\n",
       "        text-align: right;\n",
       "    }\n",
       "</style>\n",
       "<table border=\"1\" class=\"dataframe\">\n",
       "  <thead>\n",
       "    <tr style=\"text-align: right;\">\n",
       "      <th></th>\n",
       "      <th>name</th>\n",
       "      <th>count_users</th>\n",
       "    </tr>\n",
       "  </thead>\n",
       "  <tbody>\n",
       "    <tr>\n",
       "      <th>0</th>\n",
       "      <td>MainScreenAppear</td>\n",
       "      <td>7419</td>\n",
       "    </tr>\n",
       "    <tr>\n",
       "      <th>1</th>\n",
       "      <td>OffersScreenAppear</td>\n",
       "      <td>4593</td>\n",
       "    </tr>\n",
       "    <tr>\n",
       "      <th>2</th>\n",
       "      <td>CartScreenAppear</td>\n",
       "      <td>3734</td>\n",
       "    </tr>\n",
       "    <tr>\n",
       "      <th>3</th>\n",
       "      <td>PaymentScreenSuccessful</td>\n",
       "      <td>3539</td>\n",
       "    </tr>\n",
       "    <tr>\n",
       "      <th>4</th>\n",
       "      <td>Tutorial</td>\n",
       "      <td>840</td>\n",
       "    </tr>\n",
       "  </tbody>\n",
       "</table>\n",
       "</div>"
      ],
      "text/plain": [
       "                      name  count_users\n",
       "0         MainScreenAppear         7419\n",
       "1       OffersScreenAppear         4593\n",
       "2         CartScreenAppear         3734\n",
       "3  PaymentScreenSuccessful         3539\n",
       "4                 Tutorial          840"
      ]
     },
     "execution_count": 29,
     "metadata": {},
     "output_type": "execute_result"
    }
   ],
   "source": [
    "# количество различных событий \n",
    "events_count = df1.groupby('name').agg({'id': 'nunique'}).sort_values(by='id', ascending=False).reset_index()\n",
    "events_count.columns = ['name', 'count_users']\n",
    "events_count"
   ]
  },
  {
   "cell_type": "code",
   "execution_count": 30,
   "metadata": {
    "scrolled": false
   },
   "outputs": [
    {
     "data": {
      "text/html": [
       "<div>\n",
       "<style scoped>\n",
       "    .dataframe tbody tr th:only-of-type {\n",
       "        vertical-align: middle;\n",
       "    }\n",
       "\n",
       "    .dataframe tbody tr th {\n",
       "        vertical-align: top;\n",
       "    }\n",
       "\n",
       "    .dataframe thead th {\n",
       "        text-align: right;\n",
       "    }\n",
       "</style>\n",
       "<table border=\"1\" class=\"dataframe\">\n",
       "  <thead>\n",
       "    <tr style=\"text-align: right;\">\n",
       "      <th></th>\n",
       "      <th>name</th>\n",
       "      <th>count_id</th>\n",
       "    </tr>\n",
       "  </thead>\n",
       "  <tbody>\n",
       "    <tr>\n",
       "      <th>0</th>\n",
       "      <td>MainScreenAppear</td>\n",
       "      <td>117328</td>\n",
       "    </tr>\n",
       "    <tr>\n",
       "      <th>1</th>\n",
       "      <td>OffersScreenAppear</td>\n",
       "      <td>46333</td>\n",
       "    </tr>\n",
       "    <tr>\n",
       "      <th>2</th>\n",
       "      <td>CartScreenAppear</td>\n",
       "      <td>42303</td>\n",
       "    </tr>\n",
       "    <tr>\n",
       "      <th>3</th>\n",
       "      <td>PaymentScreenSuccessful</td>\n",
       "      <td>33918</td>\n",
       "    </tr>\n",
       "    <tr>\n",
       "      <th>4</th>\n",
       "      <td>Tutorial</td>\n",
       "      <td>1005</td>\n",
       "    </tr>\n",
       "  </tbody>\n",
       "</table>\n",
       "</div>"
      ],
      "text/plain": [
       "                      name  count_id\n",
       "0         MainScreenAppear    117328\n",
       "1       OffersScreenAppear     46333\n",
       "2         CartScreenAppear     42303\n",
       "3  PaymentScreenSuccessful     33918\n",
       "4                 Tutorial      1005"
      ]
     },
     "execution_count": 30,
     "metadata": {},
     "output_type": "execute_result"
    }
   ],
   "source": [
    "# количество пользователей по событиям\n",
    "users_count = df1.groupby('name').agg({'id': 'count'}).sort_values(by='id', ascending=False).reset_index()\n",
    "users_count.columns = ['name', 'count_id']\n",
    "users_count"
   ]
  },
  {
   "cell_type": "code",
   "execution_count": 31,
   "metadata": {
    "scrolled": false
   },
   "outputs": [
    {
     "data": {
      "text/html": [
       "<div>\n",
       "<style scoped>\n",
       "    .dataframe tbody tr th:only-of-type {\n",
       "        vertical-align: middle;\n",
       "    }\n",
       "\n",
       "    .dataframe tbody tr th {\n",
       "        vertical-align: top;\n",
       "    }\n",
       "\n",
       "    .dataframe thead th {\n",
       "        text-align: right;\n",
       "    }\n",
       "</style>\n",
       "<table border=\"1\" class=\"dataframe\">\n",
       "  <thead>\n",
       "    <tr style=\"text-align: right;\">\n",
       "      <th></th>\n",
       "      <th>name</th>\n",
       "      <th>count_users</th>\n",
       "      <th>share_user</th>\n",
       "    </tr>\n",
       "  </thead>\n",
       "  <tbody>\n",
       "    <tr>\n",
       "      <th>0</th>\n",
       "      <td>MainScreenAppear</td>\n",
       "      <td>7419</td>\n",
       "      <td>98.4</td>\n",
       "    </tr>\n",
       "    <tr>\n",
       "      <th>1</th>\n",
       "      <td>OffersScreenAppear</td>\n",
       "      <td>4593</td>\n",
       "      <td>60.9</td>\n",
       "    </tr>\n",
       "    <tr>\n",
       "      <th>2</th>\n",
       "      <td>CartScreenAppear</td>\n",
       "      <td>3734</td>\n",
       "      <td>49.5</td>\n",
       "    </tr>\n",
       "    <tr>\n",
       "      <th>3</th>\n",
       "      <td>PaymentScreenSuccessful</td>\n",
       "      <td>3539</td>\n",
       "      <td>46.9</td>\n",
       "    </tr>\n",
       "    <tr>\n",
       "      <th>4</th>\n",
       "      <td>Tutorial</td>\n",
       "      <td>840</td>\n",
       "      <td>11.1</td>\n",
       "    </tr>\n",
       "  </tbody>\n",
       "</table>\n",
       "</div>"
      ],
      "text/plain": [
       "                      name  count_users  share_user\n",
       "0         MainScreenAppear         7419        98.4\n",
       "1       OffersScreenAppear         4593        60.9\n",
       "2         CartScreenAppear         3734        49.5\n",
       "3  PaymentScreenSuccessful         3539        46.9\n",
       "4                 Tutorial          840        11.1"
      ]
     },
     "execution_count": 31,
     "metadata": {},
     "output_type": "execute_result"
    }
   ],
   "source": [
    "# доля пользователей, которые хоть раз совершали заказа, поделим количество событий на общее число уникальных пользователей\n",
    "events_count['share_user']= round(events_count['count_users']/7542*100, 1)\n",
    "events_count"
   ]
  },
  {
   "cell_type": "markdown",
   "metadata": {},
   "source": [
    "По частоте событий - самым частотным является открытие главной страницы (MainScreenAppear), далее открытие страницы товаров (OffersScreenAppear), потом открытие страницы с корзиной (CartScreenAppear), далее открытие страницы с успешной оплатой и в конце - страницы с обучением (Tutorial). Предположительно в такой последовательности и происходит события в приложении.\n",
    "\n",
    "Согласно доле пользователей, совершивших хоть раз событие, порядка 99% открывали главную страницу, 61% - страницу товаров, около 50% - страниу с корзиной, чуть меньше - 47% - страницу успешной оплаты заказа и только 11% - обучающую страницу."
   ]
  },
  {
   "cell_type": "markdown",
   "metadata": {},
   "source": [
    "**Воронка событий**: конверсия \"в шаг\" и общая конверсия"
   ]
  },
  {
   "cell_type": "code",
   "execution_count": 32,
   "metadata": {},
   "outputs": [
    {
     "data": {
      "text/html": [
       "<div>\n",
       "<style scoped>\n",
       "    .dataframe tbody tr th:only-of-type {\n",
       "        vertical-align: middle;\n",
       "    }\n",
       "\n",
       "    .dataframe tbody tr th {\n",
       "        vertical-align: top;\n",
       "    }\n",
       "\n",
       "    .dataframe thead th {\n",
       "        text-align: right;\n",
       "    }\n",
       "</style>\n",
       "<table border=\"1\" class=\"dataframe\">\n",
       "  <thead>\n",
       "    <tr style=\"text-align: right;\">\n",
       "      <th></th>\n",
       "      <th>name</th>\n",
       "      <th>count_users</th>\n",
       "      <th>share_user</th>\n",
       "      <th>step_conversion_funnel</th>\n",
       "    </tr>\n",
       "  </thead>\n",
       "  <tbody>\n",
       "    <tr>\n",
       "      <th>0</th>\n",
       "      <td>MainScreenAppear</td>\n",
       "      <td>7419</td>\n",
       "      <td>98.4</td>\n",
       "      <td>100</td>\n",
       "    </tr>\n",
       "    <tr>\n",
       "      <th>1</th>\n",
       "      <td>OffersScreenAppear</td>\n",
       "      <td>4593</td>\n",
       "      <td>60.9</td>\n",
       "      <td>61.9</td>\n",
       "    </tr>\n",
       "    <tr>\n",
       "      <th>2</th>\n",
       "      <td>CartScreenAppear</td>\n",
       "      <td>3734</td>\n",
       "      <td>49.5</td>\n",
       "      <td>81.3</td>\n",
       "    </tr>\n",
       "    <tr>\n",
       "      <th>3</th>\n",
       "      <td>PaymentScreenSuccessful</td>\n",
       "      <td>3539</td>\n",
       "      <td>46.9</td>\n",
       "      <td>94.8</td>\n",
       "    </tr>\n",
       "  </tbody>\n",
       "</table>\n",
       "</div>"
      ],
      "text/plain": [
       "                      name  count_users  share_user step_conversion_funnel\n",
       "0         MainScreenAppear         7419        98.4                    100\n",
       "1       OffersScreenAppear         4593        60.9                   61.9\n",
       "2         CartScreenAppear         3734        49.5                   81.3\n",
       "3  PaymentScreenSuccessful         3539        46.9                   94.8"
      ]
     },
     "execution_count": 32,
     "metadata": {},
     "output_type": "execute_result"
    }
   ],
   "source": [
    "# доля пользователей, проходящая на следующий шаг (конверсия \"в шаг\")\n",
    "events_count['step_conversion_funnel'] =  round(events_count['count_users'] / events_count['count_users'].shift() * 100, 1)\n",
    "events_count['step_conversion_funnel'] = events_count['step_conversion_funnel'].fillna('100')\n",
    "events_count[:-1]"
   ]
  },
  {
   "cell_type": "code",
   "execution_count": 33,
   "metadata": {},
   "outputs": [
    {
     "data": {
      "text/html": [
       "<div>\n",
       "<style scoped>\n",
       "    .dataframe tbody tr th:only-of-type {\n",
       "        vertical-align: middle;\n",
       "    }\n",
       "\n",
       "    .dataframe tbody tr th {\n",
       "        vertical-align: top;\n",
       "    }\n",
       "\n",
       "    .dataframe thead th {\n",
       "        text-align: right;\n",
       "    }\n",
       "</style>\n",
       "<table border=\"1\" class=\"dataframe\">\n",
       "  <thead>\n",
       "    <tr style=\"text-align: right;\">\n",
       "      <th></th>\n",
       "      <th>name</th>\n",
       "      <th>count_users</th>\n",
       "      <th>share_user</th>\n",
       "      <th>step_conversion_funnel</th>\n",
       "      <th>conversion_funnel</th>\n",
       "    </tr>\n",
       "  </thead>\n",
       "  <tbody>\n",
       "    <tr>\n",
       "      <th>0</th>\n",
       "      <td>MainScreenAppear</td>\n",
       "      <td>7419</td>\n",
       "      <td>98.4</td>\n",
       "      <td>100</td>\n",
       "      <td>100.0</td>\n",
       "    </tr>\n",
       "    <tr>\n",
       "      <th>1</th>\n",
       "      <td>OffersScreenAppear</td>\n",
       "      <td>4593</td>\n",
       "      <td>60.9</td>\n",
       "      <td>61.9</td>\n",
       "      <td>61.9</td>\n",
       "    </tr>\n",
       "    <tr>\n",
       "      <th>2</th>\n",
       "      <td>CartScreenAppear</td>\n",
       "      <td>3734</td>\n",
       "      <td>49.5</td>\n",
       "      <td>81.3</td>\n",
       "      <td>50.3</td>\n",
       "    </tr>\n",
       "    <tr>\n",
       "      <th>3</th>\n",
       "      <td>PaymentScreenSuccessful</td>\n",
       "      <td>3539</td>\n",
       "      <td>46.9</td>\n",
       "      <td>94.8</td>\n",
       "      <td>47.7</td>\n",
       "    </tr>\n",
       "    <tr>\n",
       "      <th>4</th>\n",
       "      <td>Tutorial</td>\n",
       "      <td>840</td>\n",
       "      <td>11.1</td>\n",
       "      <td>23.7</td>\n",
       "      <td>11.3</td>\n",
       "    </tr>\n",
       "  </tbody>\n",
       "</table>\n",
       "</div>"
      ],
      "text/plain": [
       "                      name  count_users  share_user step_conversion_funnel  \\\n",
       "0         MainScreenAppear         7419        98.4                    100   \n",
       "1       OffersScreenAppear         4593        60.9                   61.9   \n",
       "2         CartScreenAppear         3734        49.5                   81.3   \n",
       "3  PaymentScreenSuccessful         3539        46.9                   94.8   \n",
       "4                 Tutorial          840        11.1                   23.7   \n",
       "\n",
       "   conversion_funnel  \n",
       "0              100.0  \n",
       "1               61.9  \n",
       "2               50.3  \n",
       "3               47.7  \n",
       "4               11.3  "
      ]
     },
     "execution_count": 33,
     "metadata": {},
     "output_type": "execute_result"
    }
   ],
   "source": [
    "# доля пользователей, доходящая от первого события до последнего (общая конверсия)\n",
    "events_count['conversion_funnel'] = round(events_count['count_users'] / events_count['count_users'][0] * 100, 1)\n",
    "events_count"
   ]
  },
  {
   "cell_type": "markdown",
   "metadata": {},
   "source": [
    "Анализ воронки показал, что самая большая конверсия в шаг происходит с перехода со страницу корзины на страницу успешной оплаты (примерно 95%), также большая конверсия пользователей, перешедших со страницы товаров на страницу корзины (81%). Самая низкая конверсия у обучающей страницы - на нее перешло только порядка 24%, а также на страницу заказа (62%).\n",
    "<br>\n",
    "\n",
    "По общей конверсии, доля пользователей, перешедших от первого события до оплаты, составляет порядка 48%, то есть практически половина, открывших главную страницу приложения, сделали заказ. Можно предположить, основываясь на обеих конверсиях, что определенная проблема существует при переходе с главной страницы на страницу с товарами, и можно предположить, что, если пользователь попадет на страницу корзины, большая вероятность, что он завершит заказ покупкой. "
   ]
  },
  {
   "cell_type": "markdown",
   "metadata": {},
   "source": [
    "## Анализ А/А/В теста"
   ]
  },
  {
   "cell_type": "markdown",
   "metadata": {},
   "source": [
    "Для проведения А/А/В теста мы исключим событие Tutorial из анализа, так как оно не имеет отношение к конверсии."
   ]
  },
  {
   "cell_type": "code",
   "execution_count": 34,
   "metadata": {},
   "outputs": [
    {
     "data": {
      "text/plain": [
       "MainScreenAppear           117328\n",
       "OffersScreenAppear          46333\n",
       "CartScreenAppear            42303\n",
       "PaymentScreenSuccessful     33918\n",
       "Name: name, dtype: int64"
      ]
     },
     "execution_count": 34,
     "metadata": {},
     "output_type": "execute_result"
    }
   ],
   "source": [
    "# исключаем событие Tutorial\n",
    "df1 = df1.query('name != \"Tutorial\"')\n",
    "# проверяем \n",
    "df1['name'].value_counts()"
   ]
  },
  {
   "cell_type": "code",
   "execution_count": 35,
   "metadata": {
    "scrolled": true
   },
   "outputs": [
    {
     "data": {
      "text/html": [
       "<div>\n",
       "<style scoped>\n",
       "    .dataframe tbody tr th:only-of-type {\n",
       "        vertical-align: middle;\n",
       "    }\n",
       "\n",
       "    .dataframe tbody tr th {\n",
       "        vertical-align: top;\n",
       "    }\n",
       "\n",
       "    .dataframe thead th {\n",
       "        text-align: right;\n",
       "    }\n",
       "</style>\n",
       "<table border=\"1\" class=\"dataframe\">\n",
       "  <thead>\n",
       "    <tr style=\"text-align: right;\">\n",
       "      <th></th>\n",
       "      <th>id</th>\n",
       "    </tr>\n",
       "    <tr>\n",
       "      <th>group</th>\n",
       "      <th></th>\n",
       "    </tr>\n",
       "  </thead>\n",
       "  <tbody>\n",
       "    <tr>\n",
       "      <th>248</th>\n",
       "      <td>2535</td>\n",
       "    </tr>\n",
       "    <tr>\n",
       "      <th>247</th>\n",
       "      <td>2512</td>\n",
       "    </tr>\n",
       "    <tr>\n",
       "      <th>246</th>\n",
       "      <td>2483</td>\n",
       "    </tr>\n",
       "  </tbody>\n",
       "</table>\n",
       "</div>"
      ],
      "text/plain": [
       "         id\n",
       "group      \n",
       "248    2535\n",
       "247    2512\n",
       "246    2483"
      ]
     },
     "execution_count": 35,
     "metadata": {},
     "output_type": "execute_result"
    }
   ],
   "source": [
    "# количество пользователей в группах\n",
    "groups_count = df1.groupby('group').agg({'id': 'nunique'}).sort_values(by='id', ascending=False)\n",
    "groups_count"
   ]
  },
  {
   "cell_type": "markdown",
   "metadata": {},
   "source": [
    "В экспериментальной группе - 2540 человек, и в контрольных группах  - 2517 и 2485 человек. В целом приблизительно выборки равны между собой."
   ]
  },
  {
   "cell_type": "markdown",
   "metadata": {},
   "source": [
    "**А/А тест**"
   ]
  },
  {
   "cell_type": "code",
   "execution_count": 36,
   "metadata": {
    "scrolled": false
   },
   "outputs": [
    {
     "data": {
      "text/plain": [
       "-1.2"
      ]
     },
     "execution_count": 36,
     "metadata": {},
     "output_type": "execute_result"
    }
   ],
   "source": [
    "# проверим разницу между контрольными группами 246 и 247\n",
    "group_246 = df1.query('group==246').groupby('group')['id'].nunique().reset_index()\n",
    "group_247 = df1.query('group==247').groupby('group')['id'].nunique().reset_index()\n",
    "inequality = round((group_246.loc[0][1]/group_247.loc[0][1]*100)-100, 1)\n",
    "inequality"
   ]
  },
  {
   "cell_type": "markdown",
   "metadata": {},
   "source": [
    "Разница между группами не более 1.3%, то есть различие в целом не большое, чуть превышает 1%, что может свидетельствовать об успешности А/А теста. "
   ]
  },
  {
   "cell_type": "markdown",
   "metadata": {},
   "source": [
    "Найдем самое популярное событие по группам"
   ]
  },
  {
   "cell_type": "code",
   "execution_count": 37,
   "metadata": {},
   "outputs": [
    {
     "data": {
      "text/html": [
       "<div>\n",
       "<style scoped>\n",
       "    .dataframe tbody tr th:only-of-type {\n",
       "        vertical-align: middle;\n",
       "    }\n",
       "\n",
       "    .dataframe tbody tr th {\n",
       "        vertical-align: top;\n",
       "    }\n",
       "\n",
       "    .dataframe thead th {\n",
       "        text-align: right;\n",
       "    }\n",
       "</style>\n",
       "<table border=\"1\" class=\"dataframe\">\n",
       "  <thead>\n",
       "    <tr style=\"text-align: right;\">\n",
       "      <th>name</th>\n",
       "      <th>CartScreenAppear</th>\n",
       "      <th>MainScreenAppear</th>\n",
       "      <th>OffersScreenAppear</th>\n",
       "      <th>PaymentScreenSuccessful</th>\n",
       "    </tr>\n",
       "    <tr>\n",
       "      <th>group</th>\n",
       "      <th></th>\n",
       "      <th></th>\n",
       "      <th></th>\n",
       "      <th></th>\n",
       "    </tr>\n",
       "  </thead>\n",
       "  <tbody>\n",
       "    <tr>\n",
       "      <th>246</th>\n",
       "      <td>1266</td>\n",
       "      <td>2450</td>\n",
       "      <td>1542</td>\n",
       "      <td>1200</td>\n",
       "    </tr>\n",
       "    <tr>\n",
       "      <th>247</th>\n",
       "      <td>1238</td>\n",
       "      <td>2476</td>\n",
       "      <td>1520</td>\n",
       "      <td>1158</td>\n",
       "    </tr>\n",
       "  </tbody>\n",
       "</table>\n",
       "</div>"
      ],
      "text/plain": [
       "name   CartScreenAppear  MainScreenAppear  OffersScreenAppear  \\\n",
       "group                                                           \n",
       "246                1266              2450                1542   \n",
       "247                1238              2476                1520   \n",
       "\n",
       "name   PaymentScreenSuccessful  \n",
       "group                           \n",
       "246                       1200  \n",
       "247                       1158  "
      ]
     },
     "execution_count": 37,
     "metadata": {},
     "output_type": "execute_result"
    }
   ],
   "source": [
    "# создадим сводную таблицу по событиям и количеству пользователей из групп 246 и 247\n",
    "aa = df1.query('group != 248')\n",
    "df1_aa = aa.pivot_table(index='group', values='id', columns='name', aggfunc='nunique')\n",
    "df1_aa"
   ]
  },
  {
   "cell_type": "markdown",
   "metadata": {},
   "source": [
    "Самое популярное cобытие в обеих группах - открытие главной страницы приложения (MainScreenAppear)."
   ]
  },
  {
   "cell_type": "markdown",
   "metadata": {},
   "source": [
    "Проверка гипотезы о равенстве долей с помощью Z-критерия"
   ]
  },
  {
   "cell_type": "code",
   "execution_count": 38,
   "metadata": {},
   "outputs": [],
   "source": [
    "# напишем функцию\n",
    "alpha = 0.05 \n",
    "def z_test (successes1, successes2, trials1, trials2):\n",
    "   \n",
    "    # пропорция успехов в первой группе:\n",
    "    p1 = successes1/trials1\n",
    "\n",
    "    # пропорция успехов во второй группе:\n",
    "    p2 = successes2/trials2\n",
    "\n",
    "    # пропорция успехов в комбинированном датасете:\n",
    "    p_combined = (successes1 + successes2) / (trials1 + trials2)\n",
    "\n",
    "    # разница пропорций в датасетах\n",
    "    difference = p1 - p2 \n",
    "    \n",
    "    # считаем статистику в ст.отклонениях стандартного нормального распределения\n",
    "    z_value = difference / mth.sqrt(p_combined * (1 - p_combined) * (1/trials1 + 1/trials2))\n",
    "    \n",
    "    # задаем стандартное нормальное распределение (среднее 0, ст.отклонение 1)\n",
    "    distr = st.norm(0, 1) \n",
    "    \n",
    "    p_value = (1 - distr.cdf(abs(z_value))) * 2\n",
    "    \n",
    "    return p_value"
   ]
  },
  {
   "cell_type": "code",
   "execution_count": 39,
   "metadata": {},
   "outputs": [
    {
     "name": "stdout",
     "output_type": "stream",
     "text": [
      "p-значение:  [0.22867644]\n",
      "Не получилось отвергнуть нулевую гипотезу, нет оснований считать доли разными\n",
      "p-значение:  [0.75267034]\n",
      "Не получилось отвергнуть нулевую гипотезу, нет оснований считать доли разными\n",
      "p-значение:  [0.24786097]\n",
      "Не получилось отвергнуть нулевую гипотезу, нет оснований считать доли разными\n",
      "p-значение:  [0.11446628]\n",
      "Не получилось отвергнуть нулевую гипотезу, нет оснований считать доли разными\n"
     ]
    }
   ],
   "source": [
    "for i in range(0, 4):\n",
    "        p_value = z_test(df1_aa.loc[246, df1_aa.columns[i]], df1_aa.loc[247, df1_aa.columns[i]], groups_count.loc[246], groups_count.loc[247])\n",
    "        print('p-значение: ', p_value)\n",
    "\n",
    "        if (p_value < alpha):\n",
    "            print(\"Отвергаем нулевую гипотезу: между долями есть значимая разница\")\n",
    "        else:\n",
    "            print(\"Не получилось отвергнуть нулевую гипотезу, нет оснований считать доли разными\") "
   ]
  },
  {
   "cell_type": "markdown",
   "metadata": {},
   "source": [
    "Тест проведен корректно - статистически значимых различий между двумя А-группами не обнаружено."
   ]
  },
  {
   "cell_type": "markdown",
   "metadata": {},
   "source": [
    "**AА/B тест**: между выборками 246 и 248, 247 и 248, объединенной группой 246+247 и 248 "
   ]
  },
  {
   "cell_type": "code",
   "execution_count": 40,
   "metadata": {
    "scrolled": true
   },
   "outputs": [
    {
     "data": {
      "text/html": [
       "<div>\n",
       "<style scoped>\n",
       "    .dataframe tbody tr th:only-of-type {\n",
       "        vertical-align: middle;\n",
       "    }\n",
       "\n",
       "    .dataframe tbody tr th {\n",
       "        vertical-align: top;\n",
       "    }\n",
       "\n",
       "    .dataframe thead th {\n",
       "        text-align: right;\n",
       "    }\n",
       "</style>\n",
       "<table border=\"1\" class=\"dataframe\">\n",
       "  <thead>\n",
       "    <tr style=\"text-align: right;\">\n",
       "      <th>name</th>\n",
       "      <th>CartScreenAppear</th>\n",
       "      <th>MainScreenAppear</th>\n",
       "      <th>OffersScreenAppear</th>\n",
       "      <th>PaymentScreenSuccessful</th>\n",
       "      <th>Tutorial</th>\n",
       "    </tr>\n",
       "    <tr>\n",
       "      <th>group</th>\n",
       "      <th></th>\n",
       "      <th></th>\n",
       "      <th></th>\n",
       "      <th></th>\n",
       "      <th></th>\n",
       "    </tr>\n",
       "  </thead>\n",
       "  <tbody>\n",
       "    <tr>\n",
       "      <th>246</th>\n",
       "      <td>1270</td>\n",
       "      <td>2456</td>\n",
       "      <td>1545</td>\n",
       "      <td>1202</td>\n",
       "      <td>279</td>\n",
       "    </tr>\n",
       "    <tr>\n",
       "      <th>247</th>\n",
       "      <td>1240</td>\n",
       "      <td>2482</td>\n",
       "      <td>1530</td>\n",
       "      <td>1160</td>\n",
       "      <td>286</td>\n",
       "    </tr>\n",
       "    <tr>\n",
       "      <th>248</th>\n",
       "      <td>1239</td>\n",
       "      <td>2501</td>\n",
       "      <td>1538</td>\n",
       "      <td>1185</td>\n",
       "      <td>282</td>\n",
       "    </tr>\n",
       "  </tbody>\n",
       "</table>\n",
       "</div>"
      ],
      "text/plain": [
       "name   CartScreenAppear  MainScreenAppear  OffersScreenAppear  \\\n",
       "group                                                           \n",
       "246                1270              2456                1545   \n",
       "247                1240              2482                1530   \n",
       "248                1239              2501                1538   \n",
       "\n",
       "name   PaymentScreenSuccessful  Tutorial  \n",
       "group                                     \n",
       "246                       1202       279  \n",
       "247                       1160       286  \n",
       "248                       1185       282  "
      ]
     },
     "execution_count": 40,
     "metadata": {},
     "output_type": "execute_result"
    }
   ],
   "source": [
    "# сводная таблица по событиям и количеству пользователей во всех группах\n",
    "ab_piv = df.pivot_table(index='group', values='id', columns='name', aggfunc='nunique')\n",
    "ab_piv "
   ]
  },
  {
   "cell_type": "code",
   "execution_count": 41,
   "metadata": {
    "scrolled": true
   },
   "outputs": [
    {
     "name": "stdout",
     "output_type": "stream",
     "text": [
      "p-значение:  [0.10752984]\n",
      "Не получилось отвергнуть нулевую гипотезу, нет оснований считать доли разными\n",
      "p-значение:  [0.41200621]\n",
      "Не получилось отвергнуть нулевую гипотезу, нет оснований считать доли разными\n",
      "p-значение:  [0.25861854]\n",
      "Не получилось отвергнуть нулевую гипотезу, нет оснований считать доли разными\n",
      "p-значение:  [0.23807776]\n",
      "Не получилось отвергнуть нулевую гипотезу, нет оснований считать доли разными\n"
     ]
    }
   ],
   "source": [
    "# между группами 246 и 248\n",
    "for i in range(0, 4):\n",
    "        p_value = z_test(ab_piv.loc[246 , ab_piv.columns[i]], ab_piv.loc[248, ab_piv.columns[i]], groups_count.loc[246], groups_count.loc[248])\n",
    "        print('p-значение: ', p_value)\n",
    "        if (p_value < alpha):\n",
    "            print(\"Отвергаем нулевую гипотезу: между долями есть значимая разница\")\n",
    "        else:\n",
    "            print(\"Не получилось отвергнуть нулевую гипотезу, нет оснований считать доли разными\")   "
   ]
  },
  {
   "cell_type": "code",
   "execution_count": 42,
   "metadata": {
    "scrolled": false
   },
   "outputs": [
    {
     "name": "stdout",
     "output_type": "stream",
     "text": [
      "p-значение:  [0.7291536]\n",
      "Не получилось отвергнуть нулевую гипотезу, нет оснований считать доли разными\n",
      "p-значение:  [0.64084703]\n",
      "Не получилось отвергнуть нулевую гипотезу, нет оснований считать доли разными\n",
      "p-значение:  [0.86308114]\n",
      "Не получилось отвергнуть нулевую гипотезу, нет оснований считать доли разными\n",
      "p-значение:  [0.68623315]\n",
      "Не получилось отвергнуть нулевую гипотезу, нет оснований считать доли разными\n"
     ]
    }
   ],
   "source": [
    "# между групп 247 и 248\n",
    "for i in range(0, 4):\n",
    "        p_value = z_test(ab_piv.loc[247 , ab_piv.columns[i]], ab_piv.loc[248, ab_piv.columns[i]], groups_count.loc[247], groups_count.loc[248])\n",
    "        print('p-значение: ', p_value)\n",
    "        if (p_value < alpha):\n",
    "            print(\"Отвергаем нулевую гипотезу: между долями есть значимая разница\")\n",
    "        else:\n",
    "            print(\"Не получилось отвергнуть нулевую гипотезу, нет оснований считать доли разными\")     "
   ]
  },
  {
   "cell_type": "code",
   "execution_count": 43,
   "metadata": {
    "scrolled": true
   },
   "outputs": [
    {
     "data": {
      "text/html": [
       "<div>\n",
       "<style scoped>\n",
       "    .dataframe tbody tr th:only-of-type {\n",
       "        vertical-align: middle;\n",
       "    }\n",
       "\n",
       "    .dataframe tbody tr th {\n",
       "        vertical-align: top;\n",
       "    }\n",
       "\n",
       "    .dataframe thead th {\n",
       "        text-align: right;\n",
       "    }\n",
       "</style>\n",
       "<table border=\"1\" class=\"dataframe\">\n",
       "  <thead>\n",
       "    <tr style=\"text-align: right;\">\n",
       "      <th>name</th>\n",
       "      <th>CartScreenAppear</th>\n",
       "      <th>MainScreenAppear</th>\n",
       "      <th>OffersScreenAppear</th>\n",
       "      <th>PaymentScreenSuccessful</th>\n",
       "    </tr>\n",
       "    <tr>\n",
       "      <th>index</th>\n",
       "      <th></th>\n",
       "      <th></th>\n",
       "      <th></th>\n",
       "      <th></th>\n",
       "    </tr>\n",
       "  </thead>\n",
       "  <tbody>\n",
       "    <tr>\n",
       "      <th>A</th>\n",
       "      <td>2504</td>\n",
       "      <td>4926</td>\n",
       "      <td>3062</td>\n",
       "      <td>2358</td>\n",
       "    </tr>\n",
       "    <tr>\n",
       "      <th>B</th>\n",
       "      <td>1230</td>\n",
       "      <td>2493</td>\n",
       "      <td>1531</td>\n",
       "      <td>1181</td>\n",
       "    </tr>\n",
       "  </tbody>\n",
       "</table>\n",
       "</div>"
      ],
      "text/plain": [
       "name   CartScreenAppear  MainScreenAppear  OffersScreenAppear  \\\n",
       "index                                                           \n",
       "A                  2504              4926                3062   \n",
       "B                  1230              2493                1531   \n",
       "\n",
       "name   PaymentScreenSuccessful  \n",
       "index                           \n",
       "A                         2358  \n",
       "B                         1181  "
      ]
     },
     "execution_count": 43,
     "metadata": {},
     "output_type": "execute_result"
    }
   ],
   "source": [
    "# объединим группы 246 и 247 в группу А\n",
    "aab_piv = df1.pivot_table(index='group', values='id', columns='name', aggfunc='nunique')\n",
    "aab_piv.index=['A','A','B']\n",
    "aab_piv = aab_piv.reset_index().groupby('index').sum()\n",
    "aab_piv"
   ]
  },
  {
   "cell_type": "code",
   "execution_count": 44,
   "metadata": {},
   "outputs": [
    {
     "name": "stdout",
     "output_type": "stream",
     "text": [
      "p-значение:  [0.18683559]\n",
      "Не получилось отвергнуть нулевую гипотезу, нет оснований считать доли разными\n",
      "p-значение:  [0.34866843]\n",
      "Не получилось отвергнуть нулевую гипотезу, нет оснований считать доли разными\n",
      "p-значение:  [0.44582745]\n",
      "Не получилось отвергнуть нулевую гипотезу, нет оснований считать доли разными\n",
      "p-значение:  [0.61079187]\n",
      "Не получилось отвергнуть нулевую гипотезу, нет оснований считать доли разными\n"
     ]
    }
   ],
   "source": [
    "# между объединенной группой и 248\n",
    "for i in range(0, 4):\n",
    "        p_value = z_test(aab_piv.loc['A', aab_piv.columns[i]], aab_piv.loc['B', aab_piv.columns[i]], groups_count.loc[246]+groups_count.loc[247], groups_count.loc[248])\n",
    "        print('p-значение: ', p_value)\n",
    "        if (p_value < alpha):\n",
    "            print(\"Отвергаем нулевую гипотезу: между долями есть значимая разница\")\n",
    "        else:\n",
    "            print(\"Не получилось отвергнуть нулевую гипотезу, нет оснований считать доли разными\")"
   ]
  },
  {
   "cell_type": "markdown",
   "metadata": {},
   "source": [
    "Статистически значимых различий при сравненении экспериментальной и контрольных групп (как по отдельности, так и в комбинированной группе (246+247) не обнаружилось."
   ]
  },
  {
   "cell_type": "markdown",
   "metadata": {},
   "source": [
    "**Проверка при уровне значимости 0.1**"
   ]
  },
  {
   "cell_type": "code",
   "execution_count": 45,
   "metadata": {},
   "outputs": [
    {
     "name": "stdout",
     "output_type": "stream",
     "text": [
      "p-значение:  [0.22867644]\n",
      "Не получилось отвергнуть нулевую гипотезу, нет оснований считать доли разными\n",
      "p-значение:  [0.75267034]\n",
      "Не получилось отвергнуть нулевую гипотезу, нет оснований считать доли разными\n",
      "p-значение:  [0.24786097]\n",
      "Не получилось отвергнуть нулевую гипотезу, нет оснований считать доли разными\n",
      "p-значение:  [0.11446628]\n",
      "Не получилось отвергнуть нулевую гипотезу, нет оснований считать доли разными\n",
      "p-значение:  [0.10752984]\n",
      "Не получилось отвергнуть нулевую гипотезу, нет оснований считать доли разными\n",
      "p-значение:  [0.41200621]\n",
      "Не получилось отвергнуть нулевую гипотезу, нет оснований считать доли разными\n",
      "p-значение:  [0.25861854]\n",
      "Не получилось отвергнуть нулевую гипотезу, нет оснований считать доли разными\n",
      "p-значение:  [0.23807776]\n",
      "Не получилось отвергнуть нулевую гипотезу, нет оснований считать доли разными\n",
      "p-значение:  [0.7291536]\n",
      "Не получилось отвергнуть нулевую гипотезу, нет оснований считать доли разными\n",
      "p-значение:  [0.64084703]\n",
      "Не получилось отвергнуть нулевую гипотезу, нет оснований считать доли разными\n",
      "p-значение:  [0.86308114]\n",
      "Не получилось отвергнуть нулевую гипотезу, нет оснований считать доли разными\n",
      "p-значение:  [0.68623315]\n",
      "Не получилось отвергнуть нулевую гипотезу, нет оснований считать доли разными\n",
      "p-значение:  [0.18683559]\n",
      "Не получилось отвергнуть нулевую гипотезу, нет оснований считать доли разными\n",
      "p-значение:  [0.34866843]\n",
      "Не получилось отвергнуть нулевую гипотезу, нет оснований считать доли разными\n",
      "p-значение:  [0.44582745]\n",
      "Не получилось отвергнуть нулевую гипотезу, нет оснований считать доли разными\n",
      "p-значение:  [0.61079187]\n",
      "Не получилось отвергнуть нулевую гипотезу, нет оснований считать доли разными\n"
     ]
    }
   ],
   "source": [
    "# между группами 246 и 247\n",
    "alpha = 0.1 \n",
    "for i in range(0, 4):\n",
    "        p_value = z_test(df1_aa.loc[246, df1_aa.columns[i]], df1_aa.loc[247, df1_aa.columns[i]], groups_count.loc[246], groups_count.loc[247])\n",
    "        print('p-значение: ', p_value)\n",
    "\n",
    "        if (p_value < alpha):\n",
    "            print(\"Отвергаем нулевую гипотезу: между долями есть значимая разница\")\n",
    "        else:\n",
    "            print(\"Не получилось отвергнуть нулевую гипотезу, нет оснований считать доли разными\") \n",
    "\n",
    "# для групп 246 и 248\n",
    "for i in range(0, 4):\n",
    "        p_value = z_test(ab_piv.loc[246 , ab_piv.columns[i]], ab_piv.loc[248, ab_piv.columns[i]], groups_count.loc[246], groups_count.loc[248])\n",
    "        print('p-значение: ', p_value)\n",
    "        if (p_value < alpha):\n",
    "            print(\"Отвергаем нулевую гипотезу: между долями есть значимая разница\")\n",
    "        else:\n",
    "            print(\"Не получилось отвергнуть нулевую гипотезу, нет оснований считать доли разными\")  \n",
    "            \n",
    "# для групп 247 и 248\n",
    "for i in range(0, 4):\n",
    "        p_value = z_test(ab_piv.loc[247 , ab_piv.columns[i]], ab_piv.loc[248, ab_piv.columns[i]], groups_count.loc[247], groups_count.loc[248])\n",
    "        print('p-значение: ', p_value)\n",
    "        if (p_value < alpha):\n",
    "            print(\"Отвергаем нулевую гипотезу: между долями есть значимая разница\")\n",
    "        else:\n",
    "            print(\"Не получилось отвергнуть нулевую гипотезу, нет оснований считать доли разными\") \n",
    "                      \n",
    "# для групп 246+247 и 248            \n",
    "for i in range(0, 4):\n",
    "        p_value = z_test(aab_piv.loc['A', aab_piv.columns[i]], aab_piv.loc['B', aab_piv.columns[i]], groups_count.loc[246]+groups_count.loc[247], groups_count.loc[248])\n",
    "        print('p-значение: ', p_value)\n",
    "        if (p_value < alpha):\n",
    "            print(\"Отвергаем нулевую гипотезу: между долями есть значимая разница\")\n",
    "        else:\n",
    "            print(\"Не получилось отвергнуть нулевую гипотезу, нет оснований считать доли разными\")"
   ]
  },
  {
   "cell_type": "markdown",
   "metadata": {},
   "source": [
    "При уровне значимости 0.1 не поменялись результаты АА/В тестов: в группах нет статистически значимых различий. Значит, изменение шрифта в приложении не влияет на конверсию пользователей."
   ]
  },
  {
   "cell_type": "markdown",
   "metadata": {},
   "source": [
    "Нами было проведено 16 тестов (4 сравнения по группам (А1 и А2, А1+А2 и В, А1 и Вб А2 и В) по 4 шагам воронки), то есть тесты множественные. При проведении подобных тестов возрастает вероятность ошибки - получения ложноположительного результата, когда нет статистически значимых различий, поскольку при множественном тесте p_value стремится к 1. Чтобы устранить эту проблему, можно воспользовать поправкой Бонферрони, поделив уровень значимости на число проводимых тестов. В целом данный метод считается достаточно грубым при большом количестве тестов, но в нашем случае тестов было не очень много (16), поэтому применение этого метода представляется целесообразным."
   ]
  },
  {
   "cell_type": "code",
   "execution_count": 46,
   "metadata": {
    "scrolled": false
   },
   "outputs": [
    {
     "name": "stdout",
     "output_type": "stream",
     "text": [
      "p-значение:  [0.22867644]\n",
      "Не получилось отвергнуть нулевую гипотезу, нет оснований считать доли разными\n",
      "p-значение:  [0.75267034]\n",
      "Не получилось отвергнуть нулевую гипотезу, нет оснований считать доли разными\n",
      "p-значение:  [0.24786097]\n",
      "Не получилось отвергнуть нулевую гипотезу, нет оснований считать доли разными\n",
      "p-значение:  [0.11446628]\n",
      "Не получилось отвергнуть нулевую гипотезу, нет оснований считать доли разными\n",
      "p-значение:  [0.10752984]\n",
      "Не получилось отвергнуть нулевую гипотезу, нет оснований считать доли разными\n",
      "p-значение:  [0.41200621]\n",
      "Не получилось отвергнуть нулевую гипотезу, нет оснований считать доли разными\n",
      "p-значение:  [0.25861854]\n",
      "Не получилось отвергнуть нулевую гипотезу, нет оснований считать доли разными\n",
      "p-значение:  [0.23807776]\n",
      "Не получилось отвергнуть нулевую гипотезу, нет оснований считать доли разными\n",
      "p-значение:  [0.7291536]\n",
      "Не получилось отвергнуть нулевую гипотезу, нет оснований считать доли разными\n",
      "p-значение:  [0.64084703]\n",
      "Не получилось отвергнуть нулевую гипотезу, нет оснований считать доли разными\n",
      "p-значение:  [0.86308114]\n",
      "Не получилось отвергнуть нулевую гипотезу, нет оснований считать доли разными\n",
      "p-значение:  [0.68623315]\n",
      "Не получилось отвергнуть нулевую гипотезу, нет оснований считать доли разными\n",
      "p-значение:  [0.18683559]\n",
      "Не получилось отвергнуть нулевую гипотезу, нет оснований считать доли разными\n",
      "p-значение:  [0.34866843]\n",
      "Не получилось отвергнуть нулевую гипотезу, нет оснований считать доли разными\n",
      "p-значение:  [0.44582745]\n",
      "Не получилось отвергнуть нулевую гипотезу, нет оснований считать доли разными\n",
      "p-значение:  [0.61079187]\n",
      "Не получилось отвергнуть нулевую гипотезу, нет оснований считать доли разными\n"
     ]
    }
   ],
   "source": [
    "# между группами 246 и 247\n",
    "alpha = 0.5/16 \n",
    "for i in range(0, 4):\n",
    "        p_value = z_test(df1_aa.loc[246, df1_aa.columns[i]], df1_aa.loc[247, df1_aa.columns[i]], groups_count.loc[246], groups_count.loc[247])\n",
    "        print('p-значение: ', p_value)\n",
    "\n",
    "        if (p_value < alpha):\n",
    "            print(\"Отвергаем нулевую гипотезу: между долями есть значимая разница\")\n",
    "        else:\n",
    "            print(\"Не получилось отвергнуть нулевую гипотезу, нет оснований считать доли разными\") \n",
    "\n",
    "# для групп 246 и 248\n",
    "for i in range(0, 4):\n",
    "        p_value = z_test(ab_piv.loc[246 , ab_piv.columns[i]], ab_piv.loc[248, ab_piv.columns[i]], groups_count.loc[246], groups_count.loc[248])\n",
    "        print('p-значение: ', p_value)\n",
    "        if (p_value < alpha):\n",
    "            print(\"Отвергаем нулевую гипотезу: между долями есть значимая разница\")\n",
    "        else:\n",
    "            print(\"Не получилось отвергнуть нулевую гипотезу, нет оснований считать доли разными\")  \n",
    "            \n",
    "# для групп 247 и 248\n",
    "for i in range(0, 4):\n",
    "        p_value = z_test(ab_piv.loc[247 , ab_piv.columns[i]], ab_piv.loc[248, ab_piv.columns[i]], groups_count.loc[247], groups_count.loc[248])\n",
    "        print('p-значение: ', p_value)\n",
    "        if (p_value < alpha):\n",
    "            print(\"Отвергаем нулевую гипотезу: между долями есть значимая разница\")\n",
    "        else:\n",
    "            print(\"Не получилось отвергнуть нулевую гипотезу, нет оснований считать доли разными\")    \n",
    "                      \n",
    "# для групп 246+247 и 248            \n",
    "for i in range(0, 4):\n",
    "        p_value = z_test(aab_piv.loc['A', aab_piv.columns[i]], aab_piv.loc['B', aab_piv.columns[i]], groups_count.loc[246]+groups_count.loc[247], groups_count.loc[248])\n",
    "        print('p-значение: ', p_value)\n",
    "        if (p_value < alpha):\n",
    "            print(\"Отвергаем нулевую гипотезу: между долями есть значимая разница\")\n",
    "        else:\n",
    "            print(\"Не получилось отвергнуть нулевую гипотезу, нет оснований считать доли разными\")\n",
    "                      "
   ]
  },
  {
   "cell_type": "markdown",
   "metadata": {},
   "source": [
    "При использовании уровня значимости 0.05 тесты не обнаружили статистически значимых различий и естественно, что при применении поправки Бонферрони они также не обнаружились, т.к. данная поправка еще больше снижает вероятность их нахождения. Таким образом, наиболее оптимальным уровнем значимости можно считать 0.05."
   ]
  },
  {
   "cell_type": "markdown",
   "metadata": {},
   "source": [
    "## **Общие выводы** ##"
   ]
  },
  {
   "cell_type": "markdown",
   "metadata": {},
   "source": [
    "В ходе исследовательского анализа был уточнен временной период анализа - с 1 августа по 7 августа 2019 года. Все три группы, анализируемые в А/А/В тесте имеют примерно одинаковое количество событий и пользователей. \n",
    "<br>\n",
    "\n",
    "По частоте событий - самым частотным является открытие главной страницы (MainScreenAppear), далее открытие страницы товаров (OffersScreenAppear), потом открытие страницы с корзиной (CartScreenAppear), далее открытие страницы с успешной оплатой и в конце - страницы с обучением (Tutorial). \n",
    "Согласно доле пользователей, совершивших хоть раз событие, порядка 99% открывали главную страницу, 61% - страницу товаров, около 50% - страницу с корзиной, чуть меньше - 47% - страницу успешной оплаты заказа и только 11% - обучающую страницу.\n",
    "<br>\n",
    "\n",
    "Анализ воронки показал, что самая большая конверсия в шаг происходит с перехода со страницу корзины на страницу успешной оплаты (примерно 95%), также большая конверсия пользователей, перешедших со страницы товаров на страницу корзины (81%). Самая низкая конверсия у обучающей страницы - на нее перешло только порядка 24%, а также на страницу заказа (62%).\n",
    "По общей конверсии, доля пользователей, перешедших от первого события до оплаты, составляет порядка 48%, то есть практически половина, открывших главную страницу приложения, сделали заказ. Можно предположить, основываясь на обеих конверсиях, что определенная проблема существует при переходе с главной страницы на страницу с товарами, и можно предположить, что, если пользователь попадет на страницу корзины, большая вероятность, что он завершит заказ покупкой.\n",
    "<br>\n",
    "\n",
    "Согласно проведенному А/А тесту, не обнаружено различий в долях в двух контрольных группах, значит, все расчеты корректны, А/А тест прошел успешно, можно проводить А/А/В тест.\n",
    "\n",
    "<br>\n",
    "А/А/В тест не позволил обнаружить статистически значимые различия в группах, как при уровне значимости 0.05, так и после применения поправки Бонферрони. Значит, изменение шрифта в приложении не влияет на конверсию пользователей, таким образом, не следует менять шрифт с целью увеличения конверсии пользователей данного мобильного приложения."
   ]
  }
 ],
 "metadata": {
  "ExecuteTimeLog": [
   {
    "duration": 1357,
    "start_time": "2023-01-11T10:26:02.108Z"
   },
   {
    "duration": 4,
    "start_time": "2023-01-11T10:26:43.132Z"
   },
   {
    "duration": 503,
    "start_time": "2023-01-11T10:27:16.284Z"
   },
   {
    "duration": 201,
    "start_time": "2023-01-11T10:27:52.360Z"
   },
   {
    "duration": 24,
    "start_time": "2023-01-11T10:37:54.758Z"
   },
   {
    "duration": 22,
    "start_time": "2023-01-11T10:38:10.075Z"
   },
   {
    "duration": 3,
    "start_time": "2023-01-11T10:38:47.172Z"
   },
   {
    "duration": 173,
    "start_time": "2023-01-11T10:38:47.177Z"
   },
   {
    "duration": 19,
    "start_time": "2023-01-11T10:38:47.352Z"
   },
   {
    "duration": 22,
    "start_time": "2023-01-11T10:39:00.728Z"
   },
   {
    "duration": 104,
    "start_time": "2023-01-11T10:44:24.361Z"
   },
   {
    "duration": 57,
    "start_time": "2023-01-11T10:44:30.992Z"
   },
   {
    "duration": 55,
    "start_time": "2023-01-11T10:46:05.785Z"
   },
   {
    "duration": 13,
    "start_time": "2023-01-11T10:47:11.365Z"
   },
   {
    "duration": 11,
    "start_time": "2023-01-11T10:47:20.176Z"
   },
   {
    "duration": 29,
    "start_time": "2023-01-11T10:47:37.723Z"
   },
   {
    "duration": 65,
    "start_time": "2023-01-11T10:47:58.968Z"
   },
   {
    "duration": 69,
    "start_time": "2023-01-11T10:48:04.874Z"
   },
   {
    "duration": 15,
    "start_time": "2023-01-11T10:49:10.184Z"
   },
   {
    "duration": 67,
    "start_time": "2023-01-11T10:53:47.680Z"
   },
   {
    "duration": 131,
    "start_time": "2023-01-11T10:54:07.752Z"
   },
   {
    "duration": 5,
    "start_time": "2023-01-11T10:54:31.684Z"
   },
   {
    "duration": 278,
    "start_time": "2023-01-11T10:54:31.693Z"
   },
   {
    "duration": 25,
    "start_time": "2023-01-11T10:54:31.973Z"
   },
   {
    "duration": 14,
    "start_time": "2023-01-11T10:54:32.014Z"
   },
   {
    "duration": 169,
    "start_time": "2023-01-11T10:54:32.030Z"
   },
   {
    "duration": 159,
    "start_time": "2023-01-11T10:54:32.201Z"
   },
   {
    "duration": 17,
    "start_time": "2023-01-11T10:54:32.362Z"
   },
   {
    "duration": 9,
    "start_time": "2023-01-11T10:55:40.777Z"
   },
   {
    "duration": 36,
    "start_time": "2023-01-11T10:56:38.207Z"
   },
   {
    "duration": 78,
    "start_time": "2023-01-11T11:01:05.112Z"
   },
   {
    "duration": 3,
    "start_time": "2023-01-11T11:05:31.132Z"
   },
   {
    "duration": 190,
    "start_time": "2023-01-11T11:05:31.137Z"
   },
   {
    "duration": 22,
    "start_time": "2023-01-11T11:05:31.329Z"
   },
   {
    "duration": 3,
    "start_time": "2023-01-11T11:05:31.353Z"
   },
   {
    "duration": 81,
    "start_time": "2023-01-11T11:05:31.358Z"
   },
   {
    "duration": 126,
    "start_time": "2023-01-11T11:05:31.441Z"
   },
   {
    "duration": 7,
    "start_time": "2023-01-11T11:05:31.569Z"
   },
   {
    "duration": 44,
    "start_time": "2023-01-11T11:05:31.577Z"
   },
   {
    "duration": 36,
    "start_time": "2023-01-11T11:05:31.625Z"
   },
   {
    "duration": 4,
    "start_time": "2023-01-11T11:06:11.239Z"
   },
   {
    "duration": 206,
    "start_time": "2023-01-11T11:06:11.247Z"
   },
   {
    "duration": 28,
    "start_time": "2023-01-11T11:06:11.455Z"
   },
   {
    "duration": 2,
    "start_time": "2023-01-11T11:06:11.486Z"
   },
   {
    "duration": 110,
    "start_time": "2023-01-11T11:06:11.491Z"
   },
   {
    "duration": 139,
    "start_time": "2023-01-11T11:06:11.603Z"
   },
   {
    "duration": 5,
    "start_time": "2023-01-11T11:06:11.744Z"
   },
   {
    "duration": 22,
    "start_time": "2023-01-11T11:06:11.751Z"
   },
   {
    "duration": 42,
    "start_time": "2023-01-11T11:06:11.775Z"
   },
   {
    "duration": 113,
    "start_time": "2023-01-11T11:08:54.439Z"
   },
   {
    "duration": 74,
    "start_time": "2023-01-11T11:11:35.789Z"
   },
   {
    "duration": 9,
    "start_time": "2023-01-11T11:11:42.429Z"
   },
   {
    "duration": 4,
    "start_time": "2023-01-11T11:12:49.694Z"
   },
   {
    "duration": 4,
    "start_time": "2023-01-11T11:13:47.939Z"
   },
   {
    "duration": 21,
    "start_time": "2023-01-11T11:14:35.603Z"
   },
   {
    "duration": 11,
    "start_time": "2023-01-11T11:14:47.998Z"
   },
   {
    "duration": 3,
    "start_time": "2023-01-11T11:14:55.047Z"
   },
   {
    "duration": 3,
    "start_time": "2023-01-11T11:15:54.695Z"
   },
   {
    "duration": 11,
    "start_time": "2023-01-11T11:16:04.521Z"
   },
   {
    "duration": 3,
    "start_time": "2023-01-11T11:16:10.372Z"
   },
   {
    "duration": 3,
    "start_time": "2023-01-11T11:16:20.351Z"
   },
   {
    "duration": 4,
    "start_time": "2023-01-11T11:16:29.601Z"
   },
   {
    "duration": 180,
    "start_time": "2023-01-11T11:16:29.606Z"
   },
   {
    "duration": 18,
    "start_time": "2023-01-11T11:16:29.788Z"
   },
   {
    "duration": 909,
    "start_time": "2023-01-11T11:16:29.812Z"
   },
   {
    "duration": 0,
    "start_time": "2023-01-11T11:16:30.723Z"
   },
   {
    "duration": 0,
    "start_time": "2023-01-11T11:16:30.724Z"
   },
   {
    "duration": 0,
    "start_time": "2023-01-11T11:16:30.726Z"
   },
   {
    "duration": 0,
    "start_time": "2023-01-11T11:16:30.727Z"
   },
   {
    "duration": 0,
    "start_time": "2023-01-11T11:16:30.729Z"
   },
   {
    "duration": 0,
    "start_time": "2023-01-11T11:16:30.730Z"
   },
   {
    "duration": 968,
    "start_time": "2023-01-11T11:16:48.273Z"
   },
   {
    "duration": 10,
    "start_time": "2023-01-11T11:17:07.617Z"
   },
   {
    "duration": 5,
    "start_time": "2023-01-11T11:17:11.195Z"
   },
   {
    "duration": 4,
    "start_time": "2023-01-11T11:17:34.345Z"
   },
   {
    "duration": 20,
    "start_time": "2023-01-11T11:17:44.852Z"
   },
   {
    "duration": 20,
    "start_time": "2023-01-11T11:17:59.047Z"
   },
   {
    "duration": 12,
    "start_time": "2023-01-11T11:18:48.149Z"
   },
   {
    "duration": 86,
    "start_time": "2023-01-11T11:19:05.446Z"
   },
   {
    "duration": 80,
    "start_time": "2023-01-11T11:19:30.942Z"
   },
   {
    "duration": 16,
    "start_time": "2023-01-11T11:19:44.981Z"
   },
   {
    "duration": 11,
    "start_time": "2023-01-11T11:19:53.355Z"
   },
   {
    "duration": 76,
    "start_time": "2023-01-11T11:19:58.700Z"
   },
   {
    "duration": 54,
    "start_time": "2023-01-12T07:22:54.768Z"
   },
   {
    "duration": 1253,
    "start_time": "2023-01-12T07:23:00.307Z"
   },
   {
    "duration": 284,
    "start_time": "2023-01-12T07:23:01.562Z"
   },
   {
    "duration": 23,
    "start_time": "2023-01-12T07:23:01.847Z"
   },
   {
    "duration": 38,
    "start_time": "2023-01-12T07:23:01.871Z"
   },
   {
    "duration": 36,
    "start_time": "2023-01-12T07:23:01.911Z"
   },
   {
    "duration": 122,
    "start_time": "2023-01-12T07:23:01.948Z"
   },
   {
    "duration": 78,
    "start_time": "2023-01-12T07:23:02.072Z"
   },
   {
    "duration": 169,
    "start_time": "2023-01-12T07:23:02.152Z"
   },
   {
    "duration": 6,
    "start_time": "2023-01-12T07:23:02.322Z"
   },
   {
    "duration": 62,
    "start_time": "2023-01-12T07:23:02.330Z"
   },
   {
    "duration": 52,
    "start_time": "2023-01-12T07:23:02.394Z"
   },
   {
    "duration": 105,
    "start_time": "2023-01-12T07:23:02.447Z"
   },
   {
    "duration": 31,
    "start_time": "2023-01-12T07:23:02.553Z"
   },
   {
    "duration": 22,
    "start_time": "2023-01-12T07:23:02.586Z"
   },
   {
    "duration": 27,
    "start_time": "2023-01-12T07:23:02.609Z"
   },
   {
    "duration": 19,
    "start_time": "2023-01-12T07:23:02.638Z"
   },
   {
    "duration": 21,
    "start_time": "2023-01-12T07:23:02.658Z"
   },
   {
    "duration": 23,
    "start_time": "2023-01-12T07:23:02.680Z"
   },
   {
    "duration": 32,
    "start_time": "2023-01-12T07:23:02.705Z"
   },
   {
    "duration": 47,
    "start_time": "2023-01-12T07:23:02.739Z"
   },
   {
    "duration": 16,
    "start_time": "2023-01-12T07:23:32.736Z"
   },
   {
    "duration": 13,
    "start_time": "2023-01-12T07:50:42.954Z"
   },
   {
    "duration": 15,
    "start_time": "2023-01-12T07:53:34.115Z"
   },
   {
    "duration": 13,
    "start_time": "2023-01-12T07:54:37.733Z"
   },
   {
    "duration": 22,
    "start_time": "2023-01-12T07:54:41.926Z"
   },
   {
    "duration": 15,
    "start_time": "2023-01-12T07:54:58.480Z"
   },
   {
    "duration": 16,
    "start_time": "2023-01-12T07:55:12.404Z"
   },
   {
    "duration": 28,
    "start_time": "2023-01-12T07:55:20.041Z"
   },
   {
    "duration": 2,
    "start_time": "2023-01-12T07:57:30.896Z"
   },
   {
    "duration": 28,
    "start_time": "2023-01-12T07:59:01.803Z"
   },
   {
    "duration": 15,
    "start_time": "2023-01-12T07:59:41.935Z"
   },
   {
    "duration": 28,
    "start_time": "2023-01-12T07:59:50.139Z"
   },
   {
    "duration": 27,
    "start_time": "2023-01-12T08:00:01.276Z"
   },
   {
    "duration": 121,
    "start_time": "2023-01-12T08:02:18.415Z"
   },
   {
    "duration": 4,
    "start_time": "2023-01-12T08:11:27.179Z"
   },
   {
    "duration": 5,
    "start_time": "2023-01-12T08:11:46.782Z"
   },
   {
    "duration": 4,
    "start_time": "2023-01-12T08:12:03.246Z"
   },
   {
    "duration": 457,
    "start_time": "2023-01-12T08:17:13.730Z"
   },
   {
    "duration": 192,
    "start_time": "2023-01-12T08:17:30.429Z"
   },
   {
    "duration": 287,
    "start_time": "2023-01-12T08:17:49.167Z"
   },
   {
    "duration": 283,
    "start_time": "2023-01-12T08:18:16.821Z"
   },
   {
    "duration": 365,
    "start_time": "2023-01-12T08:21:13.744Z"
   },
   {
    "duration": 286,
    "start_time": "2023-01-12T08:21:25.682Z"
   },
   {
    "duration": 265,
    "start_time": "2023-01-12T08:21:37.684Z"
   },
   {
    "duration": 289,
    "start_time": "2023-01-12T08:23:37.495Z"
   },
   {
    "duration": 295,
    "start_time": "2023-01-12T08:24:17.771Z"
   },
   {
    "duration": 357,
    "start_time": "2023-01-12T08:35:47.042Z"
   },
   {
    "duration": 273,
    "start_time": "2023-01-12T08:36:52.396Z"
   },
   {
    "duration": 2,
    "start_time": "2023-01-12T08:38:39.195Z"
   },
   {
    "duration": 357,
    "start_time": "2023-01-12T09:01:04.359Z"
   },
   {
    "duration": 183,
    "start_time": "2023-01-12T09:01:45.273Z"
   },
   {
    "duration": 199,
    "start_time": "2023-01-12T09:02:40.853Z"
   },
   {
    "duration": 50,
    "start_time": "2023-01-12T09:03:23.816Z"
   },
   {
    "duration": 50,
    "start_time": "2023-01-12T09:03:34.092Z"
   },
   {
    "duration": 46,
    "start_time": "2023-01-12T09:03:55.505Z"
   },
   {
    "duration": 12,
    "start_time": "2023-01-12T09:05:13.278Z"
   },
   {
    "duration": 333,
    "start_time": "2023-01-12T09:05:40.567Z"
   },
   {
    "duration": 326,
    "start_time": "2023-01-12T09:06:18.730Z"
   },
   {
    "duration": 15,
    "start_time": "2023-01-12T09:08:26.350Z"
   },
   {
    "duration": 48,
    "start_time": "2023-01-12T12:39:19.401Z"
   },
   {
    "duration": 1207,
    "start_time": "2023-01-12T12:39:26.900Z"
   },
   {
    "duration": 655,
    "start_time": "2023-01-12T12:39:28.109Z"
   },
   {
    "duration": 22,
    "start_time": "2023-01-12T12:39:28.765Z"
   },
   {
    "duration": 9,
    "start_time": "2023-01-12T12:39:28.790Z"
   },
   {
    "duration": 17,
    "start_time": "2023-01-12T12:39:28.801Z"
   },
   {
    "duration": 83,
    "start_time": "2023-01-12T12:39:28.820Z"
   },
   {
    "duration": 72,
    "start_time": "2023-01-12T12:39:28.905Z"
   },
   {
    "duration": 156,
    "start_time": "2023-01-12T12:39:28.978Z"
   },
   {
    "duration": 5,
    "start_time": "2023-01-12T12:39:29.136Z"
   },
   {
    "duration": 25,
    "start_time": "2023-01-12T12:39:29.144Z"
   },
   {
    "duration": 39,
    "start_time": "2023-01-12T12:39:29.170Z"
   },
   {
    "duration": 27,
    "start_time": "2023-01-12T12:39:29.211Z"
   },
   {
    "duration": 379,
    "start_time": "2023-01-12T12:39:29.240Z"
   },
   {
    "duration": 15,
    "start_time": "2023-01-12T12:39:29.621Z"
   },
   {
    "duration": 32,
    "start_time": "2023-01-12T12:39:29.638Z"
   },
   {
    "duration": 197,
    "start_time": "2023-01-12T12:39:29.672Z"
   },
   {
    "duration": 73,
    "start_time": "2023-01-12T12:39:29.871Z"
   },
   {
    "duration": 0,
    "start_time": "2023-01-12T12:39:29.946Z"
   },
   {
    "duration": 1,
    "start_time": "2023-01-12T12:39:29.947Z"
   },
   {
    "duration": 0,
    "start_time": "2023-01-12T12:39:29.949Z"
   },
   {
    "duration": 0,
    "start_time": "2023-01-12T12:39:29.951Z"
   },
   {
    "duration": 0,
    "start_time": "2023-01-12T12:39:29.952Z"
   },
   {
    "duration": 0,
    "start_time": "2023-01-12T12:39:29.954Z"
   },
   {
    "duration": 0,
    "start_time": "2023-01-12T12:39:29.955Z"
   },
   {
    "duration": 0,
    "start_time": "2023-01-12T12:39:29.956Z"
   },
   {
    "duration": 0,
    "start_time": "2023-01-12T12:39:29.957Z"
   },
   {
    "duration": 41,
    "start_time": "2023-01-12T12:41:01.310Z"
   },
   {
    "duration": 191,
    "start_time": "2023-01-12T12:42:02.415Z"
   },
   {
    "duration": 186,
    "start_time": "2023-01-12T12:42:20.005Z"
   },
   {
    "duration": 185,
    "start_time": "2023-01-12T12:42:37.786Z"
   },
   {
    "duration": 251,
    "start_time": "2023-01-12T12:42:51.725Z"
   },
   {
    "duration": 207,
    "start_time": "2023-01-12T12:43:06.601Z"
   },
   {
    "duration": 188,
    "start_time": "2023-01-12T12:43:24.296Z"
   },
   {
    "duration": 316,
    "start_time": "2023-01-12T12:43:33.925Z"
   },
   {
    "duration": 180,
    "start_time": "2023-01-12T12:43:51.910Z"
   },
   {
    "duration": 159,
    "start_time": "2023-01-12T12:53:08.098Z"
   },
   {
    "duration": 167,
    "start_time": "2023-01-12T12:53:19.237Z"
   },
   {
    "duration": 150,
    "start_time": "2023-01-12T12:53:26.490Z"
   },
   {
    "duration": 146,
    "start_time": "2023-01-12T12:53:31.638Z"
   },
   {
    "duration": 172,
    "start_time": "2023-01-12T12:53:38.898Z"
   },
   {
    "duration": 174,
    "start_time": "2023-01-12T12:54:19.770Z"
   },
   {
    "duration": 154,
    "start_time": "2023-01-12T12:54:27.390Z"
   },
   {
    "duration": 169,
    "start_time": "2023-01-12T12:54:32.488Z"
   },
   {
    "duration": 202,
    "start_time": "2023-01-12T12:55:05.747Z"
   },
   {
    "duration": 258,
    "start_time": "2023-01-12T12:55:21.856Z"
   },
   {
    "duration": 192,
    "start_time": "2023-01-12T12:55:29.930Z"
   },
   {
    "duration": 173,
    "start_time": "2023-01-12T12:55:41.273Z"
   },
   {
    "duration": 186,
    "start_time": "2023-01-12T12:55:47.997Z"
   },
   {
    "duration": 187,
    "start_time": "2023-01-12T12:55:55.392Z"
   },
   {
    "duration": 282,
    "start_time": "2023-01-12T12:56:03.828Z"
   },
   {
    "duration": 62,
    "start_time": "2023-01-12T21:16:59.779Z"
   },
   {
    "duration": 1272,
    "start_time": "2023-01-12T21:17:09.892Z"
   },
   {
    "duration": 667,
    "start_time": "2023-01-12T21:17:11.166Z"
   },
   {
    "duration": 22,
    "start_time": "2023-01-12T21:17:11.835Z"
   },
   {
    "duration": 10,
    "start_time": "2023-01-12T21:17:11.860Z"
   },
   {
    "duration": 40,
    "start_time": "2023-01-12T21:17:11.872Z"
   },
   {
    "duration": 102,
    "start_time": "2023-01-12T21:17:11.913Z"
   },
   {
    "duration": 104,
    "start_time": "2023-01-12T21:17:12.017Z"
   },
   {
    "duration": 169,
    "start_time": "2023-01-12T21:17:12.123Z"
   },
   {
    "duration": 6,
    "start_time": "2023-01-12T21:17:12.296Z"
   },
   {
    "duration": 21,
    "start_time": "2023-01-12T21:17:12.304Z"
   },
   {
    "duration": 22,
    "start_time": "2023-01-12T21:17:12.327Z"
   },
   {
    "duration": 46,
    "start_time": "2023-01-12T21:17:12.350Z"
   },
   {
    "duration": 15,
    "start_time": "2023-01-12T21:17:12.398Z"
   },
   {
    "duration": 29,
    "start_time": "2023-01-12T21:17:12.414Z"
   },
   {
    "duration": 219,
    "start_time": "2023-01-12T21:17:12.444Z"
   },
   {
    "duration": 389,
    "start_time": "2023-01-12T21:17:12.665Z"
   },
   {
    "duration": 16,
    "start_time": "2023-01-12T21:17:13.056Z"
   },
   {
    "duration": 347,
    "start_time": "2023-01-12T21:17:13.074Z"
   },
   {
    "duration": 16,
    "start_time": "2023-01-12T21:17:13.423Z"
   },
   {
    "duration": 3,
    "start_time": "2023-01-12T21:17:13.441Z"
   },
   {
    "duration": 4,
    "start_time": "2023-01-12T21:17:13.445Z"
   },
   {
    "duration": 5,
    "start_time": "2023-01-12T21:17:13.451Z"
   },
   {
    "duration": 4,
    "start_time": "2023-01-12T21:17:13.457Z"
   },
   {
    "duration": 5,
    "start_time": "2023-01-12T21:17:13.463Z"
   },
   {
    "duration": 3,
    "start_time": "2023-01-12T21:17:13.497Z"
   },
   {
    "duration": 16,
    "start_time": "2023-01-12T21:18:55.296Z"
   },
   {
    "duration": 85,
    "start_time": "2023-01-12T21:21:58.664Z"
   },
   {
    "duration": 17,
    "start_time": "2023-01-12T21:22:20.960Z"
   },
   {
    "duration": 32,
    "start_time": "2023-01-12T21:22:53.512Z"
   },
   {
    "duration": 46,
    "start_time": "2023-01-12T21:25:19.977Z"
   },
   {
    "duration": 29,
    "start_time": "2023-01-12T21:28:50.972Z"
   },
   {
    "duration": 28,
    "start_time": "2023-01-12T21:29:00.426Z"
   },
   {
    "duration": 26,
    "start_time": "2023-01-12T21:30:10.041Z"
   },
   {
    "duration": 28,
    "start_time": "2023-01-12T21:30:41.821Z"
   },
   {
    "duration": 29,
    "start_time": "2023-01-12T21:30:57.560Z"
   },
   {
    "duration": 27,
    "start_time": "2023-01-12T21:31:17.548Z"
   },
   {
    "duration": 3,
    "start_time": "2023-01-12T21:31:51.434Z"
   },
   {
    "duration": 168,
    "start_time": "2023-01-12T21:31:51.439Z"
   },
   {
    "duration": 19,
    "start_time": "2023-01-12T21:31:51.609Z"
   },
   {
    "duration": 7,
    "start_time": "2023-01-12T21:31:51.629Z"
   },
   {
    "duration": 18,
    "start_time": "2023-01-12T21:31:51.638Z"
   },
   {
    "duration": 91,
    "start_time": "2023-01-12T21:31:51.658Z"
   },
   {
    "duration": 86,
    "start_time": "2023-01-12T21:31:51.750Z"
   },
   {
    "duration": 161,
    "start_time": "2023-01-12T21:31:51.838Z"
   },
   {
    "duration": 7,
    "start_time": "2023-01-12T21:31:52.001Z"
   },
   {
    "duration": 34,
    "start_time": "2023-01-12T21:31:52.009Z"
   },
   {
    "duration": 23,
    "start_time": "2023-01-12T21:31:52.045Z"
   },
   {
    "duration": 32,
    "start_time": "2023-01-12T21:31:52.069Z"
   },
   {
    "duration": 15,
    "start_time": "2023-01-12T21:31:52.102Z"
   },
   {
    "duration": 25,
    "start_time": "2023-01-12T21:31:52.120Z"
   },
   {
    "duration": 206,
    "start_time": "2023-01-12T21:31:52.146Z"
   },
   {
    "duration": 316,
    "start_time": "2023-01-12T21:31:52.354Z"
   },
   {
    "duration": 34,
    "start_time": "2023-01-12T21:31:52.672Z"
   },
   {
    "duration": 12,
    "start_time": "2023-01-12T21:31:52.708Z"
   },
   {
    "duration": 421,
    "start_time": "2023-01-12T21:31:52.721Z"
   },
   {
    "duration": 16,
    "start_time": "2023-01-12T21:31:53.145Z"
   },
   {
    "duration": 16,
    "start_time": "2023-01-12T21:31:53.162Z"
   },
   {
    "duration": 2,
    "start_time": "2023-01-12T21:31:53.196Z"
   },
   {
    "duration": 9,
    "start_time": "2023-01-12T21:31:53.200Z"
   },
   {
    "duration": 5,
    "start_time": "2023-01-12T21:31:53.210Z"
   },
   {
    "duration": 6,
    "start_time": "2023-01-12T21:31:53.216Z"
   },
   {
    "duration": 5,
    "start_time": "2023-01-12T21:31:53.223Z"
   },
   {
    "duration": 6,
    "start_time": "2023-01-12T21:31:53.229Z"
   },
   {
    "duration": 28,
    "start_time": "2023-01-12T21:32:21.626Z"
   },
   {
    "duration": 28,
    "start_time": "2023-01-12T21:32:38.166Z"
   },
   {
    "duration": 48,
    "start_time": "2023-01-14T14:29:08.661Z"
   },
   {
    "duration": 1252,
    "start_time": "2023-01-14T14:29:19.651Z"
   },
   {
    "duration": 685,
    "start_time": "2023-01-14T14:29:20.905Z"
   },
   {
    "duration": 27,
    "start_time": "2023-01-14T14:29:21.591Z"
   },
   {
    "duration": 10,
    "start_time": "2023-01-14T14:29:21.619Z"
   },
   {
    "duration": 21,
    "start_time": "2023-01-14T14:29:21.636Z"
   },
   {
    "duration": 91,
    "start_time": "2023-01-14T14:29:21.659Z"
   },
   {
    "duration": 88,
    "start_time": "2023-01-14T14:29:21.753Z"
   },
   {
    "duration": 170,
    "start_time": "2023-01-14T14:29:21.843Z"
   },
   {
    "duration": 8,
    "start_time": "2023-01-14T14:29:22.015Z"
   },
   {
    "duration": 30,
    "start_time": "2023-01-14T14:29:22.036Z"
   },
   {
    "duration": 52,
    "start_time": "2023-01-14T14:29:22.067Z"
   },
   {
    "duration": 20,
    "start_time": "2023-01-14T14:29:22.121Z"
   },
   {
    "duration": 39,
    "start_time": "2023-01-14T14:29:22.143Z"
   },
   {
    "duration": 35,
    "start_time": "2023-01-14T14:29:22.183Z"
   },
   {
    "duration": 221,
    "start_time": "2023-01-14T14:29:22.220Z"
   },
   {
    "duration": 443,
    "start_time": "2023-01-14T14:29:22.444Z"
   },
   {
    "duration": 10,
    "start_time": "2023-01-14T14:29:22.889Z"
   },
   {
    "duration": 352,
    "start_time": "2023-01-14T14:29:22.901Z"
   },
   {
    "duration": 21,
    "start_time": "2023-01-14T14:29:23.255Z"
   },
   {
    "duration": 25,
    "start_time": "2023-01-14T14:29:23.278Z"
   },
   {
    "duration": 94,
    "start_time": "2023-01-14T14:29:23.305Z"
   },
   {
    "duration": 0,
    "start_time": "2023-01-14T14:29:23.401Z"
   },
   {
    "duration": 0,
    "start_time": "2023-01-14T14:29:23.402Z"
   },
   {
    "duration": 0,
    "start_time": "2023-01-14T14:29:23.403Z"
   },
   {
    "duration": 0,
    "start_time": "2023-01-14T14:29:23.404Z"
   },
   {
    "duration": 0,
    "start_time": "2023-01-14T14:29:23.405Z"
   },
   {
    "duration": 0,
    "start_time": "2023-01-14T14:29:23.407Z"
   },
   {
    "duration": 11,
    "start_time": "2023-01-14T14:29:40.223Z"
   },
   {
    "duration": 70,
    "start_time": "2023-01-14T14:57:50.742Z"
   },
   {
    "duration": 38,
    "start_time": "2023-01-14T14:58:01.571Z"
   },
   {
    "duration": 36,
    "start_time": "2023-01-14T14:58:18.956Z"
   },
   {
    "duration": 45,
    "start_time": "2023-01-14T15:00:04.698Z"
   },
   {
    "duration": 55,
    "start_time": "2023-01-14T15:13:36.003Z"
   },
   {
    "duration": 24,
    "start_time": "2023-01-14T15:19:01.770Z"
   },
   {
    "duration": 345,
    "start_time": "2023-01-14T15:33:39.253Z"
   },
   {
    "duration": 54,
    "start_time": "2023-01-14T15:33:46.834Z"
   },
   {
    "duration": 48,
    "start_time": "2023-01-14T15:34:08.726Z"
   },
   {
    "duration": 13,
    "start_time": "2023-01-14T15:34:14.646Z"
   },
   {
    "duration": 11,
    "start_time": "2023-01-14T15:34:27.113Z"
   },
   {
    "duration": 25,
    "start_time": "2023-01-14T15:34:36.714Z"
   },
   {
    "duration": 3,
    "start_time": "2023-01-14T15:34:47.858Z"
   },
   {
    "duration": 4,
    "start_time": "2023-01-14T15:34:58.874Z"
   },
   {
    "duration": 5,
    "start_time": "2023-01-14T15:35:09.851Z"
   },
   {
    "duration": 21,
    "start_time": "2023-01-14T15:40:43.045Z"
   },
   {
    "duration": 46,
    "start_time": "2023-01-14T15:41:04.632Z"
   },
   {
    "duration": 17,
    "start_time": "2023-01-14T15:41:08.882Z"
   },
   {
    "duration": 10,
    "start_time": "2023-01-14T15:42:49.608Z"
   },
   {
    "duration": 57,
    "start_time": "2023-01-14T15:43:24.702Z"
   },
   {
    "duration": 21,
    "start_time": "2023-01-14T15:43:30.266Z"
   },
   {
    "duration": 11,
    "start_time": "2023-01-14T15:46:19.590Z"
   },
   {
    "duration": 18,
    "start_time": "2023-01-14T15:46:45.429Z"
   },
   {
    "duration": 12,
    "start_time": "2023-01-14T15:46:53.698Z"
   },
   {
    "duration": 37,
    "start_time": "2023-01-14T15:46:58.548Z"
   },
   {
    "duration": 755,
    "start_time": "2023-01-14T15:47:45.879Z"
   },
   {
    "duration": 67,
    "start_time": "2023-01-14T15:48:33.634Z"
   },
   {
    "duration": 31,
    "start_time": "2023-01-14T15:48:42.729Z"
   },
   {
    "duration": 17,
    "start_time": "2023-01-14T15:49:11.725Z"
   },
   {
    "duration": 1330,
    "start_time": "2023-01-14T15:50:01.272Z"
   },
   {
    "duration": 25,
    "start_time": "2023-01-14T15:55:46.755Z"
   },
   {
    "duration": 16,
    "start_time": "2023-01-14T15:56:06.274Z"
   },
   {
    "duration": 15,
    "start_time": "2023-01-14T15:59:15.460Z"
   },
   {
    "duration": 11,
    "start_time": "2023-01-14T16:02:11.682Z"
   },
   {
    "duration": 195,
    "start_time": "2023-01-14T16:03:54.509Z"
   },
   {
    "duration": 33,
    "start_time": "2023-01-14T16:05:24.953Z"
   },
   {
    "duration": 50,
    "start_time": "2023-01-14T16:07:35.624Z"
   },
   {
    "duration": 37,
    "start_time": "2023-01-14T16:07:57.568Z"
   },
   {
    "duration": 44,
    "start_time": "2023-01-14T16:08:08.603Z"
   },
   {
    "duration": 37,
    "start_time": "2023-01-14T16:09:35.793Z"
   },
   {
    "duration": 4,
    "start_time": "2023-01-14T16:18:47.706Z"
   },
   {
    "duration": 7,
    "start_time": "2023-01-14T16:19:08.047Z"
   },
   {
    "duration": 6,
    "start_time": "2023-01-14T16:20:05.913Z"
   },
   {
    "duration": 6,
    "start_time": "2023-01-14T16:20:21.201Z"
   },
   {
    "duration": 9,
    "start_time": "2023-01-14T16:21:53.911Z"
   },
   {
    "duration": 63,
    "start_time": "2023-01-14T16:46:21.012Z"
   },
   {
    "duration": 3,
    "start_time": "2023-01-14T16:47:37.170Z"
   },
   {
    "duration": 203,
    "start_time": "2023-01-14T16:47:37.175Z"
   },
   {
    "duration": 22,
    "start_time": "2023-01-14T16:47:37.380Z"
   },
   {
    "duration": 6,
    "start_time": "2023-01-14T16:47:37.404Z"
   },
   {
    "duration": 44,
    "start_time": "2023-01-14T16:47:37.413Z"
   },
   {
    "duration": 83,
    "start_time": "2023-01-14T16:47:37.458Z"
   },
   {
    "duration": 87,
    "start_time": "2023-01-14T16:47:37.542Z"
   },
   {
    "duration": 159,
    "start_time": "2023-01-14T16:47:37.631Z"
   },
   {
    "duration": 6,
    "start_time": "2023-01-14T16:47:37.791Z"
   },
   {
    "duration": 55,
    "start_time": "2023-01-14T16:47:37.799Z"
   },
   {
    "duration": 25,
    "start_time": "2023-01-14T16:47:37.856Z"
   },
   {
    "duration": 25,
    "start_time": "2023-01-14T16:47:37.884Z"
   },
   {
    "duration": 48,
    "start_time": "2023-01-14T16:47:37.911Z"
   },
   {
    "duration": 31,
    "start_time": "2023-01-14T16:47:37.962Z"
   },
   {
    "duration": 223,
    "start_time": "2023-01-14T16:47:37.995Z"
   },
   {
    "duration": 398,
    "start_time": "2023-01-14T16:47:38.220Z"
   },
   {
    "duration": 19,
    "start_time": "2023-01-14T16:47:38.620Z"
   },
   {
    "duration": 328,
    "start_time": "2023-01-14T16:47:38.641Z"
   },
   {
    "duration": 17,
    "start_time": "2023-01-14T16:47:38.970Z"
   },
   {
    "duration": 23,
    "start_time": "2023-01-14T16:47:38.989Z"
   },
   {
    "duration": 28,
    "start_time": "2023-01-14T16:47:39.013Z"
   },
   {
    "duration": 39,
    "start_time": "2023-01-14T16:47:39.043Z"
   },
   {
    "duration": 66,
    "start_time": "2023-01-14T16:47:39.083Z"
   },
   {
    "duration": 26,
    "start_time": "2023-01-14T16:47:39.150Z"
   },
   {
    "duration": 30,
    "start_time": "2023-01-14T16:47:39.177Z"
   },
   {
    "duration": 12,
    "start_time": "2023-01-14T16:47:39.209Z"
   },
   {
    "duration": 7,
    "start_time": "2023-01-14T16:47:39.222Z"
   },
   {
    "duration": 19,
    "start_time": "2023-01-14T16:47:39.231Z"
   },
   {
    "duration": 15,
    "start_time": "2023-01-14T16:47:39.251Z"
   },
   {
    "duration": 8,
    "start_time": "2023-01-14T16:47:39.268Z"
   },
   {
    "duration": 5,
    "start_time": "2023-01-14T16:47:39.277Z"
   },
   {
    "duration": 11,
    "start_time": "2023-01-14T16:47:39.284Z"
   },
   {
    "duration": 68,
    "start_time": "2023-01-14T16:47:52.562Z"
   },
   {
    "duration": 55,
    "start_time": "2023-01-14T16:48:37.676Z"
   },
   {
    "duration": 272,
    "start_time": "2023-01-14T16:50:30.644Z"
   },
   {
    "duration": 246,
    "start_time": "2023-01-14T16:50:49.505Z"
   },
   {
    "duration": 4,
    "start_time": "2023-01-14T16:51:05.563Z"
   },
   {
    "duration": 196,
    "start_time": "2023-01-14T16:51:05.568Z"
   },
   {
    "duration": 22,
    "start_time": "2023-01-14T16:51:05.767Z"
   },
   {
    "duration": 10,
    "start_time": "2023-01-14T16:51:05.791Z"
   },
   {
    "duration": 43,
    "start_time": "2023-01-14T16:51:05.805Z"
   },
   {
    "duration": 77,
    "start_time": "2023-01-14T16:51:05.849Z"
   },
   {
    "duration": 77,
    "start_time": "2023-01-14T16:51:05.928Z"
   },
   {
    "duration": 174,
    "start_time": "2023-01-14T16:51:06.007Z"
   },
   {
    "duration": 6,
    "start_time": "2023-01-14T16:51:06.183Z"
   },
   {
    "duration": 32,
    "start_time": "2023-01-14T16:51:06.191Z"
   },
   {
    "duration": 45,
    "start_time": "2023-01-14T16:51:06.225Z"
   },
   {
    "duration": 18,
    "start_time": "2023-01-14T16:51:06.272Z"
   },
   {
    "duration": 29,
    "start_time": "2023-01-14T16:51:06.292Z"
   },
   {
    "duration": 57,
    "start_time": "2023-01-14T16:51:06.324Z"
   },
   {
    "duration": 202,
    "start_time": "2023-01-14T16:51:06.383Z"
   },
   {
    "duration": 352,
    "start_time": "2023-01-14T16:51:06.587Z"
   },
   {
    "duration": 13,
    "start_time": "2023-01-14T16:51:06.942Z"
   },
   {
    "duration": 345,
    "start_time": "2023-01-14T16:51:06.956Z"
   },
   {
    "duration": 18,
    "start_time": "2023-01-14T16:51:07.303Z"
   },
   {
    "duration": 18,
    "start_time": "2023-01-14T16:51:07.335Z"
   },
   {
    "duration": 17,
    "start_time": "2023-01-14T16:51:07.355Z"
   },
   {
    "duration": 45,
    "start_time": "2023-01-14T16:51:07.374Z"
   },
   {
    "duration": 70,
    "start_time": "2023-01-14T16:51:07.421Z"
   },
   {
    "duration": 50,
    "start_time": "2023-01-14T16:51:07.493Z"
   },
   {
    "duration": 9,
    "start_time": "2023-01-14T16:51:07.544Z"
   },
   {
    "duration": 12,
    "start_time": "2023-01-14T16:51:07.554Z"
   },
   {
    "duration": 11,
    "start_time": "2023-01-14T16:51:07.568Z"
   },
   {
    "duration": 10,
    "start_time": "2023-01-14T16:51:07.581Z"
   },
   {
    "duration": 7,
    "start_time": "2023-01-14T16:51:07.592Z"
   },
   {
    "duration": 6,
    "start_time": "2023-01-14T16:51:07.601Z"
   },
   {
    "duration": 22,
    "start_time": "2023-01-14T16:51:07.608Z"
   },
   {
    "duration": 8,
    "start_time": "2023-01-14T16:51:07.632Z"
   },
   {
    "duration": 343,
    "start_time": "2023-01-14T16:51:17.341Z"
   },
   {
    "duration": 3,
    "start_time": "2023-01-14T16:51:21.056Z"
   },
   {
    "duration": 200,
    "start_time": "2023-01-14T16:51:21.061Z"
   },
   {
    "duration": 24,
    "start_time": "2023-01-14T16:51:21.262Z"
   },
   {
    "duration": 11,
    "start_time": "2023-01-14T16:51:21.288Z"
   },
   {
    "duration": 44,
    "start_time": "2023-01-14T16:51:21.300Z"
   },
   {
    "duration": 76,
    "start_time": "2023-01-14T16:51:21.345Z"
   },
   {
    "duration": 105,
    "start_time": "2023-01-14T16:51:21.422Z"
   },
   {
    "duration": 158,
    "start_time": "2023-01-14T16:51:21.528Z"
   },
   {
    "duration": 6,
    "start_time": "2023-01-14T16:51:21.688Z"
   },
   {
    "duration": 30,
    "start_time": "2023-01-14T16:51:21.696Z"
   },
   {
    "duration": 38,
    "start_time": "2023-01-14T16:51:21.728Z"
   },
   {
    "duration": 18,
    "start_time": "2023-01-14T16:51:21.767Z"
   },
   {
    "duration": 22,
    "start_time": "2023-01-14T16:51:21.786Z"
   },
   {
    "duration": 43,
    "start_time": "2023-01-14T16:51:21.810Z"
   },
   {
    "duration": 219,
    "start_time": "2023-01-14T16:51:21.855Z"
   },
   {
    "duration": 315,
    "start_time": "2023-01-14T16:51:22.076Z"
   },
   {
    "duration": 15,
    "start_time": "2023-01-14T16:51:22.393Z"
   },
   {
    "duration": 479,
    "start_time": "2023-01-14T16:51:22.410Z"
   },
   {
    "duration": 18,
    "start_time": "2023-01-14T16:51:22.891Z"
   },
   {
    "duration": 33,
    "start_time": "2023-01-14T16:51:22.911Z"
   },
   {
    "duration": 19,
    "start_time": "2023-01-14T16:51:22.946Z"
   },
   {
    "duration": 45,
    "start_time": "2023-01-14T16:51:22.967Z"
   },
   {
    "duration": 68,
    "start_time": "2023-01-14T16:51:23.014Z"
   },
   {
    "duration": 27,
    "start_time": "2023-01-14T16:51:23.085Z"
   },
   {
    "duration": 22,
    "start_time": "2023-01-14T16:51:23.114Z"
   },
   {
    "duration": 17,
    "start_time": "2023-01-14T16:51:23.137Z"
   },
   {
    "duration": 20,
    "start_time": "2023-01-14T16:51:23.156Z"
   },
   {
    "duration": 17,
    "start_time": "2023-01-14T16:51:23.178Z"
   },
   {
    "duration": 9,
    "start_time": "2023-01-14T16:51:23.197Z"
   },
   {
    "duration": 10,
    "start_time": "2023-01-14T16:51:23.207Z"
   },
   {
    "duration": 8,
    "start_time": "2023-01-14T16:51:23.219Z"
   },
   {
    "duration": 8,
    "start_time": "2023-01-14T16:51:23.229Z"
   },
   {
    "duration": 249,
    "start_time": "2023-01-14T16:51:37.484Z"
   },
   {
    "duration": 57,
    "start_time": "2023-01-14T16:51:51.152Z"
   },
   {
    "duration": 7,
    "start_time": "2023-01-14T16:53:56.275Z"
   },
   {
    "duration": 7,
    "start_time": "2023-01-14T16:55:23.329Z"
   },
   {
    "duration": 9,
    "start_time": "2023-01-14T16:56:03.667Z"
   },
   {
    "duration": 9,
    "start_time": "2023-01-14T16:57:47.374Z"
   },
   {
    "duration": 9,
    "start_time": "2023-01-14T16:57:54.997Z"
   },
   {
    "duration": 10,
    "start_time": "2023-01-14T17:03:45.402Z"
   },
   {
    "duration": 3,
    "start_time": "2023-01-14T17:07:54.911Z"
   },
   {
    "duration": 10,
    "start_time": "2023-01-14T17:22:56.695Z"
   },
   {
    "duration": 4,
    "start_time": "2023-01-14T17:23:44.460Z"
   },
   {
    "duration": 197,
    "start_time": "2023-01-14T17:23:44.466Z"
   },
   {
    "duration": 24,
    "start_time": "2023-01-14T17:23:44.665Z"
   },
   {
    "duration": 7,
    "start_time": "2023-01-14T17:23:44.691Z"
   },
   {
    "duration": 46,
    "start_time": "2023-01-14T17:23:44.700Z"
   },
   {
    "duration": 89,
    "start_time": "2023-01-14T17:23:44.749Z"
   },
   {
    "duration": 98,
    "start_time": "2023-01-14T17:23:44.840Z"
   },
   {
    "duration": 172,
    "start_time": "2023-01-14T17:23:44.941Z"
   },
   {
    "duration": 6,
    "start_time": "2023-01-14T17:23:45.115Z"
   },
   {
    "duration": 45,
    "start_time": "2023-01-14T17:23:45.123Z"
   },
   {
    "duration": 34,
    "start_time": "2023-01-14T17:23:45.170Z"
   },
   {
    "duration": 29,
    "start_time": "2023-01-14T17:23:45.206Z"
   },
   {
    "duration": 20,
    "start_time": "2023-01-14T17:23:45.236Z"
   },
   {
    "duration": 43,
    "start_time": "2023-01-14T17:23:45.259Z"
   },
   {
    "duration": 222,
    "start_time": "2023-01-14T17:23:45.304Z"
   },
   {
    "duration": 318,
    "start_time": "2023-01-14T17:23:45.528Z"
   },
   {
    "duration": 13,
    "start_time": "2023-01-14T17:23:45.848Z"
   },
   {
    "duration": 345,
    "start_time": "2023-01-14T17:23:45.863Z"
   },
   {
    "duration": 26,
    "start_time": "2023-01-14T17:23:46.210Z"
   },
   {
    "duration": 17,
    "start_time": "2023-01-14T17:23:46.238Z"
   },
   {
    "duration": 14,
    "start_time": "2023-01-14T17:23:46.257Z"
   },
   {
    "duration": 34,
    "start_time": "2023-01-14T17:23:46.273Z"
   },
   {
    "duration": 78,
    "start_time": "2023-01-14T17:23:46.309Z"
   },
   {
    "duration": 27,
    "start_time": "2023-01-14T17:23:46.389Z"
   },
   {
    "duration": 26,
    "start_time": "2023-01-14T17:23:46.417Z"
   },
   {
    "duration": 14,
    "start_time": "2023-01-14T17:23:46.445Z"
   },
   {
    "duration": 0,
    "start_time": "2023-01-14T17:23:46.460Z"
   },
   {
    "duration": 0,
    "start_time": "2023-01-14T17:23:46.461Z"
   },
   {
    "duration": 0,
    "start_time": "2023-01-14T17:23:46.462Z"
   },
   {
    "duration": 0,
    "start_time": "2023-01-14T17:23:46.463Z"
   },
   {
    "duration": 0,
    "start_time": "2023-01-14T17:23:46.464Z"
   },
   {
    "duration": 5,
    "start_time": "2023-01-14T17:24:43.792Z"
   },
   {
    "duration": 10,
    "start_time": "2023-01-14T17:24:56.198Z"
   },
   {
    "duration": 9,
    "start_time": "2023-01-14T17:25:13.273Z"
   },
   {
    "duration": 3,
    "start_time": "2023-01-14T17:25:26.693Z"
   },
   {
    "duration": 15,
    "start_time": "2023-01-14T17:25:50.533Z"
   },
   {
    "duration": 10,
    "start_time": "2023-01-14T17:28:34.323Z"
   },
   {
    "duration": 13,
    "start_time": "2023-01-14T17:28:48.247Z"
   },
   {
    "duration": 43,
    "start_time": "2023-01-14T17:28:57.582Z"
   },
   {
    "duration": 14,
    "start_time": "2023-01-14T17:29:02.752Z"
   },
   {
    "duration": 15,
    "start_time": "2023-01-14T17:29:11.847Z"
   },
   {
    "duration": 11,
    "start_time": "2023-01-14T17:32:54.369Z"
   },
   {
    "duration": 2,
    "start_time": "2023-01-14T17:32:56.613Z"
   },
   {
    "duration": 16,
    "start_time": "2023-01-14T17:33:05.662Z"
   },
   {
    "duration": 15,
    "start_time": "2023-01-14T17:37:15.806Z"
   },
   {
    "duration": 10,
    "start_time": "2023-01-14T17:39:29.563Z"
   },
   {
    "duration": 14,
    "start_time": "2023-01-14T17:41:15.049Z"
   },
   {
    "duration": 12,
    "start_time": "2023-01-14T17:42:53.131Z"
   },
   {
    "duration": 57,
    "start_time": "2023-01-14T18:16:23.865Z"
   },
   {
    "duration": 38,
    "start_time": "2023-01-14T18:33:29.249Z"
   },
   {
    "duration": 25,
    "start_time": "2023-01-14T18:33:55.876Z"
   },
   {
    "duration": 23,
    "start_time": "2023-01-14T18:34:15.562Z"
   },
   {
    "duration": 69,
    "start_time": "2023-01-14T18:34:34.930Z"
   },
   {
    "duration": 43,
    "start_time": "2023-01-14T18:35:25.382Z"
   },
   {
    "duration": 68,
    "start_time": "2023-01-14T18:35:37.226Z"
   },
   {
    "duration": 63,
    "start_time": "2023-01-15T08:05:11.407Z"
   },
   {
    "duration": 1358,
    "start_time": "2023-01-15T08:05:23.164Z"
   },
   {
    "duration": 913,
    "start_time": "2023-01-15T08:05:24.524Z"
   },
   {
    "duration": 32,
    "start_time": "2023-01-15T08:05:25.439Z"
   },
   {
    "duration": 11,
    "start_time": "2023-01-15T08:05:25.474Z"
   },
   {
    "duration": 20,
    "start_time": "2023-01-15T08:05:25.487Z"
   },
   {
    "duration": 94,
    "start_time": "2023-01-15T08:05:25.509Z"
   },
   {
    "duration": 95,
    "start_time": "2023-01-15T08:05:25.605Z"
   },
   {
    "duration": 174,
    "start_time": "2023-01-15T08:05:25.702Z"
   },
   {
    "duration": 8,
    "start_time": "2023-01-15T08:05:25.878Z"
   },
   {
    "duration": 36,
    "start_time": "2023-01-15T08:05:25.889Z"
   },
   {
    "duration": 52,
    "start_time": "2023-01-15T08:05:25.927Z"
   },
   {
    "duration": 17,
    "start_time": "2023-01-15T08:05:25.982Z"
   },
   {
    "duration": 40,
    "start_time": "2023-01-15T08:05:26.001Z"
   },
   {
    "duration": 30,
    "start_time": "2023-01-15T08:05:26.042Z"
   },
   {
    "duration": 226,
    "start_time": "2023-01-15T08:05:26.074Z"
   },
   {
    "duration": 403,
    "start_time": "2023-01-15T08:05:26.302Z"
   },
   {
    "duration": 12,
    "start_time": "2023-01-15T08:05:26.707Z"
   },
   {
    "duration": 341,
    "start_time": "2023-01-15T08:05:26.720Z"
   },
   {
    "duration": 25,
    "start_time": "2023-01-15T08:05:27.063Z"
   },
   {
    "duration": 20,
    "start_time": "2023-01-15T08:05:27.090Z"
   },
   {
    "duration": 40,
    "start_time": "2023-01-15T08:05:27.112Z"
   },
   {
    "duration": 51,
    "start_time": "2023-01-15T08:05:27.154Z"
   },
   {
    "duration": 78,
    "start_time": "2023-01-15T08:05:27.207Z"
   },
   {
    "duration": 27,
    "start_time": "2023-01-15T08:05:27.287Z"
   },
   {
    "duration": 13,
    "start_time": "2023-01-15T08:05:27.315Z"
   },
   {
    "duration": 33,
    "start_time": "2023-01-15T08:05:27.330Z"
   },
   {
    "duration": 1295,
    "start_time": "2023-01-15T08:05:27.364Z"
   },
   {
    "duration": 0,
    "start_time": "2023-01-15T08:05:28.661Z"
   },
   {
    "duration": 0,
    "start_time": "2023-01-15T08:05:28.662Z"
   },
   {
    "duration": 0,
    "start_time": "2023-01-15T08:05:28.664Z"
   },
   {
    "duration": 0,
    "start_time": "2023-01-15T08:05:28.665Z"
   },
   {
    "duration": 0,
    "start_time": "2023-01-15T08:05:28.666Z"
   },
   {
    "duration": 0,
    "start_time": "2023-01-15T08:05:28.668Z"
   },
   {
    "duration": 0,
    "start_time": "2023-01-15T08:05:28.669Z"
   },
   {
    "duration": 0,
    "start_time": "2023-01-15T08:05:28.670Z"
   },
   {
    "duration": 36,
    "start_time": "2023-01-15T08:05:45.489Z"
   },
   {
    "duration": 37,
    "start_time": "2023-01-15T08:06:45.607Z"
   },
   {
    "duration": 42,
    "start_time": "2023-01-15T08:06:57.115Z"
   },
   {
    "duration": 47,
    "start_time": "2023-01-15T08:07:15.754Z"
   },
   {
    "duration": 50,
    "start_time": "2023-01-15T08:08:47.589Z"
   },
   {
    "duration": 83,
    "start_time": "2023-01-15T08:25:54.915Z"
   },
   {
    "duration": 74,
    "start_time": "2023-01-15T08:26:11.935Z"
   },
   {
    "duration": 9,
    "start_time": "2023-01-15T09:25:19.617Z"
   },
   {
    "duration": 1259,
    "start_time": "2023-01-15T09:25:45.604Z"
   },
   {
    "duration": 4,
    "start_time": "2023-01-15T09:27:00.151Z"
   },
   {
    "duration": 202,
    "start_time": "2023-01-15T09:27:00.157Z"
   },
   {
    "duration": 22,
    "start_time": "2023-01-15T09:27:00.361Z"
   },
   {
    "duration": 8,
    "start_time": "2023-01-15T09:27:00.385Z"
   },
   {
    "duration": 21,
    "start_time": "2023-01-15T09:27:00.395Z"
   },
   {
    "duration": 97,
    "start_time": "2023-01-15T09:27:00.417Z"
   },
   {
    "duration": 89,
    "start_time": "2023-01-15T09:27:00.516Z"
   },
   {
    "duration": 186,
    "start_time": "2023-01-15T09:27:00.607Z"
   },
   {
    "duration": 7,
    "start_time": "2023-01-15T09:27:00.794Z"
   },
   {
    "duration": 32,
    "start_time": "2023-01-15T09:27:00.804Z"
   },
   {
    "duration": 33,
    "start_time": "2023-01-15T09:27:00.837Z"
   },
   {
    "duration": 17,
    "start_time": "2023-01-15T09:27:00.872Z"
   },
   {
    "duration": 25,
    "start_time": "2023-01-15T09:27:00.890Z"
   },
   {
    "duration": 47,
    "start_time": "2023-01-15T09:27:00.917Z"
   },
   {
    "duration": 213,
    "start_time": "2023-01-15T09:27:00.966Z"
   },
   {
    "duration": 335,
    "start_time": "2023-01-15T09:27:01.180Z"
   },
   {
    "duration": 14,
    "start_time": "2023-01-15T09:27:01.517Z"
   },
   {
    "duration": 433,
    "start_time": "2023-01-15T09:27:01.533Z"
   },
   {
    "duration": 20,
    "start_time": "2023-01-15T09:27:01.968Z"
   },
   {
    "duration": 49,
    "start_time": "2023-01-15T09:27:01.990Z"
   },
   {
    "duration": 23,
    "start_time": "2023-01-15T09:27:02.040Z"
   },
   {
    "duration": 69,
    "start_time": "2023-01-15T09:27:02.065Z"
   },
   {
    "duration": 60,
    "start_time": "2023-01-15T09:27:02.136Z"
   },
   {
    "duration": 34,
    "start_time": "2023-01-15T09:27:02.198Z"
   },
   {
    "duration": 23,
    "start_time": "2023-01-15T09:27:02.234Z"
   },
   {
    "duration": 54,
    "start_time": "2023-01-15T09:27:02.259Z"
   },
   {
    "duration": 1153,
    "start_time": "2023-01-15T09:27:02.314Z"
   },
   {
    "duration": 0,
    "start_time": "2023-01-15T09:27:03.469Z"
   },
   {
    "duration": 0,
    "start_time": "2023-01-15T09:27:03.470Z"
   },
   {
    "duration": 0,
    "start_time": "2023-01-15T09:27:03.471Z"
   },
   {
    "duration": 0,
    "start_time": "2023-01-15T09:27:03.472Z"
   },
   {
    "duration": 0,
    "start_time": "2023-01-15T09:27:03.473Z"
   },
   {
    "duration": 0,
    "start_time": "2023-01-15T09:27:03.474Z"
   },
   {
    "duration": 0,
    "start_time": "2023-01-15T09:27:03.475Z"
   },
   {
    "duration": 0,
    "start_time": "2023-01-15T09:27:03.476Z"
   },
   {
    "duration": 0,
    "start_time": "2023-01-15T09:27:03.477Z"
   },
   {
    "duration": 0,
    "start_time": "2023-01-15T09:27:03.478Z"
   },
   {
    "duration": 1134,
    "start_time": "2023-01-15T09:27:08.591Z"
   },
   {
    "duration": 1646,
    "start_time": "2023-01-15T09:27:34.675Z"
   },
   {
    "duration": 12,
    "start_time": "2023-01-15T09:28:49.453Z"
   },
   {
    "duration": 6,
    "start_time": "2023-01-15T09:29:05.166Z"
   },
   {
    "duration": 48,
    "start_time": "2023-01-15T09:29:19.588Z"
   },
   {
    "duration": 35,
    "start_time": "2023-01-15T09:29:26.779Z"
   },
   {
    "duration": 63,
    "start_time": "2023-01-15T09:33:29.936Z"
   },
   {
    "duration": 6,
    "start_time": "2023-01-15T09:42:02.875Z"
   },
   {
    "duration": 5,
    "start_time": "2023-01-15T09:42:06.847Z"
   },
   {
    "duration": 11,
    "start_time": "2023-01-15T09:42:41.877Z"
   },
   {
    "duration": 12,
    "start_time": "2023-01-15T09:45:31.578Z"
   },
   {
    "duration": 11,
    "start_time": "2023-01-15T09:45:34.436Z"
   },
   {
    "duration": 3,
    "start_time": "2023-01-15T09:45:54.499Z"
   },
   {
    "duration": 210,
    "start_time": "2023-01-15T09:45:54.504Z"
   },
   {
    "duration": 36,
    "start_time": "2023-01-15T09:45:54.716Z"
   },
   {
    "duration": 7,
    "start_time": "2023-01-15T09:45:54.754Z"
   },
   {
    "duration": 29,
    "start_time": "2023-01-15T09:45:54.763Z"
   },
   {
    "duration": 96,
    "start_time": "2023-01-15T09:45:54.794Z"
   },
   {
    "duration": 94,
    "start_time": "2023-01-15T09:45:54.892Z"
   },
   {
    "duration": 189,
    "start_time": "2023-01-15T09:45:54.989Z"
   },
   {
    "duration": 7,
    "start_time": "2023-01-15T09:45:55.180Z"
   },
   {
    "duration": 29,
    "start_time": "2023-01-15T09:45:55.188Z"
   },
   {
    "duration": 47,
    "start_time": "2023-01-15T09:45:55.218Z"
   },
   {
    "duration": 19,
    "start_time": "2023-01-15T09:45:55.267Z"
   },
   {
    "duration": 18,
    "start_time": "2023-01-15T09:45:55.287Z"
   },
   {
    "duration": 55,
    "start_time": "2023-01-15T09:45:55.307Z"
   },
   {
    "duration": 208,
    "start_time": "2023-01-15T09:45:55.364Z"
   },
   {
    "duration": 349,
    "start_time": "2023-01-15T09:45:55.574Z"
   },
   {
    "duration": 14,
    "start_time": "2023-01-15T09:45:55.925Z"
   },
   {
    "duration": 348,
    "start_time": "2023-01-15T09:45:55.951Z"
   },
   {
    "duration": 19,
    "start_time": "2023-01-15T09:45:56.301Z"
   },
   {
    "duration": 31,
    "start_time": "2023-01-15T09:45:56.322Z"
   },
   {
    "duration": 12,
    "start_time": "2023-01-15T09:45:56.355Z"
   },
   {
    "duration": 40,
    "start_time": "2023-01-15T09:45:56.369Z"
   },
   {
    "duration": 84,
    "start_time": "2023-01-15T09:45:56.411Z"
   },
   {
    "duration": 28,
    "start_time": "2023-01-15T09:45:56.498Z"
   },
   {
    "duration": 24,
    "start_time": "2023-01-15T09:45:56.528Z"
   },
   {
    "duration": 28,
    "start_time": "2023-01-15T09:45:56.553Z"
   },
   {
    "duration": 34,
    "start_time": "2023-01-15T09:45:56.582Z"
   },
   {
    "duration": 55,
    "start_time": "2023-01-15T09:45:56.617Z"
   },
   {
    "duration": 38,
    "start_time": "2023-01-15T09:45:56.674Z"
   },
   {
    "duration": 58,
    "start_time": "2023-01-15T09:45:56.714Z"
   },
   {
    "duration": 2,
    "start_time": "2023-01-15T09:45:56.774Z"
   },
   {
    "duration": 18,
    "start_time": "2023-01-15T09:45:56.778Z"
   },
   {
    "duration": 15,
    "start_time": "2023-01-15T09:45:56.798Z"
   },
   {
    "duration": 78,
    "start_time": "2023-01-15T09:45:56.814Z"
   },
   {
    "duration": 5,
    "start_time": "2023-01-15T09:45:56.893Z"
   },
   {
    "duration": 44,
    "start_time": "2023-01-15T09:45:56.900Z"
   },
   {
    "duration": 0,
    "start_time": "2023-01-15T09:45:56.945Z"
   },
   {
    "duration": 15,
    "start_time": "2023-01-15T09:45:59.402Z"
   },
   {
    "duration": 36,
    "start_time": "2023-01-15T09:49:53.971Z"
   },
   {
    "duration": 15,
    "start_time": "2023-01-15T09:50:07.867Z"
   },
   {
    "duration": 3,
    "start_time": "2023-01-15T09:50:11.977Z"
   },
   {
    "duration": 206,
    "start_time": "2023-01-15T09:50:11.982Z"
   },
   {
    "duration": 23,
    "start_time": "2023-01-15T09:50:12.190Z"
   },
   {
    "duration": 20,
    "start_time": "2023-01-15T09:50:12.215Z"
   },
   {
    "duration": 26,
    "start_time": "2023-01-15T09:50:12.238Z"
   },
   {
    "duration": 82,
    "start_time": "2023-01-15T09:50:12.266Z"
   },
   {
    "duration": 80,
    "start_time": "2023-01-15T09:50:12.349Z"
   },
   {
    "duration": 170,
    "start_time": "2023-01-15T09:50:12.430Z"
   },
   {
    "duration": 6,
    "start_time": "2023-01-15T09:50:12.602Z"
   },
   {
    "duration": 34,
    "start_time": "2023-01-15T09:50:12.609Z"
   },
   {
    "duration": 42,
    "start_time": "2023-01-15T09:50:12.653Z"
   },
   {
    "duration": 21,
    "start_time": "2023-01-15T09:50:12.697Z"
   },
   {
    "duration": 19,
    "start_time": "2023-01-15T09:50:12.720Z"
   },
   {
    "duration": 40,
    "start_time": "2023-01-15T09:50:12.741Z"
   },
   {
    "duration": 204,
    "start_time": "2023-01-15T09:50:12.783Z"
   },
   {
    "duration": 303,
    "start_time": "2023-01-15T09:50:12.989Z"
   },
   {
    "duration": 14,
    "start_time": "2023-01-15T09:50:13.293Z"
   },
   {
    "duration": 427,
    "start_time": "2023-01-15T09:50:13.308Z"
   },
   {
    "duration": 20,
    "start_time": "2023-01-15T09:50:13.737Z"
   },
   {
    "duration": 22,
    "start_time": "2023-01-15T09:50:13.759Z"
   },
   {
    "duration": 11,
    "start_time": "2023-01-15T09:50:13.783Z"
   },
   {
    "duration": 34,
    "start_time": "2023-01-15T09:50:13.795Z"
   },
   {
    "duration": 53,
    "start_time": "2023-01-15T09:50:13.852Z"
   },
   {
    "duration": 44,
    "start_time": "2023-01-15T09:50:13.907Z"
   },
   {
    "duration": 8,
    "start_time": "2023-01-15T09:50:13.953Z"
   },
   {
    "duration": 20,
    "start_time": "2023-01-15T09:50:13.963Z"
   },
   {
    "duration": 13,
    "start_time": "2023-01-15T09:50:13.985Z"
   },
   {
    "duration": 52,
    "start_time": "2023-01-15T09:50:14.000Z"
   },
   {
    "duration": 34,
    "start_time": "2023-01-15T09:50:14.055Z"
   },
   {
    "duration": 36,
    "start_time": "2023-01-15T09:50:14.091Z"
   },
   {
    "duration": 2,
    "start_time": "2023-01-15T09:50:14.129Z"
   },
   {
    "duration": 3,
    "start_time": "2023-01-15T09:50:14.150Z"
   },
   {
    "duration": 5,
    "start_time": "2023-01-15T09:50:14.156Z"
   },
   {
    "duration": 72,
    "start_time": "2023-01-15T09:50:14.163Z"
   },
   {
    "duration": 5,
    "start_time": "2023-01-15T09:50:14.251Z"
   },
   {
    "duration": 23,
    "start_time": "2023-01-15T09:50:14.258Z"
   },
   {
    "duration": 0,
    "start_time": "2023-01-15T09:50:14.283Z"
   },
   {
    "duration": 3,
    "start_time": "2023-01-15T09:51:28.180Z"
   },
   {
    "duration": 208,
    "start_time": "2023-01-15T09:51:28.186Z"
   },
   {
    "duration": 26,
    "start_time": "2023-01-15T09:51:28.396Z"
   },
   {
    "duration": 8,
    "start_time": "2023-01-15T09:51:28.425Z"
   },
   {
    "duration": 40,
    "start_time": "2023-01-15T09:51:28.435Z"
   },
   {
    "duration": 86,
    "start_time": "2023-01-15T09:51:28.477Z"
   },
   {
    "duration": 95,
    "start_time": "2023-01-15T09:51:28.564Z"
   },
   {
    "duration": 174,
    "start_time": "2023-01-15T09:51:28.661Z"
   },
   {
    "duration": 14,
    "start_time": "2023-01-15T09:51:28.837Z"
   },
   {
    "duration": 26,
    "start_time": "2023-01-15T09:51:28.853Z"
   },
   {
    "duration": 35,
    "start_time": "2023-01-15T09:51:28.881Z"
   },
   {
    "duration": 34,
    "start_time": "2023-01-15T09:51:28.918Z"
   },
   {
    "duration": 18,
    "start_time": "2023-01-15T09:51:28.954Z"
   },
   {
    "duration": 33,
    "start_time": "2023-01-15T09:51:28.974Z"
   },
   {
    "duration": 244,
    "start_time": "2023-01-15T09:51:29.009Z"
   },
   {
    "duration": 316,
    "start_time": "2023-01-15T09:51:29.254Z"
   },
   {
    "duration": 17,
    "start_time": "2023-01-15T09:51:29.575Z"
   },
   {
    "duration": 445,
    "start_time": "2023-01-15T09:51:29.594Z"
   },
   {
    "duration": 25,
    "start_time": "2023-01-15T09:51:30.041Z"
   },
   {
    "duration": 21,
    "start_time": "2023-01-15T09:51:30.068Z"
   },
   {
    "duration": 26,
    "start_time": "2023-01-15T09:51:30.091Z"
   },
   {
    "duration": 56,
    "start_time": "2023-01-15T09:51:30.119Z"
   },
   {
    "duration": 75,
    "start_time": "2023-01-15T09:51:30.177Z"
   },
   {
    "duration": 28,
    "start_time": "2023-01-15T09:51:30.256Z"
   },
   {
    "duration": 44,
    "start_time": "2023-01-15T09:51:30.287Z"
   },
   {
    "duration": 26,
    "start_time": "2023-01-15T09:51:30.333Z"
   },
   {
    "duration": 32,
    "start_time": "2023-01-15T09:51:30.361Z"
   },
   {
    "duration": 66,
    "start_time": "2023-01-15T09:51:30.395Z"
   },
   {
    "duration": 42,
    "start_time": "2023-01-15T09:51:30.463Z"
   },
   {
    "duration": 52,
    "start_time": "2023-01-15T09:51:30.507Z"
   },
   {
    "duration": 2,
    "start_time": "2023-01-15T09:51:30.561Z"
   },
   {
    "duration": 47,
    "start_time": "2023-01-15T09:51:30.565Z"
   },
   {
    "duration": 30,
    "start_time": "2023-01-15T09:51:30.614Z"
   },
   {
    "duration": 82,
    "start_time": "2023-01-15T09:51:30.646Z"
   },
   {
    "duration": 8,
    "start_time": "2023-01-15T09:51:30.730Z"
   },
   {
    "duration": 63,
    "start_time": "2023-01-15T09:51:30.740Z"
   },
   {
    "duration": 0,
    "start_time": "2023-01-15T09:51:30.804Z"
   },
   {
    "duration": 4,
    "start_time": "2023-01-15T09:53:09.829Z"
   },
   {
    "duration": 5,
    "start_time": "2023-01-15T09:53:11.977Z"
   },
   {
    "duration": 18,
    "start_time": "2023-01-15T09:53:19.465Z"
   },
   {
    "duration": 5,
    "start_time": "2023-01-15T09:53:21.797Z"
   },
   {
    "duration": 16,
    "start_time": "2023-01-15T09:53:24.123Z"
   },
   {
    "duration": 5,
    "start_time": "2023-01-15T09:57:20.686Z"
   },
   {
    "duration": 290,
    "start_time": "2023-01-15T09:57:20.693Z"
   },
   {
    "duration": 34,
    "start_time": "2023-01-15T09:57:20.985Z"
   },
   {
    "duration": 8,
    "start_time": "2023-01-15T09:57:21.021Z"
   },
   {
    "duration": 35,
    "start_time": "2023-01-15T09:57:21.051Z"
   },
   {
    "duration": 90,
    "start_time": "2023-01-15T09:57:21.088Z"
   },
   {
    "duration": 96,
    "start_time": "2023-01-15T09:57:21.180Z"
   },
   {
    "duration": 169,
    "start_time": "2023-01-15T09:57:21.277Z"
   },
   {
    "duration": 6,
    "start_time": "2023-01-15T09:57:21.450Z"
   },
   {
    "duration": 128,
    "start_time": "2023-01-15T09:57:21.458Z"
   },
   {
    "duration": 30,
    "start_time": "2023-01-15T09:57:21.588Z"
   },
   {
    "duration": 18,
    "start_time": "2023-01-15T09:57:21.619Z"
   },
   {
    "duration": 21,
    "start_time": "2023-01-15T09:57:21.639Z"
   },
   {
    "duration": 32,
    "start_time": "2023-01-15T09:57:21.663Z"
   },
   {
    "duration": 216,
    "start_time": "2023-01-15T09:57:21.697Z"
   },
   {
    "duration": 381,
    "start_time": "2023-01-15T09:57:21.915Z"
   },
   {
    "duration": 17,
    "start_time": "2023-01-15T09:57:22.298Z"
   },
   {
    "duration": 350,
    "start_time": "2023-01-15T09:57:22.317Z"
   },
   {
    "duration": 18,
    "start_time": "2023-01-15T09:57:22.669Z"
   },
   {
    "duration": 18,
    "start_time": "2023-01-15T09:57:22.689Z"
   },
   {
    "duration": 13,
    "start_time": "2023-01-15T09:57:22.709Z"
   },
   {
    "duration": 35,
    "start_time": "2023-01-15T09:57:22.751Z"
   },
   {
    "duration": 68,
    "start_time": "2023-01-15T09:57:22.788Z"
   },
   {
    "duration": 26,
    "start_time": "2023-01-15T09:57:22.857Z"
   },
   {
    "duration": 20,
    "start_time": "2023-01-15T09:57:22.885Z"
   },
   {
    "duration": 18,
    "start_time": "2023-01-15T09:57:22.907Z"
   },
   {
    "duration": 28,
    "start_time": "2023-01-15T09:57:22.926Z"
   },
   {
    "duration": 40,
    "start_time": "2023-01-15T09:57:22.956Z"
   },
   {
    "duration": 34,
    "start_time": "2023-01-15T09:57:22.997Z"
   },
   {
    "duration": 149,
    "start_time": "2023-01-15T09:57:23.033Z"
   },
   {
    "duration": 3,
    "start_time": "2023-01-15T09:57:23.183Z"
   },
   {
    "duration": 7,
    "start_time": "2023-01-15T09:57:23.187Z"
   },
   {
    "duration": 7,
    "start_time": "2023-01-15T09:57:23.195Z"
   },
   {
    "duration": 71,
    "start_time": "2023-01-15T09:57:23.204Z"
   },
   {
    "duration": 6,
    "start_time": "2023-01-15T09:57:23.277Z"
   },
   {
    "duration": 22,
    "start_time": "2023-01-15T09:57:23.284Z"
   },
   {
    "duration": 7,
    "start_time": "2023-01-15T09:57:23.307Z"
   },
   {
    "duration": 4,
    "start_time": "2023-01-15T10:08:43.155Z"
   },
   {
    "duration": 22,
    "start_time": "2023-01-15T10:08:45.419Z"
   },
   {
    "duration": 85,
    "start_time": "2023-01-15T10:14:02.800Z"
   },
   {
    "duration": 22,
    "start_time": "2023-01-15T10:15:55.095Z"
   },
   {
    "duration": 20,
    "start_time": "2023-01-15T10:17:43.492Z"
   },
   {
    "duration": 4,
    "start_time": "2023-01-15T10:20:28.268Z"
   },
   {
    "duration": 15,
    "start_time": "2023-01-15T10:20:34.326Z"
   },
   {
    "duration": 12,
    "start_time": "2023-01-15T10:22:17.614Z"
   },
   {
    "duration": 16,
    "start_time": "2023-01-15T10:22:24.910Z"
   },
   {
    "duration": 17,
    "start_time": "2023-01-15T10:23:04.461Z"
   },
   {
    "duration": 12,
    "start_time": "2023-01-15T10:24:56.103Z"
   },
   {
    "duration": 86,
    "start_time": "2023-01-15T10:26:03.310Z"
   },
   {
    "duration": 15,
    "start_time": "2023-01-15T10:26:12.287Z"
   },
   {
    "duration": 18,
    "start_time": "2023-01-15T10:27:10.341Z"
   },
   {
    "duration": 77,
    "start_time": "2023-01-15T10:27:27.386Z"
   },
   {
    "duration": 71,
    "start_time": "2023-01-15T10:28:53.612Z"
   },
   {
    "duration": 392,
    "start_time": "2023-01-15T10:28:59.753Z"
   },
   {
    "duration": 374,
    "start_time": "2023-01-15T10:29:33.759Z"
   },
   {
    "duration": 349,
    "start_time": "2023-01-15T10:29:57.872Z"
   },
   {
    "duration": 74,
    "start_time": "2023-01-15T10:30:17.160Z"
   },
   {
    "duration": 97,
    "start_time": "2023-01-15T10:30:44.272Z"
   },
   {
    "duration": 40,
    "start_time": "2023-01-15T10:30:58.128Z"
   },
   {
    "duration": 88,
    "start_time": "2023-01-15T10:31:19.602Z"
   },
   {
    "duration": 95,
    "start_time": "2023-01-15T11:24:00.191Z"
   },
   {
    "duration": 26,
    "start_time": "2023-01-15T11:32:58.018Z"
   },
   {
    "duration": 16,
    "start_time": "2023-01-15T11:48:19.902Z"
   },
   {
    "duration": 49,
    "start_time": "2023-01-15T11:48:53.401Z"
   },
   {
    "duration": 75,
    "start_time": "2023-01-15T11:49:49.943Z"
   },
   {
    "duration": 39,
    "start_time": "2023-01-15T12:22:19.529Z"
   },
   {
    "duration": 1165,
    "start_time": "2023-01-15T14:38:59.004Z"
   },
   {
    "duration": 244,
    "start_time": "2023-01-15T14:39:00.172Z"
   },
   {
    "duration": 39,
    "start_time": "2023-01-15T14:39:00.418Z"
   },
   {
    "duration": 17,
    "start_time": "2023-01-15T14:39:00.465Z"
   },
   {
    "duration": 56,
    "start_time": "2023-01-15T14:39:00.485Z"
   },
   {
    "duration": 120,
    "start_time": "2023-01-15T14:39:00.548Z"
   },
   {
    "duration": 102,
    "start_time": "2023-01-15T14:39:00.673Z"
   },
   {
    "duration": 190,
    "start_time": "2023-01-15T14:39:00.776Z"
   },
   {
    "duration": 9,
    "start_time": "2023-01-15T14:39:00.968Z"
   },
   {
    "duration": 76,
    "start_time": "2023-01-15T14:39:00.980Z"
   },
   {
    "duration": 57,
    "start_time": "2023-01-15T14:39:01.058Z"
   },
   {
    "duration": 27,
    "start_time": "2023-01-15T14:39:01.117Z"
   },
   {
    "duration": 39,
    "start_time": "2023-01-15T14:39:01.149Z"
   },
   {
    "duration": 54,
    "start_time": "2023-01-15T14:39:01.192Z"
   },
   {
    "duration": 247,
    "start_time": "2023-01-15T14:39:01.251Z"
   },
   {
    "duration": 464,
    "start_time": "2023-01-15T14:39:01.499Z"
   },
   {
    "duration": 12,
    "start_time": "2023-01-15T14:39:01.966Z"
   },
   {
    "duration": 379,
    "start_time": "2023-01-15T14:39:01.980Z"
   },
   {
    "duration": 20,
    "start_time": "2023-01-15T14:39:02.367Z"
   },
   {
    "duration": 40,
    "start_time": "2023-01-15T14:39:02.389Z"
   },
   {
    "duration": 54,
    "start_time": "2023-01-15T14:39:02.432Z"
   },
   {
    "duration": 75,
    "start_time": "2023-01-15T14:39:02.488Z"
   },
   {
    "duration": 76,
    "start_time": "2023-01-15T14:39:02.570Z"
   },
   {
    "duration": 45,
    "start_time": "2023-01-15T14:39:02.647Z"
   },
   {
    "duration": 20,
    "start_time": "2023-01-15T14:39:02.694Z"
   },
   {
    "duration": 32,
    "start_time": "2023-01-15T14:39:02.716Z"
   },
   {
    "duration": 57,
    "start_time": "2023-01-15T14:39:02.750Z"
   },
   {
    "duration": 74,
    "start_time": "2023-01-15T14:39:02.810Z"
   },
   {
    "duration": 37,
    "start_time": "2023-01-15T14:39:02.886Z"
   },
   {
    "duration": 55,
    "start_time": "2023-01-15T14:39:02.925Z"
   },
   {
    "duration": 88,
    "start_time": "2023-01-15T14:39:02.982Z"
   },
   {
    "duration": 4,
    "start_time": "2023-01-15T14:39:03.073Z"
   },
   {
    "duration": 126,
    "start_time": "2023-01-15T14:39:03.079Z"
   },
   {
    "duration": 0,
    "start_time": "2023-01-15T14:39:03.207Z"
   },
   {
    "duration": 0,
    "start_time": "2023-01-15T14:39:03.209Z"
   },
   {
    "duration": 0,
    "start_time": "2023-01-15T14:39:03.210Z"
   },
   {
    "duration": 0,
    "start_time": "2023-01-15T14:39:03.212Z"
   },
   {
    "duration": 0,
    "start_time": "2023-01-15T14:39:03.213Z"
   },
   {
    "duration": 0,
    "start_time": "2023-01-15T14:39:03.215Z"
   },
   {
    "duration": 6,
    "start_time": "2023-01-15T14:56:17.399Z"
   },
   {
    "duration": 19,
    "start_time": "2023-01-15T14:56:17.407Z"
   },
   {
    "duration": 56,
    "start_time": "2023-01-15T14:56:17.428Z"
   },
   {
    "duration": 97,
    "start_time": "2023-01-15T14:56:17.486Z"
   },
   {
    "duration": 22,
    "start_time": "2023-01-15T14:56:17.586Z"
   },
   {
    "duration": 55,
    "start_time": "2023-01-15T14:56:17.610Z"
   },
   {
    "duration": 106,
    "start_time": "2023-01-15T14:56:17.667Z"
   },
   {
    "duration": 23,
    "start_time": "2023-01-15T14:56:17.775Z"
   },
   {
    "duration": 111,
    "start_time": "2023-01-15T14:56:17.801Z"
   },
   {
    "duration": 6,
    "start_time": "2023-01-15T15:01:35.817Z"
   },
   {
    "duration": 5,
    "start_time": "2023-01-15T15:02:00.766Z"
   },
   {
    "duration": 9,
    "start_time": "2023-01-15T15:02:20.457Z"
   },
   {
    "duration": 7,
    "start_time": "2023-01-15T15:02:28.294Z"
   },
   {
    "duration": 5,
    "start_time": "2023-01-15T15:02:43.397Z"
   },
   {
    "duration": 19,
    "start_time": "2023-01-15T15:03:10.627Z"
   },
   {
    "duration": 1211,
    "start_time": "2023-01-15T15:05:00.898Z"
   },
   {
    "duration": 255,
    "start_time": "2023-01-15T15:05:02.111Z"
   },
   {
    "duration": 25,
    "start_time": "2023-01-15T15:05:02.368Z"
   },
   {
    "duration": 12,
    "start_time": "2023-01-15T15:05:02.395Z"
   },
   {
    "duration": 50,
    "start_time": "2023-01-15T15:05:02.417Z"
   },
   {
    "duration": 112,
    "start_time": "2023-01-15T15:05:02.470Z"
   },
   {
    "duration": 129,
    "start_time": "2023-01-15T15:05:02.584Z"
   },
   {
    "duration": 229,
    "start_time": "2023-01-15T15:05:02.715Z"
   },
   {
    "duration": 10,
    "start_time": "2023-01-15T15:05:02.952Z"
   },
   {
    "duration": 42,
    "start_time": "2023-01-15T15:05:02.966Z"
   },
   {
    "duration": 55,
    "start_time": "2023-01-15T15:05:03.010Z"
   },
   {
    "duration": 18,
    "start_time": "2023-01-15T15:05:03.067Z"
   },
   {
    "duration": 17,
    "start_time": "2023-01-15T15:05:03.087Z"
   },
   {
    "duration": 53,
    "start_time": "2023-01-15T15:05:03.106Z"
   },
   {
    "duration": 243,
    "start_time": "2023-01-15T15:05:03.160Z"
   },
   {
    "duration": 434,
    "start_time": "2023-01-15T15:05:03.405Z"
   },
   {
    "duration": 20,
    "start_time": "2023-01-15T15:05:03.848Z"
   },
   {
    "duration": 402,
    "start_time": "2023-01-15T15:05:03.869Z"
   },
   {
    "duration": 22,
    "start_time": "2023-01-15T15:05:04.276Z"
   },
   {
    "duration": 24,
    "start_time": "2023-01-15T15:05:04.300Z"
   },
   {
    "duration": 45,
    "start_time": "2023-01-15T15:05:04.326Z"
   },
   {
    "duration": 41,
    "start_time": "2023-01-15T15:05:04.373Z"
   },
   {
    "duration": 68,
    "start_time": "2023-01-15T15:05:04.416Z"
   },
   {
    "duration": 30,
    "start_time": "2023-01-15T15:05:04.486Z"
   },
   {
    "duration": 44,
    "start_time": "2023-01-15T15:05:04.518Z"
   },
   {
    "duration": 50,
    "start_time": "2023-01-15T15:05:04.563Z"
   },
   {
    "duration": 36,
    "start_time": "2023-01-15T15:05:04.614Z"
   },
   {
    "duration": 64,
    "start_time": "2023-01-15T15:05:04.654Z"
   },
   {
    "duration": 48,
    "start_time": "2023-01-15T15:05:04.721Z"
   },
   {
    "duration": 40,
    "start_time": "2023-01-15T15:05:04.770Z"
   },
   {
    "duration": 81,
    "start_time": "2023-01-15T15:05:04.811Z"
   },
   {
    "duration": 5,
    "start_time": "2023-01-15T15:05:04.893Z"
   },
   {
    "duration": 133,
    "start_time": "2023-01-15T15:05:04.899Z"
   },
   {
    "duration": 0,
    "start_time": "2023-01-15T15:05:05.039Z"
   },
   {
    "duration": 0,
    "start_time": "2023-01-15T15:05:05.043Z"
   },
   {
    "duration": 0,
    "start_time": "2023-01-15T15:05:05.043Z"
   },
   {
    "duration": 0,
    "start_time": "2023-01-15T15:05:05.044Z"
   },
   {
    "duration": 0,
    "start_time": "2023-01-15T15:05:05.045Z"
   },
   {
    "duration": 0,
    "start_time": "2023-01-15T15:05:05.050Z"
   },
   {
    "duration": 49,
    "start_time": "2023-01-15T16:51:58.370Z"
   },
   {
    "duration": 1245,
    "start_time": "2023-01-15T16:52:06.920Z"
   },
   {
    "duration": 535,
    "start_time": "2023-01-15T16:52:08.167Z"
   },
   {
    "duration": 25,
    "start_time": "2023-01-15T16:52:08.704Z"
   },
   {
    "duration": 11,
    "start_time": "2023-01-15T16:52:08.732Z"
   },
   {
    "duration": 19,
    "start_time": "2023-01-15T16:52:08.745Z"
   },
   {
    "duration": 88,
    "start_time": "2023-01-15T16:52:08.766Z"
   },
   {
    "duration": 95,
    "start_time": "2023-01-15T16:52:08.857Z"
   },
   {
    "duration": 190,
    "start_time": "2023-01-15T16:52:08.954Z"
   },
   {
    "duration": 7,
    "start_time": "2023-01-15T16:52:09.145Z"
   },
   {
    "duration": 26,
    "start_time": "2023-01-15T16:52:09.155Z"
   },
   {
    "duration": 40,
    "start_time": "2023-01-15T16:52:09.184Z"
   },
   {
    "duration": 17,
    "start_time": "2023-01-15T16:52:09.226Z"
   },
   {
    "duration": 19,
    "start_time": "2023-01-15T16:52:09.245Z"
   },
   {
    "duration": 55,
    "start_time": "2023-01-15T16:52:09.266Z"
   },
   {
    "duration": 209,
    "start_time": "2023-01-15T16:52:09.323Z"
   },
   {
    "duration": 646,
    "start_time": "2023-01-15T16:52:09.535Z"
   },
   {
    "duration": 17,
    "start_time": "2023-01-15T16:52:10.183Z"
   },
   {
    "duration": 320,
    "start_time": "2023-01-15T16:52:10.202Z"
   },
   {
    "duration": 18,
    "start_time": "2023-01-15T16:52:10.523Z"
   },
   {
    "duration": 20,
    "start_time": "2023-01-15T16:52:10.542Z"
   },
   {
    "duration": 11,
    "start_time": "2023-01-15T16:52:10.564Z"
   },
   {
    "duration": 65,
    "start_time": "2023-01-15T16:52:10.577Z"
   },
   {
    "duration": 51,
    "start_time": "2023-01-15T16:52:10.643Z"
   },
   {
    "duration": 38,
    "start_time": "2023-01-15T16:52:10.696Z"
   },
   {
    "duration": 10,
    "start_time": "2023-01-15T16:52:10.735Z"
   },
   {
    "duration": 10,
    "start_time": "2023-01-15T16:52:10.747Z"
   },
   {
    "duration": 15,
    "start_time": "2023-01-15T16:52:10.759Z"
   },
   {
    "duration": 61,
    "start_time": "2023-01-15T16:52:10.777Z"
   },
   {
    "duration": 33,
    "start_time": "2023-01-15T16:52:10.840Z"
   },
   {
    "duration": 70,
    "start_time": "2023-01-15T16:52:10.876Z"
   },
   {
    "duration": 70,
    "start_time": "2023-01-15T16:52:10.948Z"
   },
   {
    "duration": 5,
    "start_time": "2023-01-15T16:52:11.020Z"
   },
   {
    "duration": 67,
    "start_time": "2023-01-15T16:52:11.027Z"
   },
   {
    "duration": 0,
    "start_time": "2023-01-15T16:52:11.116Z"
   },
   {
    "duration": 0,
    "start_time": "2023-01-15T16:52:11.119Z"
   },
   {
    "duration": 0,
    "start_time": "2023-01-15T16:52:11.120Z"
   },
   {
    "duration": 0,
    "start_time": "2023-01-15T16:52:11.121Z"
   },
   {
    "duration": 0,
    "start_time": "2023-01-15T16:52:11.123Z"
   },
   {
    "duration": 0,
    "start_time": "2023-01-15T16:52:11.124Z"
   },
   {
    "duration": 729,
    "start_time": "2023-01-15T16:52:26.917Z"
   },
   {
    "duration": 577,
    "start_time": "2023-01-15T16:55:34.578Z"
   },
   {
    "duration": 306,
    "start_time": "2023-01-15T16:55:50.266Z"
   },
   {
    "duration": 643,
    "start_time": "2023-01-15T16:55:58.926Z"
   },
   {
    "duration": 12,
    "start_time": "2023-01-15T16:57:01.978Z"
   },
   {
    "duration": 4,
    "start_time": "2023-01-15T16:57:07.605Z"
   },
   {
    "duration": 179,
    "start_time": "2023-01-15T16:57:07.611Z"
   },
   {
    "duration": 26,
    "start_time": "2023-01-15T16:57:07.792Z"
   },
   {
    "duration": 7,
    "start_time": "2023-01-15T16:57:07.819Z"
   },
   {
    "duration": 19,
    "start_time": "2023-01-15T16:57:07.828Z"
   },
   {
    "duration": 89,
    "start_time": "2023-01-15T16:57:07.849Z"
   },
   {
    "duration": 79,
    "start_time": "2023-01-15T16:57:07.940Z"
   },
   {
    "duration": 148,
    "start_time": "2023-01-15T16:57:08.020Z"
   },
   {
    "duration": 9,
    "start_time": "2023-01-15T16:57:08.169Z"
   },
   {
    "duration": 40,
    "start_time": "2023-01-15T16:57:08.180Z"
   },
   {
    "duration": 27,
    "start_time": "2023-01-15T16:57:08.222Z"
   },
   {
    "duration": 16,
    "start_time": "2023-01-15T16:57:08.250Z"
   },
   {
    "duration": 15,
    "start_time": "2023-01-15T16:57:08.268Z"
   },
   {
    "duration": 50,
    "start_time": "2023-01-15T16:57:08.286Z"
   },
   {
    "duration": 184,
    "start_time": "2023-01-15T16:57:08.337Z"
   },
   {
    "duration": 549,
    "start_time": "2023-01-15T16:57:08.523Z"
   },
   {
    "duration": 13,
    "start_time": "2023-01-15T16:57:09.073Z"
   },
   {
    "duration": 658,
    "start_time": "2023-01-15T16:57:09.088Z"
   },
   {
    "duration": 18,
    "start_time": "2023-01-15T16:57:09.748Z"
   },
   {
    "duration": 17,
    "start_time": "2023-01-15T16:57:09.768Z"
   },
   {
    "duration": 36,
    "start_time": "2023-01-15T16:57:09.787Z"
   },
   {
    "duration": 36,
    "start_time": "2023-01-15T16:57:09.825Z"
   },
   {
    "duration": 74,
    "start_time": "2023-01-15T16:57:09.863Z"
   },
   {
    "duration": 29,
    "start_time": "2023-01-15T16:57:09.939Z"
   },
   {
    "duration": 7,
    "start_time": "2023-01-15T16:57:09.970Z"
   },
   {
    "duration": 15,
    "start_time": "2023-01-15T16:57:09.979Z"
   },
   {
    "duration": 11,
    "start_time": "2023-01-15T16:57:10.016Z"
   },
   {
    "duration": 46,
    "start_time": "2023-01-15T16:57:10.028Z"
   },
   {
    "duration": 42,
    "start_time": "2023-01-15T16:57:10.076Z"
   },
   {
    "duration": 37,
    "start_time": "2023-01-15T16:57:10.119Z"
   },
   {
    "duration": 74,
    "start_time": "2023-01-15T16:57:10.158Z"
   },
   {
    "duration": 4,
    "start_time": "2023-01-15T16:57:10.234Z"
   },
   {
    "duration": 20,
    "start_time": "2023-01-15T16:57:10.240Z"
   },
   {
    "duration": 0,
    "start_time": "2023-01-15T16:57:10.261Z"
   },
   {
    "duration": 0,
    "start_time": "2023-01-15T16:57:10.263Z"
   },
   {
    "duration": 0,
    "start_time": "2023-01-15T16:57:10.265Z"
   },
   {
    "duration": 0,
    "start_time": "2023-01-15T16:57:10.266Z"
   },
   {
    "duration": 0,
    "start_time": "2023-01-15T16:57:10.268Z"
   },
   {
    "duration": 0,
    "start_time": "2023-01-15T16:57:10.269Z"
   },
   {
    "duration": 54,
    "start_time": "2023-01-15T17:08:43.414Z"
   },
   {
    "duration": 4,
    "start_time": "2023-01-15T17:08:46.890Z"
   },
   {
    "duration": 191,
    "start_time": "2023-01-15T17:08:46.896Z"
   },
   {
    "duration": 39,
    "start_time": "2023-01-15T17:08:47.090Z"
   },
   {
    "duration": 8,
    "start_time": "2023-01-15T17:08:47.131Z"
   },
   {
    "duration": 32,
    "start_time": "2023-01-15T17:08:47.142Z"
   },
   {
    "duration": 87,
    "start_time": "2023-01-15T17:08:47.176Z"
   },
   {
    "duration": 90,
    "start_time": "2023-01-15T17:08:47.265Z"
   },
   {
    "duration": 155,
    "start_time": "2023-01-15T17:08:47.357Z"
   },
   {
    "duration": 6,
    "start_time": "2023-01-15T17:08:47.516Z"
   },
   {
    "duration": 22,
    "start_time": "2023-01-15T17:08:47.523Z"
   },
   {
    "duration": 25,
    "start_time": "2023-01-15T17:08:47.547Z"
   },
   {
    "duration": 43,
    "start_time": "2023-01-15T17:08:47.575Z"
   },
   {
    "duration": 18,
    "start_time": "2023-01-15T17:08:47.620Z"
   },
   {
    "duration": 31,
    "start_time": "2023-01-15T17:08:47.640Z"
   },
   {
    "duration": 215,
    "start_time": "2023-01-15T17:08:47.672Z"
   },
   {
    "duration": 584,
    "start_time": "2023-01-15T17:08:47.889Z"
   },
   {
    "duration": 13,
    "start_time": "2023-01-15T17:08:48.475Z"
   },
   {
    "duration": 742,
    "start_time": "2023-01-15T17:08:48.490Z"
   },
   {
    "duration": 17,
    "start_time": "2023-01-15T17:08:49.234Z"
   },
   {
    "duration": 17,
    "start_time": "2023-01-15T17:08:49.253Z"
   },
   {
    "duration": 10,
    "start_time": "2023-01-15T17:08:49.272Z"
   },
   {
    "duration": 60,
    "start_time": "2023-01-15T17:08:49.284Z"
   },
   {
    "duration": 52,
    "start_time": "2023-01-15T17:08:49.346Z"
   },
   {
    "duration": 37,
    "start_time": "2023-01-15T17:08:49.400Z"
   },
   {
    "duration": 8,
    "start_time": "2023-01-15T17:08:49.439Z"
   },
   {
    "duration": 12,
    "start_time": "2023-01-15T17:08:49.450Z"
   },
   {
    "duration": 13,
    "start_time": "2023-01-15T17:08:49.463Z"
   },
   {
    "duration": 65,
    "start_time": "2023-01-15T17:08:49.477Z"
   },
   {
    "duration": 34,
    "start_time": "2023-01-15T17:08:49.546Z"
   },
   {
    "duration": 60,
    "start_time": "2023-01-15T17:08:49.581Z"
   },
   {
    "duration": 57,
    "start_time": "2023-01-15T17:08:49.647Z"
   },
   {
    "duration": 9,
    "start_time": "2023-01-15T17:08:49.706Z"
   },
   {
    "duration": 15,
    "start_time": "2023-01-15T17:08:49.717Z"
   },
   {
    "duration": 0,
    "start_time": "2023-01-15T17:08:49.733Z"
   },
   {
    "duration": 0,
    "start_time": "2023-01-15T17:08:49.734Z"
   },
   {
    "duration": 0,
    "start_time": "2023-01-15T17:08:49.735Z"
   },
   {
    "duration": 0,
    "start_time": "2023-01-15T17:08:49.737Z"
   },
   {
    "duration": 0,
    "start_time": "2023-01-15T17:08:49.738Z"
   },
   {
    "duration": 0,
    "start_time": "2023-01-15T17:08:49.739Z"
   },
   {
    "duration": 14,
    "start_time": "2023-01-15T17:09:45.694Z"
   },
   {
    "duration": 4,
    "start_time": "2023-01-15T17:10:21.659Z"
   },
   {
    "duration": 21,
    "start_time": "2023-01-15T17:10:24.575Z"
   },
   {
    "duration": 5,
    "start_time": "2023-01-15T17:10:28.273Z"
   },
   {
    "duration": 5,
    "start_time": "2023-01-15T17:10:38.689Z"
   },
   {
    "duration": 23,
    "start_time": "2023-01-15T17:11:03.564Z"
   },
   {
    "duration": 4,
    "start_time": "2023-01-15T17:11:09.777Z"
   },
   {
    "duration": 30,
    "start_time": "2023-01-15T17:12:57.920Z"
   },
   {
    "duration": 4,
    "start_time": "2023-01-15T17:13:12.726Z"
   },
   {
    "duration": 190,
    "start_time": "2023-01-15T17:13:12.732Z"
   },
   {
    "duration": 22,
    "start_time": "2023-01-15T17:13:12.924Z"
   },
   {
    "duration": 7,
    "start_time": "2023-01-15T17:13:12.948Z"
   },
   {
    "duration": 18,
    "start_time": "2023-01-15T17:13:12.957Z"
   },
   {
    "duration": 87,
    "start_time": "2023-01-15T17:13:12.977Z"
   },
   {
    "duration": 92,
    "start_time": "2023-01-15T17:13:13.066Z"
   },
   {
    "duration": 160,
    "start_time": "2023-01-15T17:13:13.160Z"
   },
   {
    "duration": 6,
    "start_time": "2023-01-15T17:13:13.321Z"
   },
   {
    "duration": 22,
    "start_time": "2023-01-15T17:13:13.329Z"
   },
   {
    "duration": 25,
    "start_time": "2023-01-15T17:13:13.353Z"
   },
   {
    "duration": 37,
    "start_time": "2023-01-15T17:13:13.380Z"
   },
   {
    "duration": 16,
    "start_time": "2023-01-15T17:13:13.421Z"
   },
   {
    "duration": 29,
    "start_time": "2023-01-15T17:13:13.438Z"
   },
   {
    "duration": 206,
    "start_time": "2023-01-15T17:13:13.469Z"
   },
   {
    "duration": 585,
    "start_time": "2023-01-15T17:13:13.677Z"
   },
   {
    "duration": 12,
    "start_time": "2023-01-15T17:13:14.264Z"
   },
   {
    "duration": 672,
    "start_time": "2023-01-15T17:13:14.278Z"
   },
   {
    "duration": 17,
    "start_time": "2023-01-15T17:13:14.951Z"
   },
   {
    "duration": 17,
    "start_time": "2023-01-15T17:13:14.970Z"
   },
   {
    "duration": 28,
    "start_time": "2023-01-15T17:13:14.988Z"
   },
   {
    "duration": 32,
    "start_time": "2023-01-15T17:13:15.018Z"
   },
   {
    "duration": 75,
    "start_time": "2023-01-15T17:13:15.052Z"
   },
   {
    "duration": 27,
    "start_time": "2023-01-15T17:13:15.129Z"
   },
   {
    "duration": 9,
    "start_time": "2023-01-15T17:13:15.157Z"
   },
   {
    "duration": 12,
    "start_time": "2023-01-15T17:13:15.167Z"
   },
   {
    "duration": 37,
    "start_time": "2023-01-15T17:13:15.181Z"
   },
   {
    "duration": 42,
    "start_time": "2023-01-15T17:13:15.220Z"
   },
   {
    "duration": 51,
    "start_time": "2023-01-15T17:13:15.264Z"
   },
   {
    "duration": 39,
    "start_time": "2023-01-15T17:13:15.317Z"
   },
   {
    "duration": 73,
    "start_time": "2023-01-15T17:13:15.357Z"
   },
   {
    "duration": 4,
    "start_time": "2023-01-15T17:13:15.432Z"
   },
   {
    "duration": 23,
    "start_time": "2023-01-15T17:13:15.437Z"
   },
   {
    "duration": 90,
    "start_time": "2023-01-15T17:13:15.463Z"
   },
   {
    "duration": 20,
    "start_time": "2023-01-15T17:13:15.554Z"
   },
   {
    "duration": 40,
    "start_time": "2023-01-15T17:13:15.576Z"
   },
   {
    "duration": 71,
    "start_time": "2023-01-15T17:13:15.619Z"
   },
   {
    "duration": 33,
    "start_time": "2023-01-15T17:13:15.692Z"
   },
   {
    "duration": 88,
    "start_time": "2023-01-15T17:13:15.727Z"
   },
   {
    "duration": 26,
    "start_time": "2023-01-15T17:16:36.227Z"
   },
   {
    "duration": 11,
    "start_time": "2023-01-15T17:17:48.609Z"
   },
   {
    "duration": 748,
    "start_time": "2023-01-15T17:18:04.088Z"
   },
   {
    "duration": 4,
    "start_time": "2023-01-15T17:20:23.479Z"
   },
   {
    "duration": 185,
    "start_time": "2023-01-15T17:20:23.485Z"
   },
   {
    "duration": 23,
    "start_time": "2023-01-15T17:20:23.671Z"
   },
   {
    "duration": 24,
    "start_time": "2023-01-15T17:20:23.696Z"
   },
   {
    "duration": 20,
    "start_time": "2023-01-15T17:20:23.722Z"
   },
   {
    "duration": 80,
    "start_time": "2023-01-15T17:20:23.743Z"
   },
   {
    "duration": 69,
    "start_time": "2023-01-15T17:20:23.824Z"
   },
   {
    "duration": 164,
    "start_time": "2023-01-15T17:20:23.895Z"
   },
   {
    "duration": 12,
    "start_time": "2023-01-15T17:20:24.061Z"
   },
   {
    "duration": 26,
    "start_time": "2023-01-15T17:20:24.075Z"
   },
   {
    "duration": 24,
    "start_time": "2023-01-15T17:20:24.115Z"
   },
   {
    "duration": 18,
    "start_time": "2023-01-15T17:20:24.141Z"
   },
   {
    "duration": 15,
    "start_time": "2023-01-15T17:20:24.161Z"
   },
   {
    "duration": 54,
    "start_time": "2023-01-15T17:20:24.177Z"
   },
   {
    "duration": 200,
    "start_time": "2023-01-15T17:20:24.233Z"
   },
   {
    "duration": 546,
    "start_time": "2023-01-15T17:20:24.435Z"
   },
   {
    "duration": 12,
    "start_time": "2023-01-15T17:20:24.983Z"
   },
   {
    "duration": 681,
    "start_time": "2023-01-15T17:20:24.997Z"
   },
   {
    "duration": 16,
    "start_time": "2023-01-15T17:20:25.680Z"
   },
   {
    "duration": 30,
    "start_time": "2023-01-15T17:20:25.697Z"
   },
   {
    "duration": 11,
    "start_time": "2023-01-15T17:20:25.729Z"
   },
   {
    "duration": 32,
    "start_time": "2023-01-15T17:20:25.741Z"
   },
   {
    "duration": 73,
    "start_time": "2023-01-15T17:20:25.775Z"
   },
   {
    "duration": 24,
    "start_time": "2023-01-15T17:20:25.850Z"
   },
   {
    "duration": 8,
    "start_time": "2023-01-15T17:20:25.876Z"
   },
   {
    "duration": 29,
    "start_time": "2023-01-15T17:20:25.886Z"
   },
   {
    "duration": 10,
    "start_time": "2023-01-15T17:20:25.917Z"
   },
   {
    "duration": 37,
    "start_time": "2023-01-15T17:20:25.929Z"
   },
   {
    "duration": 56,
    "start_time": "2023-01-15T17:20:25.969Z"
   },
   {
    "duration": 36,
    "start_time": "2023-01-15T17:20:26.027Z"
   },
   {
    "duration": 94,
    "start_time": "2023-01-15T17:20:26.065Z"
   },
   {
    "duration": 4,
    "start_time": "2023-01-15T17:20:26.161Z"
   },
   {
    "duration": 33,
    "start_time": "2023-01-15T17:20:26.167Z"
   },
   {
    "duration": 132,
    "start_time": "2023-01-15T17:20:26.202Z"
   },
   {
    "duration": 24,
    "start_time": "2023-01-15T17:20:26.336Z"
   },
   {
    "duration": 43,
    "start_time": "2023-01-15T17:20:26.363Z"
   },
   {
    "duration": 95,
    "start_time": "2023-01-15T17:20:26.408Z"
   },
   {
    "duration": 26,
    "start_time": "2023-01-15T17:20:26.505Z"
   },
   {
    "duration": 82,
    "start_time": "2023-01-15T17:20:26.533Z"
   },
   {
    "duration": 787,
    "start_time": "2023-01-15T17:20:26.617Z"
   },
   {
    "duration": 18,
    "start_time": "2023-01-15T17:21:28.075Z"
   },
   {
    "duration": 776,
    "start_time": "2023-01-15T17:22:03.426Z"
   },
   {
    "duration": 12,
    "start_time": "2023-01-15T17:54:11.579Z"
   },
   {
    "duration": 74,
    "start_time": "2023-01-15T18:03:13.819Z"
   },
   {
    "duration": 55,
    "start_time": "2023-01-15T18:03:43.372Z"
   },
   {
    "duration": 733,
    "start_time": "2023-01-15T18:05:19.781Z"
   },
   {
    "duration": 9,
    "start_time": "2023-01-15T18:05:32.923Z"
   },
   {
    "duration": 9,
    "start_time": "2023-01-15T18:06:11.029Z"
   },
   {
    "duration": 8,
    "start_time": "2023-01-15T18:06:21.471Z"
   },
   {
    "duration": 9,
    "start_time": "2023-01-15T18:09:35.798Z"
   },
   {
    "duration": 4,
    "start_time": "2023-01-15T18:09:38.041Z"
   },
   {
    "duration": 14,
    "start_time": "2023-01-15T18:11:08.833Z"
   },
   {
    "duration": 7,
    "start_time": "2023-01-15T18:11:40.215Z"
   },
   {
    "duration": 65,
    "start_time": "2023-01-15T18:22:03.704Z"
   },
   {
    "duration": 1203,
    "start_time": "2023-01-15T20:49:55.962Z"
   },
   {
    "duration": 202,
    "start_time": "2023-01-15T20:49:57.167Z"
   },
   {
    "duration": 26,
    "start_time": "2023-01-15T20:49:57.370Z"
   },
   {
    "duration": 11,
    "start_time": "2023-01-15T20:49:57.398Z"
   },
   {
    "duration": 41,
    "start_time": "2023-01-15T20:49:57.411Z"
   },
   {
    "duration": 79,
    "start_time": "2023-01-15T20:49:57.454Z"
   },
   {
    "duration": 99,
    "start_time": "2023-01-15T20:49:57.535Z"
   },
   {
    "duration": 176,
    "start_time": "2023-01-15T20:49:57.636Z"
   },
   {
    "duration": 7,
    "start_time": "2023-01-15T20:49:57.814Z"
   },
   {
    "duration": 38,
    "start_time": "2023-01-15T20:49:57.823Z"
   },
   {
    "duration": 26,
    "start_time": "2023-01-15T20:49:57.863Z"
   },
   {
    "duration": 18,
    "start_time": "2023-01-15T20:49:57.891Z"
   },
   {
    "duration": 17,
    "start_time": "2023-01-15T20:49:57.911Z"
   },
   {
    "duration": 30,
    "start_time": "2023-01-15T20:49:57.953Z"
   },
   {
    "duration": 230,
    "start_time": "2023-01-15T20:49:57.985Z"
   },
   {
    "duration": 672,
    "start_time": "2023-01-15T20:49:58.216Z"
   },
   {
    "duration": 12,
    "start_time": "2023-01-15T20:49:58.890Z"
   },
   {
    "duration": 779,
    "start_time": "2023-01-15T20:49:58.903Z"
   },
   {
    "duration": 22,
    "start_time": "2023-01-15T20:49:59.684Z"
   },
   {
    "duration": 16,
    "start_time": "2023-01-15T20:49:59.708Z"
   },
   {
    "duration": 4,
    "start_time": "2023-01-15T20:49:59.751Z"
   },
   {
    "duration": 30,
    "start_time": "2023-01-15T20:49:59.757Z"
   },
   {
    "duration": 29,
    "start_time": "2023-01-15T20:49:59.790Z"
   },
   {
    "duration": 70,
    "start_time": "2023-01-15T20:49:59.821Z"
   },
   {
    "duration": 75,
    "start_time": "2023-01-15T20:49:59.893Z"
   },
   {
    "duration": 28,
    "start_time": "2023-01-15T20:49:59.970Z"
   },
   {
    "duration": 12,
    "start_time": "2023-01-15T20:49:59.999Z"
   },
   {
    "duration": 27,
    "start_time": "2023-01-15T20:50:00.012Z"
   },
   {
    "duration": 11,
    "start_time": "2023-01-15T20:50:00.050Z"
   },
   {
    "duration": 45,
    "start_time": "2023-01-15T20:50:00.063Z"
   },
   {
    "duration": 56,
    "start_time": "2023-01-15T20:50:00.109Z"
   },
   {
    "duration": 53,
    "start_time": "2023-01-15T20:50:00.167Z"
   },
   {
    "duration": 86,
    "start_time": "2023-01-15T20:50:00.222Z"
   },
   {
    "duration": 4,
    "start_time": "2023-01-15T20:50:00.309Z"
   },
   {
    "duration": 33,
    "start_time": "2023-01-15T20:50:00.315Z"
   },
   {
    "duration": 78,
    "start_time": "2023-01-15T20:50:00.351Z"
   },
   {
    "duration": 37,
    "start_time": "2023-01-15T20:50:00.430Z"
   },
   {
    "duration": 48,
    "start_time": "2023-01-15T20:50:00.468Z"
   },
   {
    "duration": 87,
    "start_time": "2023-01-15T20:50:00.518Z"
   },
   {
    "duration": 22,
    "start_time": "2023-01-15T20:50:00.607Z"
   },
   {
    "duration": 86,
    "start_time": "2023-01-15T20:50:00.633Z"
   },
   {
    "duration": 96,
    "start_time": "2023-01-15T20:50:00.721Z"
   },
   {
    "duration": 4,
    "start_time": "2023-01-15T20:52:45.735Z"
   },
   {
    "duration": 4,
    "start_time": "2023-01-15T20:52:48.447Z"
   },
   {
    "duration": 4,
    "start_time": "2023-01-15T20:52:52.735Z"
   },
   {
    "duration": 4,
    "start_time": "2023-01-15T20:52:58.366Z"
   },
   {
    "duration": 4,
    "start_time": "2023-01-15T20:53:31.354Z"
   },
   {
    "duration": 4,
    "start_time": "2023-01-15T20:53:36.264Z"
   },
   {
    "duration": 5,
    "start_time": "2023-01-15T20:53:46.055Z"
   },
   {
    "duration": 4,
    "start_time": "2023-01-15T20:53:57.446Z"
   },
   {
    "duration": 12,
    "start_time": "2023-01-15T20:54:49.525Z"
   },
   {
    "duration": 45,
    "start_time": "2023-01-15T21:47:15.736Z"
   },
   {
    "duration": 1213,
    "start_time": "2023-01-15T21:47:22.054Z"
   },
   {
    "duration": 512,
    "start_time": "2023-01-15T21:47:23.269Z"
   },
   {
    "duration": 23,
    "start_time": "2023-01-15T21:47:23.782Z"
   },
   {
    "duration": 10,
    "start_time": "2023-01-15T21:47:23.806Z"
   },
   {
    "duration": 19,
    "start_time": "2023-01-15T21:47:23.818Z"
   },
   {
    "duration": 80,
    "start_time": "2023-01-15T21:47:23.838Z"
   },
   {
    "duration": 75,
    "start_time": "2023-01-15T21:47:23.920Z"
   },
   {
    "duration": 167,
    "start_time": "2023-01-15T21:47:23.997Z"
   },
   {
    "duration": 6,
    "start_time": "2023-01-15T21:47:24.165Z"
   },
   {
    "duration": 30,
    "start_time": "2023-01-15T21:47:24.172Z"
   },
   {
    "duration": 22,
    "start_time": "2023-01-15T21:47:24.215Z"
   },
   {
    "duration": 18,
    "start_time": "2023-01-15T21:47:24.238Z"
   },
   {
    "duration": 16,
    "start_time": "2023-01-15T21:47:24.258Z"
   },
   {
    "duration": 47,
    "start_time": "2023-01-15T21:47:24.277Z"
   },
   {
    "duration": 196,
    "start_time": "2023-01-15T21:47:24.325Z"
   },
   {
    "duration": 610,
    "start_time": "2023-01-15T21:47:24.522Z"
   },
   {
    "duration": 10,
    "start_time": "2023-01-15T21:47:25.134Z"
   },
   {
    "duration": 637,
    "start_time": "2023-01-15T21:47:25.146Z"
   },
   {
    "duration": 17,
    "start_time": "2023-01-15T21:47:25.784Z"
   },
   {
    "duration": 19,
    "start_time": "2023-01-15T21:47:25.803Z"
   },
   {
    "duration": 3,
    "start_time": "2023-01-15T21:47:25.824Z"
   },
   {
    "duration": 19,
    "start_time": "2023-01-15T21:47:25.829Z"
   },
   {
    "duration": 10,
    "start_time": "2023-01-15T21:47:25.849Z"
   },
   {
    "duration": 55,
    "start_time": "2023-01-15T21:47:25.860Z"
   },
   {
    "duration": 49,
    "start_time": "2023-01-15T21:47:25.917Z"
   },
   {
    "duration": 23,
    "start_time": "2023-01-15T21:47:25.968Z"
   },
   {
    "duration": 26,
    "start_time": "2023-01-15T21:47:25.993Z"
   },
   {
    "duration": 10,
    "start_time": "2023-01-15T21:47:26.020Z"
   },
   {
    "duration": 14,
    "start_time": "2023-01-15T21:47:26.031Z"
   },
   {
    "duration": 41,
    "start_time": "2023-01-15T21:47:26.047Z"
   },
   {
    "duration": 49,
    "start_time": "2023-01-15T21:47:26.090Z"
   },
   {
    "duration": 33,
    "start_time": "2023-01-15T21:47:26.140Z"
   },
   {
    "duration": 83,
    "start_time": "2023-01-15T21:47:26.175Z"
   },
   {
    "duration": 5,
    "start_time": "2023-01-15T21:47:26.261Z"
   },
   {
    "duration": 29,
    "start_time": "2023-01-15T21:47:26.268Z"
   },
   {
    "duration": 90,
    "start_time": "2023-01-15T21:47:26.298Z"
   },
   {
    "duration": 28,
    "start_time": "2023-01-15T21:47:26.390Z"
   },
   {
    "duration": 19,
    "start_time": "2023-01-15T21:47:26.419Z"
   },
   {
    "duration": 86,
    "start_time": "2023-01-15T21:47:26.439Z"
   },
   {
    "duration": 20,
    "start_time": "2023-01-15T21:47:26.527Z"
   },
   {
    "duration": 78,
    "start_time": "2023-01-15T21:47:26.550Z"
   },
   {
    "duration": 60,
    "start_time": "2023-01-15T21:47:26.630Z"
   },
   {
    "duration": 12,
    "start_time": "2023-01-15T21:49:32.078Z"
   }
  ],
  "kernelspec": {
   "display_name": "Python 3 (ipykernel)",
   "language": "python",
   "name": "python3"
  },
  "language_info": {
   "codemirror_mode": {
    "name": "ipython",
    "version": 3
   },
   "file_extension": ".py",
   "mimetype": "text/x-python",
   "name": "python",
   "nbconvert_exporter": "python",
   "pygments_lexer": "ipython3",
   "version": "3.9.13"
  },
  "toc": {
   "base_numbering": 1,
   "nav_menu": {},
   "number_sections": false,
   "sideBar": true,
   "skip_h1_title": false,
   "title_cell": "Table of Contents",
   "title_sidebar": "Contents",
   "toc_cell": false,
   "toc_position": {
    "height": "calc(100% - 180px)",
    "left": "10px",
    "top": "150px",
    "width": "185.099px"
   },
   "toc_section_display": true,
   "toc_window_display": true
  }
 },
 "nbformat": 4,
 "nbformat_minor": 2
}
